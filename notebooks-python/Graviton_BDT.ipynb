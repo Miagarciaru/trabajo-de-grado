{
 "cells": [
  {
   "cell_type": "markdown",
   "metadata": {},
   "source": [
    "<CENTER><img src=\"../images/ATLASOD.gif\" style=\"width:50%\"></CENTER>"
   ]
  },
  {
   "cell_type": "markdown",
   "metadata": {},
   "source": [
    "# Search for the Graviton yourself!\n",
    "This notebook uses ATLAS Open Data http://opendata.atlas.cern to show you the steps to search for the Graviton yourself!\n",
    "\n",
    "ATLAS Open Data provides open access to proton-proton collision data at the LHC for educational purposes. ATLAS Open Data resources are ideal for high-school, undergraduate and postgraduate students.\n",
    "\n",
    "Notebooks are web applications that allow you to create and share documents that can contain for example:\n",
    "1. live code\n",
    "2. visualisations\n",
    "3. narrative text\n",
    "\n",
    "The idea is that cuts increase the ratio of signal (Graviton) to background ($Z, t\\bar{t}, t\\bar{t}V, ZZ$)\n",
    "\n",
    "This analysis loosely follows the search for a ZZ resonance by ATLAS https://link.springer.com/article/10.1140%2Fepjc%2Fs10052-018-5686-3 (mostly Figure 4)\n",
    "\n",
    "By the end of this notebook you will be able to:\n",
    "1. search for the Graviton yourself!\n",
    "2. know some general principles of a particle physics search\n",
    "\n",
    "Feynman diagram pictures are borrowed from our friends at https://www.particlezoo.net"
   ]
  },
  {
   "cell_type": "markdown",
   "metadata": {},
   "source": [
    "<CENTER><img src=\"../images/feynman_diagrams/Graviton_feynman.png\" style=\"width:40%\"></CENTER>"
   ]
  },
  {
   "cell_type": "markdown",
   "metadata": {},
   "source": [
    "<a id='contents'></a>"
   ]
  },
  {
   "cell_type": "markdown",
   "metadata": {},
   "source": [
    "Contents: \n",
    "\n",
    "[Running a Jupyter notebook](#running) <br />\n",
    "[First time setup on your computer (no need on mybinder)](#setup_computer) <br />\n",
    "[To setup everytime](#setup_everytime) <br />\n",
    "[Lumi, fraction, file path](#fraction) <br />\n",
    "[Samples](#samples) <br />\n",
    "[Changing a cut](#changing_cut) <br />\n",
    "[Applying a cut](#applying_cut) <br />\n",
    "[Plotting](#plotting) <br />\n",
    "[What can you do to explore this analysis?](#going_further) <br />"
   ]
  },
  {
   "cell_type": "markdown",
   "metadata": {},
   "source": [
    "<a id='running'></a>"
   ]
  },
  {
   "cell_type": "markdown",
   "metadata": {},
   "source": [
    "## Running a Jupyter notebook\n",
    "\n",
    "To run the whole Jupyter notebook, in the top menu click Cell -> Run All.\n",
    "\n",
    "To propagate a change you've made to a piece of code, click Cell -> Run All Below.\n",
    "\n",
    "You can also run a single code cell, by clicking Cell -> Run Cells, or using the keyboard shortcut Shift+Enter."
   ]
  },
  {
   "cell_type": "markdown",
   "metadata": {},
   "source": [
    "<a id='setup_computer'></a>"
   ]
  },
  {
   "cell_type": "markdown",
   "metadata": {},
   "source": [
    "## First time setup on your computer (no need on mybinder)\n",
    "This first cell only needs to be run the first time you open this notebook on your computer. \n",
    "\n",
    "If you close Jupyter and re-open on the same computer, you won't need to run this first cell again.\n",
    "\n",
    "If you open on mybinder, you don't need to run this cell."
   ]
  },
  {
   "cell_type": "code",
   "execution_count": 1,
   "metadata": {},
   "outputs": [
    {
     "data": {
      "text/plain": [
       "'\\nimport sys\\n!{sys.executable} -m pip install --upgrade --user pip # update the pip package installer\\n!{sys.executable} -m pip install uproot3 pandas numpy matplotlib sklearn --user # install required packages\\n'"
      ]
     },
     "execution_count": 1,
     "metadata": {},
     "output_type": "execute_result"
    }
   ],
   "source": [
    "\"\"\"\n",
    "import sys\n",
    "!{sys.executable} -m pip install --upgrade --user pip # update the pip package installer\n",
    "!{sys.executable} -m pip install uproot3 pandas numpy matplotlib sklearn --user # install required packages\n",
    "\"\"\""
   ]
  },
  {
   "cell_type": "markdown",
   "metadata": {},
   "source": [
    "[Back to contents](#contents)"
   ]
  },
  {
   "cell_type": "markdown",
   "metadata": {},
   "source": [
    "<a id='setup_everytime'></a>"
   ]
  },
  {
   "cell_type": "markdown",
   "metadata": {},
   "source": [
    "## To setup everytime\n",
    "Cell -> Run All Below\n",
    "\n",
    "to be done every time you re-open this notebook\n",
    "\n",
    "We're going to be using a number of tools to help us:\n",
    "* uproot: lets us read .root files typically used in particle physics into data formats used in python\n",
    "* pandas: lets us store data as dataframes, a format widely used in python\n",
    "* numpy: provides numerical calculations such as histogramming\n",
    "* matplotlib: common tool for making plots, figures, images, visualisations"
   ]
  },
  {
   "cell_type": "code",
   "execution_count": 2,
   "metadata": {},
   "outputs": [
    {
     "name": "stderr",
     "output_type": "stream",
     "text": [
      "/cvmfs/sft.cern.ch/lcg/views/LCG_101swan/x86_64-centos7-gcc10-opt/lib/python3.9/site-packages/uproot3/__init__.py:127: FutureWarning: Consider switching from 'uproot3' to 'uproot', since the new interface became the default in 2020.\n",
      "\n",
      "    pip install -U uproot\n",
      "\n",
      "In Python:\n",
      "\n",
      "    >>> import uproot\n",
      "    >>> with uproot.open(...) as file:\n",
      "    ...\n",
      "\n",
      "  warnings.warn(\n",
      "/cvmfs/sft.cern.ch/lcg/views/LCG_101swan/x86_64-centos7-gcc10-opt/lib/python3.9/site-packages/awkward0/__init__.py:12: FutureWarning: Consider switching from 'awkward0' to 'awkward', since the new interface became the default in 2020.\n",
      "\n",
      "    pip install -U awkward\n",
      "\n",
      "In Python:\n",
      "\n",
      "    >>> import awkward as ak\n",
      "    >>> new_style_array = ak.from_awkward0(old_style_array)\n",
      "    >>> old_style_array = ak.to_awkward0(new_style_array)\n",
      "\n",
      "  warnings.warn(\n"
     ]
    }
   ],
   "source": [
    "import uproot3 # for reading .root files\n",
    "import pandas as pd # to store data as dataframe\n",
    "import time # to measure time to analyse\n",
    "import math # for mathematical functions such as square root\n",
    "import numpy as np # for numerical calculations such as histogramming\n",
    "import matplotlib.pyplot as plt # for plotting\n",
    "from matplotlib.ticker import AutoMinorLocator,LogLocator,LogFormatterSciNotation # for minor ticks\n",
    "import infofile # local file containing cross-sections, sums of weights, dataset IDs"
   ]
  },
  {
   "cell_type": "markdown",
   "metadata": {},
   "source": [
    "[Back to contents](#contents)"
   ]
  },
  {
   "cell_type": "markdown",
   "metadata": {},
   "source": [
    "<a id='fraction'></a>"
   ]
  },
  {
   "cell_type": "markdown",
   "metadata": {},
   "source": [
    "## Lumi, fraction, file path\n",
    "\n",
    "General definitions of luminosity, fraction of data used, where to access the input files"
   ]
  },
  {
   "cell_type": "code",
   "execution_count": 3,
   "metadata": {},
   "outputs": [],
   "source": [
    "#lumi = 0.5 # fb-1 # data_A only\n",
    "#lumi = 1.9 # fb-1 # data_B only\n",
    "#lumi = 2.9 # fb-1 # data_C only\n",
    "#lumi = 4.7 # fb-1 # data_D only\n",
    "lumi = 10 # fb-1 # data_A,data_B,data_C,data_D\n",
    "\n",
    "fraction = 1. # reduce this is you want the code to run quicker\n",
    "                                                                                                                                  \n",
    "#tuple_path = \"Input/4lep/\" # local \n",
    "tuple_path = \"https://atlas-opendata.web.cern.ch/atlas-opendata/samples/2020/4lep/\" # web address\n"
   ]
  },
  {
   "cell_type": "markdown",
   "metadata": {},
   "source": [
    "[Back to contents](#contents)"
   ]
  },
  {
   "cell_type": "markdown",
   "metadata": {},
   "source": [
    "<a id='samples'></a>"
   ]
  },
  {
   "cell_type": "markdown",
   "metadata": {},
   "source": [
    "## Samples\n",
    "\n",
    "samples to process"
   ]
  },
  {
   "cell_type": "code",
   "execution_count": 4,
   "metadata": {},
   "outputs": [],
   "source": [
    "samples = {\n",
    "\n",
    "    'data': {\n",
    "        'list' : ['data_A','data_B','data_C','data_D']\n",
    "    },\n",
    "    \n",
    "    r'$Z,t\\bar{t}$' : { # Z + ttbar\n",
    "        'list' : ['Zee','Zmumu','ttbar_lep'],\n",
    "        'color' : \"#6b59d3\" # purple\n",
    "    },\n",
    "    \n",
    "    r'$t\\bar{t}V$' : { # ttV\n",
    "        'list' : ['ttW','ttee','ttmumu'], # ttW, ttZ(->ee), ttZ(->mm)\n",
    "        'color' : \"#f0f423\" # yellow\n",
    "    },\n",
    "    \n",
    "    'ZZ' : { # ZZ->llll\n",
    "        'list' : ['llll'],\n",
    "        'color' : \"#ff0000\" # red\n",
    "    },\n",
    "    \n",
    "    'Graviton' : {\n",
    "        'list' : ['RS_G_ZZ_llll_c10_m0500'], # mG = 500 GeV\n",
    "        'color' : \"#baff8d\" # green\n",
    "    },\n",
    "\n",
    "}"
   ]
  },
  {
   "cell_type": "markdown",
   "metadata": {},
   "source": [
    "[Back to contents](#contents)"
   ]
  },
  {
   "cell_type": "markdown",
   "metadata": {},
   "source": [
    "Define function to get data from files\n",
    "\n",
    "The datasets used in this notebook have already been filtered to include at least 4 leptons per event, so that processing is quicker."
   ]
  },
  {
   "cell_type": "code",
   "execution_count": 5,
   "metadata": {},
   "outputs": [],
   "source": [
    "def get_data_from_files():\n",
    "\n",
    "    data = {} # define empty dictionary to hold dataframes\n",
    "    for s in samples: # loop over samples\n",
    "        print('Processing '+s+' samples') # print which sample\n",
    "        frames = [] # define empty list to hold data\n",
    "        for val in samples[s]['list']: # loop over each file\n",
    "            if s == 'data': prefix = \"Data/\" # Data prefix\n",
    "            else: # MC prefix\n",
    "                prefix = \"MC/mc_\"+str(infofile.infos[val][\"DSID\"])+\".\"\n",
    "            fileString = tuple_path+prefix+val+\".4lep.root\" # file name to open\n",
    "            temp = read_file(fileString,val) # call the function read_file defined below\n",
    "            frames.append(temp) # append dataframe returned from read_file to list of dataframes\n",
    "        data[s] = pd.concat(frames, ignore_index = True) # dictionary entry is concatenated dataframes\n",
    "    \n",
    "    return data # return dictionary of dataframes"
   ]
  },
  {
   "cell_type": "markdown",
   "metadata": {},
   "source": [
    "[Back to contents](#contents)"
   ]
  },
  {
   "cell_type": "markdown",
   "metadata": {},
   "source": [
    "define function to calculate weight of MC event"
   ]
  },
  {
   "cell_type": "code",
   "execution_count": 6,
   "metadata": {},
   "outputs": [],
   "source": [
    "def calc_weight(xsec_weight, mcWeight, scaleFactor_PILEUP,\n",
    "                scaleFactor_ELE, scaleFactor_MUON, \n",
    "                scaleFactor_LepTRIGGER ):\n",
    "    return xsec_weight*mcWeight*scaleFactor_PILEUP*scaleFactor_ELE*scaleFactor_MUON*scaleFactor_LepTRIGGER"
   ]
  },
  {
   "cell_type": "markdown",
   "metadata": {},
   "source": [
    "define function to get cross-section weight"
   ]
  },
  {
   "cell_type": "code",
   "execution_count": 7,
   "metadata": {},
   "outputs": [],
   "source": [
    "def get_xsec_weight(sample):\n",
    "    info = infofile.infos[sample] # open infofile\n",
    "    xsec_weight = (lumi*1000*info[\"xsec\"])/(info[\"sumw\"]*info[\"red_eff\"]) #*1000 to go from fb-1 to pb-1\n",
    "    return xsec_weight # return cross-section weight"
   ]
  },
  {
   "cell_type": "markdown",
   "metadata": {},
   "source": [
    "define function to calculate 4-lepton invariant mass"
   ]
  },
  {
   "cell_type": "code",
   "execution_count": 8,
   "metadata": {},
   "outputs": [],
   "source": [
    "def calc_mllll(lep_pt,lep_eta,lep_phi,lep_E):\n",
    "    # first lepton is [0], 2nd lepton is [1] etc\n",
    "    px_0 = lep_pt[0]*math.cos(lep_phi[0]) # x-component of lep[0] momentum\n",
    "    py_0 = lep_pt[0]*math.sin(lep_phi[0]) # y-component of lep[0] momentum\n",
    "    pz_0 = lep_pt[0]*math.sinh(lep_eta[0]) # z-component of lep[0] momentum\n",
    "    px_1 = lep_pt[1]*math.cos(lep_phi[1]) # x-component of lep[1] momentum\n",
    "    py_1 = lep_pt[1]*math.sin(lep_phi[1]) # y-component of lep[1] momentum\n",
    "    pz_1 = lep_pt[1]*math.sinh(lep_eta[1]) # z-component of lep[1] momentum\n",
    "    px_2 = lep_pt[2]*math.cos(lep_phi[2]) # x-component of lep[2] momentum\n",
    "    py_2 = lep_pt[2]*math.sin(lep_phi[2]) # y-component of lep[2] momentum\n",
    "    pz_2 = lep_pt[2]*math.sinh(lep_eta[2]) # z-component of lep[3] momentum\n",
    "    px_3 = lep_pt[3]*math.cos(lep_phi[3]) # x-component of lep[3] momentum\n",
    "    py_3 = lep_pt[3]*math.sin(lep_phi[3]) # y-component of lep[3] momentum\n",
    "    pz_3 = lep_pt[3]*math.sinh(lep_eta[3]) # z-component of lep[3] momentum\n",
    "    sumpx = px_0 + px_1 + px_2 + px_3 # x-component of 4-lepton momentum\n",
    "    sumpy = py_0 + py_1 + py_2 + py_3 # y-component of 4-lepton momentum\n",
    "    sumpz = pz_0 + pz_1 + pz_2 + pz_3 # z-component of 4-lepton momentum\n",
    "    sumE = lep_E[0] + lep_E[1] + lep_E[2] + lep_E[3] # energy of 4-lepton system\n",
    "    return math.sqrt(sumE**2 - sumpx**2 - sumpy**2 - sumpz**2)/1000 #/1000 to go from MeV to GeV"
   ]
  },
  {
   "cell_type": "code",
   "execution_count": 9,
   "metadata": {},
   "outputs": [],
   "source": [
    "def calc_lep_pt_i(lep_pt,i):\n",
    "    return lep_pt[i]/1000 # /1000 to go from MeV to GeV"
   ]
  },
  {
   "cell_type": "markdown",
   "metadata": {},
   "source": [
    "[Back to contents](#contents)"
   ]
  },
  {
   "cell_type": "markdown",
   "metadata": {},
   "source": [
    "<a id='changing_cut'></a>"
   ]
  },
  {
   "cell_type": "markdown",
   "metadata": {},
   "source": [
    "## Changing a cut\n",
    "\n",
    "If you change a cut: Cell -> Run All Below\n",
    "\n",
    "If you change a cut here, you also need to make sure the cut is applied in the \"[Applying a cut](#applying_cut)\" cell."
   ]
  },
  {
   "cell_type": "code",
   "execution_count": 10,
   "metadata": {},
   "outputs": [],
   "source": [
    "# cut on lepton charge\n",
    "# paper: \"selecting two pairs of isolated leptons, each of which is comprised of two leptons with the same flavour and opposite charge\"\n",
    "def cut_lep_charge(lep_charge):\n",
    "# throw away when sum of lepton charges is not equal to 0\n",
    "# first lepton is [0], 2nd lepton is [1] etc\n",
    "    return lep_charge[0] + lep_charge[1] + lep_charge[2] + lep_charge[3] != 0\n",
    "\n",
    "# cut on lepton type\n",
    "# paper: \"selecting two pairs of isolated leptons, each of which is comprised of two leptons with the same flavour and opposite charge\"\n",
    "def cut_lep_type(lep_type):\n",
    "# for an electron lep_type is 11\n",
    "# for a muon lep_type is 13\n",
    "# throw away when none of eeee, mumumumu, eemumu\n",
    "    sum_lep_type = lep_type[0] + lep_type[1] + lep_type[2] + lep_type[3]\n",
    "    return (sum_lep_type != 44) and (sum_lep_type != 48) and (sum_lep_type != 52)"
   ]
  },
  {
   "cell_type": "markdown",
   "metadata": {},
   "source": [
    "[Back to contents](#contents)"
   ]
  },
  {
   "cell_type": "markdown",
   "metadata": {},
   "source": [
    "<a id='applying_cut'></a>"
   ]
  },
  {
   "cell_type": "markdown",
   "metadata": {},
   "source": [
    "## Applying a cut\n",
    "If you add a cut: Cell -> Run All Below"
   ]
  },
  {
   "cell_type": "code",
   "execution_count": 11,
   "metadata": {},
   "outputs": [],
   "source": [
    "def read_file(path,sample):\n",
    "    start = time.time() # start the clock\n",
    "    print(\"\\tProcessing: \"+sample) # print which sample is being processed\n",
    "    data_all = pd.DataFrame() # define empty pandas DataFrame to hold all data for this sample\n",
    "    tree = uproot3.open(path)[\"mini\"] # open the tree called mini\n",
    "    numevents = uproot3.numentries(path, \"mini\") # number of events\n",
    "    branches = ['lep_pt','lep_eta','lep_phi','lep_E','lep_charge','lep_type','mcWeight','scaleFactor_PILEUP',\n",
    "                'scaleFactor_ELE','scaleFactor_MUON','scaleFactor_LepTRIGGER']# add more variables here if you make cuts on them \n",
    "    if 'data' not in sample: xsec_weight = get_xsec_weight(sample) # get cross-section weight\n",
    "    for data in tree.iterate(branches, # variables to calculate Monte Carlo weight\n",
    "                             outputtype=pd.DataFrame, # choose output type as pandas DataFrame\n",
    "                             entrystop=numevents*fraction): # process up to numevents*fraction\n",
    "\n",
    "        nIn = len(data.index) # number of events in this batch\n",
    "\n",
    "        if 'data' not in sample: # only do this for Monte Carlo simulation files\n",
    "            # multiply all Monte Carlo weights and scale factors together to give total weight\n",
    "            data['totalWeight'] = np.vectorize(calc_weight)(xsec_weight,\n",
    "                                                            data.mcWeight,\n",
    "                                                            data.scaleFactor_PILEUP,\n",
    "                                                            data.scaleFactor_ELE,\n",
    "                                                            data.scaleFactor_MUON,\n",
    "                                                            data.scaleFactor_LepTRIGGER)\n",
    "\n",
    "        # cut on lepton charge using the function cut_lep_charge defined above\n",
    "        fail = data[ np.vectorize(cut_lep_charge)(data.lep_charge) ].index\n",
    "        data.drop(fail, inplace=True)\n",
    "\n",
    "        # cut on lepton type using the function cut_lep_type defined above\n",
    "        fail = data[ np.vectorize(cut_lep_type)(data.lep_type) ].index\n",
    "        data.drop(fail, inplace=True)\n",
    "\n",
    "        # calculation of 4-lepton invariant mass using the function calc_mllll defined above\n",
    "        data['mllll'] = np.vectorize(calc_mllll)(data.lep_pt,data.lep_eta,data.lep_phi,data.lep_E)\n",
    "        \n",
    "        # return the individual lepton transverse momenta in GeV\n",
    "        data['lep_pt_1'] = np.vectorize(calc_lep_pt_i)(data.lep_pt,1)\n",
    "        data['lep_pt_2'] = np.vectorize(calc_lep_pt_i)(data.lep_pt,2)\n",
    "\n",
    "        nOut = len(data.index) # number of events passing cuts in this batch\n",
    "        data_all = data_all.append(data, ignore_index=True) # append dataframe from this batch to the dataframe for the whole sample\n",
    "        elapsed = time.time() - start # time taken to process\n",
    "        print(\"\\t\\t nIn: \"+str(nIn)+\",\\t nOut: \\t\"+str(nOut)+\"\\t in \"+str(round(elapsed,1))+\"s\") # events before and after\n",
    "    \n",
    "    return data_all # return dataframe containing events passing all cuts"
   ]
  },
  {
   "cell_type": "markdown",
   "metadata": {},
   "source": [
    "[Back to contents](#contents)"
   ]
  },
  {
   "cell_type": "markdown",
   "metadata": {},
   "source": [
    "This is where the processing happens (this will take some minutes)"
   ]
  },
  {
   "cell_type": "code",
   "execution_count": 12,
   "metadata": {
    "scrolled": false
   },
   "outputs": [
    {
     "name": "stdout",
     "output_type": "stream",
     "text": [
      "Processing data samples\n",
      "\tProcessing: data_A\n",
      "\t\t nIn: 39,\t nOut: \t27\t in 0.6s\n",
      "\tProcessing: data_B\n",
      "\t\t nIn: 156,\t nOut: \t86\t in 0.2s\n",
      "\tProcessing: data_C\n",
      "\t\t nIn: 237,\t nOut: \t146\t in 0.2s\n",
      "\tProcessing: data_D\n",
      "\t\t nIn: 400,\t nOut: \t248\t in 0.3s\n",
      "Processing $Z,t\\bar{t}$ samples\n",
      "\tProcessing: Zee\n",
      "\t\t nIn: 898,\t nOut: \t243\t in 0.4s\n",
      "\tProcessing: Zmumu\n",
      "\t\t nIn: 684,\t nOut: \t257\t in 0.4s\n",
      "\tProcessing: ttbar_lep\n",
      "\t\t nIn: 1031,\t nOut: \t334\t in 0.6s\n",
      "Processing $t\\bar{t}V$ samples\n",
      "\tProcessing: ttW\n",
      "\t\t nIn: 1373,\t nOut: \t333\t in 0.7s\n",
      "\tProcessing: ttee\n",
      "\t\t nIn: 32092,\t nOut: \t13883\t in 13.8s\n",
      "\tProcessing: ttmumu\n",
      "\t\t nIn: 26639,\t nOut: \t10886\t in 12.4s\n",
      "Processing ZZ samples\n",
      "\tProcessing: llll\n",
      "\t\t nIn: 106415,\t nOut: \t100522\t in 18.9s\n",
      "\t\t nIn: 106415,\t nOut: \t100595\t in 27.4s\n",
      "\t\t nIn: 106415,\t nOut: \t100580\t in 36.0s\n",
      "\t\t nIn: 106415,\t nOut: \t100618\t in 44.5s\n",
      "\t\t nIn: 106415,\t nOut: \t100655\t in 53.0s\n",
      "\t\t nIn: 22204,\t nOut: \t20987\t in 54.9s\n",
      "Processing Graviton samples\n",
      "\tProcessing: RS_G_ZZ_llll_c10_m0500\n",
      "\t\t nIn: 6496,\t nOut: \t6002\t in 1.4s\n",
      "Time taken: 86.1s\n"
     ]
    }
   ],
   "source": [
    "start = time.time() # time at start of whole processing\n",
    "data = get_data_from_files() # process all files\n",
    "elapsed = time.time() - start # time after whole processing\n",
    "print(\"Time taken: \"+str(round(elapsed,1))+\"s\") # print total time taken to process every file"
   ]
  },
  {
   "cell_type": "markdown",
   "metadata": {},
   "source": [
    "[Back to contents](#contents)"
   ]
  },
  {
   "cell_type": "markdown",
   "metadata": {},
   "source": [
    "<a id='plotting'></a>"
   ]
  },
  {
   "cell_type": "markdown",
   "metadata": {},
   "source": [
    "## Plotting\n",
    "If you only want a make a change in plotting: Cell -> Run All Below\n",
    "\n",
    "Define class to display log values"
   ]
  },
  {
   "cell_type": "code",
   "execution_count": 13,
   "metadata": {},
   "outputs": [],
   "source": [
    "# define class to display 1 and 10 normally\n",
    "class CustomTicker(LogFormatterSciNotation): \n",
    "    def __call__(self, x, pos=None): \n",
    "        if x not in [1,10]: # not 1 or 10\n",
    "            return LogFormatterSciNotation.__call__(self,x, pos=None)\n",
    "        else: # 1 or 10\n",
    "            return \"{x:g}\".format(x=x) # standard notation"
   ]
  },
  {
   "cell_type": "markdown",
   "metadata": {},
   "source": [
    "Define function to plot the data"
   ]
  },
  {
   "cell_type": "code",
   "execution_count": 14,
   "metadata": {},
   "outputs": [],
   "source": [
    "def plot_data(data):\n",
    "\n",
    "    xmin = 130 # GeV\n",
    "    xmax = 1230 # GeV\n",
    "    step_size = 55 # GeV\n",
    "\n",
    "    bin_edges = np.arange(start=xmin, # The interval includes this value\n",
    "                     stop=xmax+step_size, # The interval doesn't include this value\n",
    "                     step=step_size ) # Spacing between values\n",
    "    bin_centres = np.arange(start=xmin+step_size/2, # The interval includes this value\n",
    "                            stop=xmax+step_size/2, # The interval doesn't include this value\n",
    "                            step=step_size ) # Spacing between values\n",
    "\n",
    "    data_x,_ = np.histogram(data['data']['mllll'], \n",
    "                            bins=bin_edges ) # histogram the data\n",
    "    data_x_errors = np.sqrt( data_x ) # statistical error on the data\n",
    "\n",
    "    signal_x = data['Graviton']['mllll'] # histogram the signal\n",
    "    signal_weights = data['Graviton'].totalWeight # get the weights of the signal events\n",
    "    signal_color = samples['Graviton']['color'] # get the colour for the signal bar\n",
    "\n",
    "    mc_x = [] # define list to hold the Monte Carlo histogram entries\n",
    "    mc_weights = [] # define list to hold the Monte Carlo weights\n",
    "    mc_colors = [] # define list to hold the colors of the Monte Carlo bars\n",
    "    mc_labels = [] # define list to hold the legend labels of the Monte Carlo bars\n",
    "\n",
    "    for s in samples: # loop over samples\n",
    "        if s not in ['data', 'Graviton']: # if not data nor signal\n",
    "            mc_x.append( data[s]['mllll'] ) # append to the list of Monte Carlo histogram entries\n",
    "            mc_weights.append( data[s].totalWeight ) # append to the list of Monte Carlo weights\n",
    "            mc_colors.append( samples[s]['color'] ) # append to the list of Monte Carlo bar colors\n",
    "            mc_labels.append( s ) # append to the list of Monte Carlo legend labels\n",
    "    \n",
    "\n",
    "\n",
    "    # *************\n",
    "    # Main plot \n",
    "    # *************\n",
    "    main_axes = plt.gca() # get current axes\n",
    "    \n",
    "    # plot the data points\n",
    "    main_axes.errorbar(x=bin_centres, y=data_x, yerr=data_x_errors,\n",
    "                       fmt='ko', # 'k' means black and 'o' is for circles \n",
    "                       label='Data') \n",
    "    \n",
    "    # plot the Monte Carlo bars\n",
    "    mc_heights = main_axes.hist(mc_x, bins=bin_edges, \n",
    "                                weights=mc_weights, stacked=True, \n",
    "                                color=mc_colors, label=mc_labels )\n",
    "    \n",
    "    mc_x_tot = mc_heights[0][-1] # stacked background MC y-axis value\n",
    "    \n",
    "    # calculate MC statistical uncertainty: sqrt(sum w^2)\n",
    "    mc_x_err = np.sqrt(np.histogram(np.hstack(mc_x), bins=bin_edges, weights=np.hstack(mc_weights)**2)[0])\n",
    "    \n",
    "    # plot the signal bar\n",
    "    main_axes.hist(signal_x, bins=bin_edges, bottom=mc_x_tot, \n",
    "                   weights=signal_weights, color=signal_color,\n",
    "                   label='Graviton')\n",
    "    \n",
    "    # plot the statistical uncertainty\n",
    "    main_axes.bar(bin_centres, # x\n",
    "                  2*mc_x_err, # heights\n",
    "                  alpha=0.5, # half transparency\n",
    "                  bottom=mc_x_tot-mc_x_err, color='none', \n",
    "                  hatch=\"////\", width=step_size, label='Stat. Unc.' )\n",
    "\n",
    "    # set the x-limit of the main axes\n",
    "    main_axes.set_xlim( left=xmin, right=xmax ) \n",
    "    \n",
    "    # separation of x axis minor ticks\n",
    "    main_axes.xaxis.set_minor_locator( AutoMinorLocator() ) \n",
    "    \n",
    "    # set the axis tick parameters for the main axes\n",
    "    main_axes.tick_params(which='both', # ticks on both x and y axes\n",
    "                          direction='in', # Put ticks inside and outside the axes\n",
    "                          top=True, # draw ticks on the top axis\n",
    "                          right=True ) # draw ticks on right axis\n",
    "    \n",
    "    # x-axis label\n",
    "    main_axes.set_xlabel(r'4-lepton invariant mass $\\mathrm{m_{4l}}$ [GeV]',\n",
    "                        fontsize=13, x=1, horizontalalignment='right' )\n",
    "    \n",
    "    # write y-axis label for main axes\n",
    "    main_axes.set_ylabel('Events / '+str(step_size)+' GeV',\n",
    "                         y=1, horizontalalignment='right') \n",
    "    \n",
    "    # add minor ticks on y-axis for main axes\n",
    "    main_axes.yaxis.set_minor_locator( AutoMinorLocator() ) \n",
    "    \n",
    "    main_axes.set_yscale('log') # set y-scale\n",
    "    smallest_contribution = mc_heights[0][0] # get smallest contribution\n",
    "    smallest_contribution.sort() # sort smallest contribution\n",
    "    bottom = np.amax(data_x)/1000 # set bottom limit on y-axis\n",
    "    top = np.amax(data_x)*100 # set top limit on y-axis\n",
    "    main_axes.set_ylim( bottom=bottom, top=top ) # y-axis limits\n",
    "    main_axes.yaxis.set_major_formatter( CustomTicker() ) \n",
    "    locmin = LogLocator(base=10.0, # log base 10\n",
    "                        subs=(0.1,0.2,0.3,0.4,0.5,0.6,0.7,0.8,0.9) ) # minor tick every 0.1 \n",
    "    main_axes.yaxis.set_minor_locator( locmin ) # set minor ticks\n",
    "\n",
    "    # Add text 'ATLAS Open Data' on plot\n",
    "    plt.text(0.05, # x\n",
    "             0.93, # y\n",
    "             'ATLAS Open Data', # text\n",
    "             transform=main_axes.transAxes, # coordinate system used is that of main_axes\n",
    "             fontsize=13 ) \n",
    "    \n",
    "    # Add text 'for education' on plot\n",
    "    plt.text(0.05, # x\n",
    "             0.88, # y\n",
    "             'for education', # text\n",
    "             transform=main_axes.transAxes, # coordinate system used is that of main_axes\n",
    "             style='italic',\n",
    "             fontsize=8 ) \n",
    "    \n",
    "    # Add energy and luminosity\n",
    "    lumi_used = str(round(lumi*fraction,2)) # luminosity to write on the plot\n",
    "    plt.text(0.05, # x\n",
    "             0.82, # y\n",
    "             '$\\sqrt{s}$=13 TeV, '+lumi_used+' fb$^{-1}$', # text\n",
    "             transform=main_axes.transAxes ) # coordinate system used is that of main_axes\n",
    "    \n",
    "    # Add a label for the analysis carried out\n",
    "    plt.text(0.05, # x\n",
    "             0.75, # y\n",
    "             r'$G \\rightarrow ZZ \\rightarrow l^+l^-l^+l^-$', # text \n",
    "             transform=main_axes.transAxes ) # coordinate system used is that of main_axes\n",
    "\n",
    "    # draw the legend\n",
    "    main_axes.legend(ncol=2, # 2 columns\n",
    "                     frameon=False ) # no box around the legend\n",
    "    plt.title(\"Invariant mass for 4 leptons system\")\n",
    "    plt.savefig('plots/Graviton_BDT/Graviton-invariant-mass.pdf')\n",
    "    \n",
    "    return"
   ]
  },
  {
   "cell_type": "markdown",
   "metadata": {},
   "source": [
    "[Back to contents](#contents)"
   ]
  },
  {
   "cell_type": "markdown",
   "metadata": {},
   "source": [
    "Call the function to plot the data"
   ]
  },
  {
   "cell_type": "code",
   "execution_count": 15,
   "metadata": {},
   "outputs": [
    {
     "data": {
      "image/png": "[encoded data removed]",
      "text/plain": [
       "<Figure size 432x288 with 1 Axes>"
      ]
     },
     "metadata": {
      "needs_background": "light"
     },
     "output_type": "display_data"
    }
   ],
   "source": [
    "plot_data(data)"
   ]
  },
  {
   "cell_type": "code",
   "execution_count": 16,
   "metadata": {},
   "outputs": [
    {
     "name": "stdout",
     "output_type": "stream",
     "text": [
      "{'data':                                           lep_pt  \\\n",
      "0    [175558.73, 138846.67, 106696.53, 79776.73]   \n",
      "1    [65284.066, 37290.766, 12426.926, 8804.564]   \n",
      "2     [146784.7, 127539.97, 33562.18, 29776.129]   \n",
      "3     [135680.69, 82894.8, 62508.098, 42552.906]   \n",
      "4    [67713.18, 42791.816, 12742.542, 10291.093]   \n",
      "..                                           ...   \n",
      "502  [51773.375, 51708.45, 51148.297, 30737.582]   \n",
      "503  [61561.816, 25231.277, 21982.31, 14411.031]   \n",
      "504  [53048.145, 39838.145, 23835.697, 7428.501]   \n",
      "505   [114072.234, 113360.6, 64472.6, 26180.354]   \n",
      "506   [88545.625, 50751.836, 25529.92, 22951.45]   \n",
      "\n",
      "                                               lep_eta  \\\n",
      "0          [2.076854, 0.9641987, 0.4538123, 2.3985784]   \n",
      "1     [0.103151694, 0.43131045, 0.98646265, 1.1151001]   \n",
      "2    [-0.20137234, -0.26222968, -0.2997417, 0.47760...   \n",
      "3        [1.4913375, 0.73802865, 1.2436671, 0.5755266]   \n",
      "4    [-1.5264179, -0.06150811, -0.6896634, -0.6163658]   \n",
      "..                                                 ...   \n",
      "502    [-1.28635, -1.0202633, -0.80568916, 0.30312154]   \n",
      "503  [-0.6561884, -0.043175437, 0.49340436, -0.2145...   \n",
      "504     [1.6669953, 1.2820495, 0.009336205, 1.5172257]   \n",
      "505       [1.6677951, 1.1956723, 1.5933089, 1.2851827]   \n",
      "506    [-0.845567, 0.115409344, 2.211767, -0.20559742]   \n",
      "\n",
      "                                              lep_phi  \\\n",
      "0      [1.2929627, -2.2561386, -1.7970102, 0.5870669]   \n",
      "1       [2.3295352, -2.4817212, 2.2234292, 2.4967396]   \n",
      "2      [0.56058794, -2.2311037, 2.0015476, 2.9714534]   \n",
      "3     [-0.7563026, -2.7576957, 2.2719328, -1.1226101]   \n",
      "4    [-1.4037814, -1.353487, -0.32475498, -0.3771284]   \n",
      "..                                                ...   \n",
      "502     [1.1772112, -1.047273, -1.4184802, 2.3813634]   \n",
      "503     [3.0332172, 1.3050667, 0.06840056, 2.7004883]   \n",
      "504  [1.6207898, -1.2548615, -2.9835243, -0.25539052]   \n",
      "505     [0.0551456, 3.0626664, -0.9325686, -1.999637]   \n",
      "506    [-0.9302855, 1.8082024, 0.65485394, 1.4508822]   \n",
      "\n",
      "                                             lep_E      lep_charge  \\\n",
      "0     [711421.06, 208545.92, 117873.27, 442695.56]  [-1, 1, -1, 1]   \n",
      "1      [65631.695, 40813.45, 18980.092, 14870.211]  [-1, 1, -1, 1]   \n",
      "2        [149770.89, 131950.27, 35081.2, 33237.22]  [1, 1, -1, -1]   \n",
      "3     [316685.9, 106514.14, 117410.016, 49797.125]  [-1, -1, 1, 1]   \n",
      "4       [163154.1, 42872.79, 15895.331, 12309.051]  [1, -1, -1, 1]   \n",
      "..                                             ...             ...   \n",
      "502     [100850.09, 81038.13, 68667.06, 32160.553]  [-1, 1, 1, -1]   \n",
      "503   [75298.086, 25255.02, 24713.037, 14744.3125]  [1, -1, -1, 1]   \n",
      "504     [145485.73, 77315.69, 23836.97, 17750.264]  [-1, 1, 1, -1]   \n",
      "505     [313078.7, 204518.39, 165154.75, 50946.03]  [1, 1, -1, -1]   \n",
      "506  [122131.516, 51090.31, 117965.445, 23438.242]  [1, 1, -1, -1]   \n",
      "\n",
      "             lep_type  mcWeight  scaleFactor_PILEUP  scaleFactor_ELE  \\\n",
      "0    [11, 13, 13, 11]       0.0                 0.0              0.0   \n",
      "1    [11, 11, 13, 13]       0.0                 0.0              0.0   \n",
      "2    [11, 11, 11, 11]       0.0                 0.0              0.0   \n",
      "3    [13, 11, 11, 13]       0.0                 0.0              0.0   \n",
      "4    [11, 11, 13, 13]       0.0                 0.0              0.0   \n",
      "..                ...       ...                 ...              ...   \n",
      "502  [11, 11, 11, 11]       0.0                 0.0              0.0   \n",
      "503  [13, 13, 13, 13]       0.0                 0.0              0.0   \n",
      "504  [13, 13, 13, 13]       0.0                 0.0              0.0   \n",
      "505  [11, 11, 11, 11]       0.0                 0.0              0.0   \n",
      "506  [11, 13, 13, 11]       0.0                 0.0              0.0   \n",
      "\n",
      "     scaleFactor_MUON  scaleFactor_LepTRIGGER       mllll    lep_pt_1  \\\n",
      "0                 0.0                     0.0  649.271931  138.846672   \n",
      "1                 0.0                     0.0   87.907098   37.290766   \n",
      "2                 0.0                     0.0  344.775936  127.539969   \n",
      "3                 0.0                     0.0  326.583790   82.894797   \n",
      "4                 0.0                     0.0  107.422585   42.791816   \n",
      "..                ...                     ...         ...         ...   \n",
      "502               0.0                     0.0  209.585334   51.708449   \n",
      "503               0.0                     0.0  121.270402   25.231277   \n",
      "504               0.0                     0.0  149.033446   39.838145   \n",
      "505               0.0                     0.0  318.595413  113.360602   \n",
      "506               0.0                     0.0  305.914725   50.751836   \n",
      "\n",
      "       lep_pt_2  \n",
      "0    106.696531  \n",
      "1     12.426926  \n",
      "2     33.562180  \n",
      "3     62.508098  \n",
      "4     12.742542  \n",
      "..          ...  \n",
      "502   51.148297  \n",
      "503   21.982311  \n",
      "504   23.835697  \n",
      "505   64.472602  \n",
      "506   25.529920  \n",
      "\n",
      "[507 rows x 14 columns], '$Z,t\\\\bar{t}$':                                            lep_pt  \\\n",
      "0         [39319.23, 37666.0, 8385.744, 7025.795]   \n",
      "1      [47592.39, 43458.098, 10026.11, 7162.6626]   \n",
      "2    [51710.316, 30980.805, 11872.697, 7892.9395]   \n",
      "3     [65519.844, 17793.098, 14570.528, 7871.123]   \n",
      "4       [39427.957, 32687.89, 8821.469, 8123.534]   \n",
      "..                                            ...   \n",
      "829  [108052.734, 71749.195, 10059.811, 7594.059]   \n",
      "830    [72671.664, 15723.056, 12728.249, 8112.05]   \n",
      "831   [108584.25, 81012.56, 17725.264, 15344.783]   \n",
      "832  [57052.246, 54549.004, 15611.801, 15060.138]   \n",
      "833   [47612.863, 44278.62, 13041.843, 7166.7607]   \n",
      "\n",
      "                                               lep_eta  \\\n",
      "0         [0.8723238, 2.006158, -0.3714777, 2.2477067]   \n",
      "1       [-0.8090483, -0.6145289, 2.0875025, 0.6384636]   \n",
      "2       [2.211758, 1.0357504, -1.5491847, -0.49692452]   \n",
      "3    [-1.8400015, 0.014194325, 0.10441768, 0.54491776]   \n",
      "4     [0.6319882, -0.72217596, 0.5735928, -0.06887347]   \n",
      "..                                                 ...   \n",
      "829  [-0.4410316, -1.4741125, -0.48336256, -1.8078258]   \n",
      "830   [0.6248438, 0.45667186, 0.28518316, -0.73698467]   \n",
      "831    [0.4161059, -1.0276302, -0.7823906, -0.7881761]   \n",
      "832  [0.70771366, -1.9270778, -0.62293637, -0.8225508]   \n",
      "833     [-0.3629382, 1.9160199, 1.308462, -0.84321076]   \n",
      "\n",
      "                                               lep_phi  \\\n",
      "0       [1.4695405, -1.6707282, -0.5686838, 1.9471599]   \n",
      "1       [-2.2826285, 0.6541073, 0.18135798, 0.8925741]   \n",
      "2    [3.0596266, -0.21164392, -0.018451305, 2.6533346]   \n",
      "3      [0.4868397, -2.3558335, -1.6149002, -2.8749647]   \n",
      "4         [2.225151, -1.306289, 1.8235722, -1.0468655]   \n",
      "..                                                 ...   \n",
      "829      [-1.090314, 2.3710358, 1.4126797, -0.9297174]   \n",
      "830       [-2.1899395, 2.6564493, 1.6369331, 3.042145]   \n",
      "831     [2.2256927, -1.4709294, -2.9963393, 0.3439932]   \n",
      "832      [0.7930003, -1.3183972, -2.704592, -2.582325]   \n",
      "833    [2.1071806, -0.81682944, -0.4979972, 3.0571723]   \n",
      "\n",
      "                                            lep_E      lep_charge  \\\n",
      "0      [55252.23, 142550.81, 8971.026, 33624.203]  [-1, 1, 1, -1]   \n",
      "1       [64036.78, 51925.496, 41050.63, 8672.812]  [-1, 1, -1, 1]   \n",
      "2     [238934.31, 49138.336, 29207.332, 8888.304]  [-1, 1, -1, 1]   \n",
      "3      [211477.25, 17794.89, 14650.032, 9068.935]  [-1, -1, 1, 1]   \n",
      "4    [47567.492, 41588.848, 10313.406, 8143.4946]  [-1, 1, 1, -1]   \n",
      "..                                            ...             ...   \n",
      "829   [118732.836, 164884.7, 11258.55, 23774.146]  [-1, 1, 1, -1]   \n",
      "830  [87325.875, 17391.584, 13249.778, 10416.602]  [-1, 1, -1, 1]   \n",
      "831    [118121.03, 127687.54, 23433.08, 20363.22]  [1, -1, 1, -1]   \n",
      "832   [71946.19, 191330.11, 18740.404, 20448.719]  [1, -1, 1, -1]   \n",
      "833     [50783.32, 153670.23, 25892.71, 9869.707]  [1, -1, -1, 1]   \n",
      "\n",
      "             lep_type     mcWeight  scaleFactor_PILEUP  scaleFactor_ELE  \\\n",
      "0    [11, 11, 11, 11]  1942.939941            1.087349         0.863112   \n",
      "1    [11, 11, 11, 11]  1942.060059            0.750880         0.933329   \n",
      "2    [11, 11, 13, 13]  1941.239990            0.750880         0.920904   \n",
      "3    [11, 11, 11, 11]  1940.579956            1.745631         0.877460   \n",
      "4    [11, 11, 13, 13]  1941.910034            0.750880         0.914658   \n",
      "..                ...          ...                 ...              ...   \n",
      "829  [13, 13, 13, 13]     1.000000            0.923924         1.000000   \n",
      "830  [11, 13, 13, 11]     1.000000            1.251332         0.991419   \n",
      "831  [11, 11, 13, 13]     1.000000            0.553627         0.966711   \n",
      "832  [11, 13, 13, 11]     1.000000            1.262048         0.970140   \n",
      "833  [11, 13, 11, 13]     1.000000            1.196105         0.936603   \n",
      "\n",
      "     scaleFactor_MUON  scaleFactor_LepTRIGGER  totalWeight       mllll  \\\n",
      "0            1.000000                1.023900     0.242332  123.778564   \n",
      "1            1.000000                0.959220     0.169451  162.560351   \n",
      "2            0.988623                1.015320     0.174886  219.564061   \n",
      "3            1.000000                0.988690     0.381443  157.108745   \n",
      "4            0.989426                0.971080     0.166324  106.592748   \n",
      "..                ...                     ...          ...         ...   \n",
      "829          0.982146                0.836291     0.069561  221.392648   \n",
      "830          0.991572                1.000210     0.112782   89.324171   \n",
      "831          0.995590                1.006320     0.049150  271.143367   \n",
      "832          0.980897                0.966770     0.106427  251.470387   \n",
      "833          0.983860                0.984480     0.099463  191.160258   \n",
      "\n",
      "      lep_pt_1   lep_pt_2  \n",
      "0    37.666000   8.385744  \n",
      "1    43.458098  10.026110  \n",
      "2    30.980805  11.872697  \n",
      "3    17.793098  14.570528  \n",
      "4    32.687891   8.821469  \n",
      "..         ...        ...  \n",
      "829  71.749195  10.059811  \n",
      "830  15.723056  12.728249  \n",
      "831  81.012563  17.725264  \n",
      "832  54.549004  15.611801  \n",
      "833  44.278621  13.041843  \n",
      "\n",
      "[834 rows x 15 columns], '$t\\\\bar{t}V$':                                                   lep_pt  \\\n",
      "0             [85117.22, 45836.844, 17023.959, 17000.63]   \n",
      "1             [85031.77, 60211.45, 26259.598, 11908.649]   \n",
      "2           [59184.594, 39748.355, 25514.945, 19014.268]   \n",
      "3              [153461.58, 77523.06, 72009.4, 11428.138]   \n",
      "4            [100632.8, 50922.887, 25827.123, 14291.127]   \n",
      "...                                                  ...   \n",
      "25097        [138048.17, 108879.92, 73928.02, 25509.678]   \n",
      "25098        [99574.445, 87507.44, 60583.652, 19805.701]   \n",
      "25099         [113499.414, 52209.496, 16446.24, 9375.02]   \n",
      "25100       [61991.773, 35888.914, 14589.098, 13844.126]   \n",
      "25101  [120241.195, 91302.44, 81981.3, 67890.43, 8861...   \n",
      "\n",
      "                                                 lep_eta  \\\n",
      "0      [-0.049570277, 1.5746101, -1.7253306, -2.4476779]   \n",
      "1           [-0.6732343, 2.0039976, 0.103528, 0.9497562]   \n",
      "2      [0.048853945, -0.51152176, 0.31611425, -1.7496...   \n",
      "3            [2.295486, 1.5865374, 1.2013822, 1.6472543]   \n",
      "4        [-2.2800786, -2.3731968, -1.922248, 0.64982826]   \n",
      "...                                                  ...   \n",
      "25097      [1.1162299, 1.0712641, 1.7431705, -1.2323779]   \n",
      "25098  [-2.2132869, -0.028465105, 0.014103002, -1.466...   \n",
      "25099      [0.3627652, 0.68081367, 2.1111863, 0.9951006]   \n",
      "25100  [-1.5660676, -1.1968036, 0.66996694, 0.053064514]   \n",
      "25101  [-0.5139649, -1.90263, -1.6638703, -2.1808612,...   \n",
      "\n",
      "                                                 lep_phi  \\\n",
      "0       [-0.17825797, -2.0469038, -0.8642432, -1.711872]   \n",
      "1           [0.9599261, 0.5255812, 1.323835, 0.39812753]   \n",
      "2         [-0.428586, -0.45777896, 2.2232041, 2.0884495]   \n",
      "3          [-1.2380538, 2.3999696, 1.5636092, 1.0993775]   \n",
      "4          [1.5683479, 2.534036, -2.6858108, -0.7429333]   \n",
      "...                                                  ...   \n",
      "25097     [2.2083235, 1.4790788, -0.5258436, -1.5781906]   \n",
      "25098       [-2.044963, 0.1180808, 0.9513321, -2.493155]   \n",
      "25099    [-1.2458427, 0.35267842, -0.45935303, 2.636841]   \n",
      "25100     [2.6344116, 0.7575269, 1.9367718, -0.92798257]   \n",
      "25101  [-2.3834617, -0.7349182, 0.1420888, 2.4638476,...   \n",
      "\n",
      "                                                   lep_E          lep_charge  \\\n",
      "0              [85221.81, 115416.0, 49305.676, 99011.35]      [1, -1, -1, 1]   \n",
      "1             [105040.78, 227402.05, 26400.66, 17696.06]      [1, -1, 1, -1]   \n",
      "2           [59255.332, 45062.906, 26800.637, 56342.973]      [1, -1, -1, 1]   \n",
      "3             [769607.7, 197351.7, 130534.62, 30771.865]      [1, 1, -1, -1]   \n",
      "4             [497112.22, 275615.72, 90170.07, 17416.22]      [-1, 1, -1, 1]   \n",
      "...                                                  ...                 ...   \n",
      "25097        [233358.95, 177563.72, 217732.83, 47460.41]      [1, -1, 1, -1]   \n",
      "25098         [460784.16, 87542.89, 60589.77, 45196.133]      [-1, 1, 1, -1]   \n",
      "25099         [121049.9, 64783.875, 68902.64, 14412.605]      [1, -1, -1, 1]   \n",
      "25100        [154875.58, 64809.72, 17987.926, 13864.024]      [-1, -1, 1, 1]   \n",
      "25101  [136475.34, 312833.06, 224182.39, 304382.4, 95...  [1, 1, -1, -1, -1]   \n",
      "\n",
      "                   lep_type  mcWeight  scaleFactor_PILEUP  scaleFactor_ELE  \\\n",
      "0          [11, 13, 13, 11]  0.860040            1.225855         0.873803   \n",
      "1          [11, 11, 13, 13]  0.858890            0.351687         0.952390   \n",
      "2          [13, 11, 13, 11]  0.865470            1.251332         0.877244   \n",
      "3          [11, 13, 13, 11] -0.864120            1.264594         0.981567   \n",
      "4          [11, 11, 11, 11]  0.864940            0.696077         0.811423   \n",
      "...                     ...       ...                 ...              ...   \n",
      "25097      [13, 13, 11, 11]  0.077636            1.264594         0.896237   \n",
      "25098      [11, 11, 13, 13]  0.077636            1.225855         0.950235   \n",
      "25099      [13, 11, 13, 11] -0.077638            1.264594         0.977921   \n",
      "25100      [13, 13, 13, 13]  0.077866            1.196105         1.000000   \n",
      "25101  [11, 13, 13, 11, 11] -0.077543            1.320948         0.966904   \n",
      "\n",
      "       scaleFactor_MUON  scaleFactor_LepTRIGGER  totalWeight       mllll  \\\n",
      "0              0.992380                0.987430     0.001331  327.971895   \n",
      "1              0.987068                0.991800     0.000415  284.315799   \n",
      "2              1.001846                0.992160     0.001392  164.165964   \n",
      "3              0.979667                1.000500    -0.001550  348.362722   \n",
      "4              1.000000                0.996040     0.000717  253.838232   \n",
      "...                 ...                     ...          ...         ...   \n",
      "25097          0.997172                1.004410     0.000700  435.042239   \n",
      "25098          1.013817                0.996040     0.000725  424.582426   \n",
      "25099          0.984198                0.966770    -0.000725  174.487964   \n",
      "25100          0.975507                0.989212     0.000714  158.962202   \n",
      "25101          0.980190                1.005820    -0.000775  438.986388   \n",
      "\n",
      "         lep_pt_1   lep_pt_2  \n",
      "0       45.836844  17.023959  \n",
      "1       60.211449  26.259598  \n",
      "2       39.748355  25.514945  \n",
      "3       77.523062  72.009398  \n",
      "4       50.922887  25.827123  \n",
      "...           ...        ...  \n",
      "25097  108.879922  73.928023  \n",
      "25098   87.507437  60.583652  \n",
      "25099   52.209496  16.446240  \n",
      "25100   35.888914  14.589098  \n",
      "25101   91.302437  81.981297  \n",
      "\n",
      "[25102 rows x 15 columns], 'ZZ':                                                lep_pt  \\\n",
      "0          [64853.69, 61677.957, 48666.44, 44360.594]   \n",
      "1         [55921.848, 41498.75, 18562.252, 11200.327]   \n",
      "2           [84155.97, 78250.46, 56973.09, 56136.598]   \n",
      "3        [100780.22, 26851.668, 13466.778, 11434.911]   \n",
      "4            [172537.7, 98566.4, 74528.45, 12576.789]   \n",
      "...                                               ...   \n",
      "523952       [67621.1, 51921.21, 50100.37, 44835.277]   \n",
      "523953     [48948.67, 48862.41, 39796.707, 31510.016]   \n",
      "523954  [119936.56, 102871.875, 54995.215, 20621.857]   \n",
      "523955     [32009.953, 31902.018, 20184.078, 14703.7]   \n",
      "523956   [75909.305, 49681.914, 11938.686, 7546.0493]   \n",
      "\n",
      "                                                  lep_eta  \\\n",
      "0            [1.5119262, 0.9527604, 1.1908164, 2.1028118]   \n",
      "1        [-1.5589899, -0.71930677, -1.8220292, -2.090571]   \n",
      "2       [-0.20404476, 0.39109004, 0.45703688, -0.5842737]   \n",
      "3       [0.62736243, -0.93059206, 0.041212134, -0.0724...   \n",
      "4          [0.5893239, -1.3127046, -1.9889181, 1.2152758]   \n",
      "...                                                   ...   \n",
      "523952  [-0.04842222, -1.0277615, -1.0011764, -2.0308654]   \n",
      "523953  [0.87225395, -0.57031024, 0.24977583, -1.7376556]   \n",
      "523954      [-2.102342, -1.269684, -2.014429, -1.8423804]   \n",
      "523955      [0.42379463, -0.919044, 1.6397774, 0.7551051]   \n",
      "523956     [-0.45193055, -0.789725, 0.43944848, 1.047767]   \n",
      "\n",
      "                                                lep_phi  \\\n",
      "0        [1.9609993, -2.4778569, -0.3330752, -2.436713]   \n",
      "1            [1.9564, -2.3616645, 0.6946235, 0.8060392]   \n",
      "2         [-0.7235623, -2.136465, 2.5923607, 1.2815038]   \n",
      "3          [1.7746718, 2.1002047, 1.8418165, 2.2207954]   \n",
      "4        [1.2503097, -1.1016209, -1.7956103, -2.498861]   \n",
      "...                                                 ...   \n",
      "523952   [-1.4750422, -0.27962154, 2.894335, 1.2610465]   \n",
      "523953   [1.0634676, -2.6051219, -2.2802842, 0.6636062]   \n",
      "523954  [0.82061404, -2.637615, -1.6481175, -2.5706573]   \n",
      "523955  [-1.2805221, 2.5256858, 1.1593494, -0.62126315]   \n",
      "523956   [-1.8352259, 3.0545797, -2.261475, -2.6386578]   \n",
      "\n",
      "                                               lep_E      lep_charge  \\\n",
      "0       [154220.28, 91854.945, 87447.305, 184346.61]  [1, -1, 1, -1]   \n",
      "1        [138808.28, 52705.58, 58898.887, 45994.977]  [-1, 1, 1, -1]   \n",
      "2          [85913.94, 84311.38, 63027.824, 65994.23]  [-1, 1, 1, -1]   \n",
      "3        [121272.02, 39342.13, 13478.216, 11464.951]  [1, -1, -1, 1]   \n",
      "4       [203376.34, 196408.44, 277412.28, 23064.898]  [1, -1, 1, -1]   \n",
      "...                                              ...             ...   \n",
      "523952     [67700.48, 81843.72, 77378.23, 173779.31]  [-1, 1, 1, -1]   \n",
      "523953     [68780.35, 57026.58, 41044.594, 92323.38]  [1, -1, -1, 1]   \n",
      "523954    [498185.7, 197547.34, 209802.45, 66711.63]  [-1, 1, -1, 1]   \n",
      "523955   [34927.918, 46350.45, 53972.785, 19098.902]  [-1, -1, 1, 1]   \n",
      "523956    [83794.05, 65996.47, 13110.552, 12081.677]  [1, -1, -1, 1]   \n",
      "\n",
      "                lep_type  mcWeight  scaleFactor_PILEUP  scaleFactor_ELE  \\\n",
      "0       [13, 13, 13, 13]  0.126207            1.745631         1.000000   \n",
      "1       [13, 13, 11, 11]  0.332061            0.187531         0.903156   \n",
      "2       [11, 11, 13, 13]  1.000000            1.241677         0.962309   \n",
      "3       [11, 11, 11, 11]  1.000000            0.934886         0.857935   \n",
      "4       [11, 11, 11, 11]  0.127306            0.923924         0.904552   \n",
      "...                  ...       ...                 ...              ...   \n",
      "523952  [13, 13, 11, 11]  0.299751            1.214122         0.954900   \n",
      "523953  [11, 13, 11, 13]  0.140462            1.251332         0.942870   \n",
      "523954  [13, 13, 13, 13]  1.000000            1.320948         1.000000   \n",
      "523955  [13, 13, 13, 13]  1.000000            1.320948         1.000000   \n",
      "523956  [11, 11, 13, 13]  0.110684            1.251332         0.945839   \n",
      "\n",
      "        scaleFactor_MUON  scaleFactor_LepTRIGGER  totalWeight       mllll  \\\n",
      "0               0.994004                0.966761     0.000353  229.654277   \n",
      "1               0.995108                0.920816     0.000086  132.688869   \n",
      "2               0.972613                1.005820     0.001950  296.506040   \n",
      "3               1.000000                0.997650     0.001335  101.265195   \n",
      "4               1.000000                0.997650     0.000177  623.674832   \n",
      "...                  ...                     ...          ...         ...   \n",
      "523952          0.992645                0.576990     0.000332  270.743968   \n",
      "523953          0.983400                0.962010     0.000262  251.805631   \n",
      "523954          0.964780                0.940930     0.002001  317.328837   \n",
      "523955          0.973215                1.022195     0.002193  148.304865   \n",
      "523956          0.994457                1.001920     0.000218  113.324107   \n",
      "\n",
      "          lep_pt_1   lep_pt_2  \n",
      "0        61.677957  48.666441  \n",
      "1        41.498750  18.562252  \n",
      "2        78.250461  56.973090  \n",
      "3        26.851668  13.466778  \n",
      "4        98.566398  74.528453  \n",
      "...            ...        ...  \n",
      "523952   51.921211  50.100371  \n",
      "523953   48.862410  39.796707  \n",
      "523954  102.871875  54.995215  \n",
      "523955   31.902018  20.184078  \n",
      "523956   49.681914  11.938686  \n",
      "\n",
      "[523957 rows x 15 columns], 'Graviton':                                              lep_pt  \\\n",
      "0        [108252.31, 96906.734, 89499.69, 57630.17]   \n",
      "1          [163906.9, 157725.3, 110612.24, 67084.1]   \n",
      "2         [267399.78, 245163.0, 99088.98, 95995.62]   \n",
      "3     [172681.86, 140139.78, 118392.695, 50993.957]   \n",
      "4        [171846.38, 107092.59, 90354.68, 86246.29]   \n",
      "...                                             ...   \n",
      "5997     [197161.56, 137418.62, 67225.16, 52372.19]   \n",
      "5998    [218487.05, 176730.61, 66001.25, 35634.438]   \n",
      "5999       [163235.64, 135152.4, 85531.5, 43194.75]   \n",
      "6000    [198364.61, 162490.12, 79844.06, 34769.523]   \n",
      "6001     [112363.17, 106429.91, 99436.47, 71637.68]   \n",
      "\n",
      "                                                lep_eta  \\\n",
      "0     [-0.044591576, -0.7101985, 0.61514676, -1.918625]   \n",
      "1      [0.23388323, 0.30414984, 0.62012666, -0.2560395]   \n",
      "2     [-0.19859132, -0.51768315, -0.47287372, 0.0096...   \n",
      "3         [1.8005385, 1.2086154, 0.37691957, 1.3360521]   \n",
      "4         [-0.11695256, 0.51736, -0.65494484, 1.245891]   \n",
      "...                                                 ...   \n",
      "5997       [-0.141663, 0.57270783, -0.5472304, 0.68141]   \n",
      "5998  [0.3910138, -0.6616585, -0.33151555, -0.34605166]   \n",
      "5999  [-0.12673832, 0.45986632, -1.2649859, -1.6156785]   \n",
      "6000  [-0.2633423, -0.09520748, -0.5510025, -1.0089982]   \n",
      "6001   [-0.32886413, 0.3052361, -0.3104105, 0.70865434]   \n",
      "\n",
      "                                               lep_phi  \\\n",
      "0       [0.7029823, -2.2053957, 1.3741633, -2.1551423]   \n",
      "1        [0.48257595, 2.713796, -0.0756832, -2.914327]   \n",
      "2     [0.41842952, 0.5742508, -1.6347778, -0.86829907]   \n",
      "3        [0.2318962, 0.2702604, -2.7594438, -2.169782]   \n",
      "4     [1.7385013, -0.6868962, 1.2587404, -0.047842063]   \n",
      "...                                                ...   \n",
      "5997   [-2.807858, 0.90611887, 2.8379383, -0.21484704]   \n",
      "5998     [0.18529055, -2.831518, 2.6810172, 0.8471763]   \n",
      "5999   [-1.1280158, -1.1891977, 2.3646243, 0.76848185]   \n",
      "6000    [-1.220482, 2.4584122, 1.7958599, -0.41099158]   \n",
      "6001    [1.3207027, -0.8434307, 2.1009092, -1.9257761]   \n",
      "\n",
      "                                               lep_E      lep_charge  \\\n",
      "0       [108359.95, 122390.38, 106974.04, 200506.75]  [-1, 1, 1, -1]   \n",
      "1         [168410.38, 165077.1, 132571.02, 69295.11]  [-1, -1, 1, 1]   \n",
      "2         [272690.06, 278754.6, 110375.63, 96000.18]  [-1, 1, -1, 1]   \n",
      "3     [536877.94, 255576.81, 126902.664, 103693.086]  [-1, 1, 1, -1]   \n",
      "4       [173023.0, 121747.46, 110436.375, 162303.27]  [-1, -1, 1, 1]   \n",
      "...                                              ...             ...   \n",
      "5997       [199143.27, 160577.64, 77544.6, 65008.71]  [1, 1, -1, -1]   \n",
      "5998     [235403.4, 216848.34, 69661.445, 37789.605]  [-1, 1, -1, 1]   \n",
      "5999    [164548.42, 149696.89, 163591.23, 112955.49]  [-1, 1, 1, -1]   \n",
      "6000     [205282.66, 163227.16, 92274.375, 54022.03]  [1, 1, -1, -1]   \n",
      "6001  [118494.305, 111426.555, 104265.695, 90391.13]  [-1, 1, 1, -1]   \n",
      "\n",
      "              lep_type  mcWeight  scaleFactor_PILEUP  scaleFactor_ELE  \\\n",
      "0     [11, 11, 11, 11]       1.0            0.000000         0.912486   \n",
      "1     [13, 13, 13, 13]       1.0            0.187531         1.000000   \n",
      "2     [11, 11, 13, 13]       1.0            0.351687         0.974110   \n",
      "3     [13, 13, 11, 11]       1.0            0.553627         0.943244   \n",
      "4     [13, 13, 13, 13]       1.0            0.738662         1.000000   \n",
      "...                ...       ...                 ...              ...   \n",
      "5997  [13, 11, 13, 11]       1.0            0.750880         0.952968   \n",
      "5998  [13, 11, 11, 13]       1.0            0.923924         0.971484   \n",
      "5999  [13, 13, 11, 11]       1.0            1.214122         0.941644   \n",
      "6000  [11, 13, 13, 11]       1.0            1.214122         0.944372   \n",
      "6001  [13, 13, 13, 13]       1.0            1.251332         1.000000   \n",
      "\n",
      "      scaleFactor_MUON  scaleFactor_LepTRIGGER  totalWeight       mllll  \\\n",
      "0             1.000000                0.987430     0.000000  493.141761   \n",
      "1             0.974927                0.892317     0.001434  500.021091   \n",
      "2             1.001471                1.005820     0.003033  508.800522   \n",
      "3             0.984470                1.006320     0.004547  532.190133   \n",
      "4             0.976655                0.991733     0.006288  497.713554   \n",
      "...                ...                     ...          ...         ...   \n",
      "5997          0.987298                1.006320     0.006248  483.109754   \n",
      "5998          0.988934                0.991800     0.007737  553.208558   \n",
      "5999          0.984574                1.004930     0.009942  517.039409   \n",
      "6000          1.004956                1.005820     0.010186  488.252497   \n",
      "6001          0.975535                0.611506     0.006561  420.772870   \n",
      "\n",
      "        lep_pt_1    lep_pt_2  \n",
      "0      96.906734   89.499687  \n",
      "1     157.725297  110.612242  \n",
      "2     245.163000   99.088977  \n",
      "3     140.139781  118.392695  \n",
      "4     107.092594   90.354680  \n",
      "...          ...         ...  \n",
      "5997  137.418625   67.225156  \n",
      "5998  176.730609   66.001250  \n",
      "5999  135.152406   85.531500  \n",
      "6000  162.490125   79.844063  \n",
      "6001  106.429906   99.436469  \n",
      "\n",
      "[6002 rows x 15 columns]}\n"
     ]
    }
   ],
   "source": [
    "print(data)"
   ]
  },
  {
   "cell_type": "markdown",
   "metadata": {},
   "source": [
    "## Optimisation\n",
    "\n",
    "Here we define histograms for the variables that we'll look to optimise"
   ]
  },
  {
   "cell_type": "code",
   "execution_count": 17,
   "metadata": {},
   "outputs": [],
   "source": [
    "mllll = { # dictionary containing plotting parameters for the lep_pt_2 histogram\n",
    "    # change plotting parameters\n",
    "    'bin_width':5, # width of each histogram bin\n",
    "    'num_bins':20, # number of histogram bins\n",
    "    'xrange_min':130, # minimum on x-axis\n",
    "    'xlabel':r'4-lepton invariant mass $\\mathrm{m_{4l}}$ [GeV]', # x-axis label\n",
    "}\n",
    "\n",
    "lep_pt_1 = { # dictionary containing plotting parameters for the lep_pt_1 histogram\n",
    "    # change plotting parameters\n",
    "    'bin_width':1, # width of each histogram bin\n",
    "    'num_bins':28, # number of histogram bins\n",
    "    'xrange_min':7, # minimum on x-axis\n",
    "    'xlabel':r'$lep\\_pt$[1] [GeV]', # x-axis label\n",
    "}\n",
    "\n",
    "SoverB_hist_dict = {'mllll':mllll, 'lep_pt_1':lep_pt_1} \n",
    "# add a histogram here if you want it plotted"
   ]
  },
  {
   "cell_type": "markdown",
   "metadata": {},
   "source": [
    "Here we define a function to illustrate the optimum cut value on individual variables, based on signal to background ratio."
   ]
  },
  {
   "cell_type": "code",
   "execution_count": 18,
   "metadata": {},
   "outputs": [],
   "source": [
    "def plot_SoverB(data):\n",
    "    \n",
    "    signal = 'Graviton' # which sample is the signal\n",
    "\n",
    "    # *******************\n",
    "    # general definitions (shouldn't need to change)\n",
    "\n",
    "    for x_variable,hist in SoverB_hist_dict.items(): # access the dictionary of histograms defined in the cell above\n",
    "\n",
    "        h_bin_width = hist['bin_width'] # get the bin width defined in the cell above\n",
    "        h_num_bins = hist['num_bins'] # get the number of bins defined in the cell above\n",
    "        h_xrange_min = hist['xrange_min'] # get the x-range minimum defined in the cell above\n",
    "        h_xlabel = hist['xlabel'] # get the x-axis label defined in the cell above\n",
    "    \n",
    "        bin_edges = [ h_xrange_min + x*h_bin_width for x in range(h_num_bins+1) ] # bin limits\n",
    "        bin_centres = [ h_xrange_min+h_bin_width/2 + x*h_bin_width for x in range(h_num_bins) ] # bin centres\n",
    "        \n",
    "        signal_x = data[signal][x_variable] # histogram the signal\n",
    "    \n",
    "        mc_x = [] # define list to hold the Monte Carlo histogram entries\n",
    "\n",
    "        for s in samples: # loop over samples\n",
    "            if s not in ['data', signal]: # if not data nor signal\n",
    "                mc_x = [*mc_x, *data[s][x_variable] ] # append to the list of Monte Carlo histogram entries\n",
    "\n",
    "    \n",
    "    \n",
    "        # *************\n",
    "        # Signal and background distributions\n",
    "        # *************\n",
    "        distributions_axes = plt.gca() # get current axes\n",
    " \n",
    "        mc_heights = distributions_axes.hist(mc_x, bins=bin_edges, color='red', \n",
    "                                             label='Total background',\n",
    "                                             histtype='step', # lineplot that's unfilled\n",
    "                                             density=True ) # normalize to form probability density\n",
    "        signal_heights = distributions_axes.hist(signal_x, bins=bin_edges, color='blue',\n",
    "                                                 label=signal, \n",
    "                                                 histtype='step', # lineplot that's unfilled\n",
    "                                                 density=True, # normalize to form probability density\n",
    "                                                 linestyle='--' ) # dashed line\n",
    "        \n",
    "        distributions_axes.set_xlim( left=bin_edges[0], right=bin_edges[-1] ) # x-limits of the distributions axes\n",
    "        distributions_axes.set_ylabel('Arbitrary units' ) # y-axis label for distributions axes\n",
    "        distributions_axes.set_ylim( top=max(signal_heights[0])*1.3 ) # set y-axis limits\n",
    "        plt.title('Signal and background '+x_variable+' distributions') # add title\n",
    "        distributions_axes.legend() # draw the legend\n",
    "        distributions_axes.set_xlabel( h_xlabel ) # x-axis label\n",
    "        \n",
    "        # Add text 'ATLAS Open Data' on plot\n",
    "        plt.text(0.05, # x\n",
    "                 0.93, # y\n",
    "                 'ATLAS Open Data', # text\n",
    "                 transform=distributions_axes.transAxes, # coordinate system used is that of distributions_axes\n",
    "                 fontsize=13 ) \n",
    "        # Add text 'for education' on plot\n",
    "        plt.text(0.05, # x\n",
    "                 0.88, # y\n",
    "                 'for education', # text\n",
    "                 transform=distributions_axes.transAxes, # coordinate system used is that of distributions_axes\n",
    "                 style='italic',\n",
    "                 fontsize=8 )  \n",
    "        plt.savefig('plots/Graviton_BDT/Graviton-'+x_variable+'-distribution.pdf')\n",
    "        plt.show() # show the Signal and background distributions\n",
    "    \n",
    "    \n",
    "        # *************\n",
    "        # Signal to background ratio\n",
    "        # *************\n",
    "        plt.figure() # start new figure\n",
    "        SoverB = [] # list to hold S/B values\n",
    "        for cut_value in bin_edges: # loop over bins\n",
    "            signal_weights_passing_cut = sum(data[signal][data[signal][x_variable]>cut_value].totalWeight)\n",
    "            background_weights_passing_cut = 0 # start counter for background weights passing cut\n",
    "            for s in samples: # loop over samples\n",
    "                if s not in ['data', signal]: # if not data nor signal\n",
    "                    background_weights_passing_cut += sum(data[s][data[s][x_variable]>cut_value].totalWeight)\n",
    "            if background_weights_passing_cut!=0: # some background passes cut\n",
    "                SoverB_value = signal_weights_passing_cut/background_weights_passing_cut\n",
    "                SoverB_percent = 100*SoverB_value # multiply by 100 for percentage\n",
    "                SoverB.append(SoverB_percent) # append to list of S/B values\n",
    "        \n",
    "        SoverB_axes = plt.gca() # get current axes\n",
    "        SoverB_axes.plot( bin_edges[:len(SoverB)], SoverB ) # plot the data points\n",
    "        SoverB_axes.set_xlim( left=bin_edges[0], right=bin_edges[-1] ) # set the x-limit of the main axes\n",
    "        SoverB_axes.set_ylabel( 'S/B (%)' ) # write y-axis label for main axes\n",
    "        plt.title('Signal to background ratio for different '+x_variable+' cut values', family='sans-serif')\n",
    "        SoverB_axes.set_xlabel( h_xlabel ) # x-axis label \n",
    "        plt.savefig('plots/Graviton_BDT/Graviton-'+x_variable+'-SoverB.pdf')\n",
    "        plt.show() # show S/B plot\n",
    "    \n",
    "    return"
   ]
  },
  {
   "cell_type": "markdown",
   "metadata": {},
   "source": [
    "Here we call our function to illustrate the optimum cut value on individual variables, based on <span style=\"color:blue\">signal</span> to <span style=\"color:red\">background</span> ratio.\n",
    "\n",
    "We're not doing any Machine Learning yet! We're looking at the variables we'll later use for Machine Learning.\n",
    "\n",
    "Let's talk through the lep_pt_2 plots.\n",
    "1. Imagine placing a cut at 7 GeV in the distributions of <span style=\"color:blue\">signal</span> and <span style=\"color:red\">background</span> (1st plot). This means keeping all events above 7 GeV in the <span style=\"color:blue\">signal</span> and <span style=\"color:red\">background</span> histograms. \n",
    "2. We then take the ratio of the number of <span style=\"color:blue\">signal</span> events that pass this cut, to the number of <span style=\"color:red\">background</span> events that pass this cut. This gives us a starting value for S/B (2nd plot). \n",
    "3. We then increase this cut value to 8 GeV, 9 GeV, 10 GeV, 11 GeV, 12 GeV. Cuts at these values are throwing away more <span style=\"color:red\">background</span> than <span style=\"color:blue\">signal</span>, so S/B increases. \n",
    "4. There comes a point around 13 GeV where we start throwing away too much <span style=\"color:blue\">signal</span>, thus S/B starts to decrease. \n",
    "5. Our goal is to find the maximum in S/B, and place the cut there.\n",
    "\n",
    "The same logic applies to lep_pt_1."
   ]
  },
  {
   "cell_type": "code",
   "execution_count": 19,
   "metadata": {},
   "outputs": [
    {
     "data": {
      "image/png": "[encoded data removed]",
      "text/plain": [
       "<Figure size 432x288 with 1 Axes>"
      ]
     },
     "metadata": {
      "needs_background": "light"
     },
     "output_type": "display_data"
    },
    {
     "data": {
      "image/png": "[encoded data removed]",
      "text/plain": [
       "<Figure size 432x288 with 1 Axes>"
      ]
     },
     "metadata": {
      "needs_background": "light"
     },
     "output_type": "display_data"
    },
    {
     "data": {
      "image/png": "[encoded data removed]",
      "text/plain": [
       "<Figure size 432x288 with 1 Axes>"
      ]
     },
     "metadata": {
      "needs_background": "light"
     },
     "output_type": "display_data"
    },
    {
     "data": {
      "image/png": "[encoded data removed]",
      "text/plain": [
       "<Figure size 432x288 with 1 Axes>"
      ]
     },
     "metadata": {
      "needs_background": "light"
     },
     "output_type": "display_data"
    }
   ],
   "source": [
    "plot_SoverB(data)"
   ]
  },
  {
   "cell_type": "markdown",
   "metadata": {},
   "source": [
    "## Boosted Decision Tree (BDT)\n",
    "\n",
    "Choose variables for use in the BDT"
   ]
  },
  {
   "cell_type": "code",
   "execution_count": 20,
   "metadata": {},
   "outputs": [
    {
     "data": {
      "text/plain": [
       "{'data':           mllll    lep_pt_1\n",
       " 0    649.271931  138.846672\n",
       " 1     87.907098   37.290766\n",
       " 2    344.775936  127.539969\n",
       " 3    326.583790   82.894797\n",
       " 4    107.422585   42.791816\n",
       " ..          ...         ...\n",
       " 502  209.585334   51.708449\n",
       " 503  121.270402   25.231277\n",
       " 504  149.033446   39.838145\n",
       " 505  318.595413  113.360602\n",
       " 506  305.914725   50.751836\n",
       " \n",
       " [507 rows x 2 columns],\n",
       " '$Z,t\\\\bar{t}$':           mllll   lep_pt_1\n",
       " 0    123.778564  37.666000\n",
       " 1    162.560351  43.458098\n",
       " 2    219.564061  30.980805\n",
       " 3    157.108745  17.793098\n",
       " 4    106.592748  32.687891\n",
       " ..          ...        ...\n",
       " 829  221.392648  71.749195\n",
       " 830   89.324171  15.723056\n",
       " 831  271.143367  81.012563\n",
       " 832  251.470387  54.549004\n",
       " 833  191.160258  44.278621\n",
       " \n",
       " [834 rows x 2 columns],\n",
       " '$t\\\\bar{t}V$':             mllll    lep_pt_1\n",
       " 0      327.971895   45.836844\n",
       " 1      284.315799   60.211449\n",
       " 2      164.165964   39.748355\n",
       " 3      348.362722   77.523062\n",
       " 4      253.838232   50.922887\n",
       " ...           ...         ...\n",
       " 25097  435.042239  108.879922\n",
       " 25098  424.582426   87.507437\n",
       " 25099  174.487964   52.209496\n",
       " 25100  158.962202   35.888914\n",
       " 25101  438.986388   91.302437\n",
       " \n",
       " [25102 rows x 2 columns],\n",
       " 'ZZ':              mllll    lep_pt_1\n",
       " 0       229.654277   61.677957\n",
       " 1       132.688869   41.498750\n",
       " 2       296.506040   78.250461\n",
       " 3       101.265195   26.851668\n",
       " 4       623.674832   98.566398\n",
       " ...            ...         ...\n",
       " 523952  270.743968   51.921211\n",
       " 523953  251.805631   48.862410\n",
       " 523954  317.328837  102.871875\n",
       " 523955  148.304865   31.902018\n",
       " 523956  113.324107   49.681914\n",
       " \n",
       " [523957 rows x 2 columns],\n",
       " 'Graviton':            mllll    lep_pt_1\n",
       " 0     493.141761   96.906734\n",
       " 1     500.021091  157.725297\n",
       " 2     508.800522  245.163000\n",
       " 3     532.190133  140.139781\n",
       " 4     497.713554  107.092594\n",
       " ...          ...         ...\n",
       " 5997  483.109754  137.418625\n",
       " 5998  553.208558  176.730609\n",
       " 5999  517.039409  135.152406\n",
       " 6000  488.252497  162.490125\n",
       " 6001  420.772870  106.429906\n",
       " \n",
       " [6002 rows x 2 columns]}"
      ]
     },
     "execution_count": 20,
     "metadata": {},
     "output_type": "execute_result"
    }
   ],
   "source": [
    "data_for_BDT = {} # define empty dictionary to hold dataframes that will be used to train the BDT\n",
    "BDT_inputs = ['mllll', 'lep_pt_1'] # list of features for BDT\n",
    "for key in data: # loop over the different keys in the dictionary of dataframes\n",
    "    data_for_BDT[key] = data[key][BDT_inputs].copy()\n",
    "data_for_BDT"
   ]
  },
  {
   "cell_type": "markdown",
   "metadata": {},
   "source": [
    " Organise data ready for the BDT"
   ]
  },
  {
   "cell_type": "code",
   "execution_count": 21,
   "metadata": {},
   "outputs": [],
   "source": [
    "# for sklearn data is usually organised                                                                                                                                           \n",
    "# into one 2D array of shape (n_samples x n_features)                                                                                                                             \n",
    "# containing all the data and one array of categories                                                                                                                             \n",
    "# of length n_samples  \n",
    "\n",
    "all_MC = [] # define empty list that will contain all features for the MC\n",
    "for key in data: # loop over the different keys in the dictionary of dataframes\n",
    "    if key!='data': # only MC should pass this\n",
    "        all_MC.append(data_for_BDT[key]) # append the MC dataframe to the list containing all MC features\n",
    "X = np.concatenate(all_MC) # concatenate the list of MC dataframes into a single 2D array of features, called X\n",
    "\n",
    "all_y = [] # define empty list that will contain labels whether an event in signal or background\n",
    "for key in data: # loop over the different keys in the dictionary of dataframes\n",
    "    if key!='Graviton' and key!='data': # only background MC should pass this\n",
    "        all_y.append(np.zeros(data_for_BDT[key].shape[0])) # background events are labelled with 0\n",
    "all_y.append(np.ones(data_for_BDT['Graviton'].shape[0])) # signal events are labelled with 1\n",
    "y = np.concatenate(all_y) # concatenate the list of lables into a single 1D array of labels, called y"
   ]
  },
  {
   "cell_type": "markdown",
   "metadata": {},
   "source": [
    "### The Training and Testing split\n",
    "One of the first things to do is split your data into a training and testing set. This will split your data into train-test sets: 67%-33%. It will also shuffle entries so you will not get the first 67% of <span style=\"color:orange\">X</span> for training and the last 33% for testing. This is particularly important in cases where you load all <span style=\"color:blue\">signal</span> events first and then the <span style=\"color:red\">background</span> events.\n",
    "\n",
    "Here we split our data into two independent samples. The split is to create a training and testing set. The first will be used for training the classifier and the second to evaluate its performance.\n",
    "\n",
    "We don't want to test on events that we used to train on, this prevents overfitting to some subset of data so the network would be good for the test data but much worse at any *new* data it sees."
   ]
  },
  {
   "cell_type": "code",
   "execution_count": 22,
   "metadata": {},
   "outputs": [],
   "source": [
    "from sklearn.model_selection import train_test_split\n",
    "\n",
    "# make train and test sets\n",
    "X_train,X_test, y_train,y_test = train_test_split(X, y, test_size=0.5, random_state=492 )"
   ]
  },
  {
   "cell_type": "markdown",
   "metadata": {},
   "source": [
    "### Training Decision Trees\n",
    "We'll use SciKit Learn (sklearn) in this tutorial. Other possible tools include keras and pytorch. \n",
    "\n",
    "Here we set several hyper-parameters to non default values.\n",
    "\n",
    "After instantiating our <span style=\"color:orange\">AdaBoostClassifier</span>, call the <span style=\"color:orange\">fit()</span> method with the training sample as an argument. This will train the tree, now we are ready to evaluate the performance on the held out testing set."
   ]
  },
  {
   "cell_type": "code",
   "execution_count": 23,
   "metadata": {},
   "outputs": [
    {
     "name": "stdout",
     "output_type": "stream",
     "text": [
      "Time taken to fit BDT: 3.3s\n",
      "AdaBoostClassifier(algorithm='SAMME',\n",
      "                   base_estimator=DecisionTreeClassifier(max_depth=2),\n",
      "                   learning_rate=0.5, n_estimators=12)\n"
     ]
    }
   ],
   "source": [
    "from sklearn.tree import DecisionTreeClassifier\n",
    "from sklearn.ensemble import AdaBoostClassifier\n",
    "\n",
    "dt = DecisionTreeClassifier(max_depth=2) # maximum depth of the tree\n",
    "bdt = AdaBoostClassifier(dt,\n",
    "                        algorithm='SAMME', # SAMME discrete boosting algorithm\n",
    "                        n_estimators=12, # max number of estimators at which boosting is terminated\n",
    "                        learning_rate=0.5) # shrinks the contribution of each classifier by learning_rate\n",
    "\n",
    "start = time.time() # time at start of BDT fit\n",
    "bdt.fit(X_train, y_train) # fit BDT to training set\n",
    "elapsed = time.time() - start # time after fitting BDT\n",
    "print(\"Time taken to fit BDT: \"+str(round(elapsed,1))+\"s\") # print total time taken to fit BDT\n",
    "print(bdt)"
   ]
  },
  {
   "cell_type": "markdown",
   "metadata": {},
   "source": [
    "### Assessing a Classifier's Performance\n",
    "Next let's create a quick report on how well our classifier is doing. It is important to make sure you use samples not seen by the classifier to get an unbiased estimate of its performance."
   ]
  },
  {
   "cell_type": "code",
   "execution_count": 24,
   "metadata": {},
   "outputs": [
    {
     "name": "stdout",
     "output_type": "stream",
     "text": [
      "              precision    recall  f1-score   support\n",
      "\n",
      "  background       0.99      0.99      0.99    274855\n",
      "      signal       0.45      0.52      0.48      3093\n",
      "\n",
      "    accuracy                           0.99    277948\n",
      "   macro avg       0.72      0.76      0.74    277948\n",
      "weighted avg       0.99      0.99      0.99    277948\n",
      "\n",
      "Area under ROC curve for test data: 0.9735\n"
     ]
    },
    {
     "data": {
      "text/plain": [
       "array([0., 0., 0., ..., 0., 0., 0.])"
      ]
     },
     "execution_count": 24,
     "metadata": {},
     "output_type": "execute_result"
    }
   ],
   "source": [
    "from sklearn.metrics import classification_report, roc_auc_score, f1_score\n",
    "\n",
    "y_predicted = bdt.predict(X_test) # get predicted y for test set\n",
    "#sklearn.metrics.f1_score(y_test, y_pred, *, labels=None, pos_label=1, average='binary', sample_weight=None, zero_division='warn')\n",
    "#f1_score(y_test, y_predicted, zero_division=1)\n",
    "        \n",
    "print (classification_report(y_test, y_predicted,\n",
    "                            target_names=[\"background\", \"signal\"]))\n",
    "print (\"Area under ROC curve for test data: %.4f\"%(roc_auc_score(y_test,\n",
    "                                                    bdt.decision_function(X_test))) )\n",
    "y_predicted"
   ]
  },
  {
   "cell_type": "code",
   "execution_count": 25,
   "metadata": {},
   "outputs": [
    {
     "name": "stdout",
     "output_type": "stream",
     "text": [
      "              precision    recall  f1-score   support\n",
      "\n",
      "  background       1.00      0.99      0.99    275038\n",
      "      signal       0.45      0.54      0.49      2909\n",
      "\n",
      "    accuracy                           0.99    277947\n",
      "   macro avg       0.72      0.77      0.74    277947\n",
      "weighted avg       0.99      0.99      0.99    277947\n",
      "\n",
      "Area under ROC curve for training data: 0.9755\n"
     ]
    }
   ],
   "source": [
    "y_predicted = bdt.predict(X_train) # get predicted y for train set\n",
    "print (classification_report(y_train, y_predicted,\n",
    "                            target_names=[\"background\", \"signal\"]))\n",
    "print (\"Area under ROC curve for training data: %.4f\"%(roc_auc_score(y_train,\n",
    "                                                    bdt.decision_function(X_train))))"
   ]
  },
  {
   "cell_type": "markdown",
   "metadata": {},
   "source": [
    "### Receiver Operarting Characteristic (ROC) curve for BDT\n",
    "Another useful plot to judge the performance of a classifier is to look at the ROC curve directly."
   ]
  },
  {
   "cell_type": "code",
   "execution_count": 26,
   "metadata": {},
   "outputs": [
    {
     "data": {
      "image/png": "[encoded data removed]",
      "text/plain": [
       "<Figure size 432x288 with 1 Axes>"
      ]
     },
     "metadata": {
      "needs_background": "light"
     },
     "output_type": "display_data"
    },
    {
     "data": {
      "image/png": "[encoded data removed]",
      "text/plain": [
       "<Figure size 432x288 with 1 Axes>"
      ]
     },
     "metadata": {
      "needs_background": "light"
     },
     "output_type": "display_data"
    }
   ],
   "source": [
    "# we first plot the Neural Network output\n",
    "signal_decisions = bdt.decision_function(X[y>0.5]).ravel() # get probabilities on signal\n",
    "background_decisions = bdt.decision_function(X[y<0.5]).ravel() # get decisions on background\n",
    "\n",
    "plt.hist(background_decisions, color='red', label='background', \n",
    "         histtype='step', # lineplot that's unfilled\n",
    "         density=True ) # normalize to form a probability density\n",
    "plt.hist(signal_decisions, color='blue', label='signal', \n",
    "         histtype='step', # lineplot that's unfilled\n",
    "         density=True, # normalize to form a probability density\n",
    "         linestyle='--' ) # dashed line\n",
    "plt.xlabel('BDT output') # add x-axis label\n",
    "plt.ylabel('Arbitrary units') # add y-axis label\n",
    "plt.legend() # add legend\n",
    "\n",
    "\n",
    "# we then plot the ROC\n",
    "plt.figure() # make new figure \n",
    "\n",
    "from sklearn.metrics import roc_curve, auc\n",
    "\n",
    "decisions = bdt.decision_function(X_test).ravel() # get probabilities on test set\n",
    "\n",
    "# Compute ROC curve and area under the curve\n",
    "fpr, tpr, _ = roc_curve(y_test, # actual\n",
    "                        decisions ) # predicted\n",
    "\n",
    "# Compute area under the curve for training set\n",
    "roc_auc = auc(fpr, # false positive rate \n",
    "              tpr) # true positive rate\n",
    "\n",
    "plt.plot(fpr, tpr, label='ROC (area = %0.2f)'%(roc_auc)) # plot test ROC curve\n",
    "plt.plot([0, 1], # x from 0 to 1\n",
    "         [0, 1], # y from 0 to 1\n",
    "         '--', # dashed line\n",
    "         color='grey', label='Luck')\n",
    "\n",
    "plt.xlabel('False Positive Rate') # x-axis label\n",
    "plt.ylabel('True Positive Rate') # y-axis label\n",
    "plt.title('Receiver operating characteristic (ROC) curve') # title\n",
    "plt.legend() # add legend\n",
    "plt.grid() # add grid\n",
    "plt.savefig('plots/Graviton_BDT/Graviton-ROC-curve.pdf')"
   ]
  },
  {
   "cell_type": "markdown",
   "metadata": {},
   "source": [
    "### BDT Overtraining Check\n",
    "Comparing the BDT's output distribution for the training and testing set is a popular way in HEP to check for overtraining. The <span style=\"color:orange\">compare_train_test()</span> method will plot the shape of the BDT's decision function for each class, as well as overlaying it with the decision function in the training set.\n",
    "\n",
    "There are techniques to prevent overtraining."
   ]
  },
  {
   "cell_type": "code",
   "execution_count": 27,
   "metadata": {},
   "outputs": [
    {
     "data": {
      "image/png": "[encoded data removed]",
      "text/plain": [
       "<Figure size 432x288 with 1 Axes>"
      ]
     },
     "metadata": {
      "needs_background": "light"
     },
     "output_type": "display_data"
    }
   ],
   "source": [
    "def compare_train_test(clf, X_train, y_train, X_test, y_test):\n",
    "    decisions = [] # list to hold decisions of classifier\n",
    "    for X,y in ((X_train, y_train), (X_test, y_test)): # train and test\n",
    "        d1 = clf.decision_function(X[y<0.5]).ravel() # background\n",
    "        d2 = clf.decision_function(X[y>0.5]).ravel() # signal\n",
    "        decisions += [d1, d2] # add to list of classifier decision\n",
    "    \n",
    "    highest_decision = max(np.max(d) for d in decisions) # get maximum score\n",
    "    bin_edges = [] # list to hold bin edges\n",
    "    bin_edge = -1.1 # start counter for bin_edges\n",
    "    while bin_edge < highest_decision: # up to highest score\n",
    "        bin_edge += 0.1 # increment\n",
    "        bin_edges.append(bin_edge)\n",
    "    \n",
    "    plt.hist(decisions[0], # background in train set\n",
    "             bins=bin_edges, # lower and upper range of the bins\n",
    "             density=True, # area under the histogram will sum to 1\n",
    "             histtype='stepfilled', # lineplot that's filled\n",
    "             color='red', label='B (train)', # Background (train)\n",
    "            alpha=0.5 ) # half transparency\n",
    "    plt.hist(decisions[1], # background in train set\n",
    "             bins=bin_edges, # lower and upper range of the bins\n",
    "             density=True, # area under the histogram will sum to 1\n",
    "             histtype='stepfilled', # lineplot that's filled\n",
    "             color='blue', label='S (train)', # Signal (train)\n",
    "            alpha=0.5 ) # half transparency\n",
    "\n",
    "    hist_background, bin_edges = np.histogram(decisions[2], # background test\n",
    "                                              bins=bin_edges, # number of bins in function definition\n",
    "                                              density=True ) # area under the histogram will sum to 1\n",
    "    \n",
    "    scale = len(decisions[2]) / sum(hist_background) # between raw and normalised\n",
    "    err_background = np.sqrt(hist_background * scale) / scale # error on test background\n",
    "\n",
    "    width = 0.1 # histogram bin width\n",
    "    center = (bin_edges[:-1] + bin_edges[1:]) / 2 # bin centres\n",
    "    \n",
    "    plt.errorbar(x=center, y=hist_background, yerr=err_background, fmt='o', # circles\n",
    "                 c='red', label='B (test)' ) # Background (test)\n",
    "    \n",
    "    hist_signal, bin_edges = np.histogram(decisions[3], # siganl test\n",
    "                                          bins=bin_edges, # number of bins in function definition\n",
    "                                          density=True ) # area under the histogram will sum to 1\n",
    "    scale = len(decisions[3]) / sum(hist_signal) # between raw and normalised\n",
    "    err_signal = np.sqrt(hist_signal * scale) / scale # error on test background\n",
    "    \n",
    "    plt.errorbar(x=center, y=hist_signal, yerr=err_signal, fmt='o', # circles\n",
    "                 c='blue', label='S (test)' ) # Signal (test)\n",
    "    \n",
    "    plt.xlabel(\"BDT output\") # write x-axis label\n",
    "    plt.ylabel(\"Arbitrary units\") # write y-axis label\n",
    "    plt.title(\"Comparison between training and testing samples\")\n",
    "    plt.legend() # add legend\n",
    "    plt.savefig('plots/Graviton_BDT/Graviton-BDT-comparison.pdf')\n",
    "    \n",
    "compare_train_test(bdt, X_train, y_train, X_test, y_test) # call compare_train_test"
   ]
  },
  {
   "cell_type": "markdown",
   "metadata": {},
   "source": [
    "### BDT Optimisation\n",
    "\n",
    "Here we get the BDT's decision function for every event that was processed at the begininning (so could be data, <span style=\"color:blue\">signal</span>, <span style=\"color:red\">background</span>...). The higher the decision function, the more the BDT thinks that event looks like <span style=\"color:blue\">signal</span>."
   ]
  },
  {
   "cell_type": "code",
   "execution_count": 28,
   "metadata": {},
   "outputs": [
    {
     "data": {
      "text/plain": [
       "array([-1.        , -1.        , -1.        , ..., -0.06239956,\n",
       "        0.01182942, -0.62368954])"
      ]
     },
     "execution_count": 28,
     "metadata": {},
     "output_type": "execute_result"
    }
   ],
   "source": [
    "# X only has only the MC features\n",
    "y_predicted = bdt.decision_function(X) \n",
    "y_predicted"
   ]
  },
  {
   "cell_type": "code",
   "execution_count": 29,
   "metadata": {},
   "outputs": [
    {
     "name": "stdout",
     "output_type": "stream",
     "text": [
      "0     -1.000000\n",
      "1     -1.000000\n",
      "2     -1.000000\n",
      "3     -1.000000\n",
      "4     -1.000000\n",
      "         ...   \n",
      "829   -0.952557\n",
      "830   -1.000000\n",
      "831   -0.709948\n",
      "832   -0.964440\n",
      "833   -1.000000\n",
      "Name: BDT_output, Length: 834, dtype: float64\n",
      "0       -0.839513\n",
      "1       -0.890211\n",
      "2       -1.000000\n",
      "3       -0.623690\n",
      "4       -0.964440\n",
      "           ...   \n",
      "25097   -0.623690\n",
      "25098   -0.623690\n",
      "25099   -1.000000\n",
      "25100   -1.000000\n",
      "25101   -0.623690\n",
      "Name: BDT_output, Length: 25102, dtype: float64\n",
      "0        -1.000000\n",
      "1        -1.000000\n",
      "2        -0.709948\n",
      "3        -1.000000\n",
      "4        -0.697919\n",
      "            ...   \n",
      "523952   -0.890211\n",
      "523953   -0.964440\n",
      "523954   -0.623690\n",
      "523955   -1.000000\n",
      "523956   -1.000000\n",
      "Name: BDT_output, Length: 523957, dtype: float64\n",
      "0      -0.247122\n",
      "1       0.011829\n",
      "2       0.011829\n",
      "3      -0.062400\n",
      "4       0.011829\n",
      "          ...   \n",
      "5997    0.011829\n",
      "5998   -0.438967\n",
      "5999   -0.062400\n",
      "6000    0.011829\n",
      "6001   -0.623690\n",
      "Name: BDT_output, Length: 6002, dtype: float64\n"
     ]
    }
   ],
   "source": [
    "cumulative_events = 0 # start counter for total number of events for which output is saved\n",
    "for key in data: # loop over samples\n",
    "    if(key != 'data'):\n",
    "        data[key]['BDT_output'] = y_predicted[cumulative_events:cumulative_events+len(data[key])]\n",
    "        cumulative_events += len(data[key]) # increment counter for total number of events\n",
    "        print(data[key]['BDT_output']) # print the dataframe column BDT_output"
   ]
  },
  {
   "cell_type": "code",
   "execution_count": 30,
   "metadata": {},
   "outputs": [
    {
     "name": "stdout",
     "output_type": "stream",
     "text": [
      "The max and min value of the BDT output for the y_predicted is 0.11 and -1.10, 13.00 respectively\n"
     ]
    }
   ],
   "source": [
    "bin_width = 0.1\n",
    "max_BDT = y_predicted.max()+bin_width\n",
    "min_BDT = y_predicted.min()-bin_width\n",
    "num_bins = np.ceil((max_BDT - min_BDT)/bin_width)\n",
    "num_bins = num_bins.astype(int)\n",
    "print(\"The max and min value of the BDT output for the y_predicted is {:.2f} and {:.2f}, {:.2f} respectively\".format(\n",
    "    max_BDT, min_BDT, num_bins))"
   ]
  },
  {
   "cell_type": "code",
   "execution_count": 31,
   "metadata": {},
   "outputs": [],
   "source": [
    "BDT_output = { # dictionary containing plotting parameters for the mllll histogram\n",
    "    # change plotting parameters\n",
    "    'bin_width':bin_width, # width of each histogram bin\n",
    "    'num_bins':num_bins, # number of histogram bins\n",
    "    'xrange_min':min_BDT, # minimum on x-axis\n",
    "    'xlabel':'BDT output', # x-axis label\n",
    "}\n",
    "\n",
    "SoverB_hist_dict = {'BDT_output':BDT_output}"
   ]
  },
  {
   "cell_type": "code",
   "execution_count": 32,
   "metadata": {},
   "outputs": [
    {
     "data": {
      "image/png": "[encoded data removed]",
      "text/plain": [
       "<Figure size 432x288 with 1 Axes>"
      ]
     },
     "metadata": {
      "needs_background": "light"
     },
     "output_type": "display_data"
    },
    {
     "data": {
      "image/png": "[encoded data removed]",
      "text/plain": [
       "<Figure size 432x288 with 1 Axes>"
      ]
     },
     "metadata": {
      "needs_background": "light"
     },
     "output_type": "display_data"
    }
   ],
   "source": [
    "plot_SoverB(data)"
   ]
  },
  {
   "cell_type": "code",
   "execution_count": 33,
   "metadata": {},
   "outputs": [],
   "source": [
    "data_BDT = {}\n",
    "data_BDT = data.copy()\n",
    "del data_BDT['data']"
   ]
  },
  {
   "cell_type": "code",
   "execution_count": 34,
   "metadata": {},
   "outputs": [],
   "source": [
    "for key in data_BDT: # loop over samples\n",
    "    if key!='data':\n",
    "        fail_BDT_ouput = data_BDT[key][data_BDT[key]['BDT_output'] <= -0.6].index\n",
    "        data_BDT[key].drop(fail_BDT_ouput,inplace=True) # drop the events that don't fulfill with sum_dphi < 3.5 requirement\n",
    "        data_BDT[key] = data_BDT[key].reset_index(drop=True)"
   ]
  },
  {
   "cell_type": "code",
   "execution_count": 35,
   "metadata": {},
   "outputs": [],
   "source": [
    "def plot_data_opt(data):\n",
    "\n",
    "    xmin = 130 # GeV\n",
    "    xmax = 1230 # GeV\n",
    "    step_size = 55 # GeV\n",
    "\n",
    "    bin_edges = np.arange(start=xmin, # The interval includes this value\n",
    "                     stop=xmax+step_size, # The interval doesn't include this value\n",
    "                     step=step_size ) # Spacing between values\n",
    "    bin_centres = np.arange(start=xmin+step_size/2, # The interval includes this value\n",
    "                            stop=xmax+step_size/2, # The interval doesn't include this value\n",
    "                            step=step_size ) # Spacing between values\n",
    "\n",
    "    signal_x = data['Graviton']['mllll'] # histogram the signal\n",
    "    signal_weights = data['Graviton'].totalWeight # get the weights of the signal events\n",
    "    signal_color = samples['Graviton']['color'] # get the colour for the signal bar\n",
    "\n",
    "    mc_x = [] # define list to hold the Monte Carlo histogram entries\n",
    "    mc_weights = [] # define list to hold the Monte Carlo weights\n",
    "    mc_colors = [] # define list to hold the colors of the Monte Carlo bars\n",
    "    mc_labels = [] # define list to hold the legend labels of the Monte Carlo bars\n",
    "\n",
    "    for s in samples: # loop over samples\n",
    "        if s not in ['data', 'Graviton']: # if not data nor signal\n",
    "            mc_x.append( data[s]['mllll'] ) # append to the list of Monte Carlo histogram entries\n",
    "            mc_weights.append( data[s].totalWeight ) # append to the list of Monte Carlo weights\n",
    "            mc_colors.append( samples[s]['color'] ) # append to the list of Monte Carlo bar colors\n",
    "            mc_labels.append( s ) # append to the list of Monte Carlo legend labels\n",
    "    \n",
    "\n",
    "\n",
    "    # *************\n",
    "    # Main plot \n",
    "    # *************\n",
    "    main_axes = plt.gca() # get current axes\n",
    "        \n",
    "    # plot the Monte Carlo bars\n",
    "    mc_heights = main_axes.hist(mc_x, bins=bin_edges, \n",
    "                                weights=mc_weights, stacked=True, \n",
    "                                color=mc_colors, label=mc_labels )\n",
    "    \n",
    "    mc_x_tot = mc_heights[0][-1] # stacked background MC y-axis value\n",
    "    \n",
    "    # calculate MC statistical uncertainty: sqrt(sum w^2)\n",
    "    mc_x_err = np.sqrt(np.histogram(np.hstack(mc_x), bins=bin_edges, weights=np.hstack(mc_weights)**2)[0])\n",
    "    \n",
    "    # plot the signal bar\n",
    "    main_axes.hist(signal_x, bins=bin_edges, bottom=mc_x_tot, \n",
    "                   weights=signal_weights, color=signal_color,\n",
    "                   label='Graviton')\n",
    "    \n",
    "    # plot the statistical uncertainty\n",
    "    main_axes.bar(bin_centres, # x\n",
    "                  2*mc_x_err, # heights\n",
    "                  alpha=0.5, # half transparency\n",
    "                  bottom=mc_x_tot-mc_x_err, color='none', \n",
    "                  hatch=\"////\", width=step_size, label='Stat. Unc.' )\n",
    "\n",
    "    # set the x-limit of the main axes\n",
    "    main_axes.set_xlim( left=xmin, right=xmax ) \n",
    "    \n",
    "    # separation of x axis minor ticks\n",
    "    main_axes.xaxis.set_minor_locator( AutoMinorLocator() ) \n",
    "    \n",
    "    # set the axis tick parameters for the main axes\n",
    "    main_axes.tick_params(which='both', # ticks on both x and y axes\n",
    "                          direction='in', # Put ticks inside and outside the axes\n",
    "                          top=True, # draw ticks on the top axis\n",
    "                          right=True ) # draw ticks on right axis\n",
    "    \n",
    "    # x-axis label\n",
    "    main_axes.set_xlabel(r'4-lepton invariant mass $\\mathrm{m_{4l}}$ [GeV]',\n",
    "                        fontsize=13, x=1, horizontalalignment='right' )\n",
    "    \n",
    "    # write y-axis label for main axes\n",
    "    main_axes.set_ylabel('Events / '+str(step_size)+' GeV',\n",
    "                         y=1, horizontalalignment='right') \n",
    "    \n",
    "    # add minor ticks on y-axis for main axes\n",
    "    main_axes.yaxis.set_minor_locator( AutoMinorLocator() ) \n",
    "    \n",
    "    main_axes.set_yscale('log') # set y-scale\n",
    "    smallest_contribution = mc_heights[0][0] # get smallest contribution\n",
    "    smallest_contribution.sort() # sort smallest contribution\n",
    "    bottom = 0.1 # set bottom limit on y-axis\n",
    "    top = 1000 # set top limit on y-axis\n",
    "    main_axes.set_ylim( bottom=bottom, top=top ) # y-axis limits\n",
    "    main_axes.yaxis.set_major_formatter( CustomTicker() ) \n",
    "    locmin = LogLocator(base=10.0, # log base 10\n",
    "                        subs=(0.1,0.2,0.3,0.4,0.5,0.6,0.7,0.8,0.9) ) # minor tick every 0.1 \n",
    "    main_axes.yaxis.set_minor_locator( locmin ) # set minor ticks\n",
    "\n",
    "    # Add text 'ATLAS Open Data' on plot\n",
    "    plt.text(0.05, # x\n",
    "             0.93, # y\n",
    "             'ATLAS Open Data', # text\n",
    "             transform=main_axes.transAxes, # coordinate system used is that of main_axes\n",
    "             fontsize=13 ) \n",
    "    \n",
    "    # Add text 'for education' on plot\n",
    "    plt.text(0.05, # x\n",
    "             0.88, # y\n",
    "             'for education', # text\n",
    "             transform=main_axes.transAxes, # coordinate system used is that of main_axes\n",
    "             style='italic',\n",
    "             fontsize=8 ) \n",
    "    \n",
    "    # Add energy and luminosity\n",
    "    lumi_used = str(round(lumi*fraction,2)) # luminosity to write on the plot\n",
    "    plt.text(0.05, # x\n",
    "             0.82, # y\n",
    "             '$\\sqrt{s}$=13 TeV, '+lumi_used+' fb$^{-1}$', # text\n",
    "             transform=main_axes.transAxes ) # coordinate system used is that of main_axes\n",
    "    \n",
    "    # Add a label for the analysis carried out\n",
    "    plt.text(0.05, # x\n",
    "             0.75, # y\n",
    "             r'$G \\rightarrow ZZ \\rightarrow l^+l^-l^+l^-$', # text \n",
    "             transform=main_axes.transAxes ) # coordinate system used is that of main_axes\n",
    "\n",
    "    # draw the legend\n",
    "    main_axes.legend(ncol=2, # 2 columns\n",
    "                     frameon=False ) # no box around the legend\n",
    "    plt.title(\"Invariant mass for 4 leptons system\")\n",
    "    plt.savefig('plots/Graviton_BDT/Graviton-invariant-mass-optimized.pdf')\n",
    "    \n",
    "    return"
   ]
  },
  {
   "cell_type": "code",
   "execution_count": 36,
   "metadata": {},
   "outputs": [
    {
     "data": {
      "image/png": "[encoded data removed]",
      "text/plain": [
       "<Figure size 432x288 with 1 Axes>"
      ]
     },
     "metadata": {
      "needs_background": "light"
     },
     "output_type": "display_data"
    }
   ],
   "source": [
    "plot_data_opt(data_BDT)"
   ]
  },
  {
   "cell_type": "code",
   "execution_count": null,
   "metadata": {},
   "outputs": [],
   "source": []
  }
 ],
 "metadata": {
  "kernelspec": {
   "display_name": "Python 3",
   "language": "python",
   "name": "python3"
  },
  "language_info": {
   "codemirror_mode": {
    "name": "ipython",
    "version": 3
   },
   "file_extension": ".py",
   "mimetype": "text/x-python",
   "name": "python",
   "nbconvert_exporter": "python",
   "pygments_lexer": "ipython3",
   "version": "3.9.6"
  }
 },
 "nbformat": 4,
 "nbformat_minor": 2
}
