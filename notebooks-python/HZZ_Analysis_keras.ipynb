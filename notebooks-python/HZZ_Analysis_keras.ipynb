{
 "cells": [
  {
   "cell_type": "markdown",
   "id": "8dfaf1a3",
   "metadata": {},
   "source": [
    "<CENTER><img src=\"../images/ATLASOD.gif\" style=\"width:50%\"></CENTER>"
   ]
  },
  {
   "cell_type": "markdown",
   "id": "e3acf3fe",
   "metadata": {},
   "source": [
    "# <CENTER><h1> Analysis of $H \\rightarrow ZZ$ process. Rediscovering the Higgs boson by yourself</h1></CENTER>"
   ]
  },
  {
   "cell_type": "markdown",
   "id": "1d1cd2ba",
   "metadata": {},
   "source": [
    "## Simple pyROOT notebook example\n",
    "In this notebook you can find an easy set of commands that show the basic computing techniques commonly used in high energy  physics (HEP) analysis. It also shows how to create a histogram, fills it, draws it and uses a fit function on it. Moreover it is an introduction to [ROOT](https://root.cern.ch/) too. At the end you will get a plot with the invariant mass of the four leptons system, which represents the invariant mass of the Z boson.</p>\n",
    "\n",
    "The Analysis is implemented by using some useful tools, such as pandas (to storage dataframes), numpy (the numerical library of python), uproot3 (to read root files), matplotlib (to plot our graphics) and math library (an additional library in python that allows you to use numerical functions)."
   ]
  },
  {
   "cell_type": "markdown",
   "id": "580fc0e3",
   "metadata": {},
   "source": [
    "First at all, we should verify that we have installed all need tools to perform our analysis. If we haven't, we can run the next code line:"
   ]
  },
  {
   "cell_type": "code",
   "execution_count": 1,
   "id": "16e04f4c",
   "metadata": {},
   "outputs": [
    {
     "data": {
      "text/plain": [
       "'\\nimport sys\\n!{sys.executable} -m pip install --upgrade --user pip # update the pip package installer\\n!{sys.executable} -m pip install -U numpy pandas uproot3 matplotlib sklearn tensorflow keras --user # install required packages\\n'"
      ]
     },
     "execution_count": 1,
     "metadata": {},
     "output_type": "execute_result"
    }
   ],
   "source": [
    "\"\"\"\n",
    "import sys\n",
    "!{sys.executable} -m pip install --upgrade --user pip # update the pip package installer\n",
    "!{sys.executable} -m pip install -U numpy pandas uproot3 matplotlib sklearn tensorflow keras --user # install required packages\n",
    "\"\"\""
   ]
  },
  {
   "cell_type": "code",
   "execution_count": 2,
   "id": "8526e162",
   "metadata": {},
   "outputs": [
    {
     "data": {
      "text/plain": [
       "'\\nimport sys\\n!{sys.executable} -m pip install --upgrade --user pip # update the pip package installer\\n!{sys.executable} -m pip install -U keras --user # install required packages\\n'"
      ]
     },
     "execution_count": 2,
     "metadata": {},
     "output_type": "execute_result"
    }
   ],
   "source": [
    "\"\"\"\n",
    "import sys\n",
    "!{sys.executable} -m pip install --upgrade --user pip # update the pip package installer\n",
    "!{sys.executable} -m pip install -U keras --user # install required packages\n",
    "\"\"\""
   ]
  },
  {
   "cell_type": "markdown",
   "id": "f352bcd2",
   "metadata": {},
   "source": [
    "Now, we can import the tools that we are going to use (pandas, numpy, matplotlib, etc):"
   ]
  },
  {
   "cell_type": "code",
   "execution_count": 3,
   "id": "2c1e6a5d",
   "metadata": {},
   "outputs": [
    {
     "name": "stderr",
     "output_type": "stream",
     "text": [
      "/cvmfs/sft.cern.ch/lcg/views/LCG_101swan/x86_64-centos7-gcc10-opt/lib/python3.9/site-packages/uproot3/__init__.py:127: FutureWarning: Consider switching from 'uproot3' to 'uproot', since the new interface became the default in 2020.\n",
      "\n",
      "    pip install -U uproot\n",
      "\n",
      "In Python:\n",
      "\n",
      "    >>> import uproot\n",
      "    >>> with uproot.open(...) as file:\n",
      "    ...\n",
      "\n",
      "  warnings.warn(\n",
      "/cvmfs/sft.cern.ch/lcg/views/LCG_101swan/x86_64-centos7-gcc10-opt/lib/python3.9/site-packages/awkward0/__init__.py:12: FutureWarning: Consider switching from 'awkward0' to 'awkward', since the new interface became the default in 2020.\n",
      "\n",
      "    pip install -U awkward\n",
      "\n",
      "In Python:\n",
      "\n",
      "    >>> import awkward as ak\n",
      "    >>> new_style_array = ak.from_awkward0(old_style_array)\n",
      "    >>> old_style_array = ak.to_awkward0(new_style_array)\n",
      "\n",
      "  warnings.warn(\n"
     ]
    }
   ],
   "source": [
    "import pandas as pd # to store data as dataframes\n",
    "import numpy as np # for numerical calculations such as histogramming\n",
    "import math # for mathematical functions such as square root\n",
    "import uproot3 # to read .root files as dataframes\n",
    "import time # to measure time to analyse\n",
    "import matplotlib.pyplot as plt # for plotting\n",
    "from matplotlib.ticker import AutoMinorLocator # for minor ticks\n",
    "import infofile # local file containing info on cross-sections, sums of weights, dataset IDs"
   ]
  },
  {
   "cell_type": "markdown",
   "id": "84b42a8b",
   "metadata": {},
   "source": [
    "The root files which contain the events information is storaged in [4lep folder](https://atlas-opendata.web.cern.ch/atlas-opendata/samples/2020/4lep/). So we are going to define the \"path_file\" variable which contains the url of the folder uploaded in the ATLAS Open Data repository on the cloud. The next code line also defines a variable named \"lumi\", which represents the luminosity and it is equal to 10 $fb^{-1}$. If we want to run the analysis over a fraction of the whole data and MC samples, we can define another variable named \"fraction\", which will be defined equal to 1.0 as default. However, you can change this fraction value and see how this can affect the final result shown in the final plot:"
   ]
  },
  {
   "cell_type": "code",
   "execution_count": 4,
   "id": "c16b3761",
   "metadata": {},
   "outputs": [],
   "source": [
    "lumi = 10 # fb-1 # data_A,data_B,data_C,data_D\n",
    "\n",
    "fraction = 1.0 # reduce this is if you want the code to run quicker\n",
    "                                                                                                                                  \n",
    "#tuple_path = \"Input/4lep/\" ## for local folder, but you have to download all root files used in this analysis \n",
    "tuple_path = \"https://atlas-opendata.web.cern.ch/atlas-opendata/samples/2020/4lep/\" # web address"
   ]
  },
  {
   "cell_type": "markdown",
   "id": "8e872161",
   "metadata": {},
   "source": [
    "Now, we are going to make a list named \"samples\". In this samples list we are going to include data and background samples (including the signal we want to observe). In the next code line we can see all samples that are going to be used in the analysis and to what group they belong. If you want to add more samples, consider modify this code line too. "
   ]
  },
  {
   "cell_type": "code",
   "execution_count": 5,
   "id": "87c96547",
   "metadata": {},
   "outputs": [],
   "source": [
    "samples = {\n",
    "\n",
    "    'data': {\n",
    "        'list' : ['data_A','data_B','data_C','data_D'],\n",
    "    },\n",
    "\n",
    "    r'Background $Z,t\\bar{t}$' : { # Z + ttbar\n",
    "        'list' : ['Zee','Zmumu','ttbar_lep'],\n",
    "        'color' : \"#6b59d3\" # purple\n",
    "    },\n",
    "\n",
    "    r'Background $ZZ^*$' : { # ZZ\n",
    "        'list' : ['llll'],\n",
    "        'color' : \"#ff0000\" # red\n",
    "    },\n",
    "    \n",
    "    \n",
    "    r'Signal ($m_H$ = 125 GeV)' : { # H -> ZZ -> llll\n",
    "        'list' : ['ggH125_ZZ4lep','VBFH125_ZZ4lep','WH125_ZZ4lep','ZH125_ZZ4lep'],\n",
    "        'color' : \"#00cdff\" # light blue\n",
    "    },\n",
    "}"
   ]
  },
  {
   "cell_type": "markdown",
   "id": "efe89b63",
   "metadata": {},
   "source": [
    "The next function named \"get data from files\" returns the events from data and MC samples that passed the selection criteria once we have applied all cuts. First, the function makes a for loop in the \"samples\" list and separates data from background in order to define an adequate path to open the root files. Then, it defines a temporary dataframe in which we save the events passing the criteria selection for each sample. Finally, it adds these temporary dataframes into a dictionary (named \"data\" in the code line) for each sample group and returns this data dictionary with the information of all the events considered in the analysis that passed the criteria selection. At the end, this function gives us the whole events information we need to create our final plot."
   ]
  },
  {
   "cell_type": "code",
   "execution_count": 6,
   "id": "ed613b3a",
   "metadata": {},
   "outputs": [],
   "source": [
    "def get_data_from_files():\n",
    "\n",
    "    data = {} # define empty dictionary to hold dataframes\n",
    "    for s in samples: # loop over samples\n",
    "        print('Processing '+s+' samples') # print which sample\n",
    "        frames = [] # define empty list to hold data\n",
    "        for val in samples[s]['list']: # loop over each file\n",
    "            if s == 'data': prefix = \"Data/\" # Data prefix\n",
    "            else: # MC prefix\n",
    "                prefix = \"MC/mc_\"+str(infofile.infos[val][\"DSID\"])+\".\"\n",
    "            fileString = tuple_path+prefix+val+\".4lep.root\" # file name to open\n",
    "            temp = read_file(fileString,val) # call the function read_file defined below\n",
    "            frames.append(temp) # append dataframe returned from read_file to list of dataframes\n",
    "        data[s] = pd.concat(frames, ignore_index = True) # dictionary entry is concatenated dataframes\n",
    "    \n",
    "    return data # return dictionary of dataframes"
   ]
  },
  {
   "cell_type": "markdown",
   "id": "d07e7e92",
   "metadata": {},
   "source": [
    "The \"calc_weight\" function calculates the total weight for each event taking into account the weight associated with the cross section and the efficiency of the detectors, the scale factors that consider the PILE UP and leptons triggers and the weight given by the algorithms used to create the MC samples. This function is only applied for MC samples and not for data."
   ]
  },
  {
   "cell_type": "code",
   "execution_count": 7,
   "id": "1beb4880",
   "metadata": {},
   "outputs": [],
   "source": [
    "def calc_weight(xsec_weight, mcWeight, scaleFactor_PILEUP,\n",
    "                scaleFactor_ELE, scaleFactor_MUON, \n",
    "                scaleFactor_LepTRIGGER ):\n",
    "    return (xsec_weight*mcWeight*scaleFactor_PILEUP*scaleFactor_ELE*scaleFactor_MUON*scaleFactor_LepTRIGGER)"
   ]
  },
  {
   "cell_type": "markdown",
   "id": "c2d4f14f",
   "metadata": {},
   "source": [
    "Now, we define a function that computes the factor weight due to the information in the infofile.py file. This function uses the event weight due to efficiency of the calorimeters, the sum of weights for MC and the cross section for samples. Of course, the data samples are not needed to be scaled, this only apply for MC samples:"
   ]
  },
  {
   "cell_type": "code",
   "execution_count": 8,
   "id": "6161b7ca",
   "metadata": {},
   "outputs": [],
   "source": [
    "def get_xsec_weight(sample):\n",
    "    info = infofile.infos[sample] # open infofile\n",
    "    xsec_weight = (lumi*1000*info[\"xsec\"])/(info[\"sumw\"]*info[\"red_eff\"]) #*1000 to go from fb-1 to pb-1\n",
    "    return xsec_weight # return cross-section weight"
   ]
  },
  {
   "cell_type": "markdown",
   "id": "def26524",
   "metadata": {},
   "source": [
    "The function that computes the mass of the four lepton system is defined below. It is needed the pT, $\\eta$, $\\phi$ and the energy of each lepton in order to get the invariant mass."
   ]
  },
  {
   "cell_type": "code",
   "execution_count": 9,
   "id": "ea0c51c0",
   "metadata": {},
   "outputs": [],
   "source": [
    "def calc_mllll(lep_pt, lep_eta, lep_phi, lep_E):\n",
    "    # first lepton is [0], 2nd lepton is [1] etc\n",
    "    px_0 = lep_pt[0]*math.cos(lep_phi[0]) # x-component of lepton[0] momentum\n",
    "    py_0 = lep_pt[0]*math.sin(lep_phi[0]) # y-component of lepton[0] momentum\n",
    "    pz_0 = lep_pt[0]*math.sinh(lep_eta[0]) # z-component of lepton[0] momentum\n",
    "    px_1 = lep_pt[1]*math.cos(lep_phi[1]) # x-component of lepton[1] momentum\n",
    "    py_1 = lep_pt[1]*math.sin(lep_phi[1]) # y-component of lepton[1] momentum\n",
    "    pz_1 = lep_pt[1]*math.sinh(lep_eta[1]) # z-component of lepton[1] momentum\n",
    "    px_2 = lep_pt[2]*math.cos(lep_phi[2]) # x-component of lepton[2] momentum\n",
    "    py_2 = lep_pt[2]*math.sin(lep_phi[2]) # y-component of lepton[2] momentum\n",
    "    pz_2 = lep_pt[2]*math.sinh(lep_eta[2]) # z-component of lepton[2] momentum\n",
    "    px_3 = lep_pt[3]*math.cos(lep_phi[3]) # x-component of lepton[3] momentum\n",
    "    py_3 = lep_pt[3]*math.sin(lep_phi[3]) # y-component of lepton[3] momentum\n",
    "    pz_3 = lep_pt[3]*math.sinh(lep_eta[3]) # z-component of lepton[3] momentum    \n",
    "    sumpx = px_0 + px_1 + px_2 + px_3 # x-component of momentum\n",
    "    sumpy = py_0 + py_1 + py_2 + py_3 # y-component of momentum\n",
    "    sumpz = pz_0 + pz_1 + pz_2 + pz_3 # z-component of momentum \n",
    "    sump = math.sqrt(sumpx**2 + sumpy**2 + sumpz**2) # magnitude of momentum \n",
    "    sumE = lep_E[0] + lep_E[1] + lep_E[2] + lep_E[3] # energy of dilepton system\n",
    "    return math.sqrt(sumE**2 - sump**2)/1000 #/1000 to go from MeV to GeV"
   ]
  },
  {
   "cell_type": "markdown",
   "id": "346ded41",
   "metadata": {},
   "source": [
    "## Changing a cut"
   ]
  },
  {
   "cell_type": "markdown",
   "id": "74468e47",
   "metadata": {},
   "source": [
    "For this analysis, we only apply two main cuts. These cuts are going to be defined as follow:"
   ]
  },
  {
   "cell_type": "markdown",
   "id": "f998cbc9",
   "metadata": {},
   "source": [
    "### Lepton charge cut"
   ]
  },
  {
   "cell_type": "markdown",
   "id": "ae81286a",
   "metadata": {},
   "source": [
    "This cut selects events in which the sum of the four lepton's charge is equal to zero. This is because the Z boson has an electric charge equal to zero and therefore, Z boson decays into two leptons of opposite charges. The events that fulfill this requirements returns True."
   ]
  },
  {
   "cell_type": "code",
   "execution_count": 10,
   "id": "b0954ac9",
   "metadata": {},
   "outputs": [],
   "source": [
    "def cut_lep_charge(lep_charge):     \n",
    "    return lep_charge[0] + lep_charge[1] + lep_charge[2] + lep_charge[3] == 0"
   ]
  },
  {
   "cell_type": "markdown",
   "id": "1019086d",
   "metadata": {},
   "source": [
    "### Lepton type cut"
   ]
  },
  {
   "cell_type": "markdown",
   "id": "b350efba",
   "metadata": {},
   "source": [
    "This cut needs the lepton type of each lepton, because we want to choose events that have two pairs of electrons, two pairs of muons or one pair of electrons and one pair of muons in the final state. If the event doesn't fulfill this requirement, the event is dropped."
   ]
  },
  {
   "cell_type": "code",
   "execution_count": 11,
   "id": "57a674ae",
   "metadata": {},
   "outputs": [],
   "source": [
    "def cut_lep_type(lep_type):\n",
    "    sum_lep_type = lep_type[0] + lep_type[1] + lep_type[2] + lep_type[3]\n",
    "    return (sum_lep_type == 44) or (sum_lep_type == 48) or (sum_lep_type == 52)"
   ]
  },
  {
   "cell_type": "markdown",
   "id": "878fd6e8",
   "metadata": {},
   "source": [
    "## Applying a cut"
   ]
  },
  {
   "cell_type": "code",
   "execution_count": 12,
   "id": "697ea3c5",
   "metadata": {},
   "outputs": [],
   "source": [
    "def calc_lep_pt_i(lep_pt,i):\n",
    "    return lep_pt[i]/1000 # /1000 to go from MeV to GeV"
   ]
  },
  {
   "cell_type": "markdown",
   "id": "e08755b3",
   "metadata": {},
   "source": [
    "Now, we can define a function that applies all cuts and the criteria selection. For this reason, we create a function named \"read_file\" that receives a string path and the name of the sample we want to analyze. In this function we print the number of initial events and the number of events that passed the cuts. We also compute the invariant mass of the four lepton system and save it in a column into the dataframe which contains all the selected events for each batch. At the end, it returns a dataframe with the selected events for the sample given as an argument of the function. "
   ]
  },
  {
   "cell_type": "code",
   "execution_count": 13,
   "id": "2780e715",
   "metadata": {},
   "outputs": [],
   "source": [
    "def read_file(path,sample):\n",
    "    start = time.time() # start the clock\n",
    "    print(\"\\tProcessing: \"+sample) # print which sample is being processed\n",
    "    data_all = pd.DataFrame() # define empty pandas DataFrame to hold all data for this sample\n",
    "    tree = uproot3.open(path)[\"mini\"] # open the tree called mini\n",
    "    numevents = uproot3.numentries(path, \"mini\") # number of events\n",
    "    if 'data' not in sample: xsec_weight = get_xsec_weight(sample) # get cross-section weight\n",
    "    for data in tree.iterate(['lep_charge','lep_type','lep_pt',\n",
    "                              'lep_eta','lep_phi','lep_E', \n",
    "                              'mcWeight','scaleFactor_PILEUP',\n",
    "                              'scaleFactor_ELE','scaleFactor_MUON',\n",
    "                              'scaleFactor_LepTRIGGER'], # variables to calculate Monte Carlo weight\n",
    "                             outputtype=pd.DataFrame, # choose output type as pandas DataFrame\n",
    "                             entrystop=numevents*fraction): # process up to numevents*fraction\n",
    "\n",
    "        nIn = len(data.index) # number of events in this batch\n",
    "    \n",
    "        if 'data' not in sample: # only do this for Monte Carlo simulation files\n",
    "            # multiply all Monte Carlo weights and scale factors together to give total weight\n",
    "        \n",
    "            data['totalWeight'] = np.vectorize(calc_weight)(xsec_weight,\n",
    "                                                            data.mcWeight,\n",
    "                                                            data.scaleFactor_PILEUP,\n",
    "                                                            data.scaleFactor_ELE,\n",
    "                                                            data.scaleFactor_MUON,\n",
    "                                                            data.scaleFactor_LepTRIGGER)\n",
    "\n",
    "        # cut on lepton charge using the function cut_lep_charge defined above\n",
    "        data = data[ np.vectorize(cut_lep_charge)(data.lep_charge)]\n",
    "        \n",
    "        # cut on lepton type using the function cut_lep_type defined above\n",
    "        data = data[ np.vectorize(cut_lep_type)(data.lep_type)]        \n",
    "        \n",
    "        # calculation of 4-lepton invariant mass using the function calc_mllll defined above\n",
    "        data['mllll'] = np.vectorize(calc_mllll)(data.lep_pt,data.lep_eta,data.lep_phi,data.lep_E)\n",
    "        \n",
    "        data['lep_pt_1'] = np.vectorize(calc_lep_pt_i)(data.lep_pt, 0)\n",
    "        data['lep_pt_2'] = np.vectorize(calc_lep_pt_i)(data.lep_pt, 1)        \n",
    "      \n",
    "        nOut = len(data.index) # number of events passing cuts in this batch\n",
    "        # append dataframe from this batch to the dataframe for the whole sample\n",
    "        data_all = data_all.append(data, ignore_index = True) \n",
    "\n",
    "        elapsed = time.time() - start # time taken to process\n",
    "        print(\"\\t\\t nIn: \"+str(nIn)+\",\\t nOut: \\t\"+str(nOut)+\"\\t in \"+str(round(elapsed,1))+\"s\") # events before and after\n",
    "        \n",
    "    return data_all # return dataframe containing events passing all cuts"
   ]
  },
  {
   "cell_type": "markdown",
   "id": "05736e61",
   "metadata": {},
   "source": [
    "Now, we are ready to perform the analysis. Just run the next line code if you want to save the complete selected events for all samples in a dictionary of dataframe called \"data\". We will use this dictionary of dataframes to plot our final graph. "
   ]
  },
  {
   "cell_type": "code",
   "execution_count": 14,
   "id": "b20d65c4",
   "metadata": {},
   "outputs": [
    {
     "name": "stdout",
     "output_type": "stream",
     "text": [
      "Processing data samples\n",
      "\tProcessing: data_A\n",
      "\t\t nIn: 39,\t nOut: \t27\t in 0.7s\n",
      "\tProcessing: data_B\n",
      "\t\t nIn: 156,\t nOut: \t86\t in 0.2s\n",
      "\tProcessing: data_C\n",
      "\t\t nIn: 237,\t nOut: \t146\t in 0.2s\n",
      "\tProcessing: data_D\n",
      "\t\t nIn: 400,\t nOut: \t248\t in 0.3s\n",
      "Processing Background $Z,t\\bar{t}$ samples\n",
      "\tProcessing: Zee\n",
      "\t\t nIn: 898,\t nOut: \t243\t in 0.5s\n",
      "\tProcessing: Zmumu\n",
      "\t\t nIn: 684,\t nOut: \t257\t in 0.4s\n",
      "\tProcessing: ttbar_lep\n",
      "\t\t nIn: 1031,\t nOut: \t334\t in 0.6s\n",
      "Processing Background $ZZ^*$ samples\n",
      "\tProcessing: llll\n",
      "\t\t nIn: 106415,\t nOut: \t100522\t in 17.1s\n",
      "\t\t nIn: 106415,\t nOut: \t100595\t in 26.1s\n",
      "\t\t nIn: 106415,\t nOut: \t100580\t in 35.2s\n",
      "\t\t nIn: 106415,\t nOut: \t100618\t in 44.4s\n",
      "\t\t nIn: 106415,\t nOut: \t100655\t in 53.2s\n",
      "\t\t nIn: 22204,\t nOut: \t20987\t in 55.0s\n",
      "Processing Signal ($m_H$ = 125 GeV) samples\n",
      "\tProcessing: ggH125_ZZ4lep\n",
      "\t\t nIn: 104555,\t nOut: \t102484\t in 31.3s\n",
      "\t\t nIn: 60161,\t nOut: \t58967\t in 36.0s\n",
      "\tProcessing: VBFH125_ZZ4lep\n",
      "\t\t nIn: 102038,\t nOut: \t99807\t in 28.2s\n",
      "\t\t nIn: 89088,\t nOut: \t87063\t in 37.5s\n",
      "\tProcessing: WH125_ZZ4lep\n",
      "\t\t nIn: 15379,\t nOut: \t9772\t in 2.0s\n",
      "\tProcessing: ZH125_ZZ4lep\n",
      "\t\t nIn: 14485,\t nOut: \t11947\t in 2.0s\n",
      "Time taken: 135.9s\n"
     ]
    }
   ],
   "source": [
    "start = time.time() # time at start of whole processing\n",
    "data = get_data_from_files() # process all files\n",
    "elapsed = time.time() - start # time after whole processing\n",
    "print(\"Time taken: \"+str(round(elapsed,1))+\"s\") # print total time taken to process every file"
   ]
  },
  {
   "cell_type": "code",
   "execution_count": 15,
   "id": "a87dff95",
   "metadata": {},
   "outputs": [
    {
     "data": {
      "text/plain": [
       "{'data':          lep_charge          lep_type  \\\n",
       " 0    [-1, 1, -1, 1]  [11, 13, 13, 11]   \n",
       " 1    [-1, 1, -1, 1]  [11, 11, 13, 13]   \n",
       " 2    [1, 1, -1, -1]  [11, 11, 11, 11]   \n",
       " 3    [-1, -1, 1, 1]  [13, 11, 11, 13]   \n",
       " 4    [1, -1, -1, 1]  [11, 11, 13, 13]   \n",
       " ..              ...               ...   \n",
       " 502  [-1, 1, 1, -1]  [11, 11, 11, 11]   \n",
       " 503  [1, -1, -1, 1]  [13, 13, 13, 13]   \n",
       " 504  [-1, 1, 1, -1]  [13, 13, 13, 13]   \n",
       " 505  [1, 1, -1, -1]  [11, 11, 11, 11]   \n",
       " 506  [1, 1, -1, -1]  [11, 13, 13, 11]   \n",
       " \n",
       "                                           lep_pt  \\\n",
       " 0    [175558.73, 138846.67, 106696.53, 79776.73]   \n",
       " 1    [65284.066, 37290.766, 12426.926, 8804.564]   \n",
       " 2     [146784.7, 127539.97, 33562.18, 29776.129]   \n",
       " 3     [135680.69, 82894.8, 62508.098, 42552.906]   \n",
       " 4    [67713.18, 42791.816, 12742.542, 10291.093]   \n",
       " ..                                           ...   \n",
       " 502  [51773.375, 51708.45, 51148.297, 30737.582]   \n",
       " 503  [61561.816, 25231.277, 21982.31, 14411.031]   \n",
       " 504  [53048.145, 39838.145, 23835.697, 7428.501]   \n",
       " 505   [114072.234, 113360.6, 64472.6, 26180.354]   \n",
       " 506   [88545.625, 50751.836, 25529.92, 22951.45]   \n",
       " \n",
       "                                                lep_eta  \\\n",
       " 0          [2.076854, 0.9641987, 0.4538123, 2.3985784]   \n",
       " 1     [0.103151694, 0.43131045, 0.98646265, 1.1151001]   \n",
       " 2    [-0.20137234, -0.26222968, -0.2997417, 0.47760...   \n",
       " 3        [1.4913375, 0.73802865, 1.2436671, 0.5755266]   \n",
       " 4    [-1.5264179, -0.06150811, -0.6896634, -0.6163658]   \n",
       " ..                                                 ...   \n",
       " 502    [-1.28635, -1.0202633, -0.80568916, 0.30312154]   \n",
       " 503  [-0.6561884, -0.043175437, 0.49340436, -0.2145...   \n",
       " 504     [1.6669953, 1.2820495, 0.009336205, 1.5172257]   \n",
       " 505       [1.6677951, 1.1956723, 1.5933089, 1.2851827]   \n",
       " 506    [-0.845567, 0.115409344, 2.211767, -0.20559742]   \n",
       " \n",
       "                                               lep_phi  \\\n",
       " 0      [1.2929627, -2.2561386, -1.7970102, 0.5870669]   \n",
       " 1       [2.3295352, -2.4817212, 2.2234292, 2.4967396]   \n",
       " 2      [0.56058794, -2.2311037, 2.0015476, 2.9714534]   \n",
       " 3     [-0.7563026, -2.7576957, 2.2719328, -1.1226101]   \n",
       " 4    [-1.4037814, -1.353487, -0.32475498, -0.3771284]   \n",
       " ..                                                ...   \n",
       " 502     [1.1772112, -1.047273, -1.4184802, 2.3813634]   \n",
       " 503     [3.0332172, 1.3050667, 0.06840056, 2.7004883]   \n",
       " 504  [1.6207898, -1.2548615, -2.9835243, -0.25539052]   \n",
       " 505     [0.0551456, 3.0626664, -0.9325686, -1.999637]   \n",
       " 506    [-0.9302855, 1.8082024, 0.65485394, 1.4508822]   \n",
       " \n",
       "                                              lep_E  mcWeight  \\\n",
       " 0     [711421.06, 208545.92, 117873.27, 442695.56]       0.0   \n",
       " 1      [65631.695, 40813.45, 18980.092, 14870.211]       0.0   \n",
       " 2        [149770.89, 131950.27, 35081.2, 33237.22]       0.0   \n",
       " 3     [316685.9, 106514.14, 117410.016, 49797.125]       0.0   \n",
       " 4       [163154.1, 42872.79, 15895.331, 12309.051]       0.0   \n",
       " ..                                             ...       ...   \n",
       " 502     [100850.09, 81038.13, 68667.06, 32160.553]       0.0   \n",
       " 503   [75298.086, 25255.02, 24713.037, 14744.3125]       0.0   \n",
       " 504     [145485.73, 77315.69, 23836.97, 17750.264]       0.0   \n",
       " 505     [313078.7, 204518.39, 165154.75, 50946.03]       0.0   \n",
       " 506  [122131.516, 51090.31, 117965.445, 23438.242]       0.0   \n",
       " \n",
       "      scaleFactor_PILEUP  scaleFactor_ELE  scaleFactor_MUON  \\\n",
       " 0                   0.0              0.0               0.0   \n",
       " 1                   0.0              0.0               0.0   \n",
       " 2                   0.0              0.0               0.0   \n",
       " 3                   0.0              0.0               0.0   \n",
       " 4                   0.0              0.0               0.0   \n",
       " ..                  ...              ...               ...   \n",
       " 502                 0.0              0.0               0.0   \n",
       " 503                 0.0              0.0               0.0   \n",
       " 504                 0.0              0.0               0.0   \n",
       " 505                 0.0              0.0               0.0   \n",
       " 506                 0.0              0.0               0.0   \n",
       " \n",
       "      scaleFactor_LepTRIGGER       mllll    lep_pt_1    lep_pt_2  \n",
       " 0                       0.0  649.271931  175.558734  138.846672  \n",
       " 1                       0.0   87.907098   65.284066   37.290766  \n",
       " 2                       0.0  344.775936  146.784703  127.539969  \n",
       " 3                       0.0  326.583790  135.680688   82.894797  \n",
       " 4                       0.0  107.422585   67.713180   42.791816  \n",
       " ..                      ...         ...         ...         ...  \n",
       " 502                     0.0  209.585334   51.773375   51.708449  \n",
       " 503                     0.0  121.270402   61.561816   25.231277  \n",
       " 504                     0.0  149.033446   53.048145   39.838145  \n",
       " 505                     0.0  318.595413  114.072234  113.360602  \n",
       " 506                     0.0  305.914725   88.545625   50.751836  \n",
       " \n",
       " [507 rows x 14 columns],\n",
       " 'Background $Z,t\\\\bar{t}$':          lep_charge          lep_type  \\\n",
       " 0    [-1, 1, 1, -1]  [11, 11, 11, 11]   \n",
       " 1    [-1, 1, -1, 1]  [11, 11, 11, 11]   \n",
       " 2    [-1, 1, -1, 1]  [11, 11, 13, 13]   \n",
       " 3    [-1, -1, 1, 1]  [11, 11, 11, 11]   \n",
       " 4    [-1, 1, 1, -1]  [11, 11, 13, 13]   \n",
       " ..              ...               ...   \n",
       " 829  [-1, 1, 1, -1]  [13, 13, 13, 13]   \n",
       " 830  [-1, 1, -1, 1]  [11, 13, 13, 11]   \n",
       " 831  [1, -1, 1, -1]  [11, 11, 13, 13]   \n",
       " 832  [1, -1, 1, -1]  [11, 13, 13, 11]   \n",
       " 833  [1, -1, -1, 1]  [11, 13, 11, 13]   \n",
       " \n",
       "                                            lep_pt  \\\n",
       " 0         [39319.23, 37666.0, 8385.744, 7025.795]   \n",
       " 1      [47592.39, 43458.098, 10026.11, 7162.6626]   \n",
       " 2    [51710.316, 30980.805, 11872.697, 7892.9395]   \n",
       " 3     [65519.844, 17793.098, 14570.528, 7871.123]   \n",
       " 4       [39427.957, 32687.89, 8821.469, 8123.534]   \n",
       " ..                                            ...   \n",
       " 829  [108052.734, 71749.195, 10059.811, 7594.059]   \n",
       " 830    [72671.664, 15723.056, 12728.249, 8112.05]   \n",
       " 831   [108584.25, 81012.56, 17725.264, 15344.783]   \n",
       " 832  [57052.246, 54549.004, 15611.801, 15060.138]   \n",
       " 833   [47612.863, 44278.62, 13041.843, 7166.7607]   \n",
       " \n",
       "                                                lep_eta  \\\n",
       " 0         [0.8723238, 2.006158, -0.3714777, 2.2477067]   \n",
       " 1       [-0.8090483, -0.6145289, 2.0875025, 0.6384636]   \n",
       " 2       [2.211758, 1.0357504, -1.5491847, -0.49692452]   \n",
       " 3    [-1.8400015, 0.014194325, 0.10441768, 0.54491776]   \n",
       " 4     [0.6319882, -0.72217596, 0.5735928, -0.06887347]   \n",
       " ..                                                 ...   \n",
       " 829  [-0.4410316, -1.4741125, -0.48336256, -1.8078258]   \n",
       " 830   [0.6248438, 0.45667186, 0.28518316, -0.73698467]   \n",
       " 831    [0.4161059, -1.0276302, -0.7823906, -0.7881761]   \n",
       " 832  [0.70771366, -1.9270778, -0.62293637, -0.8225508]   \n",
       " 833     [-0.3629382, 1.9160199, 1.308462, -0.84321076]   \n",
       " \n",
       "                                                lep_phi  \\\n",
       " 0       [1.4695405, -1.6707282, -0.5686838, 1.9471599]   \n",
       " 1       [-2.2826285, 0.6541073, 0.18135798, 0.8925741]   \n",
       " 2    [3.0596266, -0.21164392, -0.018451305, 2.6533346]   \n",
       " 3      [0.4868397, -2.3558335, -1.6149002, -2.8749647]   \n",
       " 4         [2.225151, -1.306289, 1.8235722, -1.0468655]   \n",
       " ..                                                 ...   \n",
       " 829      [-1.090314, 2.3710358, 1.4126797, -0.9297174]   \n",
       " 830       [-2.1899395, 2.6564493, 1.6369331, 3.042145]   \n",
       " 831     [2.2256927, -1.4709294, -2.9963393, 0.3439932]   \n",
       " 832      [0.7930003, -1.3183972, -2.704592, -2.582325]   \n",
       " 833    [2.1071806, -0.81682944, -0.4979972, 3.0571723]   \n",
       " \n",
       "                                             lep_E     mcWeight  \\\n",
       " 0      [55252.23, 142550.81, 8971.026, 33624.203]  1942.939941   \n",
       " 1       [64036.78, 51925.496, 41050.63, 8672.812]  1942.060059   \n",
       " 2     [238934.31, 49138.336, 29207.332, 8888.304]  1941.239990   \n",
       " 3      [211477.25, 17794.89, 14650.032, 9068.935]  1940.579956   \n",
       " 4    [47567.492, 41588.848, 10313.406, 8143.4946]  1941.910034   \n",
       " ..                                            ...          ...   \n",
       " 829   [118732.836, 164884.7, 11258.55, 23774.146]     1.000000   \n",
       " 830  [87325.875, 17391.584, 13249.778, 10416.602]     1.000000   \n",
       " 831    [118121.03, 127687.54, 23433.08, 20363.22]     1.000000   \n",
       " 832   [71946.19, 191330.11, 18740.404, 20448.719]     1.000000   \n",
       " 833     [50783.32, 153670.23, 25892.71, 9869.707]     1.000000   \n",
       " \n",
       "      scaleFactor_PILEUP  scaleFactor_ELE  scaleFactor_MUON  \\\n",
       " 0              1.087349         0.863112          1.000000   \n",
       " 1              0.750880         0.933329          1.000000   \n",
       " 2              0.750880         0.920904          0.988623   \n",
       " 3              1.745631         0.877460          1.000000   \n",
       " 4              0.750880         0.914658          0.989426   \n",
       " ..                  ...              ...               ...   \n",
       " 829            0.923924         1.000000          0.982146   \n",
       " 830            1.251332         0.991419          0.991572   \n",
       " 831            0.553627         0.966711          0.995590   \n",
       " 832            1.262048         0.970140          0.980897   \n",
       " 833            1.196105         0.936603          0.983860   \n",
       " \n",
       "      scaleFactor_LepTRIGGER  totalWeight       mllll    lep_pt_1   lep_pt_2  \n",
       " 0                  1.023900     0.242332  123.778564   39.319230  37.666000  \n",
       " 1                  0.959220     0.169451  162.560351   47.592391  43.458098  \n",
       " 2                  1.015320     0.174886  219.564061   51.710316  30.980805  \n",
       " 3                  0.988690     0.381443  157.108745   65.519844  17.793098  \n",
       " 4                  0.971080     0.166324  106.592748   39.427957  32.687891  \n",
       " ..                      ...          ...         ...         ...        ...  \n",
       " 829                0.836291     0.069561  221.392648  108.052734  71.749195  \n",
       " 830                1.000210     0.112782   89.324171   72.671664  15.723056  \n",
       " 831                1.006320     0.049150  271.143367  108.584250  81.012563  \n",
       " 832                0.966770     0.106427  251.470387   57.052246  54.549004  \n",
       " 833                0.984480     0.099463  191.160258   47.612863  44.278621  \n",
       " \n",
       " [834 rows x 15 columns],\n",
       " 'Background $ZZ^*$':             lep_charge          lep_type  \\\n",
       " 0       [1, -1, 1, -1]  [13, 13, 13, 13]   \n",
       " 1       [-1, 1, 1, -1]  [13, 13, 11, 11]   \n",
       " 2       [-1, 1, 1, -1]  [11, 11, 13, 13]   \n",
       " 3       [1, -1, -1, 1]  [11, 11, 11, 11]   \n",
       " 4       [1, -1, 1, -1]  [11, 11, 11, 11]   \n",
       " ...                ...               ...   \n",
       " 523952  [-1, 1, 1, -1]  [13, 13, 11, 11]   \n",
       " 523953  [1, -1, -1, 1]  [11, 13, 11, 13]   \n",
       " 523954  [-1, 1, -1, 1]  [13, 13, 13, 13]   \n",
       " 523955  [-1, -1, 1, 1]  [13, 13, 13, 13]   \n",
       " 523956  [1, -1, -1, 1]  [11, 11, 13, 13]   \n",
       " \n",
       "                                                lep_pt  \\\n",
       " 0          [64853.69, 61677.957, 48666.44, 44360.594]   \n",
       " 1         [55921.848, 41498.75, 18562.252, 11200.327]   \n",
       " 2           [84155.97, 78250.46, 56973.09, 56136.598]   \n",
       " 3        [100780.22, 26851.668, 13466.778, 11434.911]   \n",
       " 4            [172537.7, 98566.4, 74528.45, 12576.789]   \n",
       " ...                                               ...   \n",
       " 523952       [67621.1, 51921.21, 50100.37, 44835.277]   \n",
       " 523953     [48948.67, 48862.41, 39796.707, 31510.016]   \n",
       " 523954  [119936.56, 102871.875, 54995.215, 20621.857]   \n",
       " 523955     [32009.953, 31902.018, 20184.078, 14703.7]   \n",
       " 523956   [75909.305, 49681.914, 11938.686, 7546.0493]   \n",
       " \n",
       "                                                   lep_eta  \\\n",
       " 0            [1.5119262, 0.9527604, 1.1908164, 2.1028118]   \n",
       " 1        [-1.5589899, -0.71930677, -1.8220292, -2.090571]   \n",
       " 2       [-0.20404476, 0.39109004, 0.45703688, -0.5842737]   \n",
       " 3       [0.62736243, -0.93059206, 0.041212134, -0.0724...   \n",
       " 4          [0.5893239, -1.3127046, -1.9889181, 1.2152758]   \n",
       " ...                                                   ...   \n",
       " 523952  [-0.04842222, -1.0277615, -1.0011764, -2.0308654]   \n",
       " 523953  [0.87225395, -0.57031024, 0.24977583, -1.7376556]   \n",
       " 523954      [-2.102342, -1.269684, -2.014429, -1.8423804]   \n",
       " 523955      [0.42379463, -0.919044, 1.6397774, 0.7551051]   \n",
       " 523956     [-0.45193055, -0.789725, 0.43944848, 1.047767]   \n",
       " \n",
       "                                                 lep_phi  \\\n",
       " 0        [1.9609993, -2.4778569, -0.3330752, -2.436713]   \n",
       " 1            [1.9564, -2.3616645, 0.6946235, 0.8060392]   \n",
       " 2         [-0.7235623, -2.136465, 2.5923607, 1.2815038]   \n",
       " 3          [1.7746718, 2.1002047, 1.8418165, 2.2207954]   \n",
       " 4        [1.2503097, -1.1016209, -1.7956103, -2.498861]   \n",
       " ...                                                 ...   \n",
       " 523952   [-1.4750422, -0.27962154, 2.894335, 1.2610465]   \n",
       " 523953   [1.0634676, -2.6051219, -2.2802842, 0.6636062]   \n",
       " 523954  [0.82061404, -2.637615, -1.6481175, -2.5706573]   \n",
       " 523955  [-1.2805221, 2.5256858, 1.1593494, -0.62126315]   \n",
       " 523956   [-1.8352259, 3.0545797, -2.261475, -2.6386578]   \n",
       " \n",
       "                                                lep_E  mcWeight  \\\n",
       " 0       [154220.28, 91854.945, 87447.305, 184346.61]  0.126207   \n",
       " 1        [138808.28, 52705.58, 58898.887, 45994.977]  0.332061   \n",
       " 2          [85913.94, 84311.38, 63027.824, 65994.23]  1.000000   \n",
       " 3        [121272.02, 39342.13, 13478.216, 11464.951]  1.000000   \n",
       " 4       [203376.34, 196408.44, 277412.28, 23064.898]  0.127306   \n",
       " ...                                              ...       ...   \n",
       " 523952     [67700.48, 81843.72, 77378.23, 173779.31]  0.299751   \n",
       " 523953     [68780.35, 57026.58, 41044.594, 92323.38]  0.140462   \n",
       " 523954    [498185.7, 197547.34, 209802.45, 66711.63]  1.000000   \n",
       " 523955   [34927.918, 46350.45, 53972.785, 19098.902]  1.000000   \n",
       " 523956    [83794.05, 65996.47, 13110.552, 12081.677]  0.110684   \n",
       " \n",
       "         scaleFactor_PILEUP  scaleFactor_ELE  scaleFactor_MUON  \\\n",
       " 0                 1.745631         1.000000          0.994004   \n",
       " 1                 0.187531         0.903156          0.995108   \n",
       " 2                 1.241677         0.962309          0.972613   \n",
       " 3                 0.934886         0.857935          1.000000   \n",
       " 4                 0.923924         0.904552          1.000000   \n",
       " ...                    ...              ...               ...   \n",
       " 523952            1.214122         0.954900          0.992645   \n",
       " 523953            1.251332         0.942870          0.983400   \n",
       " 523954            1.320948         1.000000          0.964780   \n",
       " 523955            1.320948         1.000000          0.973215   \n",
       " 523956            1.251332         0.945839          0.994457   \n",
       " \n",
       "         scaleFactor_LepTRIGGER  totalWeight       mllll    lep_pt_1  \\\n",
       " 0                     0.966761     0.000353  229.654277   64.853691   \n",
       " 1                     0.920816     0.000086  132.688869   55.921848   \n",
       " 2                     1.005820     0.001950  296.506040   84.155969   \n",
       " 3                     0.997650     0.001335  101.265195  100.780219   \n",
       " 4                     0.997650     0.000177  623.674832  172.537703   \n",
       " ...                        ...          ...         ...         ...   \n",
       " 523952                0.576990     0.000332  270.743968   67.621102   \n",
       " 523953                0.962010     0.000262  251.805631   48.948672   \n",
       " 523954                0.940930     0.002001  317.328837  119.936562   \n",
       " 523955                1.022195     0.002193  148.304865   32.009953   \n",
       " 523956                1.001920     0.000218  113.324107   75.909305   \n",
       " \n",
       "           lep_pt_2  \n",
       " 0        61.677957  \n",
       " 1        41.498750  \n",
       " 2        78.250461  \n",
       " 3        26.851668  \n",
       " 4        98.566398  \n",
       " ...            ...  \n",
       " 523952   51.921211  \n",
       " 523953   48.862410  \n",
       " 523954  102.871875  \n",
       " 523955   31.902018  \n",
       " 523956   49.681914  \n",
       " \n",
       " [523957 rows x 15 columns],\n",
       " 'Signal ($m_H$ = 125 GeV)':                lep_charge              lep_type  \\\n",
       " 0          [1, -1, 1, -1]      [13, 13, 13, 13]   \n",
       " 1          [-1, 1, -1, 1]      [13, 13, 13, 13]   \n",
       " 2          [1, -1, 1, -1]      [13, 11, 11, 13]   \n",
       " 3          [-1, -1, 1, 1]      [13, 11, 13, 11]   \n",
       " 4          [1, -1, 1, -1]      [11, 11, 11, 11]   \n",
       " ...                   ...                   ...   \n",
       " 370035     [-1, -1, 1, 1]      [11, 13, 11, 13]   \n",
       " 370036     [-1, 1, -1, 1]      [11, 11, 11, 11]   \n",
       " 370037     [1, -1, -1, 1]      [13, 11, 13, 11]   \n",
       " 370038     [1, 1, -1, -1]      [11, 13, 11, 13]   \n",
       " 370039  [1, -1, 1, -1, 1]  [13, 13, 11, 11, 11]   \n",
       " \n",
       "                                                    lep_pt  \\\n",
       " 0              [51905.457, 41248.57, 16397.67, 7471.2275]   \n",
       " 1            [41430.645, 40307.168, 16133.789, 7481.8574]   \n",
       " 2               [33646.71, 27313.271, 20035.95, 16472.64]   \n",
       " 3              [77118.56, 27845.74, 17726.541, 14714.521]   \n",
       " 4             [161909.22, 53367.754, 25596.69, 18864.479]   \n",
       " ...                                                   ...   \n",
       " 370035       [59623.902, 31143.605, 26637.549, 16610.562]   \n",
       " 370036         [92831.59, 73832.66, 13217.979, 7854.4873]   \n",
       " 370037       [58890.426, 36526.355, 15398.255, 7012.6196]   \n",
       " 370038         [71643.92, 27985.783, 20745.455, 9867.459]   \n",
       " 370039  [53283.18, 27286.281, 24619.783, 11846.508, 73...   \n",
       " \n",
       "                                                   lep_eta  \\\n",
       " 0       [-0.9257092, -0.8236952, -0.48641676, 0.26671788]   \n",
       " 1         [-1.2331822, -0.396434, -0.5415077, -0.3021792]   \n",
       " 2       [-0.03232379, -0.044152576, 0.06701253, 1.8595...   \n",
       " 3          [0.51476425, 0.8453112, 2.1891582, 0.17971124]   \n",
       " 4        [-1.0373538, -0.8217277, -1.2618828, 0.12619522]   \n",
       " ...                                                   ...   \n",
       " 370035   [-0.7649736, -1.5009713, -2.0667765, -1.5851375]   \n",
       " 370036    [1.3327827, 0.75145805, 1.3182406, -0.24101499]   \n",
       " 370037       [-0.3539088, 0.4737702, 1.986822, 1.5936598]   \n",
       " 370038  [-1.5299652, -0.89540833, 0.38745138, -1.8252062]   \n",
       " 370039  [0.34654424, 1.6072962, 0.91850847, 0.2340737,...   \n",
       " \n",
       "                                                   lep_phi  \\\n",
       " 0         [-2.7742898, 0.42194992, 0.2440787, -2.4958162]   \n",
       " 1          [0.44903132, -2.1966128, 1.4646871, -2.957073]   \n",
       " 2           [-2.0772228, 2.198498, 0.6911429, -0.3588694]   \n",
       " 3           [0.11543719, 0.74605054, 1.5379136, 2.122277]   \n",
       " 4       [-0.16171707, 0.37784153, -0.9532281, 0.04657514]   \n",
       " ...                                                   ...   \n",
       " 370035   [0.31360003, -0.10950443, -1.6691767, 1.2453185]   \n",
       " 370036    [1.7014735, 0.77574366, -0.05532441, 1.2328322]   \n",
       " 370037   [-1.4882106, -0.7905614, -0.28315374, 0.6014846]   \n",
       " 370038    [-1.0628324, 0.2845334, 0.2459689, -0.17654306]   \n",
       " 370039  [-2.1925669, -0.5483555, -1.334789, 2.9134035,...   \n",
       " \n",
       "                                                     lep_E   mcWeight  \\\n",
       " 0             [75779.65, 56050.977, 18376.379, 7739.2734]  28.485731   \n",
       " 1              [77133.53, 43516.332, 18557.92, 7826.7705]  28.485731   \n",
       " 2             [33664.457, 27339.898, 20080.953, 54166.01]  28.485731   \n",
       " 3               [87563.77, 38401.03, 80121.43, 14952.772]  28.485731   \n",
       " 4             [257122.47, 72422.64, 48828.062, 19014.889]  28.485731   \n",
       " ...                                                   ...        ...   \n",
       " 370035          [77936.9, 73327.04, 106895.31, 42231.508]   1.000000   \n",
       " 370036           [188231.0, 95678.53, 26465.346, 8083.72]   1.000000   \n",
       " 370037           [62617.227, 40702.93, 57200.4, 17969.52]   1.000000   \n",
       " 370038          [173183.39, 39974.7, 22322.172, 31404.64]   1.000000   \n",
       " 370039  [56514.89, 70804.32, 35756.105, 12172.53, 7962...   1.000000   \n",
       " \n",
       "         scaleFactor_PILEUP  scaleFactor_ELE  scaleFactor_MUON  \\\n",
       " 0                 0.351687         1.000000          0.984327   \n",
       " 1                 0.553627         1.000000          0.985408   \n",
       " 2                 0.738662         0.961790          0.980976   \n",
       " 3                 1.087349         0.915589          0.993131   \n",
       " 4                 1.554649         0.813747          1.000000   \n",
       " ...                    ...              ...               ...   \n",
       " 370035            1.251332         0.907753          1.000017   \n",
       " 370036            0.923924         0.927460          1.000000   \n",
       " 370037            0.750880         1.065717          0.984734   \n",
       " 370038            1.320948         0.926397          0.982561   \n",
       " 370039            0.923924         0.926985          0.984865   \n",
       " \n",
       "         scaleFactor_LepTRIGGER   totalWeight       mllll    lep_pt_1  \\\n",
       " 0                     0.832276  1.773158e-05  122.689157   51.905457   \n",
       " 1                     0.999803  3.356853e-05  113.659172   41.430645   \n",
       " 2                     0.937310  4.020248e-05  125.399958   33.646711   \n",
       " 3                     0.977310  5.946932e-05  123.645105   77.118562   \n",
       " 4                     0.998660  7.775428e-05  123.518264  161.909219   \n",
       " ...                        ...           ...         ...         ...   \n",
       " 370035                0.954980  1.549414e-07  122.505008   59.623902   \n",
       " 370036                0.995440  1.218349e-07  123.608430   92.831594   \n",
       " 370037                0.997370  1.122569e-07  131.743711   58.890426   \n",
       " 370038                0.997460  1.713022e-07  130.489843   71.643922   \n",
       " 370039                0.937290  1.129237e-07  107.582011   53.283180   \n",
       " \n",
       "          lep_pt_2  \n",
       " 0       41.248570  \n",
       " 1       40.307168  \n",
       " 2       27.313271  \n",
       " 3       27.845740  \n",
       " 4       53.367754  \n",
       " ...           ...  \n",
       " 370035  31.143605  \n",
       " 370036  73.832656  \n",
       " 370037  36.526355  \n",
       " 370038  27.985783  \n",
       " 370039  27.286281  \n",
       " \n",
       " [370040 rows x 15 columns]}"
      ]
     },
     "execution_count": 15,
     "metadata": {},
     "output_type": "execute_result"
    }
   ],
   "source": [
    "data"
   ]
  },
  {
   "cell_type": "markdown",
   "id": "f385da94",
   "metadata": {},
   "source": [
    "Finally, we define a function that plots our final graphic. This function receives the data dictionary with the information of all selected events in our analysis and create histograms for each dataframe (which are the main sources of background, the signal and the data). The final plot is saved in a pdf file into the folder called \"plots\"."
   ]
  },
  {
   "cell_type": "code",
   "execution_count": 16,
   "id": "c7276750",
   "metadata": {},
   "outputs": [],
   "source": [
    "def plot_data(data):\n",
    "    GeV = 1.0\n",
    "    xmin = 80 * GeV\n",
    "    xmax = 250 * GeV\n",
    "    step_size = 5 * GeV\n",
    "\n",
    "    bin_edges = np.arange(start=xmin, # The interval includes this value\n",
    "                     stop=xmax+step_size, # The interval doesn't include this value\n",
    "                     step=step_size ) # Spacing between values\n",
    "    bin_centres = np.arange(start=xmin+step_size/2, # The interval includes this value\n",
    "                            stop=xmax+step_size/2, # The interval doesn't include this value\n",
    "                            step=step_size ) # Spacing between values\n",
    "\n",
    "    data_x,_ = np.histogram(data['data']['mllll'], \n",
    "                            bins=bin_edges ) # histogram the data\n",
    "    data_x_errors = np.sqrt( data_x ) # statistical error on the data\n",
    "\n",
    "    signal_x = data[r'Signal ($m_H$ = 125 GeV)']['mllll'] # histogram the signal\n",
    "    signal_weights = data[r'Signal ($m_H$ = 125 GeV)'].totalWeight # get the weights of the signal events\n",
    "    signal_color = samples[r'Signal ($m_H$ = 125 GeV)']['color'] # get the colour for the signal bar\n",
    "\n",
    "    mc_x = [] # define list to hold the Monte Carlo histogram entries\n",
    "    mc_weights = [] # define list to hold the Monte Carlo weights\n",
    "    mc_colors = [] # define list to hold the colors of the Monte Carlo bars\n",
    "    mc_labels = [] # define list to hold the legend labels of the Monte Carlo bars\n",
    "\n",
    "    for s in samples: # loop over samples\n",
    "        if s not in ['data', r'Signal ($m_H$ = 125 GeV)']: # if not data nor signal\n",
    "            mc_x.append( data[s]['mllll'] ) # append to the list of Monte Carlo histogram entries\n",
    "            mc_weights.append( data[s].totalWeight ) # append to the list of Monte Carlo weights\n",
    "            mc_colors.append( samples[s]['color'] ) # append to the list of Monte Carlo bar colors\n",
    "            mc_labels.append( s ) # append to the list of Monte Carlo legend labels\n",
    "    \n",
    "\n",
    "\n",
    "    # *************\n",
    "    # Main plot \n",
    "    # *************\n",
    "    main_axes = plt.gca() # get current axes\n",
    "    \n",
    "    # plot the data points\n",
    "    main_axes.errorbar(x=bin_centres, y=data_x, yerr=data_x_errors,\n",
    "                      fmt='ko', # 'k' means black and 'o' is for circles \n",
    "                      label='Data') \n",
    "    \n",
    "    # plot the Monte Carlo bars\n",
    "    mc_heights = main_axes.hist(mc_x, bins=bin_edges, \n",
    "                                weights=mc_weights, stacked=True, \n",
    "                                color=mc_colors, label=mc_labels )\n",
    "    \n",
    "    mc_x_tot = mc_heights[0][-1] # stacked background MC y-axis value\n",
    "    \n",
    "    # calculate MC statistical uncertainty: sqrt(sum w^2)\n",
    "    mc_x_err = np.sqrt(np.histogram(np.hstack(mc_x), bins=bin_edges, weights=np.hstack(mc_weights)**2)[0])\n",
    "    \n",
    "    # plot the signal bar\n",
    "    main_axes.hist(signal_x, bins=bin_edges, bottom=mc_x_tot, \n",
    "                   weights=signal_weights, color=signal_color,\n",
    "                   label=r'Signal ($m_H$ = 125 GeV)')\n",
    "    \n",
    "    # plot the statistical uncertainty\n",
    "    main_axes.bar(bin_centres, # x\n",
    "                  2*mc_x_err, # heights\n",
    "                  alpha=0.5, # half transparency\n",
    "                  bottom=mc_x_tot-mc_x_err, color='none', \n",
    "                  hatch=\"////\", width=step_size, label='Stat. Unc.' )\n",
    "\n",
    "    # set the x-limit of the main axes\n",
    "    main_axes.set_xlim( left=xmin, right=xmax ) \n",
    "    \n",
    "    # separation of x axis minor ticks\n",
    "    main_axes.xaxis.set_minor_locator( AutoMinorLocator() ) \n",
    "    \n",
    "    # set the axis tick parameters for the main axes\n",
    "    main_axes.tick_params(which='both', # ticks on both x and y axes\n",
    "                          direction='in', # Put ticks inside and outside the axes\n",
    "                          top=True, # draw ticks on the top axis\n",
    "                          right=True ) # draw ticks on right axis\n",
    "    \n",
    "    # x-axis label\n",
    "    main_axes.set_xlabel(r'4-lepton invariant mass $\\mathrm{m_{4l}}$ [GeV]',\n",
    "                        fontsize=13, x=1, horizontalalignment='right' )\n",
    "    \n",
    "    # write y-axis label for main axes\n",
    "    main_axes.set_ylabel('Events / '+str(step_size)+' GeV',\n",
    "                         y=1, horizontalalignment='right') \n",
    "    \n",
    "    # set y-axis limits for main axes\n",
    "    main_axes.set_ylim( bottom=0, top=np.amax(data_x)*1.6 )\n",
    "    \n",
    "    # add minor ticks on y-axis for main axes\n",
    "    main_axes.yaxis.set_minor_locator( AutoMinorLocator() ) \n",
    "\n",
    "    # Add text 'ATLAS Open Data' on plot\n",
    "\n",
    "    plt.text(0.05, # x\n",
    "             0.93, # y\n",
    "             'ATLAS Open Data', # text\n",
    "             transform=main_axes.transAxes, # coordinate system used is that of main_axes\n",
    "             fontsize=13 ) \n",
    "    \n",
    "    # Add text 'for education' on plot\n",
    "    plt.text(0.05, # x\n",
    "             0.88, # y\n",
    "             'work in progress', # text\n",
    "             transform=main_axes.transAxes, # coordinate system used is that of main_axes\n",
    "             style='italic',\n",
    "             fontsize=8 ) \n",
    "    \n",
    "    # Add energy and luminosity\n",
    "    lumi_used = str(lumi*fraction) # luminosity to write on the plot\n",
    "    \n",
    "    plt.text(0.05, # x\n",
    "             0.82, # y\n",
    "             '$\\sqrt{s}$=13 TeV,$\\int$L dt = '+lumi_used+' fb$^{-1}$', # text\n",
    "             transform=main_axes.transAxes ) # coordinate system used is that of main_axes\n",
    "    \n",
    "    # Add a label for the analysis carried out\n",
    "    plt.text(0.05, # x\n",
    "             0.76, # y\n",
    "             r'$H \\rightarrow ZZ^* \\rightarrow 4\\ell$', # text \n",
    "             transform=main_axes.transAxes ) # coordinate system used is that of main_axes\n",
    "\n",
    "    # draw the legend\n",
    "    main_axes.legend( frameon=False ) # no box around the legend\n",
    "    plt.title(\"Invariant mass $m_{4l}$\")\n",
    "    plt.savefig('plots/HZZAnalysis_ML/HZZ_m4L.pdf')\n",
    "    return"
   ]
  },
  {
   "cell_type": "markdown",
   "id": "fea6cf51",
   "metadata": {},
   "source": [
    "Run the next line code if you want to see the final plot with the invariant mass of the Z boson."
   ]
  },
  {
   "cell_type": "code",
   "execution_count": 17,
   "id": "c60c5bdd",
   "metadata": {},
   "outputs": [
    {
     "data": {
      "image/png": "[encoded data removed]",
      "text/plain": [
       "<Figure size 432x288 with 1 Axes>"
      ]
     },
     "metadata": {
      "needs_background": "light"
     },
     "output_type": "display_data"
    }
   ],
   "source": [
    "plot_data(data)"
   ]
  },
  {
   "cell_type": "code",
   "execution_count": 18,
   "id": "50e846a9",
   "metadata": {},
   "outputs": [],
   "source": [
    "mllll = { # dictionary containing plotting parameters for the lep_pt_2 histogram\n",
    "    # change plotting parameters\n",
    "    'bin_width':5, # width of each histogram bin\n",
    "    'num_bins':32, # number of histogram bins\n",
    "    'xrange_min':80, # minimum on x-axis\n",
    "    'xlabel':r'4-lepton invariant mass $\\mathrm{m_{4l}}$ [GeV]', # x-axis label\n",
    "}\n",
    "\n",
    "lep_pt_1 = { # dictionary containing plotting parameters for the lep_pt_1 histogram\n",
    "    # change plotting parameters\n",
    "    'bin_width':5, # width of each histogram bin\n",
    "    'num_bins':28, # number of histogram bins\n",
    "    'xrange_min':25, # minimum on x-axis\n",
    "    'xlabel':r'$lep\\_pt$[1] [GeV]', # x-axis label\n",
    "}\n",
    "\n",
    "\n",
    "SoverB_hist_dict = {'mllll':mllll, 'lep_pt_1':lep_pt_1} \n",
    "# add a histogram here if you want it plotted"
   ]
  },
  {
   "cell_type": "code",
   "execution_count": 19,
   "id": "7e8021cc",
   "metadata": {},
   "outputs": [],
   "source": [
    "def plot_SoverB(data):\n",
    "    \n",
    "    signal = r'Signal ($m_H$ = 125 GeV)' # which sample is the signal\n",
    "\n",
    "    # *******************\n",
    "    # general definitions (shouldn't need to change)\n",
    "\n",
    "    for x_variable,hist in SoverB_hist_dict.items(): # access the dictionary of histograms defined in the cell above\n",
    "\n",
    "        h_bin_width = hist['bin_width'] # get the bin width defined in the cell above\n",
    "        h_num_bins = hist['num_bins'] # get the number of bins defined in the cell above\n",
    "        h_xrange_min = hist['xrange_min'] # get the x-range minimum defined in the cell above\n",
    "        h_xlabel = hist['xlabel'] # get the x-axis label defined in the cell above\n",
    "    \n",
    "        bin_edges = [ h_xrange_min + x*h_bin_width for x in range(h_num_bins+1) ] # bin limits\n",
    "        bin_centres = [ h_xrange_min+h_bin_width/2 + x*h_bin_width for x in range(h_num_bins) ] # bin centres\n",
    "        \n",
    "        signal_x = data[signal][x_variable] # histogram the signal\n",
    "    \n",
    "        mc_x = [] # define list to hold the Monte Carlo histogram entries\n",
    "\n",
    "        for s in samples: # loop over samples\n",
    "            if s not in ['data', signal]: # if not data nor signal\n",
    "                mc_x = [*mc_x, *data[s][x_variable] ] # append to the list of Monte Carlo histogram entries\n",
    "\n",
    "    \n",
    "    \n",
    "        # *************\n",
    "        # Signal and background distributions\n",
    "        # *************\n",
    "        distributions_axes = plt.gca() # get current axes\n",
    " \n",
    "        mc_heights = distributions_axes.hist(mc_x, bins=bin_edges, color='red', \n",
    "                                             label='Total background',\n",
    "                                             histtype='step', # lineplot that's unfilled\n",
    "                                             density=True ) # normalize to form probability density\n",
    "        signal_heights = distributions_axes.hist(signal_x, bins=bin_edges, color='blue',\n",
    "                                                 label=signal, \n",
    "                                                 histtype='step', # lineplot that's unfilled\n",
    "                                                 density=True, # normalize to form probability density\n",
    "                                                 linestyle='--' ) # dashed line\n",
    "        \n",
    "        distributions_axes.set_xlim( left=bin_edges[0], right=bin_edges[-1] ) # x-limits of the distributions axes\n",
    "        distributions_axes.set_ylabel('Arbitrary units' ) # y-axis label for distributions axes\n",
    "        distributions_axes.set_ylim( top=max(signal_heights[0])*1.5 ) # set y-axis limits\n",
    "        plt.title('Signal and background '+x_variable+' distributions') # add title\n",
    "        distributions_axes.legend() # draw the legend\n",
    "        distributions_axes.set_xlabel( h_xlabel ) # x-axis label\n",
    "        \n",
    "        # Add text 'ATLAS Open Data' on plot\n",
    "        plt.text(0.05, # x\n",
    "                 0.93, # y\n",
    "                 'ATLAS Open Data', # text\n",
    "                 transform=distributions_axes.transAxes, # coordinate system used is that of distributions_axes\n",
    "                 fontsize=13 ) \n",
    "        # Add text 'for education' on plot\n",
    "        plt.text(0.05, # x\n",
    "                 0.88, # y\n",
    "                 'work in progress', # text\n",
    "                 transform=distributions_axes.transAxes, # coordinate system used is that of distributions_axes\n",
    "                 style='italic',\n",
    "                 fontsize=8 )  \n",
    "        plt.savefig('plots/HZZAnalysis_ML/HZZ_distribution_'+x_variable+'.pdf')\n",
    "        plt.show() # show the Signal and background distributions\n",
    "        \n",
    "    \n",
    "        # *************\n",
    "        # Signal to background ratio\n",
    "        # *************\n",
    "        plt.figure() # start new figure\n",
    "        SoverB = [] # list to hold S/B values\n",
    "        for cut_value in bin_edges: # loop over bins\n",
    "            signal_weights_passing_cut = sum(data[signal][data[signal][x_variable]>cut_value].totalWeight)\n",
    "            background_weights_passing_cut = 0 # start counter for background weights passing cut\n",
    "            for s in samples: # loop over samples\n",
    "                if s not in ['data', signal]: # if not data nor signal\n",
    "                    background_weights_passing_cut += sum(data[s][data[s][x_variable]>cut_value].totalWeight)\n",
    "            if background_weights_passing_cut!=0: # some background passes cut\n",
    "                SoverB_value = signal_weights_passing_cut/background_weights_passing_cut\n",
    "                SoverB_percent = 100*SoverB_value # multiply by 100 for percentage\n",
    "                SoverB.append(SoverB_percent) # append to list of S/B values\n",
    "        \n",
    "        SoverB_axes = plt.gca() # get current axes\n",
    "        SoverB_axes.plot( bin_edges[:len(SoverB)], SoverB ) # plot the data points\n",
    "        SoverB_axes.set_xlim( left=bin_edges[0], right=bin_edges[-1] ) # set the x-limit of the main axes\n",
    "        SoverB_axes.set_ylabel( 'S/B (%)' ) # write y-axis label for main axes\n",
    "        plt.title('Signal to background ratio for different '+x_variable+' cut values', family='sans-serif')\n",
    "        SoverB_axes.set_xlabel( h_xlabel ) # x-axis label \n",
    "        # Add text 'ATLAS Open Data' on plot \n",
    "        \n",
    "        plt.savefig('plots/HZZAnalysis_ML/HZZ_SoverB_'+x_variable+'.pdf')\n",
    "        plt.show() # show S/B plot\n",
    "        \n",
    "    \n",
    "    return"
   ]
  },
  {
   "cell_type": "code",
   "execution_count": 20,
   "id": "fe39d738",
   "metadata": {},
   "outputs": [
    {
     "data": {
      "image/png": "[encoded data removed]",
      "text/plain": [
       "<Figure size 432x288 with 1 Axes>"
      ]
     },
     "metadata": {
      "needs_background": "light"
     },
     "output_type": "display_data"
    },
    {
     "data": {
      "image/png": "[encoded data removed]",
      "text/plain": [
       "<Figure size 432x288 with 1 Axes>"
      ]
     },
     "metadata": {
      "needs_background": "light"
     },
     "output_type": "display_data"
    },
    {
     "data": {
      "image/png": "[encoded data removed]",
      "text/plain": [
       "<Figure size 432x288 with 1 Axes>"
      ]
     },
     "metadata": {
      "needs_background": "light"
     },
     "output_type": "display_data"
    },
    {
     "data": {
      "image/png": "[encoded data removed]",
      "text/plain": [
       "<Figure size 432x288 with 1 Axes>"
      ]
     },
     "metadata": {
      "needs_background": "light"
     },
     "output_type": "display_data"
    }
   ],
   "source": [
    "plot_SoverB(data)"
   ]
  },
  {
   "cell_type": "code",
   "execution_count": 21,
   "id": "501d634a",
   "metadata": {},
   "outputs": [
    {
     "data": {
      "text/plain": [
       "{'data':           mllll    lep_pt_1\n",
       " 0    649.271931  175.558734\n",
       " 1     87.907098   65.284066\n",
       " 2    344.775936  146.784703\n",
       " 3    326.583790  135.680688\n",
       " 4    107.422585   67.713180\n",
       " ..          ...         ...\n",
       " 502  209.585334   51.773375\n",
       " 503  121.270402   61.561816\n",
       " 504  149.033446   53.048145\n",
       " 505  318.595413  114.072234\n",
       " 506  305.914725   88.545625\n",
       " \n",
       " [507 rows x 2 columns],\n",
       " 'Background $Z,t\\\\bar{t}$':           mllll    lep_pt_1\n",
       " 0    123.778564   39.319230\n",
       " 1    162.560351   47.592391\n",
       " 2    219.564061   51.710316\n",
       " 3    157.108745   65.519844\n",
       " 4    106.592748   39.427957\n",
       " ..          ...         ...\n",
       " 829  221.392648  108.052734\n",
       " 830   89.324171   72.671664\n",
       " 831  271.143367  108.584250\n",
       " 832  251.470387   57.052246\n",
       " 833  191.160258   47.612863\n",
       " \n",
       " [834 rows x 2 columns],\n",
       " 'Background $ZZ^*$':              mllll    lep_pt_1\n",
       " 0       229.654277   64.853691\n",
       " 1       132.688869   55.921848\n",
       " 2       296.506040   84.155969\n",
       " 3       101.265195  100.780219\n",
       " 4       623.674832  172.537703\n",
       " ...            ...         ...\n",
       " 523952  270.743968   67.621102\n",
       " 523953  251.805631   48.948672\n",
       " 523954  317.328837  119.936562\n",
       " 523955  148.304865   32.009953\n",
       " 523956  113.324107   75.909305\n",
       " \n",
       " [523957 rows x 2 columns],\n",
       " 'Signal ($m_H$ = 125 GeV)':              mllll    lep_pt_1\n",
       " 0       122.689157   51.905457\n",
       " 1       113.659172   41.430645\n",
       " 2       125.399958   33.646711\n",
       " 3       123.645105   77.118562\n",
       " 4       123.518264  161.909219\n",
       " ...            ...         ...\n",
       " 370035  122.505008   59.623902\n",
       " 370036  123.608430   92.831594\n",
       " 370037  131.743711   58.890426\n",
       " 370038  130.489843   71.643922\n",
       " 370039  107.582011   53.283180\n",
       " \n",
       " [370040 rows x 2 columns]}"
      ]
     },
     "execution_count": 21,
     "metadata": {},
     "output_type": "execute_result"
    }
   ],
   "source": [
    "data_for_BDT = {} # define empty dictionary to hold dataframes that will be used to train the BDT\n",
    "BDT_inputs = ['mllll', 'lep_pt_1'] # list of features for BDT\n",
    "for key in data: # loop over the different keys in the dictionary of dataframes\n",
    "    data_for_BDT[key] = data[key][BDT_inputs].copy()\n",
    "data_for_BDT"
   ]
  },
  {
   "cell_type": "code",
   "execution_count": 22,
   "id": "e58503d6",
   "metadata": {},
   "outputs": [],
   "source": [
    "# for sklearn data is usually organised                                                                                                                                           \n",
    "# into one 2D array of shape (n_samples x n_features)                                                                                                                             \n",
    "# containing all the data and one array of categories                                                                                                                             \n",
    "# of length n_samples  \n",
    "\n",
    "all_MC = [] # define empty list that will contain all features for the MC\n",
    "for key in data: # loop over the different keys in the dictionary of dataframes\n",
    "    if key!='data': # only MC should pass this\n",
    "        all_MC.append(data_for_BDT[key]) # append the MC dataframe to the list containing all MC features\n",
    "X = np.concatenate(all_MC) # concatenate the list of MC dataframes into a single 2D array of features, called X\n",
    "\n",
    "all_y = [] # define empty list that will contain labels whether an event in signal or background\n",
    "for key in data: # loop over the different keys in the dictionary of dataframes\n",
    "    if key!=r'Signal ($m_H$ = 125 GeV)' and key!='data': # only background MC should pass this\n",
    "        all_y.append(np.zeros(data_for_BDT[key].shape[0])) # background events are labelled with 0\n",
    "all_y.append(np.ones(data_for_BDT[r'Signal ($m_H$ = 125 GeV)'].shape[0])) # signal events are labelled with 1\n",
    "y = np.concatenate(all_y) # concatenate the list of lables into a single 1D array of labels, called y"
   ]
  },
  {
   "cell_type": "code",
   "execution_count": 23,
   "id": "6a17cf1a",
   "metadata": {},
   "outputs": [],
   "source": [
    "from sklearn.model_selection import train_test_split\n",
    "\n",
    "# make train and test sets\n",
    "X_train,X_test, y_train,y_test = train_test_split(X, y, test_size=0.7, random_state=492 )"
   ]
  },
  {
   "cell_type": "code",
   "execution_count": 24,
   "id": "e0c5f9ca",
   "metadata": {},
   "outputs": [
    {
     "name": "stdout",
     "output_type": "stream",
     "text": [
      "Time taken to fit BDT: 3.6s\n",
      "AdaBoostClassifier(algorithm='SAMME',\n",
      "                   base_estimator=DecisionTreeClassifier(max_depth=2),\n",
      "                   learning_rate=0.5, n_estimators=12)\n"
     ]
    }
   ],
   "source": [
    "from sklearn.tree import DecisionTreeClassifier\n",
    "from sklearn.ensemble import AdaBoostClassifier\n",
    "\n",
    "dt = DecisionTreeClassifier(max_depth=2) # maximum depth of the tree\n",
    "bdt = AdaBoostClassifier(dt,\n",
    "                        algorithm='SAMME', # SAMME discrete boosting algorithm\n",
    "                        n_estimators=12, # max number of estimators at which boosting is terminated\n",
    "                        learning_rate=0.5) # shrinks the contribution of each classifier by learning_rate\n",
    "\n",
    "start = time.time() # time at start of BDT fit\n",
    "bdt.fit(X_train, y_train) # fit BDT to training set\n",
    "elapsed = time.time() - start # time after fitting BDT\n",
    "print(\"Time taken to fit BDT: \"+str(round(elapsed,1))+\"s\") # print total time taken to fit BDT\n",
    "print(bdt)"
   ]
  },
  {
   "cell_type": "code",
   "execution_count": 25,
   "id": "9bbdd6a9",
   "metadata": {},
   "outputs": [
    {
     "name": "stdout",
     "output_type": "stream",
     "text": [
      "              precision    recall  f1-score   support\n",
      "\n",
      "  background       0.98      0.96      0.97    367498\n",
      "      signal       0.95      0.98      0.96    258884\n",
      "\n",
      "    accuracy                           0.97    626382\n",
      "   macro avg       0.96      0.97      0.97    626382\n",
      "weighted avg       0.97      0.97      0.97    626382\n",
      "\n",
      "Area under ROC curve for test data: 0.9863\n"
     ]
    },
    {
     "data": {
      "text/plain": [
       "array([1., 0., 0., ..., 0., 1., 0.])"
      ]
     },
     "execution_count": 25,
     "metadata": {},
     "output_type": "execute_result"
    }
   ],
   "source": [
    "from sklearn.metrics import classification_report, roc_auc_score, f1_score\n",
    "\n",
    "y_predicted = bdt.predict(X_test) # get predicted y for test set\n",
    "#sklearn.metrics.f1_score(y_test, y_pred, *, labels=None, pos_label=1, average='binary', sample_weight=None, zero_division='warn')\n",
    "#f1_score(y_test, y_predicted, zero_division=1)\n",
    "        \n",
    "print (classification_report(y_test, y_predicted,\n",
    "                            target_names=[\"background\", \"signal\"]))\n",
    "print (\"Area under ROC curve for test data: %.4f\"%(roc_auc_score(y_test,\n",
    "                                                    bdt.decision_function(X_test))) )\n",
    "y_predicted"
   ]
  },
  {
   "cell_type": "code",
   "execution_count": 26,
   "id": "b397f3fb",
   "metadata": {},
   "outputs": [
    {
     "data": {
      "image/png": "[encoded data removed]",
      "text/plain": [
       "<Figure size 432x288 with 1 Axes>"
      ]
     },
     "metadata": {
      "needs_background": "light"
     },
     "output_type": "display_data"
    },
    {
     "data": {
      "image/png": "[encoded data removed]",
      "text/plain": [
       "<Figure size 432x288 with 1 Axes>"
      ]
     },
     "metadata": {
      "needs_background": "light"
     },
     "output_type": "display_data"
    }
   ],
   "source": [
    "# we first plot the Neural Network output\n",
    "signal_decisions = bdt.decision_function(X[y>0.5]).ravel() # get probabilities on signal\n",
    "background_decisions = bdt.decision_function(X[y<0.5]).ravel() # get decisions on background\n",
    "\n",
    "plt.hist(background_decisions, color='red', label='background', \n",
    "         histtype='step', # lineplot that's unfilled\n",
    "         density=True ) # normalize to form a probability density\n",
    "plt.hist(signal_decisions, color='blue', label='signal', \n",
    "         histtype='step', # lineplot that's unfilled\n",
    "         density=True, # normalize to form a probability density\n",
    "         linestyle='--' ) # dashed line\n",
    "plt.xlabel('BDT output') # add x-axis label\n",
    "plt.ylabel('Arbitrary units') # add y-axis label\n",
    "plt.savefig('plots/HZZAnalysis_ML/HZZ_BDT_distribution.pdf')\n",
    "plt.legend() # add legend\n",
    "\n",
    "\n",
    "# we then plot the ROC\n",
    "plt.figure() # make new figure \n",
    "\n",
    "from sklearn.metrics import roc_curve, auc\n",
    "\n",
    "decisions = bdt.decision_function(X_test).ravel() # get probabilities on test set\n",
    "\n",
    "# Compute ROC curve and area under the curve\n",
    "fpr, tpr, _ = roc_curve(y_test, # actual\n",
    "                        decisions ) # predicted\n",
    "\n",
    "# Compute area under the curve for training set\n",
    "roc_auc = auc(fpr, # false positive rate \n",
    "              tpr) # true positive rate\n",
    "\n",
    "plt.plot(fpr, tpr, label='ROC (area = %0.2f)'%(roc_auc)) # plot test ROC curve\n",
    "plt.plot([0, 1], # x from 0 to 1\n",
    "         [0, 1], # y from 0 to 1\n",
    "         '--', # dashed line\n",
    "         color='grey', label='Luck')\n",
    "\n",
    "plt.xlabel('False Positive Rate') # x-axis label\n",
    "plt.ylabel('True Positive Rate') # y-axis label\n",
    "plt.title('Receiver operating characteristic (ROC) curve') # title\n",
    "plt.legend() # add legend\n",
    "plt.grid() # add grid\n",
    "plt.savefig('plots/HZZAnalysis_ML/HZZ_ROC_BDT.pdf')"
   ]
  },
  {
   "cell_type": "code",
   "execution_count": 27,
   "id": "39f8c462",
   "metadata": {},
   "outputs": [
    {
     "data": {
      "image/png": "[encoded data removed]",
      "text/plain": [
       "<Figure size 432x288 with 1 Axes>"
      ]
     },
     "metadata": {
      "needs_background": "light"
     },
     "output_type": "display_data"
    }
   ],
   "source": [
    "def compare_train_test(clf, X_train, y_train, X_test, y_test):\n",
    "    decisions = [] # list to hold decisions of classifier\n",
    "    for X,y in ((X_train, y_train), (X_test, y_test)): # train and test\n",
    "        d1 = clf.decision_function(X[y<0.5]).ravel() # background\n",
    "        d2 = clf.decision_function(X[y>0.5]).ravel() # signal\n",
    "        decisions += [d1, d2] # add to list of classifier decision\n",
    "    \n",
    "    highest_decision = max(np.max(d) for d in decisions) # get maximum score\n",
    "    bin_edges = [] # list to hold bin edges\n",
    "    bin_edge = -1.1 # start counter for bin_edges\n",
    "    while bin_edge < highest_decision: # up to highest score\n",
    "        bin_edge += 0.1 # increment\n",
    "        bin_edges.append(bin_edge)\n",
    "    \n",
    "    plt.hist(decisions[0], # background in train set\n",
    "             bins=bin_edges, # lower and upper range of the bins\n",
    "             density=True, # area under the histogram will sum to 1\n",
    "             histtype='stepfilled', # lineplot that's filled\n",
    "             color='red', label='B (train)', # Background (train)\n",
    "            alpha=0.5 ) # half transparency\n",
    "    plt.hist(decisions[1], # background in train set\n",
    "             bins=bin_edges, # lower and upper range of the bins\n",
    "             density=True, # area under the histogram will sum to 1\n",
    "             histtype='stepfilled', # lineplot that's filled\n",
    "             color='blue', label='S (train)', # Signal (train)\n",
    "            alpha=0.5 ) # half transparency\n",
    "\n",
    "    hist_background, bin_edges = np.histogram(decisions[2], # background test\n",
    "                                              bins=bin_edges, # number of bins in function definition\n",
    "                                              density=True ) # area under the histogram will sum to 1\n",
    "    \n",
    "    scale = len(decisions[2]) / sum(hist_background) # between raw and normalised\n",
    "    err_background = np.sqrt(hist_background * scale) / scale # error on test background\n",
    "\n",
    "    width = 0.1 # histogram bin width\n",
    "    center = (bin_edges[:-1] + bin_edges[1:]) / 2 # bin centres\n",
    "    \n",
    "    plt.errorbar(x=center, y=hist_background, yerr=err_background, fmt='o', # circles\n",
    "                 c='red', label='B (test)' ) # Background (test)\n",
    "    \n",
    "    hist_signal, bin_edges = np.histogram(decisions[3], # siganl test\n",
    "                                          bins=bin_edges, # number of bins in function definition\n",
    "                                          density=True ) # area under the histogram will sum to 1\n",
    "    scale = len(decisions[3]) / sum(hist_signal) # between raw and normalised\n",
    "    err_signal = np.sqrt(hist_signal * scale) / scale # error on test background\n",
    "    \n",
    "    plt.errorbar(x=center, y=hist_signal, yerr=err_signal, fmt='o', # circles\n",
    "                 c='blue', label='S (test)' ) # Signal (test)\n",
    "    \n",
    "    plt.xlabel(\"BDT output\") # write x-axis label\n",
    "    plt.ylabel(\"Arbitrary units\") # write y-axis label\n",
    "    plt.legend() # add legend\n",
    "    plt.title(\"Comparison between training and testing samplings\")\n",
    "    plt.savefig('plots/HZZAnalysis_ML/HZZ_BDT_compare_train_test.pdf')\n",
    "    \n",
    "compare_train_test(bdt, X_train, y_train, X_test, y_test) # call compare_train_test"
   ]
  },
  {
   "cell_type": "code",
   "execution_count": 28,
   "id": "9623b5d5",
   "metadata": {},
   "outputs": [
    {
     "data": {
      "text/plain": [
       "array([ 0.76522695, -0.84510817, -1.        , ...,  0.10654751,\n",
       "        0.1403196 ,  0.15935064])"
      ]
     },
     "execution_count": 28,
     "metadata": {},
     "output_type": "execute_result"
    }
   ],
   "source": [
    "# X only has only the MC features\n",
    "y_predicted = bdt.decision_function(X) \n",
    "y_predicted"
   ]
  },
  {
   "cell_type": "code",
   "execution_count": 29,
   "id": "5a238f7b",
   "metadata": {},
   "outputs": [
    {
     "name": "stdout",
     "output_type": "stream",
     "text": [
      "0      0.765227\n",
      "1     -0.845108\n",
      "2     -1.000000\n",
      "3     -0.811336\n",
      "4      0.159351\n",
      "         ...   \n",
      "829   -0.966228\n",
      "830   -0.633515\n",
      "831   -1.000000\n",
      "832   -1.000000\n",
      "833   -1.000000\n",
      "Name: BDT_output, Length: 834, dtype: float64\n",
      "0        -0.966228\n",
      "1        -0.608507\n",
      "2        -1.000000\n",
      "3        -0.396913\n",
      "4        -1.000000\n",
      "            ...   \n",
      "523952   -1.000000\n",
      "523953   -1.000000\n",
      "523954   -1.000000\n",
      "523955   -0.845108\n",
      "523956    0.318141\n",
      "Name: BDT_output, Length: 523957, dtype: float64\n",
      "0         0.765227\n",
      "1         0.159351\n",
      "2         0.765227\n",
      "3         0.924017\n",
      "4         0.924017\n",
      "            ...   \n",
      "370035    0.765227\n",
      "370036    0.924017\n",
      "370037    0.106548\n",
      "370038    0.140320\n",
      "370039    0.159351\n",
      "Name: BDT_output, Length: 370040, dtype: float64\n"
     ]
    }
   ],
   "source": [
    "cumulative_events = 0 # start counter for total number of events for which output is saved\n",
    "for key in data: # loop over samples\n",
    "    if key!='data':\n",
    "        data[key]['BDT_output'] = y_predicted[cumulative_events:cumulative_events+len(data[key])]\n",
    "        cumulative_events += len(data[key]) # increment counter for total number of events\n",
    "        print(data[key]['BDT_output']) # print the dataframe column BDT_output"
   ]
  },
  {
   "cell_type": "code",
   "execution_count": 30,
   "id": "ba533352",
   "metadata": {},
   "outputs": [
    {
     "name": "stdout",
     "output_type": "stream",
     "text": [
      "The max and min value of the BDT output for the y_predicted is 1.02 and -1.10, 22.00 respectively\n"
     ]
    }
   ],
   "source": [
    "bin_width = 0.1\n",
    "max_BDT = y_predicted.max()+bin_width\n",
    "min_BDT = y_predicted.min()-bin_width\n",
    "num_bins = np.ceil((max_BDT - min_BDT)/bin_width)\n",
    "num_bins = num_bins.astype(int)\n",
    "print(\"The max and min value of the BDT output for the y_predicted is {:.2f} and {:.2f}, {:.2f} respectively\".format(\n",
    "    max_BDT, min_BDT, num_bins))"
   ]
  },
  {
   "cell_type": "code",
   "execution_count": 31,
   "id": "962f62fe",
   "metadata": {},
   "outputs": [],
   "source": [
    "BDT_output = { # dictionary containing plotting parameters for the mllll histogram\n",
    "    # change plotting parameters\n",
    "    'bin_width':bin_width, # width of each histogram bin\n",
    "    'num_bins':num_bins, # number of histogram bins\n",
    "    'xrange_min':min_BDT, # minimum on x-axis\n",
    "    'xlabel':'BDT output' # x-axis label\n",
    "}\n",
    "\n",
    "SoverB_hist_dict = {'BDT_output':BDT_output}"
   ]
  },
  {
   "cell_type": "code",
   "execution_count": 32,
   "id": "91211ffa",
   "metadata": {},
   "outputs": [
    {
     "data": {
      "image/png": "[encoded data removed]",
      "text/plain": [
       "<Figure size 432x288 with 1 Axes>"
      ]
     },
     "metadata": {
      "needs_background": "light"
     },
     "output_type": "display_data"
    },
    {
     "data": {
      "image/png": "[encoded data removed]",
      "text/plain": [
       "<Figure size 432x288 with 1 Axes>"
      ]
     },
     "metadata": {
      "needs_background": "light"
     },
     "output_type": "display_data"
    }
   ],
   "source": [
    "plot_SoverB(data)"
   ]
  },
  {
   "cell_type": "markdown",
   "id": "cafc993a",
   "metadata": {},
   "source": [
    "# Neural Net using Keras"
   ]
  },
  {
   "cell_type": "code",
   "execution_count": 33,
   "id": "a96418c0",
   "metadata": {},
   "outputs": [
    {
     "name": "stderr",
     "output_type": "stream",
     "text": [
      "2022-06-26 21:56:47.230495: W tensorflow/stream_executor/platform/default/dso_loader.cc:64] Could not load dynamic library 'libcudart.so.11.0'; dlerror: libcudart.so.11.0: cannot open shared object file: No such file or directory; LD_LIBRARY_PATH: /cvmfs/sft.cern.ch/lcg/releases/MCGenerators/thepeg/2.2.1-8d929/x86_64-centos7-gcc10-opt/lib/ThePEG:/cvmfs/sft.cern.ch/lcg/releases/MCGenerators/herwig++/7.2.1-f3599/x86_64-centos7-gcc10-opt/lib/Herwig:/cvmfs/sft.cern.ch/lcg/views/LCG_101swan/x86_64-centos7-gcc10-opt/lib/python3.9/site-packages/torch/lib:/cvmfs/sft.cern.ch/lcg/views/LCG_101swan/x86_64-centos7-gcc10-opt/lib/python3.9/site-packages/tensorflow:/cvmfs/sft.cern.ch/lcg/views/LCG_101swan/x86_64-centos7-gcc10-opt/lib/python3.9/site-packages/tensorflow/contrib/tensor_forest:/cvmfs/sft.cern.ch/lcg/views/LCG_101swan/x86_64-centos7-gcc10-opt/lib/python3.9/site-packages/tensorflow/python/framework:/cvmfs/sft.cern.ch/lcg/releases/java/8u222-884d8/x86_64-centos7-gcc10-opt/jre/lib/amd64:/cvmfs/sft.cern.ch/lcg/views/LCG_101swan/x86_64-centos7-gcc10-opt/lib64:/cvmfs/sft.cern.ch/lcg/views/LCG_101swan/x86_64-centos7-gcc10-opt/lib:/cvmfs/sft.cern.ch/lcg/releases/gcc/10.3.0-f5826/x86_64-centos7/lib:/cvmfs/sft.cern.ch/lcg/releases/gcc/10.3.0-f5826/x86_64-centos7/lib64:/cvmfs/sft.cern.ch/lcg/releases/binutils/2.36.1-a9696/x86_64-centos7/lib:/usr/local/lib/:/cvmfs/sft.cern.ch/lcg/releases/R/3.6.3-dfb24/x86_64-centos7-gcc10-opt/lib64/R/library/readr/rcon\n",
      "2022-06-26 21:56:47.230558: I tensorflow/stream_executor/cuda/cudart_stub.cc:29] Ignore above cudart dlerror if you do not have a GPU set up on your machine.\n"
     ]
    }
   ],
   "source": [
    "from keras.models import Sequential\n",
    "from keras.layers import Dense"
   ]
  },
  {
   "cell_type": "code",
   "execution_count": 34,
   "id": "a454f6e5",
   "metadata": {},
   "outputs": [
    {
     "name": "stderr",
     "output_type": "stream",
     "text": [
      "2022-06-26 21:56:53.790740: W tensorflow/stream_executor/platform/default/dso_loader.cc:64] Could not load dynamic library 'libcuda.so.1'; dlerror: libcuda.so.1: cannot open shared object file: No such file or directory; LD_LIBRARY_PATH: /cvmfs/sft.cern.ch/lcg/releases/MCGenerators/thepeg/2.2.1-8d929/x86_64-centos7-gcc10-opt/lib/ThePEG:/cvmfs/sft.cern.ch/lcg/releases/MCGenerators/herwig++/7.2.1-f3599/x86_64-centos7-gcc10-opt/lib/Herwig:/cvmfs/sft.cern.ch/lcg/views/LCG_101swan/x86_64-centos7-gcc10-opt/lib/python3.9/site-packages/torch/lib:/cvmfs/sft.cern.ch/lcg/views/LCG_101swan/x86_64-centos7-gcc10-opt/lib/python3.9/site-packages/tensorflow:/cvmfs/sft.cern.ch/lcg/views/LCG_101swan/x86_64-centos7-gcc10-opt/lib/python3.9/site-packages/tensorflow/contrib/tensor_forest:/cvmfs/sft.cern.ch/lcg/views/LCG_101swan/x86_64-centos7-gcc10-opt/lib/python3.9/site-packages/tensorflow/python/framework:/cvmfs/sft.cern.ch/lcg/releases/java/8u222-884d8/x86_64-centos7-gcc10-opt/jre/lib/amd64:/cvmfs/sft.cern.ch/lcg/views/LCG_101swan/x86_64-centos7-gcc10-opt/lib64:/cvmfs/sft.cern.ch/lcg/views/LCG_101swan/x86_64-centos7-gcc10-opt/lib:/cvmfs/sft.cern.ch/lcg/releases/gcc/10.3.0-f5826/x86_64-centos7/lib:/cvmfs/sft.cern.ch/lcg/releases/gcc/10.3.0-f5826/x86_64-centos7/lib64:/cvmfs/sft.cern.ch/lcg/releases/binutils/2.36.1-a9696/x86_64-centos7/lib:/usr/local/lib/:/cvmfs/sft.cern.ch/lcg/releases/R/3.6.3-dfb24/x86_64-centos7-gcc10-opt/lib64/R/library/readr/rcon\n",
      "2022-06-26 21:56:53.790803: W tensorflow/stream_executor/cuda/cuda_driver.cc:326] failed call to cuInit: UNKNOWN ERROR (303)\n",
      "2022-06-26 21:56:53.790895: I tensorflow/stream_executor/cuda/cuda_diagnostics.cc:156] kernel driver does not appear to be running on this host (jupyter-garciaru): /proc/driver/nvidia/version does not exist\n",
      "2022-06-26 21:56:53.791705: I tensorflow/core/platform/cpu_feature_guard.cc:142] This TensorFlow binary is optimized with oneAPI Deep Neural Network Library (oneDNN) to use the following CPU instructions in performance-critical operations:  AVX2 FMA\n",
      "To enable them in other operations, rebuild TensorFlow with the appropriate compiler flags.\n"
     ]
    }
   ],
   "source": [
    "# define the keras model\n",
    "model = Sequential()\n",
    "model.add(Dense(5, input_dim=X.shape[1], activation='relu'))\n",
    "model.add(Dense(8, activation='relu'))\n",
    "model.add(Dense(1, activation='sigmoid'))"
   ]
  },
  {
   "cell_type": "code",
   "execution_count": 35,
   "id": "f31d3593",
   "metadata": {},
   "outputs": [],
   "source": [
    "# compile the keras model\n",
    "model.compile(loss='binary_crossentropy', optimizer='adam', metrics=['accuracy'])"
   ]
  },
  {
   "cell_type": "code",
   "execution_count": 36,
   "id": "87af6268",
   "metadata": {},
   "outputs": [
    {
     "name": "stderr",
     "output_type": "stream",
     "text": [
      "2022-06-26 21:56:54.003942: I tensorflow/compiler/mlir/mlir_graph_optimization_pass.cc:176] None of the MLIR Optimization Passes are enabled (registered 2)\n",
      "2022-06-26 21:56:54.006169: I tensorflow/core/platform/profile_utils/cpu_utils.cc:114] CPU Frequency: 2194915000 Hz\n"
     ]
    },
    {
     "name": "stdout",
     "output_type": "stream",
     "text": [
      "Epoch 1/10\n",
      "8390/8390 [==============================] - 14s 2ms/step - loss: 0.5830 - accuracy: 0.7027\n",
      "Epoch 2/10\n",
      "8390/8390 [==============================] - 13s 2ms/step - loss: 0.2080 - accuracy: 0.9448\n",
      "Epoch 3/10\n",
      "8390/8390 [==============================] - 13s 2ms/step - loss: 0.1704 - accuracy: 0.9515\n",
      "Epoch 4/10\n",
      "8390/8390 [==============================] - 13s 2ms/step - loss: 0.1584 - accuracy: 0.9567\n",
      "Epoch 5/10\n",
      "8390/8390 [==============================] - 13s 2ms/step - loss: 0.1518 - accuracy: 0.9589\n",
      "Epoch 6/10\n",
      "8390/8390 [==============================] - 13s 2ms/step - loss: 0.1468 - accuracy: 0.9600\n",
      "Epoch 7/10\n",
      "8390/8390 [==============================] - 12s 1ms/step - loss: 0.1433 - accuracy: 0.9609\n",
      "Epoch 8/10\n",
      "8390/8390 [==============================] - 13s 2ms/step - loss: 0.1400 - accuracy: 0.9617\n",
      "Epoch 9/10\n",
      "8390/8390 [==============================] - 13s 2ms/step - loss: 0.1378 - accuracy: 0.9622\n",
      "Epoch 10/10\n",
      "8390/8390 [==============================] - 13s 2ms/step - loss: 0.1360 - accuracy: 0.9626\n"
     ]
    },
    {
     "data": {
      "text/plain": [
       "<tensorflow.python.keras.callbacks.History at 0x7fbba46f1a90>"
      ]
     },
     "execution_count": 36,
     "metadata": {},
     "output_type": "execute_result"
    }
   ],
   "source": [
    "# fit the keras model on the dataset #epochs 5/10 batch 10\n",
    "model.fit(X_train, y_train, epochs=10, batch_size=32)"
   ]
  },
  {
   "cell_type": "code",
   "execution_count": 37,
   "id": "20f2a8d9",
   "metadata": {},
   "outputs": [
    {
     "name": "stdout",
     "output_type": "stream",
     "text": [
      "8390/8390 [==============================] - 10s 1ms/step - loss: 0.1274 - accuracy: 0.9647\n",
      "Accuracy: 96.47\n"
     ]
    }
   ],
   "source": [
    "# evaluate the keras model\n",
    "_, accuracy = model.evaluate(X_train, y_train)\n",
    "print('Accuracy: %.2f' % (accuracy*100))"
   ]
  },
  {
   "cell_type": "code",
   "execution_count": 38,
   "id": "88c43b15",
   "metadata": {},
   "outputs": [],
   "source": [
    "y_predicted_keras = model.predict(X_test)"
   ]
  },
  {
   "cell_type": "code",
   "execution_count": 39,
   "id": "ea6c4f18",
   "metadata": {},
   "outputs": [],
   "source": [
    "from sklearn.metrics import roc_curve\n",
    "y_pred_keras = model.predict(X_test).ravel()\n",
    "fpr_keras, tpr_keras, thresholds_keras = roc_curve(y_test, y_pred_keras)"
   ]
  },
  {
   "cell_type": "code",
   "execution_count": 40,
   "id": "777c1a56",
   "metadata": {},
   "outputs": [],
   "source": [
    "auc_keras = auc(fpr_keras, tpr_keras)"
   ]
  },
  {
   "cell_type": "code",
   "execution_count": 41,
   "id": "30d91b9b",
   "metadata": {},
   "outputs": [
    {
     "data": {
      "image/png": "[encoded data removed]",
      "text/plain": [
       "<Figure size 432x288 with 1 Axes>"
      ]
     },
     "metadata": {
      "needs_background": "light"
     },
     "output_type": "display_data"
    },
    {
     "data": {
      "image/png": "[encoded data removed]",
      "text/plain": [
       "<Figure size 432x288 with 1 Axes>"
      ]
     },
     "metadata": {
      "needs_background": "light"
     },
     "output_type": "display_data"
    }
   ],
   "source": [
    "# we first plot the Neural Network output\n",
    "signal_decisions = model.predict(X[y>0.5]).ravel() # get probabilities on signal\n",
    "background_decisions = model.predict(X[y<0.5]).ravel() # get decisions on background\n",
    "\n",
    "plt.hist(background_decisions, color='red', label='background', \n",
    "         histtype='step', # lineplot that's unfilled\n",
    "         density=True ) # normalize to form a probability density\n",
    "plt.hist(signal_decisions, color='blue', label='signal', \n",
    "         histtype='step', # lineplot that's unfilled\n",
    "         density=True, # normalize to form a probability density\n",
    "         linestyle='--' ) # dashed line\n",
    "plt.xlabel('Keras NN output') # add x-axis label\n",
    "plt.ylabel('Arbitrary units') # add y-axis label\n",
    "plt.legend() # add legend\n",
    "plt.savefig('plots/HZZAnalysis_ML/HZZ_Keras_distribution.pdf')\n",
    "\n",
    "\n",
    "# we then plot the ROC\n",
    "plt.figure() # make new figure \n",
    "\n",
    "from sklearn.metrics import roc_curve, auc\n",
    "\n",
    "y_pred_keras = model.predict(X_test).ravel() # get probabilities on test set\n",
    "\n",
    "\n",
    "# Compute ROC curve and area under the curve\n",
    "fpr_keras, tpr_keras, thresholds_keras = roc_curve(y_test, y_pred_keras) \n",
    "\n",
    "# Compute area under the curve for training set\n",
    "roc_auc = auc(fpr_keras, # false positive rate \n",
    "              tpr_keras) # true positive rate\n",
    "\n",
    "plt.plot(fpr_keras, tpr_keras, label='ROC (area = %0.2f)'%(roc_auc)) # plot test ROC curve\n",
    "plt.plot([0, 1], # x from 0 to 1\n",
    "         [0, 1], # y from 0 to 1\n",
    "         '--', # dashed line\n",
    "         color='grey', label='Luck')\n",
    "\n",
    "plt.xlabel('False Positive Rate') # x-axis label\n",
    "plt.ylabel('True Positive Rate') # y-axis label\n",
    "plt.title('Receiver operating characteristic (ROC) curve Keras') # title\n",
    "plt.legend() # add legend\n",
    "plt.grid() # add grid\n",
    "plt.savefig('plots/HZZAnalysis_ML/HZZ_ROC_Keras.pdf')"
   ]
  },
  {
   "cell_type": "code",
   "execution_count": 42,
   "id": "3f849750",
   "metadata": {},
   "outputs": [
    {
     "data": {
      "image/png": "[encoded data removed]",
      "text/plain": [
       "<Figure size 432x288 with 1 Axes>"
      ]
     },
     "metadata": {
      "needs_background": "light"
     },
     "output_type": "display_data"
    }
   ],
   "source": [
    "def compare_train_test(clf, X_train, y_train, X_test, y_test):\n",
    "    decisions = [] # list to hold decisions of classifier\n",
    "    for X,y in ((X_train, y_train), (X_test, y_test)): # train and test\n",
    "        d1 = clf.predict(X[y<0.5]).ravel() # background\n",
    "        d2 = clf.predict(X[y>0.5]).ravel() # signal\n",
    "        decisions += [d1, d2] # add to list of classifier decision\n",
    "    \n",
    "    highest_decision = max(np.max(d) for d in decisions) # get maximum score\n",
    "    bin_edges = [] # list to hold bin edges\n",
    "    bin_edge = -0.1 # start counter for bin_edges\n",
    "    while bin_edge < highest_decision: # up to highest score\n",
    "        bin_edge += 0.1 # increment\n",
    "        bin_edges.append(bin_edge)\n",
    "    \n",
    "    plt.hist(decisions[0], # background in train set\n",
    "             bins=bin_edges, # lower and upper range of the bins\n",
    "             density=True, # area under the histogram will sum to 1\n",
    "             histtype='stepfilled', # lineplot that's filled\n",
    "             color='red', label='B (train)', # Background (train)\n",
    "            alpha=0.5 ) # half transparency\n",
    "    plt.hist(decisions[1], # background in train set\n",
    "             bins=bin_edges, # lower and upper range of the bins\n",
    "             density=True, # area under the histogram will sum to 1\n",
    "             histtype='stepfilled', # lineplot that's filled\n",
    "             color='blue', label='S (train)', # Signal (train)\n",
    "            alpha=0.5 ) # half transparency\n",
    "\n",
    "    hist_background, bin_edges = np.histogram(decisions[2], # background test\n",
    "                                              bins=bin_edges, # number of bins in function definition\n",
    "                                              density=True ) # area under the histogram will sum to 1\n",
    "    \n",
    "    scale = len(decisions[2]) / sum(hist_background) # between raw and normalised\n",
    "    err_background = np.sqrt(hist_background * scale) / scale # error on test background\n",
    "\n",
    "    width = 0.1 # histogram bin width\n",
    "    center = (bin_edges[:-1] + bin_edges[1:]) / 2 # bin centres\n",
    "    \n",
    "    plt.errorbar(x=center, y=hist_background, yerr=err_background, fmt='o', # circles\n",
    "                 c='red', label='B (test)' ) # Background (test)\n",
    "    \n",
    "    hist_signal, bin_edges = np.histogram(decisions[3], # siganl test\n",
    "                                          bins=bin_edges, # number of bins in function definition\n",
    "                                          density=True ) # area under the histogram will sum to 1\n",
    "    scale = len(decisions[3]) / sum(hist_signal) # between raw and normalised\n",
    "    err_signal = np.sqrt(hist_signal * scale) / scale # error on test background\n",
    "    \n",
    "    plt.errorbar(x=center, y=hist_signal, yerr=err_signal, fmt='o', # circles\n",
    "                 c='blue', label='S (test)' ) # Signal (test)\n",
    "    \n",
    "    plt.xlabel(\"Keras NN output\") # write x-axis label\n",
    "    plt.ylabel(\"Arbitrary units\") # write y-axis label\n",
    "    plt.legend() # add legend\n",
    "    plt.title(\"Comparison between training and testing samplings\")\n",
    "    plt.savefig('plots/HZZAnalysis_ML/HZZ_Keras_compare_train_test.pdf')\n",
    "\n",
    "    \n",
    "compare_train_test(model, X_train, y_train, X_test, y_test) # call compare_train_test"
   ]
  },
  {
   "cell_type": "code",
   "execution_count": 43,
   "id": "45e8a8fa",
   "metadata": {},
   "outputs": [
    {
     "data": {
      "text/plain": [
       "array([[0.95684546],\n",
       "       [0.04626891],\n",
       "       [0.01041242],\n",
       "       ...,\n",
       "       [0.72422594],\n",
       "       [0.81564826],\n",
       "       [0.59486514]], dtype=float32)"
      ]
     },
     "execution_count": 43,
     "metadata": {},
     "output_type": "execute_result"
    }
   ],
   "source": [
    "# X only has only the MC features\n",
    "y_predicted_keras = model.predict(X) \n",
    "y_predicted_keras"
   ]
  },
  {
   "cell_type": "code",
   "execution_count": 44,
   "id": "14d7def3",
   "metadata": {},
   "outputs": [
    {
     "name": "stdout",
     "output_type": "stream",
     "text": [
      "0      0.956845\n",
      "1      0.046269\n",
      "2      0.010412\n",
      "3      0.056033\n",
      "4      0.501885\n",
      "         ...   \n",
      "829    0.010315\n",
      "830    0.030659\n",
      "831    0.002493\n",
      "832    0.006736\n",
      "833    0.020888\n",
      "Name: Keras_NN_output, Length: 834, dtype: float32\n",
      "0         7.319272e-03\n",
      "1         6.570785e-01\n",
      "2         1.132935e-03\n",
      "3         3.817283e-01\n",
      "4         2.884474e-07\n",
      "              ...     \n",
      "523952    2.622008e-03\n",
      "523953    1.420423e-02\n",
      "523954    6.819367e-04\n",
      "523955    6.564289e-02\n",
      "523956    8.716984e-01\n",
      "Name: Keras_NN_output, Length: 523957, dtype: float32\n",
      "0         0.972608\n",
      "1         0.832082\n",
      "2         0.927660\n",
      "3         0.972931\n",
      "4         0.990189\n",
      "            ...   \n",
      "370035    0.976221\n",
      "370036    0.977625\n",
      "370037    0.724226\n",
      "370038    0.815648\n",
      "370039    0.594865\n",
      "Name: Keras_NN_output, Length: 370040, dtype: float32\n"
     ]
    }
   ],
   "source": [
    "cumulative_events = 0 # start counter for total number of events for which output is saved\n",
    "for key in data: # loop over samples\n",
    "    if key!='data':\n",
    "        data[key]['Keras_NN_output'] = y_predicted_keras[cumulative_events:cumulative_events+len(data[key])]\n",
    "        cumulative_events += len(data[key]) # increment counter for total number of events\n",
    "        print(data[key]['Keras_NN_output']) # print the dataframe column BDT_output"
   ]
  },
  {
   "cell_type": "code",
   "execution_count": 45,
   "id": "39501123",
   "metadata": {},
   "outputs": [
    {
     "name": "stdout",
     "output_type": "stream",
     "text": [
      "The max and min value of the BDT output for the y_predicted is 1.10 and -0.10, 12.00 respectively\n"
     ]
    }
   ],
   "source": [
    "bin_width = 0.1\n",
    "max_keras = y_predicted_keras.max()+bin_width\n",
    "min_keras = y_predicted_keras.min()-bin_width\n",
    "num_bins = np.ceil((max_keras - min_keras)/bin_width)\n",
    "num_bins = num_bins.astype(int)\n",
    "print(\"The max and min value of the BDT output for the y_predicted is {:.2f} and {:.2f}, {:.2f} respectively\".format(\n",
    "    max_keras, min_keras, num_bins))"
   ]
  },
  {
   "cell_type": "code",
   "execution_count": 46,
   "id": "ecb84fb1",
   "metadata": {},
   "outputs": [],
   "source": [
    "Keras_output = { # dictionary containing plotting parameters for the mllll histogram\n",
    "    # change plotting parameters\n",
    "    'bin_width':bin_width, # width of each histogram bin\n",
    "    'num_bins':num_bins, # number of histogram bins\n",
    "    'xrange_min':min_keras, # minimum on x-axis\n",
    "    'xlabel':'Keras NN output' # x-axis label\n",
    "}\n",
    "\n",
    "SoverB_hist_dict = {'Keras_NN_output':Keras_output}"
   ]
  },
  {
   "cell_type": "code",
   "execution_count": 47,
   "id": "30f8b4eb",
   "metadata": {},
   "outputs": [
    {
     "data": {
      "image/png": "[encoded data removed]",
      "text/plain": [
       "<Figure size 432x288 with 1 Axes>"
      ]
     },
     "metadata": {
      "needs_background": "light"
     },
     "output_type": "display_data"
    },
    {
     "data": {
      "image/png": "[encoded data removed]",
      "text/plain": [
       "<Figure size 432x288 with 1 Axes>"
      ]
     },
     "metadata": {
      "needs_background": "light"
     },
     "output_type": "display_data"
    }
   ],
   "source": [
    "plot_SoverB(data)"
   ]
  },
  {
   "cell_type": "code",
   "execution_count": 48,
   "id": "cd29f724",
   "metadata": {},
   "outputs": [],
   "source": [
    "def plot_data_optimized(data, model):\n",
    "    GeV = 1\n",
    "    xmin = 80 * GeV\n",
    "    xmax = 250 * GeV\n",
    "    step_size = 5 * GeV\n",
    "\n",
    "    bin_edges = np.arange(start=xmin, # The interval includes this value\n",
    "                     stop=xmax+step_size, # The interval doesn't include this value\n",
    "                     step=step_size ) # Spacing between values\n",
    "    bin_centres = np.arange(start=xmin+step_size/2, # The interval includes this value\n",
    "                            stop=xmax+step_size/2, # The interval doesn't include this value\n",
    "                            step=step_size ) # Spacing between values\n",
    "\n",
    "    signal_x = data[r'Signal ($m_H$ = 125 GeV)']['mllll'] # histogram the signal\n",
    "    signal_weights = data[r'Signal ($m_H$ = 125 GeV)'].totalWeight # get the weights of the signal events\n",
    "    signal_color = samples[r'Signal ($m_H$ = 125 GeV)']['color'] # get the colour for the signal bar\n",
    "\n",
    "    mc_x = [] # define list to hold the Monte Carlo histogram entries\n",
    "    mc_weights = [] # define list to hold the Monte Carlo weights\n",
    "    mc_colors = [] # define list to hold the colors of the Monte Carlo bars\n",
    "    mc_labels = [] # define list to hold the legend labels of the Monte Carlo bars\n",
    "\n",
    "    for s in samples: # loop over samples\n",
    "        if s not in ['data', r'Signal ($m_H$ = 125 GeV)']: # if not data nor signal\n",
    "            mc_x.append( data[s]['mllll'] ) # append to the list of Monte Carlo histogram entries\n",
    "            mc_weights.append( data[s].totalWeight ) # append to the list of Monte Carlo weights\n",
    "            mc_colors.append( samples[s]['color'] ) # append to the list of Monte Carlo bar colors\n",
    "            mc_labels.append( s ) # append to the list of Monte Carlo legend labels\n",
    "    \n",
    "\n",
    "\n",
    "    # *************\n",
    "    # Main plot \n",
    "    # *************\n",
    "    main_axes = plt.gca() # get current axes\n",
    "    \n",
    "    # plot the Monte Carlo bars\n",
    "    mc_heights = main_axes.hist(mc_x, bins=bin_edges, \n",
    "                                weights=mc_weights, stacked=True, \n",
    "                                color=mc_colors, label=mc_labels )\n",
    "    \n",
    "    mc_x_tot = mc_heights[0][-1] # stacked background MC y-axis value\n",
    "    \n",
    "    # calculate MC statistical uncertainty: sqrt(sum w^2)\n",
    "    mc_x_err = np.sqrt(np.histogram(np.hstack(mc_x), bins=bin_edges, weights=np.hstack(mc_weights)**2)[0])\n",
    "    \n",
    "    # plot the signal bar\n",
    "    main_axes.hist(signal_x, bins=bin_edges, bottom=mc_x_tot, \n",
    "                   weights=signal_weights, color=signal_color,\n",
    "                   label=r'Signal ($m_H$ = 125 GeV)')\n",
    "    \n",
    "    # plot the statistical uncertainty\n",
    "    main_axes.bar(bin_centres, # x\n",
    "                  2*mc_x_err, # heights\n",
    "                  alpha=0.5, # half transparency\n",
    "                  bottom=mc_x_tot-mc_x_err, color='none', \n",
    "                  hatch=\"////\", width=step_size, label='Stat. Unc.' )\n",
    "\n",
    "    # set the x-limit of the main axes\n",
    "    main_axes.set_xlim( left=xmin, right=xmax ) \n",
    "    \n",
    "    # separation of x axis minor ticks\n",
    "    main_axes.xaxis.set_minor_locator( AutoMinorLocator() ) \n",
    "    \n",
    "    # set the axis tick parameters for the main axes\n",
    "    main_axes.tick_params(which='both', # ticks on both x and y axes\n",
    "                          direction='in', # Put ticks inside and outside the axes\n",
    "                          top=True, # draw ticks on the top axis\n",
    "                          right=True ) # draw ticks on right axis\n",
    "    \n",
    "    # x-axis label\n",
    "    main_axes.set_xlabel(r'4-lepton invariant mass $\\mathrm{m_{4l}}$ [GeV]',\n",
    "                        fontsize=13, x=1, horizontalalignment='right' )\n",
    "    \n",
    "    # write y-axis label for main axes\n",
    "    main_axes.set_ylabel('Events / '+str(step_size)+' GeV',\n",
    "                         y=1, horizontalalignment='right') \n",
    "    \n",
    "    # set y-axis limits for main axes\n",
    "    main_axes.set_ylim( bottom=0, top=35 ) #---------------------------\n",
    "    \n",
    "    # add minor ticks on y-axis for main axes\n",
    "    main_axes.yaxis.set_minor_locator( AutoMinorLocator() ) \n",
    "\n",
    "    if(model == 'keras'):\n",
    "        plt.title(r'$\\mathrm{m_{4l}}$ invariant mass after cut on Keras output') # title\n",
    "\n",
    "    if(model == 'BDT'):\n",
    "        plt.title(r'$\\mathrm{m_{4l}}$ invariant mass after cut on BDT output') # title\n",
    "        \n",
    "    # Add text 'ATLAS Open Data' on plot\n",
    "    plt.text(0.05, # x\n",
    "             0.93, # y\n",
    "             'ATLAS Open Data', # text\n",
    "             transform=main_axes.transAxes, # coordinate system used is that of main_axes\n",
    "             fontsize=13 ) \n",
    "    \n",
    "    # Add text 'for education' on plot\n",
    "    plt.text(0.05, # x\n",
    "             0.88, # y\n",
    "             'work in progress', # text\n",
    "             transform=main_axes.transAxes, # coordinate system used is that of main_axes\n",
    "             style='italic',\n",
    "             fontsize=8 ) \n",
    "    \n",
    "    # Add energy and luminosity\n",
    "    lumi_used = str(lumi*fraction) # luminosity to write on the plot\n",
    "    plt.text(0.05, # x\n",
    "             0.82, # y\n",
    "             '$\\sqrt{s}$=13 TeV,$\\int$L dt = '+lumi_used+' fb$^{-1}$', # text\n",
    "             transform=main_axes.transAxes ) # coordinate system used is that of main_axes\n",
    "    \n",
    "    # Add a label for the analysis carried out\n",
    "    plt.text(0.05, # x\n",
    "             0.76, # y\n",
    "             r'$H \\rightarrow ZZ^* \\rightarrow 4\\ell$', # text \n",
    "             transform=main_axes.transAxes ) # coordinate system used is that of main_axes\n",
    "\n",
    "    # draw the legend\n",
    "    main_axes.legend( frameon=False ) # no box around the legend\n",
    "    plt.savefig('plots/HZZAnalysis_ML/HZZ_m4L_optimized'+model+'.pdf')\n",
    "    return"
   ]
  },
  {
   "cell_type": "code",
   "execution_count": 49,
   "id": "584d3d60",
   "metadata": {},
   "outputs": [],
   "source": [
    "data_BDT = {}\n",
    "data_keras = {}\n",
    "data_BDT = data.copy()\n",
    "data_keras = data.copy()\n",
    "del data_BDT['data']\n",
    "del data_keras['data']"
   ]
  },
  {
   "cell_type": "code",
   "execution_count": 50,
   "id": "ff5e05c9",
   "metadata": {},
   "outputs": [],
   "source": [
    "for key in data_keras: # loop over samples\n",
    "    if key!='data':\n",
    "        fail_keras_ouput = data_keras[key][data_keras[key]['Keras_NN_output'] <= 0.65].index\n",
    "        data_keras[key].drop(fail_keras_ouput,inplace=True) # drop the events that don't fulfill with sum_dphi < 3.5 requirement\n",
    "        data_keras[key] = data_keras[key].reset_index(drop=True)"
   ]
  },
  {
   "cell_type": "code",
   "execution_count": 51,
   "id": "2833ae36",
   "metadata": {},
   "outputs": [],
   "source": [
    "for key in data_BDT: # loop over samples\n",
    "    if key!='data':\n",
    "        fail_BDT_ouput = data_BDT[key][data_BDT[key]['BDT_output'] <= 0.125].index\n",
    "        data_BDT[key].drop(fail_BDT_ouput,inplace=True) # drop the events that don't fulfill with sum_dphi < 3.5 requirement\n",
    "        data_BDT[key] = data_BDT[key].reset_index(drop=True)"
   ]
  },
  {
   "cell_type": "code",
   "execution_count": 52,
   "id": "59fa595d",
   "metadata": {},
   "outputs": [
    {
     "data": {
      "image/png": "[encoded data removed]",
      "text/plain": [
       "<Figure size 432x288 with 1 Axes>"
      ]
     },
     "metadata": {
      "needs_background": "light"
     },
     "output_type": "display_data"
    }
   ],
   "source": [
    "plot_data_optimized(data_keras, 'keras')"
   ]
  },
  {
   "cell_type": "code",
   "execution_count": 53,
   "id": "671d41e1",
   "metadata": {},
   "outputs": [
    {
     "data": {
      "image/png": "[encoded data removed]",
      "text/plain": [
       "<Figure size 432x288 with 1 Axes>"
      ]
     },
     "metadata": {
      "needs_background": "light"
     },
     "output_type": "display_data"
    }
   ],
   "source": [
    "plot_data_optimized(data_BDT, 'BDT')"
   ]
  },
  {
   "cell_type": "code",
   "execution_count": null,
   "id": "9e3243ee",
   "metadata": {},
   "outputs": [],
   "source": []
  }
 ],
 "metadata": {
  "kernelspec": {
   "display_name": "Python 3",
   "language": "python",
   "name": "python3"
  },
  "language_info": {
   "codemirror_mode": {
    "name": "ipython",
    "version": 3
   },
   "file_extension": ".py",
   "mimetype": "text/x-python",
   "name": "python",
   "nbconvert_exporter": "python",
   "pygments_lexer": "ipython3",
   "version": "3.9.6"
  }
 },
 "nbformat": 4,
 "nbformat_minor": 5
}
