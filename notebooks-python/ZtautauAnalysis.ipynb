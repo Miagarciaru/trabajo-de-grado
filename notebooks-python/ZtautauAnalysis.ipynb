{
 "cells": [
  {
   "cell_type": "markdown",
   "id": "d097a7cb",
   "metadata": {},
   "source": [
    "<CENTER><img src=\"../images/ATLASOD.gif\" style=\"width:50%\"></CENTER>"
   ]
  },
  {
   "cell_type": "markdown",
   "id": "b5221298",
   "metadata": {},
   "source": [
    "# <CENTER><h1> Two $\\tau$-lepton final state: the case of SM Z boson production"
   ]
  },
  {
   "cell_type": "markdown",
   "id": "3dc01c1f",
   "metadata": {},
   "source": [
    "This notebook provides the analysis of Z boson decaying into two $\\tau$ leptons, one of them decaying hadronically and the other other decaying leptonically in the final state. The leptonic decay of the $\\tau$ lepton produces a light lepton such as an electron or muon, with a neutrino and antineutrino $(\\tau_l \\rightarrow l \\nu \\bar{\\nu})$ which are considered by the missing transverse energy of each event. The hadronic decay of the $\\tau$ lepton a highly collimated jet in the detector consisting of charged hadrons and possibly additional deposits of energy in calorimeters from neutral decays products $(\\tau_h \\rightarrow hadrons \\ \\nu)$. (For further information, see [ATLAS documentation 13 TeV](https://cds.cern.ch/record/2707171/files/ANA-OTRC-2019-01-PUB-updated.pdf) and look for the 3.10 section).\n",
    "\n",
    "The selection criteria we are going to use requires we have into account at least three main sources of background :\n",
    "* $Z \\rightarrow ee, \\mu \\mu$: The Z boson decaying into two light leptons.\n",
    "* $W+jets$: Which consider a lepton (electron or muon) with neutrinos and jets in the final state.\n",
    "* $Others$: Which consider $t \\bar{t}$, single top, DY and diboson processes with jets and leptons in final state \n",
    "\n",
    "Our signal is the processes $Z \\rightarrow \\tau \\tau$ with hadronic and leptonic decays of the $\\tau$ leptons, and the idea is to compare Data with MC samples once we have applied all cuts at the end of the analysis and see how MC samples match with the selected data.\n",
    "\n",
    "At the end of this analysis, you will be able to get plots with the missing transverse energy $E_{T}^{miss}$, the visible mass of the $\\tau$ lepton and the light lepton system, and the transverse mass calculated from the light lepton and the missing transverse energy system, all of them having into account the contribution of MC samples (a stacked plot). Here you can find many tools to perform the desired selection of events, how to declarate histograms, variables, read ROOT files and so on."
   ]
  },
  {
   "cell_type": "markdown",
   "id": "c064f8bf",
   "metadata": {},
   "source": [
    "The Feynman diagram of our process can be shown below:"
   ]
  },
  {
   "cell_type": "markdown",
   "id": "6649548b",
   "metadata": {},
   "source": [
    "$Z \\rightarrow \\tau_{l} \\tau_{h}$\n",
    "![Z tau tau](../images/ztautau.png)"
   ]
  },
  {
   "cell_type": "markdown",
   "id": "624253b9",
   "metadata": {},
   "source": [
    "The Analysis is implemented by using some useful tools, such as pandas (to storage dataframes), numpy (the numerical library of python), uproot3 (to read root files), matplotlib (to plot our graphics) and math library (an additional library in python that allows you to use numerical functions).\n",
    "\n",
    "First at all, we should verify that we have installed all need tools to perform our analysis. If we haven't, we can run the next code line:"
   ]
  },
  {
   "cell_type": "code",
   "execution_count": 1,
   "id": "614a26c5",
   "metadata": {},
   "outputs": [
    {
     "data": {
      "text/plain": [
       "'\\nimport sys\\n!{sys.executable} -m pip install --upgrade --user pip # update the pip package installer\\n!{sys.executable} -m pip install -U numpy pandas uproot3 matplotlib --user # install required packages\\n'"
      ]
     },
     "execution_count": 1,
     "metadata": {},
     "output_type": "execute_result"
    }
   ],
   "source": [
    "\"\"\"\n",
    "import sys\n",
    "!{sys.executable} -m pip install --upgrade --user pip # update the pip package installer\n",
    "!{sys.executable} -m pip install -U numpy pandas uproot3 matplotlib --user # install required packages\n",
    "\"\"\""
   ]
  },
  {
   "cell_type": "markdown",
   "id": "0d83a4ee",
   "metadata": {},
   "source": [
    "Now, we can import the tools that we are going to use (pandas, numpy, matplotlib, etc):"
   ]
  },
  {
   "cell_type": "code",
   "execution_count": 2,
   "id": "5f4452e8",
   "metadata": {},
   "outputs": [
    {
     "name": "stderr",
     "output_type": "stream",
     "text": [
      "/cvmfs/sft.cern.ch/lcg/views/LCG_101swan/x86_64-centos7-gcc10-opt/lib/python3.9/site-packages/uproot3/__init__.py:127: FutureWarning: Consider switching from 'uproot3' to 'uproot', since the new interface became the default in 2020.\n",
      "\n",
      "    pip install -U uproot\n",
      "\n",
      "In Python:\n",
      "\n",
      "    >>> import uproot\n",
      "    >>> with uproot.open(...) as file:\n",
      "    ...\n",
      "\n",
      "  warnings.warn(\n",
      "/cvmfs/sft.cern.ch/lcg/views/LCG_101swan/x86_64-centos7-gcc10-opt/lib/python3.9/site-packages/awkward0/__init__.py:12: FutureWarning: Consider switching from 'awkward0' to 'awkward', since the new interface became the default in 2020.\n",
      "\n",
      "    pip install -U awkward\n",
      "\n",
      "In Python:\n",
      "\n",
      "    >>> import awkward as ak\n",
      "    >>> new_style_array = ak.from_awkward0(old_style_array)\n",
      "    >>> old_style_array = ak.to_awkward0(new_style_array)\n",
      "\n",
      "  warnings.warn(\n"
     ]
    }
   ],
   "source": [
    "import pandas as pd # to store data as dataframes\n",
    "import numpy as np # for numerical calculations such as histogramming\n",
    "import math # for mathematical functions such as square root\n",
    "import uproot3 # to read .root files as dataframes\n",
    "import time # to measure time to analyse\n",
    "import matplotlib.pyplot as plt # for plotting\n",
    "from matplotlib.ticker import AutoMinorLocator # for minor ticks\n",
    "import infofile # local file containing info on cross-sections, sums of weights, dataset IDs"
   ]
  },
  {
   "cell_type": "markdown",
   "id": "e4de0204",
   "metadata": {},
   "source": [
    "The root files which contain the events information is storaged in [1lep1tau folder](https://atlas-opendata.web.cern.ch/atlas-opendata/samples/2020/1lep1tau/). So we are going to define the \"path_file\" variable which contains the url of the folder uploaded in the ATLAS Open Data repository on the cloud. The next code line also defines a variable named \"lumi\", which represents the luminosity and it is equal to 10 $fb^{-1}$. If we want to run the analysis over a fraction of the whole data and MC samples, we can define another variable named \"fraction\", which will be defined equal to 0.1 as default. However, you can change this fraction value and see how this can affect the final result shown in the final plots:"
   ]
  },
  {
   "cell_type": "code",
   "execution_count": 3,
   "id": "13897be3",
   "metadata": {},
   "outputs": [],
   "source": [
    "lumi = 10 # fb-1 # data_A,data_B,data_C,data_D\n",
    "\n",
    "fraction = 1.0 # reduce this is if you want the code to run quicker\n",
    "                                                                                                                                  \n",
    "#tuple_path = \"Input/4lep/\" # local \n",
    "tuple_path = \"https://atlas-opendata.web.cern.ch/atlas-opendata/samples/2020/1lep1tau/\" # web address"
   ]
  },
  {
   "cell_type": "markdown",
   "id": "c47d0395",
   "metadata": {},
   "source": [
    "Now, we are going to make a list named \"samples\". In this samples list we are going to include data and background samples (including the signal we want to observe). In the next code line we can see all samples that are going to be used in the analysis and to what group they belong. If you want to add more samples, consider modify this code line too. "
   ]
  },
  {
   "cell_type": "code",
   "execution_count": 4,
   "id": "f2675a0a",
   "metadata": {},
   "outputs": [],
   "source": [
    "samples = {\n",
    "\n",
    "    'data': {\n",
    "        'list' : ['data_A','data_B','data_C','data_D'],\n",
    "    },\n",
    "\n",
    "    \n",
    "    r'Other' : { #\n",
    "        'list' : ['llll', 'lllv', 'llvv', 'lvvv', 'ZqqZll','WqqZll','WpqqWmlv', 'WplvWmqq', 'WlvZqq', \n",
    "                  'single_top_tchan','single_antitop_tchan','single_top_schan','single_antitop_schan',\n",
    "                  'single_top_wtchan','single_antitop_wtchan','ttbar_lep'],\n",
    "        'color' : \"#6b59d3\" # purple\n",
    "    },\n",
    "\n",
    "    r'$W+$jets' : { #\n",
    "        'list' : ['Wmunu_PTV0_70_CVetoBVeto', 'Wmunu_PTV0_70_CFilterBVeto', 'Wmunu_PTV0_70_BFilter',\n",
    "                 'Wmunu_PTV70_140_CVetoBVeto', 'Wmunu_PTV70_140_CFilterBVeto', 'Wmunu_PTV70_140_BFilter',\n",
    "                 'Wmunu_PTV140_280_CVetoBVeto', 'Wmunu_PTV140_280_CFilterBVeto', 'Wmunu_PTV140_280_BFilter',\n",
    "                 'Wmunu_PTV280_500_CVetoBVeto', 'Wmunu_PTV280_500_CFilterBVeto', 'Wmunu_PTV280_500_BFilter',\n",
    "                 'Wmunu_PTV500_1000', 'Wmunu_PTV1000_E_CMS', 'Wenu_PTV0_70_CVetoBVeto', 'Wenu_PTV0_70_CFilterBVeto',\n",
    "                 'Wenu_PTV0_70_BFilter', 'Wenu_PTV70_140_CVetoBVeto', 'Wenu_PTV70_140_CFilterBVeto',\n",
    "                 'Wenu_PTV70_140_BFilter', 'Wenu_PTV140_280_CVetoBVeto', 'Wenu_PTV140_280_CFilterBVeto',\n",
    "                 'Wenu_PTV140_280_BFilter', 'Wenu_PTV280_500_CVetoBVeto', 'Wenu_PTV280_500_CFilterBVeto',\n",
    "                 'Wenu_PTV280_500_BFilter', 'Wenu_PTV500_1000', 'Wenu_PTV1000_E_CMS', 'Wtaunu_PTV0_70_CVetoBVeto',\n",
    "                 'Wtaunu_PTV0_70_CFilterBVeto', 'Wtaunu_PTV0_70_BFilter', 'Wtaunu_PTV70_140_CVetoBVeto',\n",
    "                 'Wtaunu_PTV70_140_CFilterBVeto', 'Wtaunu_PTV70_140_BFilter', 'Wtaunu_PTV140_280_CVetoBVeto',\n",
    "                 'Wtaunu_PTV140_280_CFilterBVeto', 'Wtaunu_PTV140_280_BFilter', 'Wtaunu_PTV280_500_CVetoBVeto',\n",
    "                 'Wtaunu_PTV280_500_CFilterBVeto', 'Wtaunu_PTV280_500_BFilter', 'Wtaunu_PTV500_1000',\n",
    "                 'Wtaunu_PTV1000_E_CMS'],\n",
    "        'color' : \"#00ff84\" # ligth green\n",
    "    },\n",
    "    \n",
    "    \n",
    "    r' $Z \\rightarrow ee, \\mu \\mu$' : { #\n",
    "        'list' : ['Zmumu_PTV0_70_CVetoBVeto', 'Zmumu_PTV0_70_CFilterBVeto', 'Zmumu_PTV0_70_BFilter',\n",
    "                 'Zmumu_PTV70_140_CVetoBVeto', 'Zmumu_PTV70_140_CFilterBVeto', 'Zmumu_PTV70_140_BFilter',\n",
    "                 'Zmumu_PTV140_280_CVetoBVeto', 'Zmumu_PTV140_280_CFilterBVeto', 'Zmumu_PTV140_280_BFilter',\n",
    "                 'Zmumu_PTV280_500_CVetoBVeto', 'Zmumu_PTV280_500_CFilterBVeto', 'Zmumu_PTV280_500_BFilter',\n",
    "                 'Zmumu_PTV500_1000', 'Zmumu_PTV1000_E_CMS', 'Zee_PTV0_70_CVetoBVeto', 'Zee_PTV0_70_CFilterBVeto',\n",
    "                 'Zee_PTV0_70_BFilter', 'Zee_PTV70_140_CVetoBVeto', 'Zee_PTV70_140_CFilterBVeto',\n",
    "                 'Zee_PTV70_140_BFilter', 'Zee_PTV140_280_CVetoBVeto', 'Zee_PTV140_280_CFilterBVeto',\n",
    "                 'Zee_PTV140_280_BFilter', 'Zee_PTV280_500_CVetoBVeto', 'Zee_PTV280_500_CFilterBVeto',\n",
    "                 'Zee_PTV280_500_BFilter', 'Zee_PTV500_1000', 'Zee_PTV1000_E_CMS'],\n",
    "        'color' : \"#ff0000\" # red\n",
    "    },\n",
    "    \n",
    " \n",
    "    r' $Z \\rightarrow \\tau \\tau$' : { # \n",
    "        'list' : ['Ztautau_PTV0_70_CVetoBVeto', 'Ztautau_PTV0_70_CFilterBVeto', 'Ztautau_PTV0_70_BFilter',\n",
    "                 'Ztautau_PTV70_140_CVetoBVeto', 'Ztautau_PTV70_140_CFilterBVeto', 'Ztautau_PTV70_140_BFilter',\n",
    "                 'Ztautau_PTV140_280_CVetoBVeto', 'Ztautau_PTV140_280_CFilterBVeto', 'Ztautau_PTV140_280_BFilter',\n",
    "                 'Ztautau_PTV280_500_CVetoBVeto', 'Ztautau_PTV280_500_CFilterBVeto', 'Ztautau_PTV280_500_BFilter',\n",
    "                 'Ztautau_PTV500_1000', 'Ztautau_PTV1000_E_CMS'],\n",
    "        'color' : \"#00cdff\" # light blue\n",
    "    }\n",
    "}"
   ]
  },
  {
   "cell_type": "markdown",
   "id": "dc1729cd",
   "metadata": {},
   "source": [
    "The next function named \"get data from files\" returns the events from data and MC samples that passed the selection criteria once we have applied all cuts. First, the function makes a for loop in the \"samples\" list and separates data from background in order to define an adequate path to open the root files. Then, it defines a temporary dataframe in which we save the events passing the criteria selection for each sample. Finally, it adds these temporary dataframes into a dictionary (named \"data\" in the code line) for each sample group and returns this data dictionary with the information of all the events considered in the analysis that passed the criteria selection. At the end, this function gives us the whole events information we need to create our final plot."
   ]
  },
  {
   "cell_type": "code",
   "execution_count": 5,
   "id": "d8532dd2",
   "metadata": {},
   "outputs": [],
   "source": [
    "def get_data_from_files():\n",
    "\n",
    "    data = {} # define empty dictionary to hold dataframes\n",
    "    for s in samples: # loop over samples\n",
    "        print('Processing '+s+' samples') # print which sample\n",
    "        frames = [] # define empty list to hold data\n",
    "        for val in samples[s]['list']: # loop over each file\n",
    "            if s == 'data': prefix = \"Data/\" # Data prefix\n",
    "            else: # MC prefix\n",
    "                prefix = \"MC/mc_\"+str(infofile.infos[val][\"DSID\"])+\".\"\n",
    "            temp = pd.DataFrame()\n",
    "            fileString = tuple_path+prefix+val+\".1lep1tau.root\" # file name to open\n",
    "            temp = read_file(fileString,val) # call the function read_file defined below\n",
    "            temp = temp.reset_index(drop=True)\n",
    "            frames.append(temp) # append dataframe returned from read_file to list of dataframes\n",
    "        data[s] = pd.concat(frames) # dictionary entry is concatenated dataframes\n",
    "    \n",
    "    return data # return dictionary of dataframes"
   ]
  },
  {
   "cell_type": "markdown",
   "id": "0cd984b9",
   "metadata": {},
   "source": [
    "The \"calc_weight\" function calculates the total weight for each event taking into account the weight associated with the cross section and the efficiency of the detectors, the scale factors that consider the PILE UP and leptons triggers and the weight given by the algorithms used to create the MC samples. This function is only applied for MC samples and not for data."
   ]
  },
  {
   "cell_type": "code",
   "execution_count": 6,
   "id": "91b9f682",
   "metadata": {},
   "outputs": [],
   "source": [
    "def calc_weight(xsec_weight, mcWeight, scaleFactor_PILEUP,\n",
    "                scaleFactor_ELE, scaleFactor_MUON, \n",
    "                scaleFactor_LepTRIGGER ):\n",
    "    return (xsec_weight * mcWeight * scaleFactor_PILEUP * scaleFactor_ELE * scaleFactor_MUON  * scaleFactor_LepTRIGGER)"
   ]
  },
  {
   "cell_type": "markdown",
   "id": "4dc72178",
   "metadata": {},
   "source": [
    "Now, we define a function that computes the factor weight due to the information in the infofile.py file. This function uses the event weight due to efficiency of the calorimeters, the sum of weights for MC and the cross section for samples. Of course, the data samples are not needed to be scaled, this only apply for MC samples:"
   ]
  },
  {
   "cell_type": "code",
   "execution_count": 7,
   "id": "ec143539",
   "metadata": {},
   "outputs": [],
   "source": [
    "def get_xsec_weight(sample):\n",
    "    info = infofile.infos[sample] # open infofile\n",
    "    xsec_weight = (lumi*1000*info[\"xsec\"])/(info[\"sumw\"]*info[\"red_eff\"]) #*1000 to go from fb-1 to pb-1\n",
    "    return xsec_weight # return cross-section weight"
   ]
  },
  {
   "cell_type": "markdown",
   "id": "2280d8a5",
   "metadata": {},
   "source": [
    "## Useful functions to calculate variables"
   ]
  },
  {
   "cell_type": "markdown",
   "id": "9381ccc8",
   "metadata": {},
   "source": [
    "It is need to calculate some variables during the analysis, such variables are for example the transverse mass, the visible mass, the sum of the azimuthal angular separation between the $\\tau_h$ candidate and the $E_{T}^{miss}$ directions and the sum of the azimutal angular separation between the good leptons candidates and the $E_{T}^{miss}$ directions, as well as the indexes for the good light lepton and $\\tau$ lepton candidates. For this reason, we define the following functions."
   ]
  },
  {
   "cell_type": "markdown",
   "id": "9f78e33d",
   "metadata": {},
   "source": [
    "### Transverse mass $m_T$"
   ]
  },
  {
   "cell_type": "markdown",
   "id": "3bc59a6e",
   "metadata": {},
   "source": [
    "The \"transverse mass calculation\" function recieves the $p_T$ and $\\phi$ of the good light lepton candidate as well as the $E_{T}^{miss}$ and $\\phi_{T}^{miss}$. It calculates the $\\Delta \\phi (l, E_{T}^{miss})$ and use it to compute the transverse mass using the next relation:\n",
    "\n",
    "$$m_T = \\sqrt{2 \\cdot p_{T}^{l} \\cdot E_{T}^{miss} \\cdot ( 1 - \\cos \\Delta \\phi (l, E_{T}^{miss}) )}$$\n",
    "\n",
    "In order to get a $\\Delta \\phi (l, E_{T}^{miss})$ between $-\\pi$ and $\\pi$, we use the periodicity property of $\\pi$ angle. "
   ]
  },
  {
   "cell_type": "code",
   "execution_count": 8,
   "id": "2dfa7f4d",
   "metadata": {},
   "outputs": [],
   "source": [
    "def transverse_mass_calculation(lep_pt, lep_phi, goodlep_index, met_et, met_phi):\n",
    "    mT = 0\n",
    "    if(lep_pt.size!=0 and lep_phi.size!=0):\n",
    "        delta_phi = lep_phi[goodlep_index]-met_phi\n",
    "        if (delta_phi >= np.pi): delta_phi -= 2*np.pi # use π periodicity to get number between -π and π\n",
    "        elif delta_phi < -np.pi: delta_phi += 2*np.pi # use π periodicity to get number between -π and π\n",
    "        leptonpT = lep_pt[goodlep_index]\n",
    "        MET = met_et\n",
    "        mT = np.sqrt(2*leptonpT*MET*(1-np.cos(delta_phi)))\n",
    "    return mT"
   ]
  },
  {
   "cell_type": "markdown",
   "id": "cdb1f7c0",
   "metadata": {},
   "source": [
    "## Visible Mass"
   ]
  },
  {
   "cell_type": "markdown",
   "id": "5c82379d",
   "metadata": {},
   "source": [
    "The \"visible mass calculation\" function requires the $p_{T}^{l}$, $\\eta_l$, $\\phi_l$ and $E_l$ of the light lepton and $p_{T}^{\\tau}$, $\\eta_{\\tau}$, $\\phi_{\\tau}$ and $E_{\\tau}$ of the $\\tau$ lepton candidates to calculate the visible mass. This variable is calculated using the next relation:\n",
    "\n",
    "$$m_{vis} = \\sqrt{E^2 - p^2}$$\n",
    "\n",
    "where $E$ is the energy and $p$ is the total momentum of the two lepton system."
   ]
  },
  {
   "cell_type": "code",
   "execution_count": 9,
   "id": "d5a9f94e",
   "metadata": {},
   "outputs": [],
   "source": [
    "def visible_mass_calculation(lep_pt,lep_eta,lep_phi,lep_E,tau_pt,tau_eta,tau_phi,tau_E,goodlep_index,goodtau_index):\n",
    "    vis_mass = 0\n",
    "    if(lep_pt.size!=0 and lep_eta.size!=0 and lep_phi.size!=0 and lep_E.size!=0 and \n",
    "       tau_pt.size!=0 and tau_eta.size!=0 and tau_phi.size!=0 and tau_E.size!=0):\n",
    "        lep_px = lep_pt[goodlep_index]*np.cos(lep_phi[goodlep_index]) # x-component of goodlepton momentum\n",
    "        lep_py = lep_pt[goodlep_index]*np.sin(lep_phi[goodlep_index]) # y-component of goodlepton momentum\n",
    "        lep_pz = lep_pt[goodlep_index]*np.sinh(lep_eta[goodlep_index]) # z-component of goodlepton momentum\n",
    "        tau_px = tau_pt[goodtau_index]*np.cos(tau_phi[goodtau_index]) # x-component of goodtau momentum\n",
    "        tau_py = tau_pt[goodtau_index]*np.sin(tau_phi[goodtau_index]) # y-component of goodtau momentum\n",
    "        tau_pz = tau_pt[goodtau_index]*np.sinh(tau_eta[goodtau_index]) # z-component of goodtau momentum\n",
    "        sumpx = lep_px + tau_px # x-component momentum\n",
    "        sumpy = lep_py + tau_py # y-component momentum\n",
    "        sumpz = lep_pz + tau_pz # z-component momentum \n",
    "        sump = np.sqrt(sumpx**2 + sumpy**2 + sumpz**2) # magnitude of momentum \n",
    "        sumE = lep_E[goodlep_index] + tau_E[goodtau_index] # energy of two lepton system\n",
    "        vis_mass = np.sqrt(sumE**2 - sump**2) #MeV\n",
    "    return vis_mass"
   ]
  },
  {
   "cell_type": "markdown",
   "id": "9aa29830",
   "metadata": {},
   "source": [
    "## Azimutal angular separation"
   ]
  },
  {
   "cell_type": "markdown",
   "id": "442709d7",
   "metadata": {},
   "source": [
    "The \"total sum dPhi calculation\" function requires $\\phi_l$, $\\phi_{\\tau}$ of the two good leptons candidates and the $E_{T}^{miss}$. This function calculates the total azimutal angular separation from the good light lepton and the $E_{T}^{miss}$, $\\Delta \\phi (l, E_{T}^{miss})$ and the $\\tau-$lepton and $E_{T}^{miss}$, $\\Delta \\phi (\\tau, E_{T}^{miss})$. AT the end, it returns the $\\Delta \\phi (l, \\tau, E_{T}^{miss})$ using the following relation:\n",
    "\n",
    "$$\\Delta \\phi (l, \\tau, E_{T}^{miss}) = \\Delta \\phi (l, E_{T}^{miss}) + \\Delta \\phi (\\tau, E_{T}^{miss})$$\n",
    "\n",
    "For $\\Delta \\phi (l, E_{T}^{miss})$ and $\\Delta \\phi (\\tau, E_{T}^{miss})$ we use the periodicity of $\\pi$ angle to get them between $-\\pi$ and $\\pi$."
   ]
  },
  {
   "cell_type": "code",
   "execution_count": 10,
   "id": "3a3d60be",
   "metadata": {},
   "outputs": [],
   "source": [
    "def total_sum_dPhi_calculation(lep_phi, tau_phi, met_phi, goodlep_index, goodtau_index):\n",
    "    sum_dphi = 4 ## because the cut is sum_dphi < 3.5 and at the moment, this event has to overcome if conditionals\n",
    "    dPhi_tau_MET = 0\n",
    "    dPhi_lep_MET = 0\n",
    "    if(lep_phi.size!=0 and tau_phi.size!=0):\n",
    "        dPhi_tau_MET = np.abs(tau_phi[goodtau_index] - met_phi)\n",
    "        # dPhi_tau_MET = dPhi_tau_MET < np.Pi() ? dPhi_tau_MET : 2*TMath::Pi() - dPhi_tau_MET;\n",
    "        if(dPhi_tau_MET > np.pi):\n",
    "            dPhi_tau_MET = 2*np.pi - dPhi_tau_MET\n",
    "            \n",
    "        dPhi_lep_MET = np.abs(lep_phi[goodlep_index] - met_phi)\n",
    "        #dPhi_lep_MET = dPhi_lep_MET < TMath::Pi() ? dPhi_lep_MET : 2*TMath::Pi() - dPhi_lep_MET;\n",
    "        if(dPhi_lep_MET > np.pi):\n",
    "            dPhi_lep_MET = 2*np.pi - dPhi_lep_MET\n",
    "                \n",
    "        sum_dphi = dPhi_tau_MET  + dPhi_lep_MET\n",
    "        \n",
    "    return sum_dphi"
   ]
  },
  {
   "cell_type": "markdown",
   "id": "eaebc447",
   "metadata": {},
   "source": [
    "## Good lepton candidates indexes"
   ]
  },
  {
   "cell_type": "markdown",
   "id": "f2dc9cec",
   "metadata": {},
   "source": [
    "Finally, we extract the indexes for the good lepton candidates, in order to identify them among all leptons in each events. Because, we know events have to have only one light lepton and one $\\tau-$lepton, when we find the first good lepton, the code uses \"break\" between for loop to save time. The following two function returns the indexes for the good light lepton and the $\\tau$ lepton candidates respectively."
   ]
  },
  {
   "cell_type": "code",
   "execution_count": 11,
   "id": "e900040f",
   "metadata": {},
   "outputs": [],
   "source": [
    "def get_goodlep_index(lep_n, lep_pt, lep_eta, lep_ptcone30, lep_etcone20, lep_type, lep_isTightID):\n",
    "    goodlep_index = 0\n",
    "\n",
    "    for i in range (lep_n):\n",
    "        if(lep_isTightID[i]==False): continue\n",
    "        if(lep_pt[i]<=30000. or (lep_ptcone30[i]/lep_pt[i]>=0.1) or (lep_etcone20[i]/lep_pt[i]>=0.1) ): continue\n",
    "        if(lep_type[i]==11 and abs(lep_eta[i])<2.47 and (abs(lep_eta[i])<1.37 or abs(lep_eta[i])>1.52)):\n",
    "            goodlep_index = i\n",
    "            break\n",
    "\n",
    "        # muon selection\n",
    "        if(lep_type[i]==13 and abs(lep_eta[i])<2.5):\n",
    "            goodlep_index = i\n",
    "            break\n",
    "    return goodlep_index"
   ]
  },
  {
   "cell_type": "code",
   "execution_count": 12,
   "id": "b33a1959",
   "metadata": {},
   "outputs": [],
   "source": [
    "def get_goodtau_index(tau_n, tau_pt, tau_eta, tau_isTightID):\n",
    "    goodtau_index = 0\n",
    "\n",
    "    for i in range (tau_n):\n",
    "        if(tau_isTightID[i] == False): continue\n",
    "        if(tau_pt[i]>25000. and abs(tau_eta[i])<2.5):\n",
    "            goodtau_index = i\n",
    "            break\n",
    "    return goodtau_index"
   ]
  },
  {
   "cell_type": "markdown",
   "id": "327c82ad",
   "metadata": {},
   "source": [
    "## Changing a cut"
   ]
  },
  {
   "cell_type": "markdown",
   "id": "d0358895",
   "metadata": {},
   "source": [
    "In this section, we will define all cuts that are going to be applied in the criteria selection for our analysis."
   ]
  },
  {
   "cell_type": "markdown",
   "id": "9f872a3f",
   "metadata": {},
   "source": [
    "### Lepton trigger"
   ]
  },
  {
   "cell_type": "markdown",
   "id": "7c6f61c9",
   "metadata": {},
   "source": [
    "This cut needs the trigE and trigM variables. We want to choose events that have either trigE or trigM bool variables equal to True. This requirement tells us that at least, either an electron or muon has been identified in the event."
   ]
  },
  {
   "cell_type": "code",
   "execution_count": 13,
   "id": "0d31d35a",
   "metadata": {},
   "outputs": [],
   "source": [
    "def trigger(trigE, trigM):\n",
    "    if((trigE != True) and (trigM != True)): return True\n",
    "    return False"
   ]
  },
  {
   "cell_type": "markdown",
   "id": "f29a6541",
   "metadata": {},
   "source": [
    "### Good lepton number cut"
   ]
  },
  {
   "cell_type": "markdown",
   "id": "dd4b2f9d",
   "metadata": {},
   "source": [
    "This cut needs the lepton number, if the lepton is Tight ID, the pT, $\\eta$, $\\phi$, type, ptcone30 and etcone30 variables of each lepton in the event. We want to choose events that have only one good light lepton according to:\n",
    "\n",
    "* Lepton is tight ID\n",
    "* Lepton $p_{T}^{l}>30 GeV$\n",
    "* Isolated lepton (lep_ptcone30/lep_pt and lep_etcone20/lep_pt less than 0.1)\n",
    "* If the lepton is an electron, $|\\eta_l|<2.4$ and $1.37<|\\eta_l|>1.52$\n",
    "* If the lepton is a muon, $|\\eta_l|<2.5$\n",
    "\n",
    "If the event doesn't fulfill this requirement, the event is dropped."
   ]
  },
  {
   "cell_type": "code",
   "execution_count": 14,
   "id": "de10f8b7",
   "metadata": {},
   "outputs": [],
   "source": [
    "def goodlep_cut(lep_n, lep_pt, lep_eta, lep_phi, lep_ptcone30, lep_etcone20, lep_type, lep_isTightID, lep_trackd0pvunbiased,\n",
    "                lep_tracksigd0pvunbiased, lep_z0):\n",
    "    goodlep_n = 0\n",
    "\n",
    "    for i in range (lep_n):\n",
    "        if(lep_isTightID[i]==False): continue\n",
    "        #Lepton is highly isolated and hard\n",
    "        if(lep_pt[i]<=30000. or (lep_ptcone30[i]/lep_pt[i]>=0.1) or (lep_etcone20[i]/lep_pt[i]>=0.1) ): continue\n",
    "        theta = 0\n",
    "        p_x = lep_pt[i]*np.cos(lep_phi[i]) # x-component of goodlepton momentum\n",
    "        p_y = lep_pt[i]*np.sin(lep_phi[i]) # y-component of goodlepton momentum\n",
    "        p_z = lep_pt[i]*np.sinh(lep_eta[i]) # z-component of goodlepton momentum\n",
    "        Perp = np.sqrt(p_x*p_x + p_y*p_y)\n",
    "        if(p_x!=0.0 and p_y!=0.0 and p_z!=0.0):\n",
    "            theta = np.arctan2(Perp, p_z)     \n",
    "            \n",
    "        # electron selection in fiducial region excluding candidates in the transition region between \n",
    "        #the barrel and endcap electromagnetic calorimeters\n",
    "        if(lep_type[i]==11 and abs(lep_eta[i])<2.47 and (abs(lep_eta[i])<1.37 or abs(lep_eta[i])>1.52)):\n",
    "            \n",
    "            if(abs(lep_trackd0pvunbiased[i]/lep_tracksigd0pvunbiased[i])<5 and abs(lep_z0[i]*np.sin(theta)<0.5)):\n",
    "                goodlep_n+=1\n",
    "            \n",
    "        # muon selection\n",
    "        if(lep_type[i]==13 and abs(lep_eta[i])<2.5):\n",
    "            if(abs(lep_trackd0pvunbiased[i]/lep_tracksigd0pvunbiased[i])<3 and abs(lep_z0[i]*np.sin(theta)<0.5)):\n",
    "                goodlep_n+=1\n",
    "                    \n",
    "    if(goodlep_n!=1): return True\n",
    "    return False"
   ]
  },
  {
   "cell_type": "markdown",
   "id": "f6523e86",
   "metadata": {},
   "source": [
    "### Good $\\tau-$lepton number cut"
   ]
  },
  {
   "cell_type": "markdown",
   "id": "83c16b23",
   "metadata": {},
   "source": [
    "This cut needs the $\\tau$ number in the event, if the $\\tau-$lepton is Tight ID, their $p_T$, $\\eta$ and $\\phi$ variables. We want to choose events that have only one good $\\tau-$lepton according to:\n",
    "\n",
    "* $\\tau-$lepton is tight ID\n",
    "* $\\tau-$lepton $p_{T}^{\\tau}>25 GeV$\n",
    "* $\\tau-$lepton $|\\eta_{\\tau}|<2.5$\n",
    "\n",
    "If the event doesn't fulfill this requirement, the event is dropped."
   ]
  },
  {
   "cell_type": "code",
   "execution_count": 15,
   "id": "0803459f",
   "metadata": {},
   "outputs": [],
   "source": [
    "def goodtau_cut(tau_n, tau_pt, tau_eta, tau_isTightID):\n",
    "    goodtau_n = 0\n",
    "\n",
    "    for i in range (tau_n):\n",
    "        if(tau_isTightID[i] == False): continue\n",
    "        if(tau_pt[i]>25000. and abs(tau_eta[i])<2.5):\n",
    "            goodtau_n+=1\n",
    "                \n",
    "    if(goodtau_n!=1): return True\n",
    "    return False"
   ]
  },
  {
   "cell_type": "markdown",
   "id": "ae489965",
   "metadata": {},
   "source": [
    "### Opposite charges of two lepton candidates cut"
   ]
  },
  {
   "cell_type": "markdown",
   "id": "ae95b2a2",
   "metadata": {},
   "source": [
    "This cut select events in which the two good lepton candidates have opposite charges. The reason behind this requirement is that the Z boson has electric charge equal to zero and leptons from the decays of these Z bosons have to have different charges in order to keep the neutrality of charge."
   ]
  },
  {
   "cell_type": "code",
   "execution_count": 16,
   "id": "e33ccbc3",
   "metadata": {},
   "outputs": [],
   "source": [
    "def opposite_charge_cut(lep_charge, tau_charge, goodlep_index, goodtau_index):   \n",
    "    if(lep_charge.size==0 or tau_charge.size==0): return True\n",
    "    if(lep_charge.size!=0 and tau_charge.size!=0):\n",
    "        leptoncharge = lep_charge[goodlep_index]\n",
    "        taucharge = tau_charge[goodtau_index]\n",
    "        if(leptoncharge*taucharge>0): return True\n",
    "    return False"
   ]
  },
  {
   "cell_type": "markdown",
   "id": "32493661",
   "metadata": {},
   "source": [
    "### Transverse mass cut"
   ]
  },
  {
   "cell_type": "markdown",
   "id": "cc5e4b12",
   "metadata": {},
   "source": [
    "This cut requires that the transverse mass calculated from the light lepton and the $E_{T}^{miss}$ be less than 30 GeV. "
   ]
  },
  {
   "cell_type": "code",
   "execution_count": 17,
   "id": "90955dce",
   "metadata": {},
   "outputs": [],
   "source": [
    "def transverse_mass_cut(mT):\n",
    "    if(mT >= 30000.): return True\n",
    "    return False"
   ]
  },
  {
   "cell_type": "markdown",
   "id": "63c630bb",
   "metadata": {},
   "source": [
    "### Visible mass cut"
   ]
  },
  {
   "cell_type": "markdown",
   "id": "ebb40c1b",
   "metadata": {},
   "source": [
    "This cut requires that the visible mass calculated from the two lepton system be between $35 GeV$ and $75 GeV$."
   ]
  },
  {
   "cell_type": "code",
   "execution_count": 18,
   "id": "d18d3538",
   "metadata": {},
   "outputs": [],
   "source": [
    "def visible_mass_cut(vis_mass):\n",
    "    if(vis_mass<=35000. or vis_mass>=75000.): return True\n",
    "    return False"
   ]
  },
  {
   "cell_type": "markdown",
   "id": "aeac0027",
   "metadata": {},
   "source": [
    "### Azimutal angular separation cut"
   ]
  },
  {
   "cell_type": "markdown",
   "id": "aa13ed35",
   "metadata": {},
   "source": [
    "This cut requires that the sum of azimutal angular separation between light lepton and $E_{T}^{miss}$ and the $\\tau-$lepton and $E_{T}^{miss}$ be less than 3.5."
   ]
  },
  {
   "cell_type": "code",
   "execution_count": 19,
   "id": "41b09712",
   "metadata": {},
   "outputs": [],
   "source": [
    "def total_sum_dPhi_cut(sum_dphi):\n",
    "    if(sum_dphi >= 3.5): return True\n",
    "    return False"
   ]
  },
  {
   "cell_type": "markdown",
   "id": "6a38a3ab",
   "metadata": {},
   "source": [
    "## Applying a cut"
   ]
  },
  {
   "cell_type": "markdown",
   "id": "709a6ec7",
   "metadata": {},
   "source": [
    "Now, we can define a function that applies all cuts and the criteria selection. For this reason, we create a function named \"read_file\" that receives a string path and the name of the sample we want to analyze. In this function we print the number of initial events and the number of events that passed the cuts. We also compute the visible and transverse mass, the good lepton and $\\tau$ indexes, the total weight for MC samples and save them in columns into the dataframe which contains all the selected events for each batch. At the end, it returns a dataframe with the selected events for the sample given as an argument of the function. "
   ]
  },
  {
   "cell_type": "code",
   "execution_count": 20,
   "id": "895dec3a",
   "metadata": {},
   "outputs": [],
   "source": [
    "def read_file(path,sample):\n",
    "    start = time.time() # start the clock\n",
    "    print(\"\\tProcessing: \"+sample) # print which sample is being processed\n",
    "    data_all = pd.DataFrame() # define empty pandas DataFrame to hold all data for this sample\n",
    "    tree = uproot3.open(path)[\"mini\"] # open the tree called mini\n",
    "    numevents = uproot3.numentries(path, \"mini\") # number of events\n",
    "    if 'data' not in sample: xsec_weight = get_xsec_weight(sample) # get cross-section weight\n",
    "    \n",
    "    entrystop=numevents*fraction # stop after fraction of events we want to process\n",
    "    branches = ['trigE','trigM','lep_isTightID','lep_n','lep_charge','lep_type','lep_pt', 'lep_eta','lep_phi','lep_E',\n",
    "                'lep_ptcone30', 'lep_etcone20', 'tau_n','tau_charge', 'tau_pt', 'tau_eta', 'tau_phi', 'tau_E', \n",
    "                'tau_isTightID', 'met_et', 'met_phi', 'lep_trackd0pvunbiased', 'lep_tracksigd0pvunbiased', \n",
    "                'lep_z0'] # uncomment this for stricter lepton requirements\n",
    "               \n",
    "    if 'data' not in sample: \n",
    "        xsec_weight = get_xsec_weight(sample) #  get cross-section weight\n",
    "        branches.extend(['mcWeight','scaleFactor_PILEUP','scaleFactor_ELE',\n",
    "                         'scaleFactor_MUON','scaleFactor_LepTRIGGER'])\n",
    "            \n",
    "    for data in tree.iterate(branches, \n",
    "                             outputtype=pd.DataFrame, # choose output type as pandas DataFrame\n",
    "                             entrystop=entrystop): # process up to numevents*fraction\n",
    "\n",
    "        nIn = len(data.index) # number of events in this batch\n",
    " \n",
    "        if 'data' not in sample: # only do this for Monte Carlo simulation files\n",
    "            # multiply all Monte Carlo weights and scale factors together to give total weight\n",
    "        \n",
    "            data['totalWeight'] = np.vectorize(calc_weight)(xsec_weight,\n",
    "                                                            data.mcWeight,\n",
    "                                                            data.scaleFactor_PILEUP,\n",
    "                                                            data.scaleFactor_ELE,\n",
    "                                                            data.scaleFactor_MUON,\n",
    "                                                            data.scaleFactor_LepTRIGGER)\n",
    "\n",
    "        #cut on trigger\n",
    "        fail = data[ np.vectorize(trigger)(data.trigE, data.trigM) ].index # get events that fail this selection\n",
    "        data.drop(fail,inplace=True) # drop the events if none lepton trigger is activated\n",
    "        if len(data.index)==0: continue # move onto next batch if no events left\n",
    "        #data = data.reset_index(drop=True)\n",
    "        \n",
    "        #cut on goodlepton\n",
    "        fail = data[ np.vectorize(goodlep_cut)(data.lep_n, data.lep_pt, data.lep_eta, data.lep_phi, data.lep_ptcone30, \n",
    "                                               data.lep_etcone20, data.lep_type, data.lep_isTightID,\n",
    "                                               data.lep_trackd0pvunbiased, data.lep_tracksigd0pvunbiased,\n",
    "                                               data.lep_z0) ].index # get events that fail this selection\n",
    "        data.drop(fail,inplace=True) # drop the events without one goodlepton\n",
    "        if len(data.index)==0: continue # move onto next batch if no events left\n",
    "        #data = data.reset_index(drop=True)\n",
    "        \n",
    "        #cut on goodtau lepton\n",
    "        fail = data[ np.vectorize(goodtau_cut)(data.tau_n, data.tau_pt, data.tau_eta, data.tau_isTightID) ].index # get events that fail this selection\n",
    "        data.drop(fail,inplace=True) # drop the events without one goodtau lepton\n",
    "        if len(data.index)==0: continue # move onto next batch if no events left \n",
    "        #data = data.reset_index(drop=True)\n",
    "        \n",
    "        data['goodlepton_index'] = np.vectorize(get_goodlep_index)(data.lep_n, data.lep_pt, data.lep_eta, \n",
    "                                                                   data.lep_ptcone30, data.lep_etcone20, data.lep_type, \n",
    "                                                                   data.lep_isTightID)   \n",
    "        \n",
    "        data['goodtau_index'] = np.vectorize(get_goodtau_index)(data.tau_n, data.tau_pt, data.tau_eta, \n",
    "                                                                data.tau_isTightID)\n",
    "        #data = data.reset_index(drop=True)\n",
    "        \n",
    "        #cut on opposite charges\n",
    "        fail = data[ np.vectorize(opposite_charge_cut)(data.lep_charge, data.tau_charge, \n",
    "                                                       data.goodlepton_index, data.goodtau_index) ].index # get events that fail this selection\n",
    "        data.drop(fail,inplace=True) # drop the events with leptons of same charges\n",
    "        if len(data.index)==0: continue # move onto next batch if no events left \n",
    "        #data = data.reset_index(drop=True)\n",
    "        \n",
    "        data['mT'] = np.vectorize(transverse_mass_calculation)(data.lep_pt, data.lep_phi, data.goodlepton_index, \n",
    "                                                               data.met_et, data.met_phi)\n",
    "        #data = data.reset_index(drop=True)        \n",
    "        #cut on transverse mass mT < 30GeV\n",
    "        fail = data[ np.vectorize(transverse_mass_cut)(data.mT) ].index # get events that fail this selection\n",
    "        data.drop(fail,inplace=True) # drop the events with mT >= 30 GeV\n",
    "        if len(data.index)==0: continue # move onto next batch if no events left\n",
    "        #data = data.reset_index(drop=True)\n",
    "        \n",
    "        data['vis_mass'] = np.vectorize(visible_mass_calculation)(data.lep_pt, data.lep_eta, data.lep_phi,\n",
    "                                                                    data.lep_E, data.tau_pt, data.tau_eta, data.tau_phi,\n",
    "                                                                    data.tau_E, data.goodlepton_index, data.goodtau_index)\n",
    "        #data = data.reset_index(drop=True)\n",
    "        #cut on visible mass  35 GeV < m_vis < 75 GeV\n",
    "        fail = data[ np.vectorize(visible_mass_cut)(data.vis_mass) ].index # get events that fail this selection\n",
    "        data.drop(fail,inplace=True) # drop the events that don't fulfill with 35 GeV < mT < 75 GeV requirement\n",
    "        if len(data.index)==0: continue # move onto next batch if no events left\n",
    "        #data = data.reset_index(drop=True)\n",
    "        \n",
    "        data['sum_dphi'] = np.vectorize(total_sum_dPhi_calculation)(data.lep_phi, data.tau_phi, data.met_phi, \n",
    "                                                                    data.goodlepton_index, data.goodtau_index)\n",
    "        #data = data.reset_index(drop=True) \n",
    "        \n",
    "        #cut on sum_dphi  sum_dphi < 3.5\n",
    "        fail = data[ np.vectorize(total_sum_dPhi_cut)(data.sum_dphi) ].index # get events that fail this selection\n",
    "        data.drop(fail,inplace=True) # drop the events that don't fulfill with sum_dphi < 3.5 requirement\n",
    "        if len(data.index)==0: continue # move onto next batch if no events left     \n",
    "        #data = data.reset_index(drop=True)\n",
    "        \n",
    "        nOut = len(data.index) # number of events passing cuts in this batch\n",
    "        data_all = data_all.append(data, ignore_index=True) # append dataframe from this batch to the dataframe for the whole sample\n",
    "\n",
    "        elapsed = time.time() - start # time taken to process\n",
    "        print(\"\\t\\t nIn: \"+str(nIn)+\",\\t nOut: \\t\"+str(nOut)+\"\\t in \"+str(round(elapsed,1))+\"s\") # events before and after\n",
    "\n",
    "    return data_all # return dataframe containing events passing all cuts"
   ]
  },
  {
   "cell_type": "markdown",
   "id": "90a99c4d",
   "metadata": {},
   "source": [
    "Now, we are ready to perform the analysis. Just run the next line code if you want to save the complete selected events for all samples in a dictionary of dataframe called \"data\". We will use this dictionary of dataframes to plot our final graphs."
   ]
  },
  {
   "cell_type": "code",
   "execution_count": 22,
   "id": "ceefcbcb",
   "metadata": {},
   "outputs": [
    {
     "name": "stdout",
     "output_type": "stream",
     "text": [
      "Processing data samples\n",
      "\tProcessing: data_A\n",
      "\t\t nIn: 48826,\t nOut: \t1010\t in 5.1s\n",
      "\tProcessing: data_B\n",
      "\t\t nIn: 120433,\t nOut: \t2367\t in 24.7s\n",
      "\t\t nIn: 50265,\t nOut: \t982\t in 28.2s\n",
      "\tProcessing: data_C\n",
      "\t\t nIn: 120433,\t nOut: \t2359\t in 32.8s\n",
      "\t\t nIn: 106825,\t nOut: \t2066\t in 41.4s\n",
      "\tProcessing: data_D\n",
      "\t\t nIn: 119700,\t nOut: \t2430\t in 14.2s\n",
      "\t\t nIn: 119700,\t nOut: \t2617\t in 26.2s\n",
      "\t\t nIn: 119700,\t nOut: \t2594\t in 36.8s\n",
      "\t\t nIn: 15018,\t nOut: \t323\t in 37.9s\n",
      "Processing Other samples\n",
      "\tProcessing: llll\n",
      "\t\t nIn: 93969,\t nOut: \t1665\t in 41.3s\n",
      "\t\t nIn: 93969,\t nOut: \t1671\t in 51.7s\n",
      "\t\t nIn: 93969,\t nOut: \t1719\t in 63.3s\n",
      "\t\t nIn: 72727,\t nOut: \t1368\t in 71.0s\n",
      "\tProcessing: lllv\n",
      "\t\t nIn: 86295,\t nOut: \t1098\t in 14.4s\n",
      "\t\t nIn: 86295,\t nOut: \t1037\t in 23.8s\n",
      "\t\t nIn: 86295,\t nOut: \t1069\t in 32.9s\n",
      "\t\t nIn: 86295,\t nOut: \t1065\t in 42.0s\n",
      "\t\t nIn: 86295,\t nOut: \t1038\t in 51.4s\n",
      "\t\t nIn: 12662,\t nOut: \t140\t in 52.5s\n",
      "\tProcessing: llvv\n",
      "\t\t nIn: 108214,\t nOut: \t1374\t in 21.6s\n",
      "\t\t nIn: 108214,\t nOut: \t1378\t in 34.1s\n",
      "\t\t nIn: 108214,\t nOut: \t1425\t in 46.4s\n",
      "\t\t nIn: 108214,\t nOut: \t1504\t in 57.5s\n",
      "\t\t nIn: 24800,\t nOut: \t348\t in 59.9s\n",
      "\tProcessing: lvvv\n",
      "\t\t nIn: 11353,\t nOut: \t34\t in 1.9s\n",
      "\tProcessing: ZqqZll\n",
      "\t\t nIn: 54512,\t nOut: \t4774\t in 7.6s\n",
      "\tProcessing: WqqZll\n",
      "\t\t nIn: 56044,\t nOut: \t5077\t in 6.9s\n",
      "\tProcessing: WpqqWmlv\n",
      "\t\t nIn: 27889,\t nOut: \t114\t in 3.8s\n",
      "\tProcessing: WplvWmqq\n",
      "\t\t nIn: 28172,\t nOut: \t131\t in 3.3s\n",
      "\tProcessing: WlvZqq\n",
      "\t\t nIn: 25604,\t nOut: \t101\t in 3.4s\n",
      "\tProcessing: single_top_tchan\n",
      "\t\t nIn: 4202,\t nOut: \t15\t in 1.2s\n",
      "\tProcessing: single_antitop_tchan\n",
      "\t\t nIn: 4911,\t nOut: \t25\t in 1.1s\n",
      "\tProcessing: single_top_schan\n",
      "\t\t nIn: 1785,\t nOut: \t7\t in 0.7s\n",
      "\tProcessing: single_antitop_schan\n",
      "\t\t nIn: 1897,\t nOut: \t9\t in 0.7s\n",
      "\tProcessing: single_top_wtchan\n",
      "\t\t nIn: 12785,\t nOut: \t148\t in 2.1s\n",
      "\tProcessing: single_antitop_wtchan\n",
      "\t\t nIn: 12564,\t nOut: \t161\t in 2.3s\n",
      "\tProcessing: ttbar_lep\n",
      "\t\t nIn: 85777,\t nOut: \t1157\t in 15.6s\n",
      "\t\t nIn: 85777,\t nOut: \t1206\t in 24.4s\n",
      "\t\t nIn: 85777,\t nOut: \t1154\t in 34.2s\n",
      "\t\t nIn: 85777,\t nOut: \t1159\t in 44.2s\n",
      "\t\t nIn: 85777,\t nOut: \t1146\t in 53.3s\n",
      "\t\t nIn: 85777,\t nOut: \t1153\t in 61.7s\n",
      "\t\t nIn: 14403,\t nOut: \t188\t in 63.0s\n",
      "Processing $W+$jets samples\n",
      "\tProcessing: Wmunu_PTV0_70_CVetoBVeto\n",
      "\t\t nIn: 25609,\t nOut: \t47\t in 3.3s\n",
      "\tProcessing: Wmunu_PTV0_70_CFilterBVeto\n",
      "\t\t nIn: 16192,\t nOut: \t19\t in 2.0s\n",
      "\tProcessing: Wmunu_PTV0_70_BFilter\n",
      "\t\t nIn: 21917,\t nOut: \t49\t in 2.6s\n",
      "\tProcessing: Wmunu_PTV70_140_CVetoBVeto\n",
      "\t\t nIn: 48395,\t nOut: \t139\t in 5.2s\n",
      "\tProcessing: Wmunu_PTV70_140_CFilterBVeto\n",
      "\t\t nIn: 40339,\t nOut: \t131\t in 4.5s\n",
      "\tProcessing: Wmunu_PTV70_140_BFilter\n",
      "\t\t nIn: 65969,\t nOut: \t175\t in 7.0s\n",
      "\tProcessing: Wmunu_PTV140_280_CVetoBVeto\n",
      "\t\t nIn: 28792,\t nOut: \t154\t in 3.7s\n",
      "\tProcessing: Wmunu_PTV140_280_CFilterBVeto\n",
      "\t\t nIn: 28810,\t nOut: \t131\t in 3.7s\n",
      "\tProcessing: Wmunu_PTV140_280_BFilter\n",
      "\t\t nIn: 31918,\t nOut: \t172\t in 3.9s\n",
      "\tProcessing: Wmunu_PTV280_500_CVetoBVeto\n",
      "\t\t nIn: 13302,\t nOut: \t95\t in 2.2s\n",
      "\tProcessing: Wmunu_PTV280_500_CFilterBVeto\n",
      "\t\t nIn: 10329,\t nOut: \t54\t in 1.7s\n",
      "\tProcessing: Wmunu_PTV280_500_BFilter\n",
      "\t\t nIn: 9417,\t nOut: \t61\t in 1.8s\n",
      "\tProcessing: Wmunu_PTV500_1000\n",
      "\t\t nIn: 15584,\t nOut: \t52\t in 3.1s\n",
      "\tProcessing: Wmunu_PTV1000_E_CMS\n",
      "\t\t nIn: 9253,\t nOut: \t35\t in 1.8s\n",
      "\tProcessing: Wenu_PTV0_70_CVetoBVeto\n",
      "\t\t nIn: 22764,\t nOut: \t42\t in 3.1s\n",
      "\tProcessing: Wenu_PTV0_70_CFilterBVeto\n",
      "\t\t nIn: 14980,\t nOut: \t23\t in 2.3s\n",
      "\tProcessing: Wenu_PTV0_70_BFilter\n",
      "\t\t nIn: 19594,\t nOut: \t36\t in 2.8s\n",
      "\tProcessing: Wenu_PTV70_140_CVetoBVeto\n",
      "\t\t nIn: 43501,\t nOut: \t114\t in 5.0s\n",
      "\tProcessing: Wenu_PTV70_140_CFilterBVeto\n",
      "\t\t nIn: 38742,\t nOut: \t110\t in 5.3s\n",
      "\tProcessing: Wenu_PTV70_140_BFilter\n",
      "\t\t nIn: 31662,\t nOut: \t99\t in 4.5s\n",
      "\tProcessing: Wenu_PTV140_280_CVetoBVeto\n",
      "\t\t nIn: 28334,\t nOut: \t155\t in 3.9s\n",
      "\tProcessing: Wenu_PTV140_280_CFilterBVeto\n",
      "\t\t nIn: 28962,\t nOut: \t146\t in 3.8s\n",
      "\tProcessing: Wenu_PTV140_280_BFilter\n",
      "\t\t nIn: 32449,\t nOut: \t179\t in 4.1s\n",
      "\tProcessing: Wenu_PTV280_500_CVetoBVeto\n",
      "\t\t nIn: 13415,\t nOut: \t93\t in 2.1s\n",
      "\tProcessing: Wenu_PTV280_500_CFilterBVeto\n",
      "\t\t nIn: 10688,\t nOut: \t56\t in 1.8s\n",
      "\tProcessing: Wenu_PTV280_500_BFilter\n",
      "\t\t nIn: 9723,\t nOut: \t66\t in 1.9s\n",
      "\tProcessing: Wenu_PTV500_1000\n",
      "\t\t nIn: 16869,\t nOut: \t70\t in 2.8s\n",
      "\tProcessing: Wenu_PTV1000_E_CMS\n",
      "\t\t nIn: 10056,\t nOut: \t40\t in 2.0s\n",
      "\tProcessing: Wtaunu_PTV0_70_CVetoBVeto\n",
      "\t\t nIn: 1686,\t nOut: \t7\t in 0.6s\n",
      "\tProcessing: Wtaunu_PTV0_70_CFilterBVeto\n",
      "\t\t nIn: 1234,\t nOut: \t10\t in 0.8s\n",
      "\tProcessing: Wtaunu_PTV0_70_BFilter\n",
      "\t\t nIn: 1568,\t nOut: \t17\t in 0.5s\n",
      "\tProcessing: Wtaunu_PTV70_140_CVetoBVeto\n",
      "\t\t nIn: 4841,\t nOut: \t58\t in 1.9s\n",
      "\tProcessing: Wtaunu_PTV70_140_CFilterBVeto\n",
      "\t\t nIn: 4249,\t nOut: \t50\t in 1.3s\n",
      "\tProcessing: Wtaunu_PTV70_140_BFilter\n",
      "\t\t nIn: 3318,\t nOut: \t39\t in 1.1s\n",
      "\tProcessing: Wtaunu_PTV140_280_CVetoBVeto\n",
      "\t\t nIn: 3917,\t nOut: \t64\t in 1.2s\n",
      "\tProcessing: Wtaunu_PTV140_280_CFilterBVeto\n",
      "\t\t nIn: 3630,\t nOut: \t70\t in 1.1s\n",
      "\tProcessing: Wtaunu_PTV140_280_BFilter\n",
      "\t\t nIn: 4230,\t nOut: \t67\t in 1.3s\n",
      "\tProcessing: Wtaunu_PTV280_500_CVetoBVeto\n",
      "\t\t nIn: 2168,\t nOut: \t45\t in 0.7s\n",
      "\tProcessing: Wtaunu_PTV280_500_CFilterBVeto\n",
      "\t\t nIn: 1669,\t nOut: \t41\t in 0.8s\n",
      "\tProcessing: Wtaunu_PTV280_500_BFilter\n",
      "\t\t nIn: 1490,\t nOut: \t32\t in 0.7s\n",
      "\tProcessing: Wtaunu_PTV500_1000\n",
      "\t\t nIn: 2844,\t nOut: \t41\t in 1.0s\n",
      "\tProcessing: Wtaunu_PTV1000_E_CMS\n",
      "\t\t nIn: 2232,\t nOut: \t22\t in 0.9s\n",
      "Processing  $Z \\rightarrow ee, \\mu \\mu$ samples\n",
      "\tProcessing: Zmumu_PTV0_70_CVetoBVeto\n",
      "\t\t nIn: 11246,\t nOut: \t45\t in 1.9s\n",
      "\tProcessing: Zmumu_PTV0_70_CFilterBVeto\n",
      "\t\t nIn: 9905,\t nOut: \t38\t in 2.0s\n",
      "\tProcessing: Zmumu_PTV0_70_BFilter\n",
      "\t\t nIn: 12784,\t nOut: \t39\t in 2.4s\n",
      "\tProcessing: Zmumu_PTV70_140_CVetoBVeto\n",
      "\t\t nIn: 24748,\t nOut: \t100\t in 3.4s\n",
      "\tProcessing: Zmumu_PTV70_140_CFilterBVeto\n",
      "\t\t nIn: 9223,\t nOut: \t48\t in 1.7s\n",
      "\tProcessing: Zmumu_PTV70_140_BFilter\n",
      "\t\t nIn: 22865,\t nOut: \t85\t in 3.4s\n",
      "\tProcessing: Zmumu_PTV140_280_CVetoBVeto\n",
      "\t\t nIn: 18138,\t nOut: \t133\t in 2.7s\n",
      "\tProcessing: Zmumu_PTV140_280_CFilterBVeto\n",
      "\t\t nIn: 13206,\t nOut: \t62\t in 2.2s\n",
      "\tProcessing: Zmumu_PTV140_280_BFilter\n",
      "\t\t nIn: 19282,\t nOut: \t116\t in 2.9s\n",
      "\tProcessing: Zmumu_PTV280_500_CVetoBVeto\n",
      "\t\t nIn: 6758,\t nOut: \t48\t in 1.5s\n",
      "\tProcessing: Zmumu_PTV280_500_CFilterBVeto\n",
      "\t\t nIn: 4297,\t nOut: \t32\t in 1.3s\n",
      "\tProcessing: Zmumu_PTV280_500_BFilter\n",
      "\t\t nIn: 7545,\t nOut: \t36\t in 1.7s\n",
      "\tProcessing: Zmumu_PTV500_1000\n",
      "\t\t nIn: 10278,\t nOut: \t55\t in 2.0s\n",
      "\tProcessing: Zmumu_PTV1000_E_CMS\n",
      "\t\t nIn: 3096,\t nOut: \t15\t in 1.0s\n",
      "\tProcessing: Zee_PTV0_70_CVetoBVeto\n",
      "\t\t nIn: 37418,\t nOut: \t200\t in 5.0s\n",
      "\tProcessing: Zee_PTV0_70_CFilterBVeto\n",
      "\t\t nIn: 27446,\t nOut: \t130\t in 4.1s\n",
      "\tProcessing: Zee_PTV0_70_BFilter\n",
      "\t\t nIn: 42899,\t nOut: \t174\t in 5.6s\n",
      "\tProcessing: Zee_PTV70_140_CVetoBVeto\n",
      "\t\t nIn: 51251,\t nOut: \t290\t in 6.5s\n",
      "\tProcessing: Zee_PTV70_140_CFilterBVeto\n",
      "\t\t nIn: 18347,\t nOut: \t84\t in 2.8s\n",
      "\tProcessing: Zee_PTV70_140_BFilter\n",
      "\t\t nIn: 49408,\t nOut: \t245\t in 6.8s\n",
      "\tProcessing: Zee_PTV140_280_CVetoBVeto\n",
      "\t\t nIn: 41196,\t nOut: \t235\t in 5.7s\n",
      "\tProcessing: Zee_PTV140_280_CFilterBVeto\n",
      "\t\t nIn: 27735,\t nOut: \t174\t in 4.1s\n",
      "\tProcessing: Zee_PTV140_280_BFilter\n",
      "\t\t nIn: 42219,\t nOut: \t225\t in 6.1s\n",
      "\tProcessing: Zee_PTV280_500_CVetoBVeto\n",
      "\t\t nIn: 15367,\t nOut: \t74\t in 2.5s\n",
      "\tProcessing: Zee_PTV280_500_CFilterBVeto\n",
      "\t\t nIn: 9041,\t nOut: \t46\t in 1.8s\n",
      "\tProcessing: Zee_PTV280_500_BFilter\n",
      "\t\t nIn: 17459,\t nOut: \t69\t in 2.9s\n",
      "\tProcessing: Zee_PTV500_1000\n",
      "\t\t nIn: 23675,\t nOut: \t116\t in 4.2s\n",
      "\tProcessing: Zee_PTV1000_E_CMS\n",
      "\t\t nIn: 7363,\t nOut: \t32\t in 1.9s\n",
      "Processing  $Z \\rightarrow \\tau \\tau$ samples\n",
      "\tProcessing: Ztautau_PTV0_70_CVetoBVeto\n",
      "\t\t nIn: 40264,\t nOut: \t4139\t in 5.0s\n",
      "\tProcessing: Ztautau_PTV0_70_CFilterBVeto\n",
      "\t\t nIn: 27373,\t nOut: \t2573\t in 3.5s\n",
      "\tProcessing: Ztautau_PTV0_70_BFilter\n",
      "\t\t nIn: 47120,\t nOut: \t4519\t in 5.7s\n",
      "\tProcessing: Ztautau_PTV70_140_CVetoBVeto\n",
      "\t\t nIn: 55523,\t nOut: \t10213\t in 7.0s\n",
      "\tProcessing: Ztautau_PTV70_140_CFilterBVeto\n",
      "\t\t nIn: 18476,\t nOut: \t3197\t in 2.9s\n",
      "\tProcessing: Ztautau_PTV70_140_BFilter\n",
      "\t\t nIn: 57624,\t nOut: \t9670\t in 7.3s\n",
      "\tProcessing: Ztautau_PTV140_280_CVetoBVeto\n",
      "\t\t nIn: 88278,\t nOut: \t26748\t in 10.9s\n",
      "\tProcessing: Ztautau_PTV140_280_CFilterBVeto\n",
      "\t\t nIn: 49044,\t nOut: \t13637\t in 6.8s\n",
      "\tProcessing: Ztautau_PTV140_280_BFilter\n",
      "\t\t nIn: 80973,\t nOut: \t21665\t in 11.2s\n",
      "\tProcessing: Ztautau_PTV280_500_CVetoBVeto\n",
      "\t\t nIn: 49767,\t nOut: \t16414\t in 7.7s\n",
      "\tProcessing: Ztautau_PTV280_500_CFilterBVeto\n"
     ]
    },
    {
     "name": "stdout",
     "output_type": "stream",
     "text": [
      "\t\t nIn: 21595,\t nOut: \t6643\t in 3.9s\n",
      "\tProcessing: Ztautau_PTV280_500_BFilter\n",
      "\t\t nIn: 42556,\t nOut: \t12459\t in 6.5s\n",
      "\tProcessing: Ztautau_PTV500_1000\n",
      "\t\t nIn: 64810,\t nOut: \t19090\t in 8.7s\n",
      "\tProcessing: Ztautau_PTV1000_E_CMS\n",
      "\t\t nIn: 20776,\t nOut: \t5325\t in 3.4s\n",
      "Time taken: 11.4min\n"
     ]
    }
   ],
   "source": [
    "start = time.time() # time at start of whole processing\n",
    "data = get_data_from_files() # process all files\n",
    "elapsed = time.time() - start # time after whole processing\n",
    "time_in_minutes = elapsed/60.\n",
    "print(\"Time taken: \"+str(round(time_in_minutes,1))+\"min\") # print total time taken to process every file"
   ]
  },
  {
   "cell_type": "markdown",
   "id": "288008a5",
   "metadata": {},
   "source": [
    "Finally, we can define a function that plots our final graphs. The \"plot_variable\" function receives the dataframe in which we have the selected events, as well as the intervals of x axis and the name of the variable we want to plot."
   ]
  },
  {
   "cell_type": "code",
   "execution_count": 27,
   "id": "c6e31ced",
   "metadata": {},
   "outputs": [],
   "source": [
    "def plot_variable(data, xmin, xmax, name_variable):\n",
    "    GeV = 1.0\n",
    "    step_size = 5 * GeV\n",
    "\n",
    "    bin_edges = np.arange(start=xmin, # The interval includes this value\n",
    "                     stop=xmax+step_size, # The interval doesn't include this value\n",
    "                     step=step_size ) # Spacing between values\n",
    "    bin_centres = np.arange(start=xmin+step_size/2, # The interval includes this value\n",
    "                            stop=xmax+step_size/2, # The interval doesn't include this value\n",
    "                            step=step_size ) # Spacing between values\n",
    "\n",
    "    data_x,_ = np.histogram(data['data'][name_variable]/1000., \n",
    "                            bins=bin_edges ) # histogram the data\n",
    "    data_x_errors = np.sqrt( data_x ) # statistical error on the data\n",
    "\n",
    "    mc_x = [] # define list to hold the Monte Carlo histogram entries\n",
    "    mc_weights = [] # define list to hold the Monte Carlo weights\n",
    "    mc_colors = [] # define list to hold the colors of the Monte Carlo bars\n",
    "    mc_labels = [] # define list to hold the legend labels of the Monte Carlo bars\n",
    "\n",
    "    for s in samples: # loop over samples\n",
    "        if s not in ['data']: # if not data nor signal\n",
    "            mc_x.append( data[s][name_variable]/1000. ) # append to the list of Monte Carlo histogram entries\n",
    "            mc_weights.append( data[s].totalWeight ) # append to the list of Monte Carlo weights\n",
    "            mc_colors.append( samples[s]['color'] ) # append to the list of Monte Carlo bar colors\n",
    "            mc_labels.append( s ) # append to the list of Monte Carlo legend labels\n",
    "    \n",
    "\n",
    "\n",
    "    # *************\n",
    "    # Main plot \n",
    "    # *************\n",
    "    main_axes = plt.gca() # get current axes\n",
    "    \n",
    "    # plot the data points\n",
    "    main_axes.errorbar(x=bin_centres, y=data_x, yerr=data_x_errors,\n",
    "                      fmt='ko', # 'k' means black and 'o' is for circles \n",
    "                      label='Data') \n",
    "    \n",
    "    # plot the Monte Carlo bars\n",
    "    mc_heights = main_axes.hist(mc_x, bins=bin_edges, \n",
    "                                weights=mc_weights, stacked=True, \n",
    "                                color=mc_colors, label=mc_labels )\n",
    "    \n",
    "    mc_x_tot = mc_heights[0][-1] # stacked background MC y-axis value\n",
    "    \n",
    "    # calculate MC statistical uncertainty: sqrt(sum w^2)\n",
    "    mc_x_err = np.sqrt(np.histogram(np.hstack(mc_x), bins=bin_edges, weights=np.hstack(mc_weights)**2)[0])\n",
    "    \n",
    "    # plot the statistical uncertainty\n",
    "    main_axes.bar(bin_centres, # x\n",
    "                  2*mc_x_err, # heights\n",
    "                  alpha=0.5, # half transparency\n",
    "                  bottom=mc_x_tot-mc_x_err, color='none', \n",
    "                  hatch=\"////\", width=step_size, label='Stat. Unc.' )\n",
    "\n",
    "    # set the x-limit of the main axes\n",
    "    main_axes.set_xlim( left=xmin, right=xmax ) \n",
    "    \n",
    "    # separation of x axis minor ticks\n",
    "    main_axes.xaxis.set_minor_locator( AutoMinorLocator() ) \n",
    "    \n",
    "    # set the axis tick parameters for the main axes\n",
    "    main_axes.tick_params(which='both', # ticks on both x and y axes\n",
    "                          direction='in', # Put ticks inside and outside the axes\n",
    "                          top=True, # draw ticks on the top axis\n",
    "                          right=True ) # draw ticks on right axis\n",
    "    \n",
    "    # x-axis label\n",
    "    if(name_variable == 'met_et'):\n",
    "        x_label = r' $E_{T}^{miss}$ [GeV]'\n",
    "    \n",
    "    if(name_variable == 'vis_mass'):\n",
    "        x_label = r' $m_{vis}$ [GeV]'\n",
    "        \n",
    "    if(name_variable == 'mT'):\n",
    "        x_label = r' $mT$ [GeV]'\n",
    "    \n",
    "    main_axes.set_xlabel(x_label, fontsize=13, x=1, horizontalalignment='right' )\n",
    "    \n",
    "    # write y-axis label for main axes\n",
    "    main_axes.set_ylabel('Events / '+str(step_size)+' GeV',\n",
    "                         y=1, horizontalalignment='right') \n",
    "    \n",
    "    # set y-axis limits for main axes\n",
    "    main_axes.set_ylim( bottom=0, top=np.amax(data_x)*1.6 )\n",
    "    \n",
    "    # add minor ticks on y-axis for main axes\n",
    "    main_axes.yaxis.set_minor_locator( AutoMinorLocator() ) \n",
    "\n",
    "    # Add text 'ATLAS Open Data' on plot\n",
    "    plt.text(0.05, # x\n",
    "             0.93, # y\n",
    "             'ATLAS Open Data', # text\n",
    "             transform=main_axes.transAxes, # coordinate system used is that of main_axes\n",
    "             fontsize=13 ) \n",
    "    \n",
    "    # Add text 'for education' on plot\n",
    "    plt.text(0.05, # x\n",
    "             0.88, # y\n",
    "             'for education', # text\n",
    "             transform=main_axes.transAxes, # coordinate system used is that of main_axes\n",
    "             style='italic',\n",
    "             fontsize=8 ) \n",
    "    \n",
    "    # Add energy and luminosity\n",
    "    lumi_used = str(lumi*fraction) # luminosity to write on the plot\n",
    "    plt.text(0.05, # x\n",
    "             0.82, # y\n",
    "             '$\\sqrt{s}$=13 TeV,$\\int$L dt = '+lumi_used+' fb$^{-1}$', # text\n",
    "             transform=main_axes.transAxes ) # coordinate system used is that of main_axes\n",
    "    \n",
    "    # Add a label for the analysis carried out\n",
    "    plt.text(0.05, # x\n",
    "             0.76, # y\n",
    "             r'$Z \\rightarrow \\tau_{l} \\tau_{h}$', # text \n",
    "             transform=main_axes.transAxes ) # coordinate system used is that of main_axes\n",
    "\n",
    "    # draw the legend\n",
    "    main_axes.legend( frameon=False ) # no box around the legend\n",
    "    name_plot = 'plots/Ztautau_'+name_variable+'.pdf'\n",
    "    title = 'Distribution of '+name_variable\n",
    "    plt.title(title)\n",
    "    plt.savefig(name_plot)\n",
    "    return"
   ]
  },
  {
   "cell_type": "markdown",
   "id": "9a9d1faf",
   "metadata": {},
   "source": [
    "The following three code lines plot the missing transverse energy, the visible mass and the transverse mass. Remember to set the parameters of $x_{min}$, $x_{máx}$ and the name_variable as same as it appears saved in the dictionary \"data\"  for each graph (met_et, vis_mass and mT respectively)."
   ]
  },
  {
   "cell_type": "code",
   "execution_count": 28,
   "id": "2d658c03",
   "metadata": {},
   "outputs": [
    {
     "data": {
      "image/png": "[encoded data removed]",
      "text/plain": [
       "<Figure size 432x288 with 1 Axes>"
      ]
     },
     "metadata": {
      "needs_background": "light"
     },
     "output_type": "display_data"
    }
   ],
   "source": [
    "# 0-130 met_et\n",
    "plot_variable(data, 0, 130, 'met_et')"
   ]
  },
  {
   "cell_type": "code",
   "execution_count": 29,
   "id": "e476fd80",
   "metadata": {},
   "outputs": [
    {
     "data": {
      "image/png": "[encoded data removed]",
      "text/plain": [
       "<Figure size 432x288 with 1 Axes>"
      ]
     },
     "metadata": {
      "needs_background": "light"
     },
     "output_type": "display_data"
    }
   ],
   "source": [
    "# 10-110 vis_mass\n",
    "plot_variable(data, 10, 110, 'vis_mass')"
   ]
  },
  {
   "cell_type": "code",
   "execution_count": 30,
   "id": "b06cbd13",
   "metadata": {},
   "outputs": [
    {
     "data": {
      "image/png": "[encoded data removed]",
      "text/plain": [
       "<Figure size 432x288 with 1 Axes>"
      ]
     },
     "metadata": {
      "needs_background": "light"
     },
     "output_type": "display_data"
    }
   ],
   "source": [
    "# 0-80 mT \n",
    "plot_variable(data, 0, 80, 'mT')"
   ]
  },
  {
   "cell_type": "code",
   "execution_count": null,
   "id": "0ca5839b",
   "metadata": {},
   "outputs": [],
   "source": []
  }
 ],
 "metadata": {
  "kernelspec": {
   "display_name": "Python 3",
   "language": "python",
   "name": "python3"
  },
  "language_info": {
   "codemirror_mode": {
    "name": "ipython",
    "version": 3
   },
   "file_extension": ".py",
   "mimetype": "text/x-python",
   "name": "python",
   "nbconvert_exporter": "python",
   "pygments_lexer": "ipython3",
   "version": "3.9.6"
  }
 },
 "nbformat": 4,
 "nbformat_minor": 5
}
