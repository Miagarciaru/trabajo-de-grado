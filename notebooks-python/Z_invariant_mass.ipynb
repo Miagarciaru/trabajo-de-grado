{
 "cells": [
  {
   "cell_type": "markdown",
   "id": "3db27841",
   "metadata": {},
   "source": [
    "<CENTER><img src=\"../images/ATLASOD.gif\" style=\"width:50%\"></CENTER>"
   ]
  },
  {
   "cell_type": "markdown",
   "id": "4d2383a3",
   "metadata": {},
   "source": [
    "# <CENTER><h1>Reconstruction of invariant mass of Z boson decaying into two leptons </h1></CENTER>\n",
    "\n",
    "## Simple pyROOT notebook example\n",
    "In this notebook you can find an easy set of commands that show the basic computing techniques commonly used in high energy  physics (HEP) analysis. It also shows how to create a histogram, fills it, draws it and uses a fit function on it. Moreover it is an introduction to [ROOT](https://root.cern.ch/) too. At the end you get a plot with the invariant mass of the two leptons system, which represents the mass of the Z boson.\n",
    "\n",
    "The Analysis is implemented by using some useful tools, such as `pandas` (to storage dataframes), `numpy` (the numerical library of python), `uproot3` (to read root files), `matplotlib` (to plot our graphics) and `scipy` library (which allows us to fit our histogram using a gaussian function)."
   ]
  },
  {
   "cell_type": "markdown",
   "id": "6f16fb8a",
   "metadata": {},
   "source": [
    "<a id='contents'></a>\n",
    "\n",
    "# Contents: \n",
    "\n",
    "[To setup everytime](#setup_everytime) <br />\n",
    "[Importing some useful libraries in python](#useful_libraries) <br />\n",
    "[Opening a ROOT file and setting up some parameters](#parameters) <br />\n",
    "[Functions declaration](#functions_declaration) <br />\n",
    "[Changing a cut](#changing_a_cut) <br />\n",
    "[Applying a cut](#applying_a_cut) <br />\n",
    "[Some useful methods in pandas](#pandas_methods) <br />\n",
    "[Plotting](#plotting) <br />"
   ]
  },
  {
   "cell_type": "markdown",
   "id": "bd5d9851",
   "metadata": {},
   "source": [
    "<a id='setup_everytime'></a>\n",
    "\n",
    "## To setup everytime\n",
    "\n",
    "First at all, we should verify that we have installed all the needed tools to perform our analysis. If we haven't, we can run the next code line:"
   ]
  },
  {
   "cell_type": "code",
   "execution_count": 1,
   "id": "7ce218a5",
   "metadata": {},
   "outputs": [
    {
     "data": {
      "text/plain": [
       "'\\nimport sys\\n!{sys.executable} -m pip install --upgrade --user pip # update the pip package installer\\n!{sys.executable} -m pip install -U numpy pandas uproot3 matplotlib --user # install required packages\\n'"
      ]
     },
     "execution_count": 1,
     "metadata": {},
     "output_type": "execute_result"
    }
   ],
   "source": [
    "import sys\n",
    "!{sys.executable} -m pip install --upgrade --user pip # update the pip package installer\n",
    "!{sys.executable} -m pip install -U numpy pandas uproot3 matplotlib --user # install required packages"
   ]
  },
  {
   "cell_type": "markdown",
   "id": "7ce338b4",
   "metadata": {},
   "source": [
    "<a id='useful_libraries'></a>\n",
    "\n",
    "## Importing some useful libraries in python\n",
    "\n",
    "Now, we can import the tools that we are going to use (pandas, numpy, matplotlib, etc):"
   ]
  },
  {
   "cell_type": "code",
   "execution_count": 2,
   "id": "dce167fb",
   "metadata": {},
   "outputs": [
    {
     "name": "stderr",
     "output_type": "stream",
     "text": [
      "/cvmfs/sft.cern.ch/lcg/views/LCG_102swan/x86_64-centos7-gcc11-opt/lib/python3.9/site-packages/uproot3/__init__.py:127: FutureWarning: Consider switching from 'uproot3' to 'uproot', since the new interface became the default in 2020.\n",
      "\n",
      "    pip install -U uproot\n",
      "\n",
      "In Python:\n",
      "\n",
      "    >>> import uproot\n",
      "    >>> with uproot.open(...) as file:\n",
      "    ...\n",
      "\n",
      "  warnings.warn(\n",
      "/cvmfs/sft.cern.ch/lcg/views/LCG_102swan/x86_64-centos7-gcc11-opt/lib/python3.9/site-packages/awkward0/__init__.py:12: FutureWarning: Consider switching from 'awkward0' to 'awkward', since the new interface became the default in 2020.\n",
      "\n",
      "    pip install -U awkward\n",
      "\n",
      "In Python:\n",
      "\n",
      "    >>> import awkward as ak\n",
      "    >>> new_style_array = ak.from_awkward0(old_style_array)\n",
      "    >>> old_style_array = ak.to_awkward0(new_style_array)\n",
      "\n",
      "  warnings.warn(\n"
     ]
    }
   ],
   "source": [
    "import pandas as pd # to store data as dataframes\n",
    "import numpy as np # for numerical calculations such as histogramming\n",
    "import uproot3 # to read .root files as dataframes\n",
    "import matplotlib.pyplot as plt # for plotting\n",
    "from scipy.optimize import curve_fit"
   ]
  },
  {
   "cell_type": "markdown",
   "id": "bd11866b",
   "metadata": {},
   "source": [
    "[Back to contents](#contents)"
   ]
  },
  {
   "cell_type": "markdown",
   "id": "0353b7cc",
   "metadata": {},
   "source": [
    "<a id='parameters'></a>\n",
    "\n",
    "# Opening a ROOT file and setting up some parameters\n",
    "\n",
    "The root file which contains the events information is stored in the [1largeRjet1lep folder](https://atlas-opendata.web.cern.ch/atlas-opendata/samples/2020/1largeRjet1lep/MC/). So we are going to define the **path_file** variable which contains the url and the name of the root file:"
   ]
  },
  {
   "cell_type": "code",
   "execution_count": 3,
   "id": "7996a11f",
   "metadata": {},
   "outputs": [],
   "source": [
    "path_file = 'https://atlas-opendata.web.cern.ch/atlas-opendata/samples/2020/1largeRjet1lep/MC/mc_361106.Zee.1largeRjet1lep.root'"
   ]
  },
  {
   "cell_type": "markdown",
   "id": "9a31342c",
   "metadata": {},
   "source": [
    "Using **uproot3**, we define our tree from the root file and we will print the number of total events by defining a new variable called `numevents`: "
   ]
  },
  {
   "cell_type": "code",
   "execution_count": 4,
   "id": "8c46fbc7",
   "metadata": {},
   "outputs": [
    {
     "name": "stdout",
     "output_type": "stream",
     "text": [
      "Number of events:  53653\n"
     ]
    }
   ],
   "source": [
    "tree = uproot3.open(path_file)[\"mini\"] # open the tree called mini\n",
    "numevents = uproot3.numentries(path_file, \"mini\") # number of events\n",
    "print(\"Number of events: \", numevents)"
   ]
  },
  {
   "cell_type": "markdown",
   "id": "9d8bd85a",
   "metadata": {},
   "source": [
    "The `fraction` variable is defined in case we don't want to run our analysis over the whole events in the root file, but if it is not the case, you can leave it as equal to 1.0"
   ]
  },
  {
   "cell_type": "code",
   "execution_count": 5,
   "id": "fec9cee0",
   "metadata": {},
   "outputs": [],
   "source": [
    "fraction = 1.0"
   ]
  },
  {
   "cell_type": "markdown",
   "id": "66973748",
   "metadata": {},
   "source": [
    "[Back to contents](#contents)"
   ]
  },
  {
   "cell_type": "markdown",
   "id": "14488141",
   "metadata": {},
   "source": [
    "<a id='functions_declaration'></a>\n",
    "\n",
    "# Functions declaration\n",
    "\n",
    "Next, we define a function that computes the invariant mass of the two leptons system. This function requires the $pT$, $\\eta$, $\\phi$ and $E$ of each lepton to return the invariant mass."
   ]
  },
  {
   "cell_type": "code",
   "execution_count": 6,
   "id": "06a26b6e",
   "metadata": {},
   "outputs": [],
   "source": [
    "def calc_mll(lep_pt,lep_eta,lep_phi,lep_E):\n",
    "    # first lepton is [0], 2nd lepton is [1] etc\n",
    "    px_0 = lep_pt[0]*np.cos(lep_phi[0]) # x-component of lepton[0] momentum\n",
    "    py_0 = lep_pt[0]*np.sin(lep_phi[0]) # y-component of lepton[0] momentum\n",
    "    pz_0 = lep_pt[0]*np.sinh(lep_eta[0]) # z-component of lepton[0] momentum\n",
    "    px_1 = lep_pt[1]*np.cos(lep_phi[1]) # x-component of lepton[1] momentum\n",
    "    py_1 = lep_pt[1]*np.sin(lep_phi[1]) # y-component of lepton[1] momentum\n",
    "    pz_1 = lep_pt[1]*np.sinh(lep_eta[1]) # z-component of lepton[1] momentum\n",
    "    sumpx = px_0 + px_1 # x-component of momentum\n",
    "    sumpy = py_0 + py_1 # y-component of momentum\n",
    "    sumpz = pz_0 + pz_1 # z-component of momentum \n",
    "    sump = np.sqrt(sumpx**2 + sumpy**2 + sumpz**2) # magnitude of momentum \n",
    "    sumE = lep_E[0] + lep_E[1] # energy of dilepton system\n",
    "    return np.sqrt(sumE**2 - sump**2)/1000 #/1000 to go from MeV to GeV"
   ]
  },
  {
   "cell_type": "markdown",
   "id": "2de4e496",
   "metadata": {},
   "source": [
    "When we want to fit some data to a certain function, we can previously define it and then use it at the end of the analysis. For this reason, we define the gaussian function with the parameters that we are going to fit (the amplitude, the mean value $\\mu$ and the standard deviation $\\sigma$):  "
   ]
  },
  {
   "cell_type": "code",
   "execution_count": 7,
   "id": "e0d9880a",
   "metadata": {},
   "outputs": [],
   "source": [
    "def gauss(x, amp, mu, sigma):\n",
    "    return amp*np.exp(-((x-mu)**2)/(2*sigma**2))"
   ]
  },
  {
   "cell_type": "markdown",
   "id": "2719eb1d",
   "metadata": {},
   "source": [
    "[Back to contents](#contents)"
   ]
  },
  {
   "cell_type": "markdown",
   "id": "6dd18c77",
   "metadata": {},
   "source": [
    "<a id='changing_a_cut'></a>\n",
    "\n",
    "# Changing a cut\n",
    "\n",
    "Now, we are ready to implement some basic cuts in our data. Here, we can find three main cuts, which are:\n",
    "* **1**. `At least two leptons`: Remove all events in which the lepton number in the final state is less than 2.\n",
    "* **2**. `Opposite charge cut`: Remove all events in which the two leptons in the final state have opposite charge\n",
    "* **3**. `Lepton type cut`: Remove all events in which the two leptons in the final state don't belong to the same family."
   ]
  },
  {
   "cell_type": "code",
   "execution_count": 8,
   "id": "7649f68d",
   "metadata": {},
   "outputs": [],
   "source": [
    "def at_least_two_leptons_cut(lep_n):\n",
    "    if(lep_n < 2): return False\n",
    "    return True\n",
    "\n",
    "\n",
    "def opposite_charges_cut(lep_charge):\n",
    "    if(lep_charge[0] == lep_charge[1]): return False\n",
    "    return True\n",
    "\n",
    "\n",
    "def lep_type_cut(lep_type):\n",
    "    if(lep_type[0] != lep_type[1]): return False\n",
    "    return True"
   ]
  },
  {
   "cell_type": "markdown",
   "id": "0e4343b3",
   "metadata": {},
   "source": [
    "[Back to contents](#contents)"
   ]
  },
  {
   "cell_type": "markdown",
   "id": "8ab944f2",
   "metadata": {},
   "source": [
    "<a id='applying_a_cut'></a>\n",
    "\n",
    "# Applying a cut\n",
    "\n",
    "The next code line is going to implement the cuts over the data and save the selected events in a dataframe using `pandas`. "
   ]
  },
  {
   "cell_type": "code",
   "execution_count": 9,
   "id": "a3e821a8",
   "metadata": {},
   "outputs": [
    {
     "name": "stdout",
     "output_type": "stream",
     "text": [
      "\t nIn: 53653,\t nOut: \t37415\n"
     ]
    }
   ],
   "source": [
    "data_all = pd.DataFrame() # define empty pandas DataFrame to hold all data for this sample\n",
    "\n",
    "branches = [\"lep_n\",\"lep_charge\",\"lep_type\",\"lep_pt\",\n",
    "            \"lep_phi\",\"lep_eta\",\"lep_E\"] # add more variables here if you want to use them\n",
    "\n",
    "for data in tree.iterate(branches, \n",
    "                        outputtype=pd.DataFrame, # choose output type as pandas DataFrame\n",
    "                        entrystop=numevents*fraction): # process up to numevents*fraction\n",
    "    nIn = len(data.index) # number of events in this batch\n",
    "    \n",
    "    # Cut applied in the number of leptons\n",
    "    data = data[ np.vectorize(at_least_two_leptons_cut)(data.lep_n)]\n",
    "    \n",
    "    # Cut applied in the lepton's charge\n",
    "    data = data[ np.vectorize(opposite_charges_cut)(data.lep_charge)]\n",
    "    \n",
    "    # Cut applied in the lepton's type\n",
    "    data = data[ np.vectorize(lep_type_cut)(data.lep_type)]\n",
    "    \n",
    "    # Calculate reconstructed dilepton invariant mass using the function calc_mll defined above\n",
    "    data['mll'] = np.vectorize(calc_mll)(data.lep_pt,data.lep_eta,data.lep_phi,data.lep_E)\n",
    "    \n",
    "    nOut = len(data.index) # number of events passing cuts in this batch\n",
    "    print(\"\\t nIn: \"+str(nIn)+\",\\t nOut: \\t\"+str(nOut)) # events before and after\n",
    "    data_all = data_all.append(data) # append dataframe from this batch to the dataframe for the whole sample"
   ]
  },
  {
   "cell_type": "markdown",
   "id": "29baf8b9",
   "metadata": {},
   "source": [
    "Once we have performed our analysis, we can visualize our selected events and their information ($pT$, $\\phi$, $\\eta$, $E$ and the invariant mass of the event) as follow:"
   ]
  },
  {
   "cell_type": "code",
   "execution_count": 10,
   "id": "d29454b7",
   "metadata": {},
   "outputs": [
    {
     "data": {
      "text/html": [
       "<div>\n",
       "<style scoped>\n",
       "    .dataframe tbody tr th:only-of-type {\n",
       "        vertical-align: middle;\n",
       "    }\n",
       "\n",
       "    .dataframe tbody tr th {\n",
       "        vertical-align: top;\n",
       "    }\n",
       "\n",
       "    .dataframe thead th {\n",
       "        text-align: right;\n",
       "    }\n",
       "</style>\n",
       "<table border=\"1\" class=\"dataframe\">\n",
       "  <thead>\n",
       "    <tr style=\"text-align: right;\">\n",
       "      <th></th>\n",
       "      <th>lep_n</th>\n",
       "      <th>lep_charge</th>\n",
       "      <th>lep_type</th>\n",
       "      <th>lep_pt</th>\n",
       "      <th>lep_phi</th>\n",
       "      <th>lep_eta</th>\n",
       "      <th>lep_E</th>\n",
       "      <th>mll</th>\n",
       "    </tr>\n",
       "  </thead>\n",
       "  <tbody>\n",
       "    <tr>\n",
       "      <th>0</th>\n",
       "      <td>2</td>\n",
       "      <td>[1, -1]</td>\n",
       "      <td>[11, 11]</td>\n",
       "      <td>[169903.48, 142998.28]</td>\n",
       "      <td>[3.0199232, -2.9465997]</td>\n",
       "      <td>[-1.8025961, -1.29893]</td>\n",
       "      <td>[529270.06, 281577.66]</td>\n",
       "      <td>93.331758</td>\n",
       "    </tr>\n",
       "    <tr>\n",
       "      <th>1</th>\n",
       "      <td>2</td>\n",
       "      <td>[-1, 1]</td>\n",
       "      <td>[11, 11]</td>\n",
       "      <td>[211820.23, 78281.89]</td>\n",
       "      <td>[-3.0646539, 2.5374086]</td>\n",
       "      <td>[0.047025315, -0.12980008]</td>\n",
       "      <td>[212054.48, 78942.266]</td>\n",
       "      <td>88.992679</td>\n",
       "    </tr>\n",
       "    <tr>\n",
       "      <th>2</th>\n",
       "      <td>2</td>\n",
       "      <td>[1, -1]</td>\n",
       "      <td>[11, 11]</td>\n",
       "      <td>[234039.14, 8108.9414]</td>\n",
       "      <td>[-2.36613, -0.6087628]</td>\n",
       "      <td>[0.5145523, -0.5389483]</td>\n",
       "      <td>[265711.38, 9315.408]</td>\n",
       "      <td>82.511463</td>\n",
       "    </tr>\n",
       "    <tr>\n",
       "      <th>3</th>\n",
       "      <td>2</td>\n",
       "      <td>[-1, 1]</td>\n",
       "      <td>[11, 11]</td>\n",
       "      <td>[282535.56, 60798.965]</td>\n",
       "      <td>[-2.322139, -1.9640917]</td>\n",
       "      <td>[-0.15060467, -0.712555]</td>\n",
       "      <td>[285745.8, 76898.055]</td>\n",
       "      <td>88.020189</td>\n",
       "    </tr>\n",
       "    <tr>\n",
       "      <th>4</th>\n",
       "      <td>2</td>\n",
       "      <td>[-1, 1]</td>\n",
       "      <td>[11, 11]</td>\n",
       "      <td>[193694.88, 135181.3]</td>\n",
       "      <td>[-1.3102051, -1.2278727]</td>\n",
       "      <td>[0.43973032, -0.09355457]</td>\n",
       "      <td>[212725.27, 135773.31]</td>\n",
       "      <td>88.329195</td>\n",
       "    </tr>\n",
       "    <tr>\n",
       "      <th>...</th>\n",
       "      <td>...</td>\n",
       "      <td>...</td>\n",
       "      <td>...</td>\n",
       "      <td>...</td>\n",
       "      <td>...</td>\n",
       "      <td>...</td>\n",
       "      <td>...</td>\n",
       "      <td>...</td>\n",
       "    </tr>\n",
       "    <tr>\n",
       "      <th>37410</th>\n",
       "      <td>2</td>\n",
       "      <td>[1, -1]</td>\n",
       "      <td>[11, 11]</td>\n",
       "      <td>[245795.55, 222063.52]</td>\n",
       "      <td>[2.5181298, 2.6780536]</td>\n",
       "      <td>[0.12005247, -0.23323603]</td>\n",
       "      <td>[247568.95, 228130.97]</td>\n",
       "      <td>90.976534</td>\n",
       "    </tr>\n",
       "    <tr>\n",
       "      <th>37411</th>\n",
       "      <td>2</td>\n",
       "      <td>[-1, 1]</td>\n",
       "      <td>[11, 11]</td>\n",
       "      <td>[264119.16, 29385.602]</td>\n",
       "      <td>[-0.56256586, -0.42886025]</td>\n",
       "      <td>[0.5077818, -0.1588098]</td>\n",
       "      <td>[298907.66, 29756.941]</td>\n",
       "      <td>60.965769</td>\n",
       "    </tr>\n",
       "    <tr>\n",
       "      <th>37412</th>\n",
       "      <td>2</td>\n",
       "      <td>[-1, 1]</td>\n",
       "      <td>[11, 11]</td>\n",
       "      <td>[188751.66, 24947.594]</td>\n",
       "      <td>[0.45541525, -0.84419966]</td>\n",
       "      <td>[1.8628806, 1.3455658]</td>\n",
       "      <td>[622643.8, 51151.938]</td>\n",
       "      <td>90.463265</td>\n",
       "    </tr>\n",
       "    <tr>\n",
       "      <th>37413</th>\n",
       "      <td>2</td>\n",
       "      <td>[-1, 1]</td>\n",
       "      <td>[11, 11]</td>\n",
       "      <td>[174998.83, 79250.9]</td>\n",
       "      <td>[1.6153971, 2.137508]</td>\n",
       "      <td>[0.63657373, 0.06841107]</td>\n",
       "      <td>[211669.52, 79436.42]</td>\n",
       "      <td>91.072780</td>\n",
       "    </tr>\n",
       "    <tr>\n",
       "      <th>37414</th>\n",
       "      <td>2</td>\n",
       "      <td>[1, -1]</td>\n",
       "      <td>[11, 11]</td>\n",
       "      <td>[314123.25, 278301.5]</td>\n",
       "      <td>[-1.3460228, 1.6637794]</td>\n",
       "      <td>[0.78326404, 0.050618988]</td>\n",
       "      <td>[415509.12, 278658.12]</td>\n",
       "      <td>630.261423</td>\n",
       "    </tr>\n",
       "  </tbody>\n",
       "</table>\n",
       "<p>37415 rows × 8 columns</p>\n",
       "</div>"
      ],
      "text/plain": [
       "       lep_n lep_charge  lep_type                  lep_pt  \\\n",
       "0          2    [1, -1]  [11, 11]  [169903.48, 142998.28]   \n",
       "1          2    [-1, 1]  [11, 11]   [211820.23, 78281.89]   \n",
       "2          2    [1, -1]  [11, 11]  [234039.14, 8108.9414]   \n",
       "3          2    [-1, 1]  [11, 11]  [282535.56, 60798.965]   \n",
       "4          2    [-1, 1]  [11, 11]   [193694.88, 135181.3]   \n",
       "...      ...        ...       ...                     ...   \n",
       "37410      2    [1, -1]  [11, 11]  [245795.55, 222063.52]   \n",
       "37411      2    [-1, 1]  [11, 11]  [264119.16, 29385.602]   \n",
       "37412      2    [-1, 1]  [11, 11]  [188751.66, 24947.594]   \n",
       "37413      2    [-1, 1]  [11, 11]    [174998.83, 79250.9]   \n",
       "37414      2    [1, -1]  [11, 11]   [314123.25, 278301.5]   \n",
       "\n",
       "                          lep_phi                     lep_eta  \\\n",
       "0         [3.0199232, -2.9465997]      [-1.8025961, -1.29893]   \n",
       "1         [-3.0646539, 2.5374086]  [0.047025315, -0.12980008]   \n",
       "2          [-2.36613, -0.6087628]     [0.5145523, -0.5389483]   \n",
       "3         [-2.322139, -1.9640917]    [-0.15060467, -0.712555]   \n",
       "4        [-1.3102051, -1.2278727]   [0.43973032, -0.09355457]   \n",
       "...                           ...                         ...   \n",
       "37410      [2.5181298, 2.6780536]   [0.12005247, -0.23323603]   \n",
       "37411  [-0.56256586, -0.42886025]     [0.5077818, -0.1588098]   \n",
       "37412   [0.45541525, -0.84419966]      [1.8628806, 1.3455658]   \n",
       "37413       [1.6153971, 2.137508]    [0.63657373, 0.06841107]   \n",
       "37414     [-1.3460228, 1.6637794]   [0.78326404, 0.050618988]   \n",
       "\n",
       "                        lep_E         mll  \n",
       "0      [529270.06, 281577.66]   93.331758  \n",
       "1      [212054.48, 78942.266]   88.992679  \n",
       "2       [265711.38, 9315.408]   82.511463  \n",
       "3       [285745.8, 76898.055]   88.020189  \n",
       "4      [212725.27, 135773.31]   88.329195  \n",
       "...                       ...         ...  \n",
       "37410  [247568.95, 228130.97]   90.976534  \n",
       "37411  [298907.66, 29756.941]   60.965769  \n",
       "37412   [622643.8, 51151.938]   90.463265  \n",
       "37413   [211669.52, 79436.42]   91.072780  \n",
       "37414  [415509.12, 278658.12]  630.261423  \n",
       "\n",
       "[37415 rows x 8 columns]"
      ]
     },
     "execution_count": 10,
     "metadata": {},
     "output_type": "execute_result"
    }
   ],
   "source": [
    "data_all.reset_index(drop=True, inplace = True) ## Used to define a new index enumerated until nout(events passing the selection)\n",
    "data_all ## Use it if you want to see all information about the events"
   ]
  },
  {
   "cell_type": "markdown",
   "id": "151c8356",
   "metadata": {},
   "source": [
    "[Back to contents](#contents)"
   ]
  },
  {
   "cell_type": "markdown",
   "id": "d5f59290",
   "metadata": {},
   "source": [
    "<a id='pandas_methods'></a>\n",
    "\n",
    "# Some useful methods in pandas"
   ]
  },
  {
   "cell_type": "markdown",
   "id": "8ef0d2d0",
   "metadata": {},
   "source": [
    "After applying the selection criteria to data, we could see some useful methods implemented in pandas that might help us to get a deeper analysis of our data. For example, we applied a cut in the number of the leptons in the final state that accepted all events with more than 2 leptons. Due to the fact that we are using a MC sample, we might think that our process ($Z \\rightarrow ll$) must have only two leptons in the final state, but is it true? Let's use the [**value_counts()**](https://pandas.pydata.org/docs/reference/api/pandas.Series.value_counts.html) method to count how many events we have per number of leptons in the final state:"
   ]
  },
  {
   "cell_type": "code",
   "execution_count": 11,
   "id": "75baf0bc",
   "metadata": {},
   "outputs": [
    {
     "data": {
      "text/plain": [
       "2    37212\n",
       "3      200\n",
       "4        3\n",
       "Name: lep_n, dtype: int64"
      ]
     },
     "execution_count": 11,
     "metadata": {},
     "output_type": "execute_result"
    }
   ],
   "source": [
    "data_all[\"lep_n\"].value_counts()"
   ]
  },
  {
   "cell_type": "markdown",
   "id": "0a4a37f0",
   "metadata": {},
   "source": [
    "As we can see from the result shown above, most of our data have 2 leptons in the final state as we expected, an a few percentage of the data have 3 or 4 leptons in the final state, none of them have more than 4 leptons or less than 2 leptons in the final state. The **value_count** method is useful because we didn't need to see row by row to count the number of leptons per event and we got a list of the number of events with the number of leptons in the final state anyway. \n",
    "Let's see more information of our data, such as the lower and higher value of the invariant mass in all of our data, which were computed by the function \"**calc_mll**\", by using the [**min()**](https://pandas.pydata.org/docs/reference/api/pandas.DataFrame.min.html) and [**max()**](https://pandas.pydata.org/docs/reference/api/pandas.DataFrame.max.html) methods:"
   ]
  },
  {
   "cell_type": "code",
   "execution_count": 12,
   "id": "4cad9b49",
   "metadata": {},
   "outputs": [
    {
     "name": "stdout",
     "output_type": "stream",
     "text": [
      "Range: [10.03 GeV, 2012.54 GeV]\n"
     ]
    }
   ],
   "source": [
    "min = data_all[\"mll\"].min()\n",
    "max = data_all[\"mll\"].max()\n",
    "print(\"Range: [{:.2f} GeV, {:.2f} GeV]\".format(min, max))"
   ]
  },
  {
   "cell_type": "markdown",
   "id": "210a1daa",
   "metadata": {},
   "source": [
    "The result above tells us that we have a wide range in the **mll** column values, so we might think that our invariant mass could be very dispersed. Let's use interquartile ranges to see a little bit how the distribution of the invariant mass values is. To do this, we can see the middle interquartile range (that is the range between the $25%$ and $75%$ quartiles)."
   ]
  },
  {
   "cell_type": "code",
   "execution_count": 13,
   "id": "ed8caafd",
   "metadata": {},
   "outputs": [
    {
     "name": "stdout",
     "output_type": "stream",
     "text": [
      "The invariant mass for the middle 50% of events range from 88.88 GeV to 94.05 GeV.\n",
      "This is an interquartile range of 5.18 GeV.\n"
     ]
    }
   ],
   "source": [
    "quar_25 = data_all[\"mll\"].quantile(q=0.25)\n",
    "quar_75 = data_all[\"mll\"].quantile(q=0.75)\n",
    "\n",
    "rang_int_quartil = quar_75 - quar_25\n",
    "print(\n",
    "    \"The invariant mass for the middle 50% of events range from {:.2f} GeV to {:.2f} GeV.\\nThis is an interquartile range of {:.2f} GeV.\"\n",
    "    .format(quar_25, quar_75, rang_int_quartil)\n",
    ")"
   ]
  },
  {
   "cell_type": "markdown",
   "id": "00c76e0b",
   "metadata": {},
   "source": [
    "The middle interquartile range has told us that half of the data for the invariant mass is contained between 88.88 GeV and 94.05 GeV. So even if the range of the invariant mass is high, half of our data of the invariant mass should be contained in a thin range near to 91 GeV (that is almost the mass of the Z boson). What happens if we wanted to get these statistics values but now considering the number of leptons in the final state? Fortunately, we can use the [**groupby()**](https://pandas.pydata.org/docs/reference/api/pandas.DataFrame.groupby.html) and [**describe()**](https://pandas.pydata.org/docs/reference/api/pandas.DataFrame.describe.html) methods to get some of these statistical values for the number of leptons in the final state. In this case, we are going to group our data with the \"**lep_n**\" column and get the statistical values for the \"**mll**\" column just as follow:"
   ]
  },
  {
   "cell_type": "code",
   "execution_count": 14,
   "id": "42162701",
   "metadata": {},
   "outputs": [
    {
     "data": {
      "text/html": [
       "<div>\n",
       "<style scoped>\n",
       "    .dataframe tbody tr th:only-of-type {\n",
       "        vertical-align: middle;\n",
       "    }\n",
       "\n",
       "    .dataframe tbody tr th {\n",
       "        vertical-align: top;\n",
       "    }\n",
       "\n",
       "    .dataframe thead th {\n",
       "        text-align: right;\n",
       "    }\n",
       "</style>\n",
       "<table border=\"1\" class=\"dataframe\">\n",
       "  <thead>\n",
       "    <tr style=\"text-align: right;\">\n",
       "      <th></th>\n",
       "      <th>count</th>\n",
       "      <th>mean</th>\n",
       "      <th>std</th>\n",
       "      <th>min</th>\n",
       "      <th>25%</th>\n",
       "      <th>50%</th>\n",
       "      <th>75%</th>\n",
       "      <th>max</th>\n",
       "    </tr>\n",
       "    <tr>\n",
       "      <th>lep_n</th>\n",
       "      <th></th>\n",
       "      <th></th>\n",
       "      <th></th>\n",
       "      <th></th>\n",
       "      <th></th>\n",
       "      <th></th>\n",
       "      <th></th>\n",
       "      <th></th>\n",
       "    </tr>\n",
       "  </thead>\n",
       "  <tbody>\n",
       "    <tr>\n",
       "      <th>2</th>\n",
       "      <td>37212.0</td>\n",
       "      <td>131.654342</td>\n",
       "      <td>145.063251</td>\n",
       "      <td>10.028786</td>\n",
       "      <td>88.879591</td>\n",
       "      <td>91.125424</td>\n",
       "      <td>94.054349</td>\n",
       "      <td>2012.540042</td>\n",
       "    </tr>\n",
       "    <tr>\n",
       "      <th>3</th>\n",
       "      <td>200.0</td>\n",
       "      <td>136.524102</td>\n",
       "      <td>161.862118</td>\n",
       "      <td>21.354651</td>\n",
       "      <td>88.255994</td>\n",
       "      <td>91.245386</td>\n",
       "      <td>93.343718</td>\n",
       "      <td>1146.912383</td>\n",
       "    </tr>\n",
       "    <tr>\n",
       "      <th>4</th>\n",
       "      <td>3.0</td>\n",
       "      <td>89.810701</td>\n",
       "      <td>4.025477</td>\n",
       "      <td>87.326921</td>\n",
       "      <td>87.488463</td>\n",
       "      <td>87.650005</td>\n",
       "      <td>91.052591</td>\n",
       "      <td>94.455177</td>\n",
       "    </tr>\n",
       "  </tbody>\n",
       "</table>\n",
       "</div>"
      ],
      "text/plain": [
       "         count        mean         std        min        25%        50%  \\\n",
       "lep_n                                                                     \n",
       "2      37212.0  131.654342  145.063251  10.028786  88.879591  91.125424   \n",
       "3        200.0  136.524102  161.862118  21.354651  88.255994  91.245386   \n",
       "4          3.0   89.810701    4.025477  87.326921  87.488463  87.650005   \n",
       "\n",
       "             75%          max  \n",
       "lep_n                          \n",
       "2      94.054349  2012.540042  \n",
       "3      93.343718  1146.912383  \n",
       "4      91.052591    94.455177  "
      ]
     },
     "execution_count": 14,
     "metadata": {},
     "output_type": "execute_result"
    }
   ],
   "source": [
    "data_all.groupby(\"lep_n\")[\"mll\"].describe()"
   ]
  },
  {
   "cell_type": "markdown",
   "id": "4bb7259b",
   "metadata": {},
   "source": [
    "The **describe()** method gives us the mean, the standard deviation, the minimum value, the maximum value and the $25%$, $50%$ and $75%$ quartiles values for a certain column (in our case the invariant mass column) at the same time. We also can modify our data a little bit, such as creating new columns and using some methods over columns we already have.\n",
    "\n",
    "Let's define some functions that we are going to use to illustrate how the [**apply()**](https://pandas.pydata.org/docs/reference/api/pandas.DataFrame.apply.html) method works.\n",
    "First we can define two functions that give the first and second value of an array into a serie of a dataframe:"
   ]
  },
  {
   "cell_type": "code",
   "execution_count": 15,
   "id": "32c6de88",
   "metadata": {},
   "outputs": [],
   "source": [
    "def first_value_of_the_array(serie):\n",
    "    first = serie[0]\n",
    "    return first"
   ]
  },
  {
   "cell_type": "code",
   "execution_count": 16,
   "id": "7a7bb8d0",
   "metadata": {},
   "outputs": [],
   "source": [
    "def second_value_of_the_array(serie):\n",
    "    second = serie[1]\n",
    "    return second"
   ]
  },
  {
   "cell_type": "markdown",
   "id": "80bf626a",
   "metadata": {},
   "source": [
    "Then, we can create a function that tells us what kind of lepton we have in the final state (such an electron, positron, muon or antimuon). Of course, we can know it by using the **lep_type** and **lep_charge** columns but we want to have a column with the name of the particle in order to easily compare the number of electrons, positrons, muons or antimuons we have in all the events. In another way, we should find the PDG ID for every lepton and use the lepton charge to identify leptons of the same family. "
   ]
  },
  {
   "cell_type": "code",
   "execution_count": 17,
   "id": "281dabfb",
   "metadata": {},
   "outputs": [],
   "source": [
    "def assign_type(lep_charge, lep_type):\n",
    "    if(lep_charge == -1):\n",
    "        if(lep_type==11):\n",
    "            label = \"electron\"\n",
    "    if(lep_charge == 1):\n",
    "        if(lep_type==11):\n",
    "            label = \"positron\"\n",
    "    if(lep_charge == -1):\n",
    "        if(lep_type==13):\n",
    "            label = \"muon\"\n",
    "    if(lep_charge == 1):\n",
    "        if(lep_type==13):\n",
    "            label = \"antimuon\"\n",
    "    return label"
   ]
  },
  {
   "cell_type": "markdown",
   "id": "874e6d5a",
   "metadata": {},
   "source": [
    "Let's create four new columns that contain the type and charge for the leading and subleading leptons. To save this information in the new columns, we use the **apply()** method over the **lep_type** and **lep_charge** columns, giving the name of the funcion we are going to apply over these values for each lepton. Then, we should see these new columns in the dataframe such as follow (the first 10 events):"
   ]
  },
  {
   "cell_type": "code",
   "execution_count": 18,
   "id": "07524084",
   "metadata": {},
   "outputs": [
    {
     "data": {
      "text/html": [
       "<div>\n",
       "<style scoped>\n",
       "    .dataframe tbody tr th:only-of-type {\n",
       "        vertical-align: middle;\n",
       "    }\n",
       "\n",
       "    .dataframe tbody tr th {\n",
       "        vertical-align: top;\n",
       "    }\n",
       "\n",
       "    .dataframe thead th {\n",
       "        text-align: right;\n",
       "    }\n",
       "</style>\n",
       "<table border=\"1\" class=\"dataframe\">\n",
       "  <thead>\n",
       "    <tr style=\"text-align: right;\">\n",
       "      <th></th>\n",
       "      <th>lep_n</th>\n",
       "      <th>lep_type</th>\n",
       "      <th>lep_charge</th>\n",
       "      <th>leadlep_type</th>\n",
       "      <th>subleadlep_type</th>\n",
       "      <th>leadlep_charge</th>\n",
       "      <th>subleadlep_charge</th>\n",
       "    </tr>\n",
       "  </thead>\n",
       "  <tbody>\n",
       "    <tr>\n",
       "      <th>0</th>\n",
       "      <td>2</td>\n",
       "      <td>[11, 11]</td>\n",
       "      <td>[1, -1]</td>\n",
       "      <td>11</td>\n",
       "      <td>11</td>\n",
       "      <td>1</td>\n",
       "      <td>-1</td>\n",
       "    </tr>\n",
       "    <tr>\n",
       "      <th>1</th>\n",
       "      <td>2</td>\n",
       "      <td>[11, 11]</td>\n",
       "      <td>[-1, 1]</td>\n",
       "      <td>11</td>\n",
       "      <td>11</td>\n",
       "      <td>-1</td>\n",
       "      <td>1</td>\n",
       "    </tr>\n",
       "    <tr>\n",
       "      <th>2</th>\n",
       "      <td>2</td>\n",
       "      <td>[11, 11]</td>\n",
       "      <td>[1, -1]</td>\n",
       "      <td>11</td>\n",
       "      <td>11</td>\n",
       "      <td>1</td>\n",
       "      <td>-1</td>\n",
       "    </tr>\n",
       "    <tr>\n",
       "      <th>3</th>\n",
       "      <td>2</td>\n",
       "      <td>[11, 11]</td>\n",
       "      <td>[-1, 1]</td>\n",
       "      <td>11</td>\n",
       "      <td>11</td>\n",
       "      <td>-1</td>\n",
       "      <td>1</td>\n",
       "    </tr>\n",
       "    <tr>\n",
       "      <th>4</th>\n",
       "      <td>2</td>\n",
       "      <td>[11, 11]</td>\n",
       "      <td>[-1, 1]</td>\n",
       "      <td>11</td>\n",
       "      <td>11</td>\n",
       "      <td>-1</td>\n",
       "      <td>1</td>\n",
       "    </tr>\n",
       "    <tr>\n",
       "      <th>5</th>\n",
       "      <td>2</td>\n",
       "      <td>[11, 11]</td>\n",
       "      <td>[-1, 1]</td>\n",
       "      <td>11</td>\n",
       "      <td>11</td>\n",
       "      <td>-1</td>\n",
       "      <td>1</td>\n",
       "    </tr>\n",
       "    <tr>\n",
       "      <th>6</th>\n",
       "      <td>2</td>\n",
       "      <td>[11, 11]</td>\n",
       "      <td>[-1, 1]</td>\n",
       "      <td>11</td>\n",
       "      <td>11</td>\n",
       "      <td>-1</td>\n",
       "      <td>1</td>\n",
       "    </tr>\n",
       "    <tr>\n",
       "      <th>7</th>\n",
       "      <td>2</td>\n",
       "      <td>[11, 11]</td>\n",
       "      <td>[1, -1]</td>\n",
       "      <td>11</td>\n",
       "      <td>11</td>\n",
       "      <td>1</td>\n",
       "      <td>-1</td>\n",
       "    </tr>\n",
       "    <tr>\n",
       "      <th>8</th>\n",
       "      <td>2</td>\n",
       "      <td>[11, 11]</td>\n",
       "      <td>[-1, 1]</td>\n",
       "      <td>11</td>\n",
       "      <td>11</td>\n",
       "      <td>-1</td>\n",
       "      <td>1</td>\n",
       "    </tr>\n",
       "    <tr>\n",
       "      <th>9</th>\n",
       "      <td>2</td>\n",
       "      <td>[11, 11]</td>\n",
       "      <td>[-1, 1]</td>\n",
       "      <td>11</td>\n",
       "      <td>11</td>\n",
       "      <td>-1</td>\n",
       "      <td>1</td>\n",
       "    </tr>\n",
       "  </tbody>\n",
       "</table>\n",
       "</div>"
      ],
      "text/plain": [
       "   lep_n  lep_type lep_charge  leadlep_type  subleadlep_type  leadlep_charge  \\\n",
       "0      2  [11, 11]    [1, -1]            11               11               1   \n",
       "1      2  [11, 11]    [-1, 1]            11               11              -1   \n",
       "2      2  [11, 11]    [1, -1]            11               11               1   \n",
       "3      2  [11, 11]    [-1, 1]            11               11              -1   \n",
       "4      2  [11, 11]    [-1, 1]            11               11              -1   \n",
       "5      2  [11, 11]    [-1, 1]            11               11              -1   \n",
       "6      2  [11, 11]    [-1, 1]            11               11              -1   \n",
       "7      2  [11, 11]    [1, -1]            11               11               1   \n",
       "8      2  [11, 11]    [-1, 1]            11               11              -1   \n",
       "9      2  [11, 11]    [-1, 1]            11               11              -1   \n",
       "\n",
       "   subleadlep_charge  \n",
       "0                 -1  \n",
       "1                  1  \n",
       "2                 -1  \n",
       "3                  1  \n",
       "4                  1  \n",
       "5                  1  \n",
       "6                  1  \n",
       "7                 -1  \n",
       "8                  1  \n",
       "9                  1  "
      ]
     },
     "execution_count": 18,
     "metadata": {},
     "output_type": "execute_result"
    }
   ],
   "source": [
    "data_all[\"leadlep_type\"] = data_all[\"lep_type\"].apply(first_value_of_the_array)\n",
    "data_all[\"subleadlep_type\"] = data_all[\"lep_type\"].apply(second_value_of_the_array)\n",
    "data_all[\"leadlep_charge\"] = data_all[\"lep_charge\"].apply(first_value_of_the_array)\n",
    "data_all[\"subleadlep_charge\"] = data_all[\"lep_charge\"].apply(second_value_of_the_array)\n",
    "\n",
    "data_all[[\"lep_n\", \"lep_type\", \"lep_charge\", \"leadlep_type\", \"subleadlep_type\", \"leadlep_charge\", \"subleadlep_charge\"]].head(10)"
   ]
  },
  {
   "cell_type": "markdown",
   "id": "c85de13a",
   "metadata": {},
   "source": [
    "As we can see from the result above, we have separated the information of the type and charge of the leading and subleading leptons and now, we could use these four columns to determine what the leading and subleading leptons are by using the [**vectorize()**](https://numpy.org/doc/stable/reference/generated/numpy.vectorize.html) function of numpy library:"
   ]
  },
  {
   "cell_type": "code",
   "execution_count": 19,
   "id": "5d266d87",
   "metadata": {},
   "outputs": [
    {
     "data": {
      "text/html": [
       "<div>\n",
       "<style scoped>\n",
       "    .dataframe tbody tr th:only-of-type {\n",
       "        vertical-align: middle;\n",
       "    }\n",
       "\n",
       "    .dataframe tbody tr th {\n",
       "        vertical-align: top;\n",
       "    }\n",
       "\n",
       "    .dataframe thead th {\n",
       "        text-align: right;\n",
       "    }\n",
       "</style>\n",
       "<table border=\"1\" class=\"dataframe\">\n",
       "  <thead>\n",
       "    <tr style=\"text-align: right;\">\n",
       "      <th></th>\n",
       "      <th>lep_n</th>\n",
       "      <th>lep_type</th>\n",
       "      <th>lep_charge</th>\n",
       "      <th>leading_lepton</th>\n",
       "      <th>subleading_lepton</th>\n",
       "    </tr>\n",
       "  </thead>\n",
       "  <tbody>\n",
       "    <tr>\n",
       "      <th>0</th>\n",
       "      <td>2</td>\n",
       "      <td>[11, 11]</td>\n",
       "      <td>[1, -1]</td>\n",
       "      <td>positron</td>\n",
       "      <td>electron</td>\n",
       "    </tr>\n",
       "    <tr>\n",
       "      <th>1</th>\n",
       "      <td>2</td>\n",
       "      <td>[11, 11]</td>\n",
       "      <td>[-1, 1]</td>\n",
       "      <td>electron</td>\n",
       "      <td>positron</td>\n",
       "    </tr>\n",
       "    <tr>\n",
       "      <th>2</th>\n",
       "      <td>2</td>\n",
       "      <td>[11, 11]</td>\n",
       "      <td>[1, -1]</td>\n",
       "      <td>positron</td>\n",
       "      <td>electron</td>\n",
       "    </tr>\n",
       "    <tr>\n",
       "      <th>3</th>\n",
       "      <td>2</td>\n",
       "      <td>[11, 11]</td>\n",
       "      <td>[-1, 1]</td>\n",
       "      <td>electron</td>\n",
       "      <td>positron</td>\n",
       "    </tr>\n",
       "    <tr>\n",
       "      <th>4</th>\n",
       "      <td>2</td>\n",
       "      <td>[11, 11]</td>\n",
       "      <td>[-1, 1]</td>\n",
       "      <td>electron</td>\n",
       "      <td>positron</td>\n",
       "    </tr>\n",
       "    <tr>\n",
       "      <th>5</th>\n",
       "      <td>2</td>\n",
       "      <td>[11, 11]</td>\n",
       "      <td>[-1, 1]</td>\n",
       "      <td>electron</td>\n",
       "      <td>positron</td>\n",
       "    </tr>\n",
       "    <tr>\n",
       "      <th>6</th>\n",
       "      <td>2</td>\n",
       "      <td>[11, 11]</td>\n",
       "      <td>[-1, 1]</td>\n",
       "      <td>electron</td>\n",
       "      <td>positron</td>\n",
       "    </tr>\n",
       "    <tr>\n",
       "      <th>7</th>\n",
       "      <td>2</td>\n",
       "      <td>[11, 11]</td>\n",
       "      <td>[1, -1]</td>\n",
       "      <td>positron</td>\n",
       "      <td>electron</td>\n",
       "    </tr>\n",
       "    <tr>\n",
       "      <th>8</th>\n",
       "      <td>2</td>\n",
       "      <td>[11, 11]</td>\n",
       "      <td>[-1, 1]</td>\n",
       "      <td>electron</td>\n",
       "      <td>positron</td>\n",
       "    </tr>\n",
       "    <tr>\n",
       "      <th>9</th>\n",
       "      <td>2</td>\n",
       "      <td>[11, 11]</td>\n",
       "      <td>[-1, 1]</td>\n",
       "      <td>electron</td>\n",
       "      <td>positron</td>\n",
       "    </tr>\n",
       "  </tbody>\n",
       "</table>\n",
       "</div>"
      ],
      "text/plain": [
       "   lep_n  lep_type lep_charge leading_lepton subleading_lepton\n",
       "0      2  [11, 11]    [1, -1]       positron          electron\n",
       "1      2  [11, 11]    [-1, 1]       electron          positron\n",
       "2      2  [11, 11]    [1, -1]       positron          electron\n",
       "3      2  [11, 11]    [-1, 1]       electron          positron\n",
       "4      2  [11, 11]    [-1, 1]       electron          positron\n",
       "5      2  [11, 11]    [-1, 1]       electron          positron\n",
       "6      2  [11, 11]    [-1, 1]       electron          positron\n",
       "7      2  [11, 11]    [1, -1]       positron          electron\n",
       "8      2  [11, 11]    [-1, 1]       electron          positron\n",
       "9      2  [11, 11]    [-1, 1]       electron          positron"
      ]
     },
     "execution_count": 19,
     "metadata": {},
     "output_type": "execute_result"
    }
   ],
   "source": [
    "data_all[\"leading_lepton\"] = np.vectorize(assign_type)(data_all.leadlep_charge,data_all.leadlep_type)\n",
    "data_all[\"subleading_lepton\"] = np.vectorize(assign_type)(data_all.subleadlep_charge,data_all.subleadlep_type)\n",
    "\n",
    "data_all[[\"lep_n\", \"lep_type\", \"lep_charge\", \"leading_lepton\", \"subleading_lepton\"]].head(10)"
   ]
  },
  {
   "cell_type": "markdown",
   "id": "1849a154",
   "metadata": {},
   "source": [
    "Let's count how many electrons and positrons we have as a leading lepton using the **value_counts()** method explained above:"
   ]
  },
  {
   "cell_type": "code",
   "execution_count": 20,
   "id": "4f22a03a",
   "metadata": {},
   "outputs": [
    {
     "data": {
      "text/plain": [
       "electron    19148\n",
       "positron    18267\n",
       "Name: leading_lepton, dtype: int64"
      ]
     },
     "execution_count": 20,
     "metadata": {},
     "output_type": "execute_result"
    }
   ],
   "source": [
    "data_all[\"leading_lepton\"].value_counts()"
   ]
  },
  {
   "cell_type": "markdown",
   "id": "72398145",
   "metadata": {},
   "source": [
    "Because of the cuts in the type and charge leptons given by the functions **opposite_charges_cut** and **lep_type_cut** defined early, we should expect that we have the number of electrons and positrons swapped when we count for the subleading lepton column. This is because we should guarantee that we have leptons of the same family and opposite charges, and the first two leptons of each event only have electrons or positrons (there aren't muons or antimuons as leading or subleading leptons). Let's verify it:"
   ]
  },
  {
   "cell_type": "code",
   "execution_count": 21,
   "id": "faff2630",
   "metadata": {},
   "outputs": [
    {
     "data": {
      "text/plain": [
       "positron    19148\n",
       "electron    18267\n",
       "Name: subleading_lepton, dtype: int64"
      ]
     },
     "execution_count": 21,
     "metadata": {},
     "output_type": "execute_result"
    }
   ],
   "source": [
    "data_all[\"subleading_lepton\"].value_counts()"
   ]
  },
  {
   "cell_type": "markdown",
   "id": "8d51fdeb",
   "metadata": {},
   "source": [
    "Ok! It looks good. Now, we are going to plot how many electrons and positrons are leading and subleading leptons, sorting them according to the number of leptons in the final state. We should expect to have the majority of contribution of leptons in events with only two leptons in the final state, with a lower percentage in events with three and four leptons in the final state. Let's create a new dataframe named **elec_pos** in which we are going to count the number of electrons and positrons by grouping them with the number of leptons in the final state for each event."
   ]
  },
  {
   "cell_type": "code",
   "execution_count": 22,
   "id": "73e45b95",
   "metadata": {},
   "outputs": [
    {
     "data": {
      "text/plain": [
       "lep_n  leading_lepton\n",
       "2      electron          19050\n",
       "       positron          18162\n",
       "3      positron            102\n",
       "       electron             98\n",
       "4      positron              3\n",
       "Name: leading_lepton, dtype: int64"
      ]
     },
     "execution_count": 22,
     "metadata": {},
     "output_type": "execute_result"
    }
   ],
   "source": [
    "#elec_pos = data_all[data_all[\"lep_n\"] == 2].groupby(\"lep_n\")[\"lep1_charge\"].value_counts()\n",
    "elec_pos = data_all.groupby(\"lep_n\")[\"leading_lepton\"].value_counts()\n",
    "\n",
    "elec_pos"
   ]
  },
  {
   "cell_type": "code",
   "execution_count": 23,
   "id": "e39cc2a4",
   "metadata": {},
   "outputs": [
    {
     "data": {
      "text/plain": [
       "<AxesSubplot:title={'center':'Number of leading leptons sorted by electrons and positrons'}, xlabel='Number of electrons and positrons per number of leptons in the final state', ylabel='Number of electrons and positrons'>"
      ]
     },
     "execution_count": 23,
     "metadata": {},
     "output_type": "execute_result"
    },
    {
     "data": {
      "image/png": "[encoded data removed]",
      "text/plain": [
       "<Figure size 720x432 with 1 Axes>"
      ]
     },
     "metadata": {
      "needs_background": "light"
     },
     "output_type": "display_data"
    }
   ],
   "source": [
    "elec_pos.plot.bar(title=\"Number of leading leptons sorted by electrons and positrons\", \n",
    "                  xlabel = \"Number of electrons and positrons per number of leptons in the final state\", \n",
    "                  ylabel = \"Number of electrons and positrons\", figsize=(10,6))"
   ]
  },
  {
   "cell_type": "markdown",
   "id": "b906c950",
   "metadata": {},
   "source": [
    "[Back to contents](#contents)"
   ]
  },
  {
   "cell_type": "markdown",
   "id": "4acc1640",
   "metadata": {},
   "source": [
    "<a id='plotting'></a>\n",
    "\n",
    "# Plotting\n",
    "\n",
    "Now, we only need to plot our final graphs. For this reason, we create two functions which plots our data using points and the other one using histograms. In these plots we can see our fit using a gaussian function we previously defined.\n",
    "\n",
    "Run the next two code lines if you want to see the plot with points:"
   ]
  },
  {
   "cell_type": "code",
   "execution_count": 24,
   "id": "36f5df76",
   "metadata": {},
   "outputs": [],
   "source": [
    "def plot_data():   \n",
    "\n",
    "    xmin = 40 # GeV\n",
    "    xmax = 140 # GeV\n",
    "    step_size = 2 # GeV\n",
    "    \n",
    "    bin_edges = np.arange(start=xmin, # The interval includes this value\n",
    "                     stop=xmax+step_size, # The interval doesn't include this value\n",
    "                     step=step_size ) # Spacing between values\n",
    "    bin_centres = np.arange(start=xmin+step_size/2, # The interval includes this value\n",
    "                            stop=xmax+step_size/2, # The interval doesn't include this value\n",
    "                            step=step_size ) # Spacing between values\n",
    "\n",
    "    data_x,_ = np.histogram(data_all['mll'], \n",
    "                            bins=bin_edges ) # histogram the data   \n",
    "         \n",
    "    data_x_errors = np.sqrt( data_x ) # statistical error on the data\n",
    "\n",
    "    # Main plot \n",
    "    # *************\n",
    "    plt.axes([0.1,0.3,0.85,0.65]) # left, bottom, width, height \n",
    "    main_axes = plt.gca() # get current axes\n",
    "    \n",
    "    # plot the data points\n",
    "    main_axes.errorbar(x=bin_centres, y=data_x, yerr=data_x_errors, \n",
    "                      fmt='ko', # 'k' means black and 'o' means circles\n",
    "                      label='Data' ) \n",
    "\n",
    "    # set the x-limit of the main axes\n",
    "    main_axes.set_xlim( left=xmin, right=xmax ) \n",
    "    \n",
    "    # set the y-axis limit for the main axes\n",
    "    main_axes.set_ylim( bottom=0, top=np.amax(data_x)*1.1 ) \n",
    "    \n",
    "    # avoid displaying y=0 on the main axes\n",
    "    main_axes.yaxis.get_major_ticks()[0].set_visible(False) \n",
    "\n",
    "    \n",
    "    # data fit\n",
    "    \n",
    "    popt,pcov = curve_fit(gauss, bin_centres, data_x, p0=(10000, 90, 5))\n",
    "    \n",
    "    y = gauss(bin_centres, popt[0], popt[1], popt[2])\n",
    "    \n",
    "    plt.plot(bin_centres, y, color='r', linestyle='dashed', label='Gaussian Fit Function')\n",
    "    \n",
    "    mu = np.format_float_positional(popt[1], unique=False, precision=2)\n",
    "    sigma = np.format_float_positional(popt[2], unique=False, precision=2)\n",
    "\n",
    "    # Add text 'Invariant mass of Z boson given by the gaussian fit function'\n",
    "    plt.text(0.6, # x\n",
    "             0.56, # y\n",
    "             'Mass of Z boson given by', # text\n",
    "             transform=main_axes.transAxes, # coordinate system used is that of main_axes\n",
    "             style='italic',\n",
    "             fontsize=10 ) \n",
    "    \n",
    "    plt.text(0.6, # x\n",
    "             0.5, # y\n",
    "             'the gaussian fit function', # text\n",
    "             transform=main_axes.transAxes, # coordinate system used is that of main_axes\n",
    "             style='italic',\n",
    "             fontsize=10 ) \n",
    "    \n",
    "    plt.text(0.6, # x\n",
    "             0.44, # y\n",
    "             r'$m_{Z} = $ '+mu + '$\\pm$' + sigma, # text\n",
    "             transform=main_axes.transAxes ) # coordinate system used is that of main_axes    \n",
    "    \n",
    "    # Add text 'ATLAS Open Data' on plot\n",
    "    plt.text(0.1, # x\n",
    "             0.92, # y\n",
    "             'ATLAS Open Data', # text\n",
    "             transform=main_axes.transAxes, # coordinate system used is that of main_axes\n",
    "             fontsize=13 ) \n",
    "    \n",
    "    # Add text 'for education' on plot\n",
    "    plt.text(0.1, # x\n",
    "             0.86, # y\n",
    "             'for education - not public', # text\n",
    "             transform=main_axes.transAxes, # coordinate system used is that of main_axes\n",
    "             style='italic',\n",
    "             fontsize=8 ) \n",
    "    \n",
    "    # Add energy and luminosity\n",
    "    #lumi_used = str(lumi*fraction) # luminosity to write on the plot\n",
    "    plt.text(0.1, # x\n",
    "             0.8, # y\n",
    "             r'$\\sqrt{s}=13 TeV$', # text\n",
    "             transform=main_axes.transAxes ) # coordinate system used is that of main_axes \n",
    "    \n",
    "    # Add a label for the analysis carried out\n",
    "    plt.text(0.1, # x\n",
    "             0.74, # y\n",
    "             r'$Z \\rightarrow l^{+}l^{-}$', # text \n",
    "             transform=main_axes.transAxes ) # coordinate system used is that of main_axes\n",
    "\n",
    "    # draw the legend\n",
    "    # 'upper left', 'upper right', 'lower left', 'lower right'\n",
    "    main_axes.legend(frameon=False, # no box around the legend\n",
    "                     loc='upper right' ) # legend location \n",
    "    \n",
    "    # x-axis label\n",
    "    plt.xlabel(r'di-lepton invariant mass $\\mathrm{m_{ll}}$ [GeV]')\n",
    "    \n",
    "    # y-axis label\n",
    "    plt.ylabel('Events')\n",
    "\n",
    "    plt.xticks(np.arange(xmin, xmax, step=10))\n",
    "    \n",
    "    plt.yticks(np.arange(0, 10000, step=1000))\n",
    "    \n",
    "    plt.title('Mass of the Z boson')\n",
    "    plt.savefig('plots/Z-invariant-mass/Zmass_pandas_p.pdf')\n",
    "    #plt.savefig('plots/Z-invariant-mass/Zmass_pandas_p.png')\n",
    "    \n",
    "    return"
   ]
  },
  {
   "cell_type": "code",
   "execution_count": 25,
   "id": "5c2bf6a1",
   "metadata": {},
   "outputs": [
    {
     "data": {
      "image/png": "[encoded data removed]",
      "text/plain": [
       "<Figure size 432x288 with 1 Axes>"
      ]
     },
     "metadata": {
      "needs_background": "light"
     },
     "output_type": "display_data"
    }
   ],
   "source": [
    "plot_data()"
   ]
  },
  {
   "cell_type": "markdown",
   "id": "3c41cdf3",
   "metadata": {},
   "source": [
    "Run the next two code lines if you want to see the plot as histograms:"
   ]
  },
  {
   "cell_type": "code",
   "execution_count": 26,
   "id": "c3c9fbd2",
   "metadata": {},
   "outputs": [],
   "source": [
    "def plot_data_2(data):\n",
    "    \n",
    "    xmin = 40 # GeV\n",
    "    xmax = 140 # GeV\n",
    "    step_size = 2 # GeV\n",
    "\n",
    "    bin_edges = np.arange(start=xmin, # The interval includes this value\n",
    "                     stop=xmax+step_size, # The interval doesn't include this value\n",
    "                     step=step_size ) # Spacing between values\n",
    "    bin_centres = np.arange(start=xmin+step_size/2, # The interval includes this value\n",
    "                            stop=xmax+step_size/2, # The interval doesn't include this value\n",
    "                            step=step_size ) # Spacing between values\n",
    "\n",
    "    main_axes = plt.gca() # get current axes\n",
    "    \n",
    "    # plot data histogram\n",
    "    data_hist = main_axes.hist(data['mll'], bins=bin_edges, color='#0011ff', label='Data') \n",
    "    \n",
    "    # set the x-limit of the main axes\n",
    "    main_axes.set_xlim( left=xmin, right=xmax ) \n",
    "    \n",
    "    # set the axis tick parameters for the main axes\n",
    "    main_axes.tick_params(which='both', # ticks on both x and y axes\n",
    "                          direction='in', # Put ticks inside and outside the axes\n",
    "                          top=False, # draw ticks on the top axis\n",
    "                          right=False ) # draw ticks on right axis\n",
    "    \n",
    "    # x-axis label\n",
    "    main_axes.set_xlabel(r'2-lepton invariant mass $\\mathrm{m_{ll}}$ [GeV]',\n",
    "                        fontsize=13, x=1, horizontalalignment='right' )\n",
    "    \n",
    "    # write y-axis label for main axes\n",
    "    main_axes.set_ylabel('Events / '+str(step_size)+' GeV',\n",
    "                         y=1, horizontalalignment='right')\n",
    "    \n",
    "    plt.xticks(np.arange(xmin, xmax, step=10))\n",
    "    \n",
    "    plt.yticks(np.arange(0, 10000, step=1000))\n",
    "    \n",
    "    plt.title('Mass of the Z boson')\n",
    "    \n",
    "    # data fit\n",
    "    \n",
    "    data_x,_ = np.histogram(data_all['mll'], bins=bin_edges ) # histogram the data   \n",
    "        \n",
    "    popt,pcov = curve_fit(gauss, bin_centres, data_x, p0=(10000, 90, 5))\n",
    "    \n",
    "    y = gauss(bin_centres, popt[0], popt[1], popt[2])\n",
    "    \n",
    "    plt.plot(bin_centres, y, color='r', linestyle='dashed', label='Gaussian Fit Function')\n",
    "    \n",
    "    mu = np.format_float_positional(popt[1], unique=False, precision=2)\n",
    "    sigma = np.format_float_positional(popt[2], unique=False, precision=2)\n",
    "\n",
    "    # Add text 'Invariant mass of Z boson given by the gaussian fit function'\n",
    "    plt.text(0.6, # x\n",
    "             0.56, # y\n",
    "             'Mass of Z boson given by', # text\n",
    "             transform=main_axes.transAxes, # coordinate system used is that of main_axes\n",
    "             style='italic',\n",
    "             fontsize=10 ) \n",
    "    \n",
    "    plt.text(0.6, # x\n",
    "             0.5, # y\n",
    "             'the gaussian fit function', # text\n",
    "             transform=main_axes.transAxes, # coordinate system used is that of main_axes\n",
    "             style='italic',\n",
    "             fontsize=10 ) \n",
    "    \n",
    "    plt.text(0.6, # x\n",
    "             0.44, # y\n",
    "             r'$m_{Z} = $ '+mu + '$\\pm$' + sigma, # text\n",
    "             transform=main_axes.transAxes ) # coordinate system used is that of main_axes   \n",
    "    \n",
    "    # draw the legend\n",
    "    main_axes.legend( frameon=False,\n",
    "                    loc='upper right' ) # no box around the legend \n",
    "    \n",
    "    # Add text 'ATLAS Open Data' on plot\n",
    "    main_axes.text(0.05, # x\n",
    "             0.93, # y\n",
    "             'ATLAS Open Data', # text\n",
    "             transform=main_axes.transAxes, # coordinate system used is that of main_axes\n",
    "             fontsize=13 ) \n",
    "    \n",
    "    # Add text 'for education' on plot\n",
    "    main_axes.text(0.05, # x\n",
    "             0.88, # y\n",
    "             'for education - not public', # text\n",
    "             transform=main_axes.transAxes, # coordinate system used is that of main_axes\n",
    "             style='italic',\n",
    "             fontsize=8 )\n",
    "    \n",
    "    main_axes.text(0.05, # x\n",
    "             0.8, # y\n",
    "             r'$\\sqrt{s}=13 TeV$', # text\n",
    "             transform=main_axes.transAxes ) # coordinate system used is that of main_axes \n",
    "    \n",
    "    # Add a label for the analysis carried out\n",
    "    main_axes.text(0.05, # x\n",
    "             0.74, # y\n",
    "             r'$Z \\rightarrow l^{+}l^{-}$', # text \n",
    "             transform=main_axes.transAxes ) # coordinate system used is that of main_axes\n",
    "    plt.savefig('plots/Z-invariant-mass/Zmass_pandas_h.pdf')\n",
    "    #plt.savefig('plots/Z-invariant-mass/Zmass_pandas_h.png')\n",
    "    \n",
    "    return"
   ]
  },
  {
   "cell_type": "code",
   "execution_count": 27,
   "id": "0c9329c6",
   "metadata": {},
   "outputs": [
    {
     "data": {
      "image/png": "[encoded data removed]",
      "text/plain": [
       "<Figure size 432x288 with 1 Axes>"
      ]
     },
     "metadata": {
      "needs_background": "light"
     },
     "output_type": "display_data"
    }
   ],
   "source": [
    "plot_data_2(data_all)"
   ]
  },
  {
   "cell_type": "markdown",
   "id": "07d8a3e8",
   "metadata": {},
   "source": [
    "[Back to contents](#contents)"
   ]
  }
 ],
 "metadata": {
  "kernelspec": {
   "display_name": "Python 3",
   "language": "python",
   "name": "python3"
  },
  "language_info": {
   "codemirror_mode": {
    "name": "ipython",
    "version": 3
   },
   "file_extension": ".py",
   "mimetype": "text/x-python",
   "name": "python",
   "nbconvert_exporter": "python",
   "pygments_lexer": "ipython3",
   "version": "3.9.12"
  }
 },
 "nbformat": 4,
 "nbformat_minor": 5
}
