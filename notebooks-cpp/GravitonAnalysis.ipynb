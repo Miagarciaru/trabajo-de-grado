{
 "cells": [
  {
   "cell_type": "markdown",
   "id": "a294dd21",
   "metadata": {},
   "source": [
    "<CENTER>\n",
    "    <a href=\"http://opendata.atlas.cern/release/2020/documentation/notebooks/intro.html\" class=\"icons\"><img src=\"../images/ATLASOD.gif\" style=\"width:40%\"></a>\n",
    "</CENTER>"
   ]
  },
  {
   "cell_type": "markdown",
   "id": "630023d6",
   "metadata": {},
   "source": [
    "# <CENTER><h1> Searching the Graviton </h1></CENTER>"
   ]
  },
  {
   "cell_type": "markdown",
   "id": "c25e8e35",
   "metadata": {},
   "source": [
    "This notebook provides the analysis of the Graviton decaying into two Z bosons. This analysis implements two main cuts, which are applied in the lepton type and lepton charge of the four leptons in the final state. At the end of this analysis, you will be able to get a plot with the mass of the four lepton system, taking into account the contribution of MC samples (a stacked plot). Here you can find many tools to perform the desired selection of events, how to declare histograms, variables, read ROOT files and so on. \n",
    "\n",
    "Our analysis requires that the final state contains 4 leptons, which can be put in pairs with opposite charges and same flavours. That means we would have two pairs of electrons, muons or one pair of electrons and one pair of muons such as the Feynman Diagrams show below: "
   ]
  },
  {
   "cell_type": "markdown",
   "id": "2e1cb8e8",
   "metadata": {},
   "source": [
    "$G \\rightarrow ZZ \\rightarrow e^{+} e^{-} e^{+} e^{-}$ | $G \\rightarrow ZZ \\rightarrow \\mu^{+} \\mu^{-} \\mu^{+} \\mu^{-}$ |$G \\rightarrow ZZ \\rightarrow e^{+} e^{-} \\mu^{+} \\mu^{-}$\n",
    ":-------------------------:|:-------------------------:|:-------------------------:\n",
    "![Graviton 4e](../images/graviton4e.png)  |  ![Graviton 4 mu](../images/graviton4mu.png) |  ![Graviton eemumu](../images/gravitoneemumu.png)"
   ]
  },
  {
   "cell_type": "markdown",
   "id": "b0fca886",
   "metadata": {},
   "source": [
    "<a id='contents'></a>\n",
    "\n",
    "# Contents: \n",
    "\n",
    "[Useful libraries in c++](#useful_libraries) <br />\n",
    "[Lumi, fraction, file path](#parameters) <br />\n",
    "[Maps declaration](#maps_declaration) <br />\n",
    "[Histograms declaration](#histograms_declaration) <br />\n",
    "[Declaration of variables used in the analysis](#declaration_of_variables) <br />\n",
    "[Useful functions to use in our analysis](#useful_functions) <br />\n",
    "[Changing a cut](#changing_cut) <br />\n",
    "  [Lepton charge cut](#charge_cut) <br />\n",
    "  [Lepton type cut](#type_cut) <br />\n",
    "[Applying a cut](#applying_cut) <br />\n",
    "[Samples](#samples) <br />\n",
    "[Running the analysis!](#running) <br />\n",
    "[Plotting our final results!](#plotting) <br />"
   ]
  },
  {
   "cell_type": "markdown",
   "id": "ce4fa815",
   "metadata": {},
   "source": [
    "<a id='useful_libraries'></a>\n",
    "\n",
    "## Useful libraries in c++\n",
    "\n",
    "The first step is to load some basic libraries of c++:"
   ]
  },
  {
   "cell_type": "code",
   "execution_count": 1,
   "id": "a4ea852b",
   "metadata": {},
   "outputs": [],
   "source": [
    "#include <TChain.h>\n",
    "#include <vector>\n",
    "#include <TFile.h>\n",
    "#include <iostream>\n",
    "#include <string>\n",
    "#include <stdio.h>\n",
    "#include <chrono>"
   ]
  },
  {
   "cell_type": "markdown",
   "id": "4f51a149",
   "metadata": {},
   "source": [
    "[Back to contents](#contents)"
   ]
  },
  {
   "cell_type": "markdown",
   "id": "b63a4122",
   "metadata": {},
   "source": [
    "<a id='parameters'></a>\n",
    "\n",
    "## Lumi, fraction, file path\n",
    "\n",
    "The data we want to use to perform our analysis can be found in the [folder 4 lep](https://atlas-opendata.web.cern.ch/atlas-opendata/samples/2020/4lep/). Here you will see the data and MC samples that correspond to 4 leptons in the final state. We also define a variable named **lumi**, which represents the luminosity and it is equal to 10 $fb^{-1}$. If we want to run the analysis over a fraction of the whole data and MC samples, we can define another variable named **fraction**, which will be defined equal to 1.0 as default. However, you can change this fraction value and see how this can affect the final result shown in the final plot:"
   ]
  },
  {
   "cell_type": "code",
   "execution_count": 2,
   "id": "940044a7",
   "metadata": {},
   "outputs": [],
   "source": [
    "float lumi = 10.;\n",
    "float fraction = 1.0;\n",
    "TString path = \"https://atlas-opendata.web.cern.ch/atlas-opendata/samples/2020/4lep/\";   "
   ]
  },
  {
   "cell_type": "markdown",
   "id": "1a7be300",
   "metadata": {},
   "source": [
    "[Back to contents](#contents)"
   ]
  },
  {
   "cell_type": "markdown",
   "id": "f5e44a4b",
   "metadata": {},
   "source": [
    "<a id='maps_declaration'></a>\n",
    "\n",
    "## Maps declaration\n",
    "\n",
    "Next, we define some maps which will be representing the main groups of background in our analysis for MC samples. These maps will save the name of each ROOT file used for the analysis and their corresponding scale given by a weight factor. This weight factor is given by considering the efficiency of calorimeters, the sum of all weights for each sample and the cross section for each sample. All of these parameters can be found in the sample.txt file in the same folder of this notebook."
   ]
  },
  {
   "cell_type": "code",
   "execution_count": 3,
   "id": "4ee6c8d5",
   "metadata": {},
   "outputs": [],
   "source": [
    "std::map<TString, float> zttb;\n",
    "std::map<TString, float> vttb;\n",
    "std::map<TString, float> dzz;\n",
    "std::map<TString, float> gr;"
   ]
  },
  {
   "cell_type": "markdown",
   "id": "e8e08cdd",
   "metadata": {},
   "source": [
    "Once we have defined the maps, we can start by defining the histograms we are going to fill with the mass of the four lepton system for data and MC samples. Basically, we have defined four main groups of MC samples, which are:\n",
    "* $Z-t\\bar{t}$: This background contains the Z going to ee, mumu and the ttbar decaying in the leptonic channel MC samples.\n",
    "* $t\\bar{t}-V$: This background contains the ttbar decaying into W bosons, ee and mumu MC samples.  \n",
    "* $ZZ$: This background contains the diboson ZZ decaying into 4 leptons.\n",
    "* $Graviton-signal$: This contains the signal we want to search."
   ]
  },
  {
   "cell_type": "markdown",
   "id": "61f6f37a",
   "metadata": {},
   "source": [
    "[Back to contents](#contents)"
   ]
  },
  {
   "cell_type": "markdown",
   "id": "3a1d813b",
   "metadata": {},
   "source": [
    "<a id='histograms_declaration'></a>\n",
    "\n",
    "## Histograms declaration\n",
    "\n",
    "Now that we have identified the main sources of backgrounds in our process, we should declare some histograms that will contain the information of a certain variable for each event. In this case, we want to fill our histograms with the invariant mass of the four leptons system, so we are going to declare five histograms (one for our data and four for the main groups of MC samples) such as follow:"
   ]
  },
  {
   "cell_type": "code",
   "execution_count": 4,
   "id": "3b06923d",
   "metadata": {},
   "outputs": [],
   "source": [
    "//data samples\n",
    "TH1F *data_hist_mllll = new TH1F(\"data_hist_m4l\", \"Normalized Mass of four lepton system; m_{4l} [GeV];Events\", 30, 130, 1230);\n",
    "\n",
    "//z_ttbar\n",
    "TH1F *z_ttbar_hist_mllll = new TH1F(\"z_ttbar_hist_m4l\", \"Normalized Mass of four lepton system; m_{4l} [GeV];Events \", 30, 130, 1230);\n",
    "\n",
    "//ttbar_v\n",
    "TH1F *ttbar_v_hist_mllll = new TH1F(\"ttbar_v_hist_m4l\", \"Normalized Mass of four lepton system; m_{4l} [GeV];Events\", 30, 130, 1230);\n",
    "\n",
    "//zz\n",
    "TH1F *zz_hist_mllll = new TH1F(\"zz_hist_m4l\", \"Normalized Mass of four lepton system; m_{4l} [GeV];Events\", 30, 130, 1230);\n",
    "\n",
    "//graviton\n",
    "TH1F *graviton_hist_mllll = new TH1F(\"graviton_hist_m4l\", \"Normalized Mass of four lepton system; m_{4l} [GeV];Events\", 30, 130, 1230);"
   ]
  },
  {
   "cell_type": "markdown",
   "id": "72971448",
   "metadata": {},
   "source": [
    "[Back to contents](#contents)"
   ]
  },
  {
   "cell_type": "markdown",
   "id": "8731ba69",
   "metadata": {},
   "source": [
    "<a id='declaration_of_variables'></a>\n",
    "\n",
    "## Declaration of variables used in the analysis\n",
    "\n",
    "In order to save the information stored in the ROOT files, we define all variables we are going to use in the next code line: "
   ]
  },
  {
   "cell_type": "code",
   "execution_count": 5,
   "id": "b1630ae0",
   "metadata": {},
   "outputs": [],
   "source": [
    "Float_t         mcWeight;\n",
    "Float_t         scaleFactor_PILEUP;\n",
    "Float_t         scaleFactor_ELE;\n",
    "Float_t         scaleFactor_MUON;\n",
    "Float_t         scaleFactor_LepTRIGGER;\n",
    "Bool_t          trigE;\n",
    "Bool_t          trigM;\n",
    "UInt_t          lep_n;\n",
    "vector<float>   *lep_pt;\n",
    "vector<float>   *lep_eta;\n",
    "vector<float>   *lep_phi;\n",
    "vector<float>   *lep_E;\n",
    "vector<float>   *lep_z0;\n",
    "vector<int>     *lep_charge;\n",
    "vector<unsigned int> *lep_type;\n",
    "vector<bool>    *lep_isTightID;\n",
    "vector<float>   *lep_ptcone30;\n",
    "vector<float>   *lep_etcone20;\n",
    "vector<float>   *lep_trackd0pvunbiased;\n",
    "vector<float>   *lep_tracksigd0pvunbiased;\n",
    "Float_t         met_et;\n",
    "Float_t         met_phi;\n",
    "UInt_t          jet_n;\n",
    "vector<float>   *jet_pt;\n",
    "vector<float>   *jet_eta;\n",
    "vector<float>   *jet_phi;\n",
    "vector<float>   *jet_E;\n",
    "vector<float>   *jet_jvt;\n",
    "vector<float>   *jet_MV2c10;"
   ]
  },
  {
   "cell_type": "markdown",
   "id": "498a590b",
   "metadata": {},
   "source": [
    "[Back to contents](#contents)"
   ]
  },
  {
   "cell_type": "markdown",
   "id": "1a54ddb8",
   "metadata": {},
   "source": [
    "<a id='useful_functions'></a>\n",
    "\n",
    "## Useful functions to use in our analysis\n",
    "\n",
    "For all samples we use, we have to rewrite the variables defined previously, so we create a function that receives the name of the chain (that is, the name of the MC samples group or the data depending on which sample we are analyzing), the name of the sample and their DSID (a number that identifies each MC sample). This function returns a tree with the information of the sample and rewrites the variables we are going to use at the same time. It also reads the information of samples by editing the tuple path, so it is important to separate data and MC samples because they are stored in different folders into the [folder 4 lep](https://atlas-opendata.web.cern.ch/atlas-opendata/samples/2020/4lep/). It is only needed to consider an extra variable of type TString named prefix in order to divide them:"
   ]
  },
  {
   "cell_type": "code",
   "execution_count": 6,
   "id": "72894489",
   "metadata": {},
   "outputs": [],
   "source": [
    "TTree* set_branch_address(TString name_chain, TString name_sample, int DSID_id)\n",
    "{\n",
    "    ostringstream DSID; //Needed to use the DSID number of int variable to a string variable\n",
    "    DSID << DSID_id;\n",
    "    TString sDSID = DSID.str();\n",
    "    \n",
    "    TString prefix, fileString;\n",
    "    \n",
    "    if(name_chain==\"data\"){\n",
    "        prefix = \"Data/\";\n",
    "        \n",
    "    }\n",
    "    else{\n",
    "        prefix = \"MC/mc_\"+sDSID+\".\";\n",
    "    }\n",
    "    \n",
    "    fileString = path+prefix+name_sample+\".4lep.root\"; //The final tuple path in which we can find the ROOT file\n",
    "    \n",
    "    TFile *file = TFile::Open(fileString);\n",
    "    TTree *tree = (TTree*) file->Get(\"mini\");\n",
    "    //Save the information of the tree \"mini\" to the variables defined above.\n",
    "    tree->SetBranchAddress(\"trigE\", &trigE); \n",
    "    tree->SetBranchAddress(\"trigM\", &trigM); \n",
    "    tree->SetBranchAddress(\"lep_isTightID\", &lep_isTightID); \n",
    "    tree->SetBranchAddress(\"lep_pt\", &lep_pt); \n",
    "    tree->SetBranchAddress(\"lep_eta\", &lep_eta); \n",
    "    tree->SetBranchAddress(\"lep_phi\", &lep_phi); \n",
    "    tree->SetBranchAddress(\"lep_E\", &lep_E); \n",
    "    tree->SetBranchAddress(\"lep_n\", &lep_n); \n",
    "    tree->SetBranchAddress(\"lep_type\", &lep_type); \n",
    "    tree->SetBranchAddress(\"lep_ptcone30\", &lep_ptcone30); \n",
    "    tree->SetBranchAddress(\"lep_etcone20\", &lep_etcone20);\n",
    "    tree->SetBranchAddress(\"lep_trackd0pvunbiased\", &lep_trackd0pvunbiased); \n",
    "    tree->SetBranchAddress(\"lep_tracksigd0pvunbiased\", &lep_tracksigd0pvunbiased); \n",
    "    tree->SetBranchAddress(\"lep_z0\", &lep_z0); \n",
    "    tree->SetBranchAddress(\"lep_type\", &lep_type); \n",
    "    tree->SetBranchAddress(\"lep_charge\", &lep_charge); \n",
    "    tree->SetBranchAddress(\"met_et\", &met_et); \n",
    "    tree->SetBranchAddress(\"jet_n\", &jet_n);\n",
    "    tree->SetBranchAddress(\"jet_pt\", &jet_pt); \n",
    "    tree->SetBranchAddress(\"jet_eta\", &jet_eta);\n",
    "    tree->SetBranchAddress(\"jet_jvt\", &jet_jvt); \n",
    "    tree->SetBranchAddress(\"jet_MV2c10\", &jet_MV2c10); \n",
    "    \n",
    "    tree->SetBranchAddress(\"mcWeight\", &mcWeight); \n",
    "    tree->SetBranchAddress(\"scaleFactor_PILEUP\", &scaleFactor_PILEUP); \n",
    "    tree->SetBranchAddress(\"scaleFactor_ELE\", &scaleFactor_ELE); \n",
    "    tree->SetBranchAddress(\"scaleFactor_MUON\", &scaleFactor_MUON); \n",
    "    tree->SetBranchAddress(\"scaleFactor_LepTRIGGER\", &scaleFactor_LepTRIGGER); \n",
    "    \n",
    "    return tree; \n",
    "}"
   ]
  },
  {
   "cell_type": "markdown",
   "id": "c4679837",
   "metadata": {},
   "source": [
    "The **scaling histogram** function will allow us to scale the histograms to compare data and the contribution of MC samples. This function uses the weight of scaling due to efficiency of the calorimeters, the sum of weights for MC and the cross section samples to scale the contributions of all samples. Of course, the data are not needed to be scaled, this only apply for MC samples:"
   ]
  },
  {
   "cell_type": "code",
   "execution_count": 7,
   "id": "a6adf773",
   "metadata": {},
   "outputs": [],
   "source": [
    "void scaling_histogram(TString name_chain, TString name_sample, int n_sample, TH1F *hist_sample)\n",
    "{\n",
    "    if(name_chain==\"data\"){\n",
    "        if(n_sample==0){ data_hist_mllll = (TH1F*) hist_sample->Clone();}\n",
    "        if(n_sample!=0){ data_hist_mllll->Add(hist_sample);}\n",
    "    }\n",
    "    \n",
    "    if(name_chain == \"z_ttbar\"){\n",
    "        for(std::map<TString, float>::iterator it = zttb.begin(); it != zttb.end(); ++it){\n",
    "            if(name_sample==it->first){\n",
    "                hist_sample->Scale(it->second); //Used to scale the histogram with the factor weight explained above.\n",
    "                if(n_sample==0){ z_ttbar_hist_mllll = (TH1F*) hist_sample->Clone();}\n",
    "                if(n_sample!=0){ z_ttbar_hist_mllll->Add(hist_sample);}\n",
    "            }\n",
    "        }\n",
    "    }\n",
    "    if(name_chain == \"ttbar_v\"){\n",
    "        for(std::map<TString, float>::iterator it = vttb.begin(); it != vttb.end(); ++it){\n",
    "            if(name_sample==it->first){\n",
    "                hist_sample->Scale(it->second); //Used to scale the histogram with the factor weight explained above.\n",
    "                if(n_sample==0){ ttbar_v_hist_mllll = (TH1F*) hist_sample->Clone();}\n",
    "                if(n_sample!=0){ ttbar_v_hist_mllll->Add(hist_sample);}\n",
    "            }\n",
    "        }\n",
    "    }   \n",
    "    if(name_chain == \"zz\"){\n",
    "        for(std::map<TString, float>::iterator it = dzz.begin(); it != dzz.end(); ++it){\n",
    "            if(name_sample==it->first){\n",
    "                hist_sample->Scale(it->second); //Used to scale the histogram with the factor weight explained above.\n",
    "                if(n_sample==0){ zz_hist_mllll = (TH1F*) hist_sample->Clone();}\n",
    "                if(n_sample!=0){ zz_hist_mllll->Add(hist_sample);}\n",
    "            }\n",
    "        }\n",
    "    } \n",
    "    if(name_chain == \"graviton\"){\n",
    "        for(std::map<TString, float>::iterator it = gr.begin(); it != gr.end(); ++it){\n",
    "            if(name_sample==it->first){\n",
    "                hist_sample->Scale(it->second); //Used to scale the histogram with the factor weight explained above.\n",
    "                if(n_sample==0){ graviton_hist_mllll = (TH1F*) hist_sample->Clone();}\n",
    "                if(n_sample!=0){ graviton_hist_mllll->Add(hist_sample);}\n",
    "            }\n",
    "        }\n",
    "    }     \n",
    "}"
   ]
  },
  {
   "cell_type": "markdown",
   "id": "3f623e48",
   "metadata": {},
   "source": [
    "Now, we define a function that computes the factor weight due to the information in the **samples.txt** file. Although this process was done manually, you could edit it in order to read information for the sample.txt automatically by using the library fstream. We didn't use it in order to save time for the analysis. If you need to add samples, you will have to look for their information in the **samples.txt** file. "
   ]
  },
  {
   "cell_type": "code",
   "execution_count": 8,
   "id": "a09171bc",
   "metadata": {},
   "outputs": [],
   "source": [
    "void get_xsec_weight()\n",
    "{\n",
    "    // sample - xsec - red_eff - sumw - nevt; look for the sample.txt if you add a sample to the analysis\n",
    "    float xsec=0, red_eff=0, sumw=0; \n",
    "        \n",
    "    //z_ttbar\n",
    "    //Zee\t\t1950.5295\t\t1\t\t150277594200\t\t79045597\n",
    "    xsec=1950.5295, red_eff=1.0, sumw=150277594200;\n",
    "    zttb[\"Zee\"] = lumi*1000*xsec/(red_eff*sumw);\n",
    "    \n",
    "    //Zmumu\t\t1950.6321\t\t1\t\t147334691090\t\t77497800\n",
    "    xsec=1950.6321, red_eff=1.0, sumw=147334691090;\n",
    "    zttb[\"Zmumu\"] = lumi*1000*xsec/(red_eff*sumw);\n",
    "\n",
    "    //ttbar_lep\t\t452.693559\t\t1\t\t49386600\t\t49386600\n",
    "    xsec=452.693559, red_eff=1.0, sumw=49386600;\n",
    "    zttb[\"ttbar_lep\"] = lumi*1000*xsec/(red_eff*sumw);\n",
    "    \n",
    "    //--------------------------------------------------------------------------------------\n",
    "    \n",
    "    //ttbar_v\n",
    "    \n",
    "    //ttW\t\t0.60084912\t\t1\t\t4075279.75386\t\tNone\n",
    "    xsec=0.60084912, red_eff=1.0, sumw=4075279.75386;\n",
    "    vttb[\"ttW\"] = lumi*1000*xsec/(red_eff*sumw);\n",
    "    \n",
    "    //ttee\t\t0.0412888\t\t1\t\t51968.9384584\t\tNone\n",
    "    xsec=0.0412888, red_eff=1.0, sumw=51968.9384584;\n",
    "    vttb[\"ttee\"] = lumi*1000*xsec/(red_eff*sumw);\n",
    "    \n",
    "    //ttmumu\t\t0.04129216\t\t1\t\t52007.5311319\t\tNone\n",
    "    xsec=0.04129216, red_eff=1.0, sumw=52007.5311319;\n",
    "    vttb[\"ttmumu\"] = lumi*1000*xsec/(red_eff*sumw);\n",
    "    \n",
    "    //-------------------------------------------------------------------------------------\n",
    "    \n",
    "    //zz\n",
    "    \n",
    "    //llll\t\t1.2578\t\t1\t\t7538705.8077\t\t17825300\n",
    "    xsec=1.2578, red_eff=1.0, sumw=7538705.8077;\n",
    "    dzz[\"llll\"] = lumi*1000*xsec/(red_eff*sumw);\n",
    "    \n",
    "    //-------------------------------------------------------------------------------------\n",
    "    \n",
    "    //graviton\n",
    "    \n",
    "    //RS_G_ZZ_llll_c10_m0500\t\t0.02373\t\t1\t\t27000\t\t27000\n",
    "    xsec=0.02373, red_eff=1.0, sumw=27000;\n",
    "    gr[\"RS_G_ZZ_llll_c10_m0500\"] = lumi*1000*xsec/(red_eff*sumw);\n",
    "}"
   ]
  },
  {
   "cell_type": "markdown",
   "id": "f9258399",
   "metadata": {},
   "source": [
    "The function that computes the mass of the four lepton system is defined below. It needs the pT, $\\eta$, $\\phi$ and the energy of each lepton in order to get the invariant mass."
   ]
  },
  {
   "cell_type": "code",
   "execution_count": 9,
   "id": "569b23a1",
   "metadata": {},
   "outputs": [],
   "source": [
    "float calc_mllll(vector<float> lep_pt, vector<float> lep_eta, vector<float> lep_phi, vector<float>lep_E)\n",
    "{\n",
    "    float px_0 = lep_pt[0]*TMath::Cos(lep_phi[0]); // x-component of lep[0] momentum\n",
    "    float py_0 = lep_pt[0]*TMath::Sin(lep_phi[0]); // y-component of lep[0] momentum\n",
    "    float pz_0 = lep_pt[0]*TMath::SinH(lep_eta[0]); // z-component of lep[0] momentum\n",
    "    float px_1 = lep_pt[1]*TMath::Cos(lep_phi[1]); // x-component of lep[1] momentum\n",
    "    float py_1 = lep_pt[1]*TMath::Sin(lep_phi[1]); // y-component of lep[1] momentum\n",
    "    float pz_1 = lep_pt[1]*TMath::SinH(lep_eta[1]); // z-component of lep[1] momentum\n",
    "    float px_2 = lep_pt[2]*TMath::Cos(lep_phi[2]); // x-component of lep[2] momentum\n",
    "    float py_2 = lep_pt[2]*TMath::Sin(lep_phi[2]); // y-component of lep[2] momentum\n",
    "    float pz_2 = lep_pt[2]*TMath::SinH(lep_eta[2]); // z-component of lep[3] momentum\n",
    "    float px_3 = lep_pt[3]*TMath::Cos(lep_phi[3]); // x-component of lep[3] momentum\n",
    "    float py_3 = lep_pt[3]*TMath::Sin(lep_phi[3]); // y-component of lep[3] momentum\n",
    "    float pz_3 = lep_pt[3]*TMath::SinH(lep_eta[3]); // z-component of lep[3] momentum\n",
    "    float sumpx = px_0 + px_1 + px_2 + px_3; // x-component of 4-lepton momentum\n",
    "    float sumpy = py_0 + py_1 + py_2 + py_3; // y-component of 4-lepton momentum\n",
    "    float sumpz = pz_0 + pz_1 + pz_2 + pz_3; // z-component of 4-lepton momentum\n",
    "    float sumE = lep_E[0] + lep_E[1] + lep_E[2] + lep_E[3]; // energy of 4-lepton system\n",
    "    return TMath::Sqrt(sumE*sumE - sumpx*sumpx - sumpy*sumpy - sumpz*sumpz)/1000; // /1000 to go from MeV to GeV\n",
    "}"
   ]
  },
  {
   "cell_type": "markdown",
   "id": "940e6778",
   "metadata": {},
   "source": [
    "[Back to contents](#contents)"
   ]
  },
  {
   "cell_type": "markdown",
   "id": "ce522339",
   "metadata": {},
   "source": [
    "<a id='changing_cut'></a>\n",
    "\n",
    "## Changing a cut\n",
    "\n",
    "Finally, we are going to apply the corresponding cuts of our analysis. For this reason, we are going to create an individual function for each cut. This would allow us to see the effect of applying each cut over the samples files separately if we wanted. Of course, we could create only one function that contains all cuts but it wouldn't allow us to see the effects of applying every cut separately, it would show us the final events after all cuts so the idea is to keep them separated."
   ]
  },
  {
   "cell_type": "markdown",
   "id": "9e765bf6",
   "metadata": {},
   "source": [
    "<a id='charge_cut'></a>\n",
    "\n",
    "### Lepton charge cut\n",
    "\n",
    "This cut needs the lepton charge of each lepton, because we want to choose events that have a sum of the charge of the four lepton system equal to zero, ensuring the neutrality of the charge."
   ]
  },
  {
   "cell_type": "code",
   "execution_count": 10,
   "id": "5d5950f0",
   "metadata": {},
   "outputs": [],
   "source": [
    "// cut on lepton charge\n",
    "// paper: \"selecting two pairs of isolated leptons, each of which is comprised of two leptons with the same flavour and opposite charge\"\n",
    "bool cut_lep_charge(vector<int> lep_charge)\n",
    "{\n",
    "    // throw away when sum of lepton charges is not equal to 0\n",
    "    // first lepton is [0], 2nd lepton is [1] etc\n",
    "    if( lep_charge[0]+lep_charge[1]+lep_charge[2]+lep_charge[3]!=0 ){return false;}\n",
    "    return true;\n",
    "}"
   ]
  },
  {
   "cell_type": "markdown",
   "id": "41a7219a",
   "metadata": {},
   "source": [
    "[Back to contents](#contents)"
   ]
  },
  {
   "cell_type": "markdown",
   "id": "d22242c4",
   "metadata": {},
   "source": [
    "<a id='type_cut'></a>\n",
    "\n",
    "### Lepton type cut\n",
    "\n",
    "This cut needs the lepton type of each lepton, because we want to choose events that have two pairs of electrons, two pairs of muons or one pair of electrons and one pair of muons in the final state. If the event doesn't fulfill this requirement, the event is dropped."
   ]
  },
  {
   "cell_type": "code",
   "execution_count": 11,
   "id": "0a500b3c",
   "metadata": {},
   "outputs": [],
   "source": [
    "// cut on lepton type\n",
    "// paper: \"selecting two pairs of isolated leptons, each of which is comprised of two leptons with the same flavour and opposite charge\"\n",
    "bool cut_lep_type(vector<unsigned int> lep_type)\n",
    "{\n",
    "    // for an electron lep_type is 11\n",
    "    // for a muon lep_type is 13\n",
    "    // throw away when none of eeee, mumumumu, eemumu\n",
    "    \n",
    "    float sum_lep_type = lep_type[0] + lep_type[1] + lep_type[2] + lep_type[3];\n",
    "    \n",
    "    if(sum_lep_type!=44 && sum_lep_type!=48 && sum_lep_type!=52){ return false;}\n",
    "    return true;\n",
    "}"
   ]
  },
  {
   "cell_type": "markdown",
   "id": "3104ba6e",
   "metadata": {},
   "source": [
    "[Back to contents](#contents)"
   ]
  },
  {
   "cell_type": "markdown",
   "id": "9895b2c6",
   "metadata": {},
   "source": [
    "<a id='applying_cut'></a>\n",
    "\n",
    "## Applying a cut\n",
    "\n",
    "Now, we are going to create a function that performs the event selection for each sample. This function is named **analysis of samples** and requires the name chain (if the sample belongs to data or a main group of MC samples), the name sample, its DSID and a number of the sample among all samples in its chain of files. This function creates a local histogram, fills it with the computed mass and scales it with the weight factor, which is saved in the maps, and finally adds it to global histograms that will be stacked in the final plot. "
   ]
  },
  {
   "cell_type": "code",
   "execution_count": 12,
   "id": "adfedf37",
   "metadata": {},
   "outputs": [],
   "source": [
    "void analysis_of_samples(TString name_chain, TString name_sample, int DSID_id, int n_sample, TH1F *hist_sample)\n",
    "{\n",
    "    auto start = chrono::steady_clock::now(); //Start the clock\n",
    "    \n",
    "    int nbytes = 0;\n",
    "    int pass = 0;\n",
    "    TTree *tree = new TTree(); \n",
    "    tree = set_branch_address(name_chain, name_sample, DSID_id); //create a tree and set values for variables that will be used\n",
    "    int nentries = 0;\n",
    "    float weight = 0;\n",
    "\n",
    "    if(name_chain == \"data\"){ weight = 1.0; } //The weight for data is always 1.\n",
    " \n",
    "    nentries = (Int_t)tree->GetEntries();\n",
    "    cout << \"\\t\" << \"Processing: \"+name_sample << endl; //Print the name of the sample that is been processed\n",
    "\n",
    "    for(int ii=0; ii<nentries*fraction; ii++)\n",
    "    {\n",
    "        nbytes = tree->GetEntry(ii);\n",
    "        \n",
    "        if(name_chain!=\"data\"){\n",
    "            //Total weight of the event\n",
    "            float SF = scaleFactor_PILEUP*scaleFactor_ELE*scaleFactor_MUON*scaleFactor_LepTRIGGER;\n",
    "            weight = mcWeight*SF;\n",
    "        }\n",
    "        \n",
    "        //Applying lepton charge cut\n",
    "        if(cut_lep_charge(*lep_charge)==false) continue;\n",
    "    \n",
    "        //Applying lepton type cut\n",
    "        if(cut_lep_type(*lep_type)==false) continue;\n",
    "    \n",
    "        float mllll = 0;\n",
    "        mllll = calc_mllll(*lep_pt, *lep_eta, *lep_phi, *lep_E); // Computes the invariant mass\n",
    "        \n",
    "        hist_sample->Fill(mllll, weight); //Fill the local histogram in this function \n",
    "        \n",
    "        pass++;\n",
    "    }\n",
    "    \n",
    "    // Scale the local histogram and add it to the global histograms\n",
    "    scaling_histogram(name_chain, name_sample, n_sample, hist_sample); \n",
    "    \n",
    "    // Reset the hist_sample histograms in order to use them to fill and scale them with the contribution of the others samples \n",
    "    // once the analysis_of_samples function is called again\n",
    "    hist_sample->Reset();\n",
    "    \n",
    "    auto end = chrono::steady_clock::now();\n",
    "    \n",
    "    auto elapsed = chrono::duration_cast<chrono::milliseconds>(end - start).count();\n",
    "    \n",
    "    // Print the initial events and the number of events passing the analysis in the sample\n",
    "    cout << \"\\t\" << \"nInt: \" << nentries << \"\\t\" << \"nOut: \" << pass << \"\\t\" <<\"in: \" << elapsed << \"ms\" << endl;\n",
    "\n",
    "}"
   ]
  },
  {
   "cell_type": "markdown",
   "id": "a5039edd",
   "metadata": {},
   "source": [
    "[Back to contents](#contents)"
   ]
  },
  {
   "cell_type": "markdown",
   "id": "3b3f83a7",
   "metadata": {},
   "source": [
    "<a id='samples'></a>\n",
    "\n",
    "## Samples\n",
    "\n",
    "Now, we are going to make a for loop for each group of samples (data and MC samples groups) and we will use the **analysis of samples** function to apply all cuts for all samples. In this function we can see all the samples that are going to be used in the analysis and to what group they belong. If you want to add more samples, consider modifying this function too. "
   ]
  },
  {
   "cell_type": "code",
   "execution_count": 13,
   "id": "fbe02b79",
   "metadata": {},
   "outputs": [],
   "source": [
    "void graviton_analysis()\n",
    "{   \n",
    "    get_xsec_weight();\n",
    "    vector<TString> data_samples = {\"data_A\", \"data_B\", \"data_C\", \"data_D\"};\n",
    "    \n",
    "    vector<TString> z_ttbar_samples = {\"Zee\", \"Zmumu\", \"ttbar_lep\"};\n",
    "    vector<int> z_ttbar_DSID = {361106, 361107, 410000};\n",
    "    \n",
    "    vector<TString> ttbar_v_samples = {\"ttW\", \"ttee\", \"ttmumu\"};\n",
    "    vector<int> ttbar_v_DSID = {410155, 410218, 410219};\n",
    "\n",
    "    vector<TString> zz_samples = {\"llll\"};\n",
    "    vector<int> zz_DSID = {363490};\n",
    "\n",
    "    vector<TString> graviton_samples = {\"RS_G_ZZ_llll_c10_m0500\"};\n",
    "    vector<int> graviton_DSID = {307434};\n",
    "    \n",
    "    TH1F *hist_sample = new TH1F(\"hist_sample_m4l\", \"Normalized Mass of four lepton system; m_{4l} [GeV];Events\", 30, 130, 1230);\n",
    "\n",
    "    for(int ii=0; ii<data_samples.size(); ii++){\n",
    "        if(ii==0){ cout << \"Processing data samples: \" << endl; }\n",
    "        analysis_of_samples(\"data\", data_samples[ii], 0, ii, hist_sample); //Data samples don´t have DSID\n",
    "    }\n",
    "    \n",
    "    for(int ii=0; ii<z_ttbar_samples.size(); ii++){\n",
    "        if(ii==0){ cout << \"Processing z_ttbar samples: \" << endl; }\n",
    "        analysis_of_samples(\"z_ttbar\", z_ttbar_samples[ii], z_ttbar_DSID[ii], ii, hist_sample); \n",
    "    }\n",
    "\n",
    "    for(int ii=0; ii<ttbar_v_samples.size(); ii++){\n",
    "        if(ii==0){ cout << \"Processing ttbar_v samples: \" << endl; }\n",
    "        analysis_of_samples(\"ttbar_v\", ttbar_v_samples[ii], ttbar_v_DSID[ii], ii, hist_sample); \n",
    "    }\n",
    "    \n",
    "    for(int ii=0; ii<zz_samples.size(); ii++){\n",
    "        if(ii==0){ cout << \"Processing zz samples: \" << endl; }\n",
    "        analysis_of_samples(\"zz\", zz_samples[ii], zz_DSID[ii], ii, hist_sample); \n",
    "    }\n",
    "    \n",
    "    for(int ii=0; ii<graviton_samples.size(); ii++){\n",
    "        if(ii==0){ cout << \"Processing graviton samples: \" << endl; }\n",
    "        analysis_of_samples(\"graviton\", graviton_samples[ii], graviton_DSID[ii], ii, hist_sample); \n",
    "    }\n",
    "    \n",
    "}"
   ]
  },
  {
   "cell_type": "markdown",
   "id": "2aa7b364",
   "metadata": {},
   "source": [
    "[Back to contents](#contents)"
   ]
  },
  {
   "cell_type": "markdown",
   "id": "4bb64b44",
   "metadata": {},
   "source": [
    "<a id='running'></a>\n",
    "\n",
    "## Running the analysis!\n",
    "\n",
    "Run the next line if you want to start the analysis:"
   ]
  },
  {
   "cell_type": "code",
   "execution_count": 14,
   "id": "cafcdbc3",
   "metadata": {},
   "outputs": [
    {
     "name": "stdout",
     "output_type": "stream",
     "text": [
      "Processing data samples: \n",
      "\tProcessing: data_A\n",
      "\tnInt: 39\tnOut: 27\tin: 4593ms\n",
      "\tProcessing: data_B\n",
      "\tnInt: 156\tnOut: 86\tin: 116ms\n",
      "\tProcessing: data_C\n",
      "\tnInt: 237\tnOut: 146\tin: 188ms\n",
      "\tProcessing: data_D\n",
      "\tnInt: 400\tnOut: 248\tin: 107ms\n",
      "Processing z_ttbar samples: \n",
      "\tProcessing: Zee\n",
      "\tnInt: 898\tnOut: 243\tin: 120ms\n",
      "\tProcessing: Zmumu\n",
      "\tnInt: 684\tnOut: 257\tin: 118ms\n",
      "\tProcessing: ttbar_lep\n",
      "\tnInt: 1031\tnOut: 334\tin: 159ms\n",
      "Processing ttbar_v samples: \n",
      "\tProcessing: ttW\n",
      "\tnInt: 1373\tnOut: 333\tin: 151ms\n",
      "\tProcessing: ttee\n",
      "\tnInt: 32092\tnOut: 13883\tin: 769ms\n",
      "\tProcessing: ttmumu\n",
      "\tnInt: 26639\tnOut: 10886\tin: 665ms\n",
      "Processing zz samples: \n",
      "\tProcessing: llll\n",
      "\tnInt: 554279\tnOut: 523957\tin: 9048ms\n",
      "Processing graviton samples: \n",
      "\tProcessing: RS_G_ZZ_llll_c10_m0500\n",
      "\tnInt: 6496\tnOut: 6002\tin: 269ms\n",
      "Time taken: 16s\n"
     ]
    }
   ],
   "source": [
    "auto start = chrono::steady_clock::now(); //Start the clock\n",
    "graviton_analysis();\n",
    "auto end = chrono::steady_clock::now();\n",
    "auto elapsed = chrono::duration_cast<chrono::seconds>(end - start).count();\n",
    "cout << \"Time taken: \" << elapsed << \"s\" << endl;"
   ]
  },
  {
   "cell_type": "markdown",
   "id": "2678c81f",
   "metadata": {},
   "source": [
    "[Back to contents](#contents)"
   ]
  },
  {
   "cell_type": "markdown",
   "id": "ac4e8b02",
   "metadata": {},
   "source": [
    "<a id='plotting'></a>\n",
    "\n",
    "## Plotting our final results!\n",
    "\n",
    "Finally, we create a function that is going to plot the final results. This function shows us how to create legends, how to assign markers to data and MC groups, stack the MC contributions, put Latex text in the graph, print the canvas and save the final plot in a pdf file. Consider these tools if you want to beautify your plots in other analyses."
   ]
  },
  {
   "cell_type": "code",
   "execution_count": 15,
   "id": "e6c31f50",
   "metadata": {},
   "outputs": [],
   "source": [
    "void plot_histogram_stacked()\n",
    "{\n",
    "    THStack* hstack = new THStack(\"hs1\", \"Mass of the four leptons system; m_{4l} [GeV] ;Events\");\n",
    "    \n",
    "    TLegend *leg = new TLegend(0.6, 0.52, 0.85, 0.82); // Declares a legend to the function fit and his position in canvas\n",
    "    \n",
    "    data_hist_mllll->SetMarkerStyle(20);\n",
    "    data_hist_mllll->SetMarkerColor(kBlack);\n",
    "    data_hist_mllll->SetStats(0);\n",
    "    \n",
    "    z_ttbar_hist_mllll->SetFillColor(kMagenta-2);\n",
    "    ttbar_v_hist_mllll->SetFillColor(kYellow);\n",
    "    zz_hist_mllll->SetFillColor(kRed);\n",
    "    graviton_hist_mllll->SetFillColor(kSpring-9);\n",
    "\n",
    "    hstack->Add(z_ttbar_hist_mllll);\n",
    "    hstack->Add(ttbar_v_hist_mllll);\n",
    "    hstack->Add(zz_hist_mllll);\n",
    "    hstack->Add(graviton_hist_mllll);\n",
    "    hstack->SetMaximum(20*hstack->GetMaximum());\n",
    "    hstack->SetMinimum(0.08);\n",
    "    \n",
    "    // statistical error histogram\n",
    "    TH1F *h_err = (TH1F*) z_ttbar_hist_mllll->Clone();\n",
    "    h_err->Add(ttbar_v_hist_mllll);\n",
    "    h_err->Add(zz_hist_mllll);\n",
    "    h_err->Add(graviton_hist_mllll);\n",
    "  \n",
    "    h_err->SetFillStyle(3004);\n",
    "    h_err->SetFillColor(kBlack);\n",
    "    h_err->SetLineColor(0);\n",
    "    h_err->SetMarkerStyle(1);\n",
    "\n",
    "    ///// Plotting\n",
    "    TCanvas *can = new TCanvas(\"can\",\"\", 800, 600);\n",
    "\n",
    "    can->SetLogy();\n",
    "\n",
    "    hstack->Draw(\"hist\");\n",
    "    h_err->Draw(\"e2same\");\n",
    "    data_hist_mllll->Draw(\"epsame\");\n",
    "\n",
    "    leg->AddEntry(data_hist_mllll, \"Data\", \"lep\");\n",
    "    \n",
    "    leg->AddEntry(z_ttbar_hist_mllll,\"Zt#bar{t}\",\"f\");\n",
    "    leg->AddEntry(ttbar_v_hist_mllll,\"Vt#bar{t}\",\"f\");\n",
    "    leg->AddEntry(zz_hist_mllll,\"ZZ\",\"f\");\n",
    "    leg->AddEntry(graviton_hist_mllll,\"Graviton\",\"f\");\n",
    "    leg->AddEntry(h_err,\"MC stat. uncertainty\",\"f\");\n",
    "    \n",
    "    leg->SetBorderSize();\n",
    "    leg->Draw();\n",
    "    \n",
    "    TLatex l;\n",
    "    l.SetNDC();\n",
    "    l.SetTextFont(42);\n",
    "    l.SetTextColor(kBlack);\n",
    "    l.SetTextSize(0.035);  \n",
    "    l.DrawLatex(0.15,0.8,Form(\"ATLAS Open Data work in progress\"));\n",
    "\n",
    "    TLatex o;\n",
    "    o.SetNDC();\n",
    "    o.SetTextFont(42);\n",
    "    o.SetTextColor(kBlack);\n",
    "    o.SetTextSize(0.03);\n",
    "    double dely = 0.04; \n",
    "    o.DrawLatex(0.15,0.8-dely, Form(\"#sqrt{s} = 13 TeV, 10 fb^{-1}\"));\n",
    "    o.DrawLatex(0.15,0.76-dely, Form(\"G #rightarrow Z Z^{*} #rightarrow l^{+} l^{-} l^{+} l^{-}\"));    \n",
    "    \n",
    "    can->Draw();\n",
    "    can->Print(\"plots/Graviton_mllll_DataMC.pdf\");\n",
    "}"
   ]
  },
  {
   "cell_type": "markdown",
   "id": "c26863cb",
   "metadata": {},
   "source": [
    "Run the next code line if you want to see the final plot of our analysis."
   ]
  },
  {
   "cell_type": "code",
   "execution_count": 16,
   "id": "d8994e4b",
   "metadata": {},
   "outputs": [
    {
     "data": {
      "image/png": "[encoded data removed]",
      "text/plain": [
       "<IPython.core.display.Image object>"
      ]
     },
     "metadata": {},
     "output_type": "display_data"
    },
    {
     "name": "stderr",
     "output_type": "stream",
     "text": [
      "Info in <TCanvas::Print>: pdf file plots/Graviton_mllll_DataMC.pdf has been created\n"
     ]
    }
   ],
   "source": [
    "plot_histogram_stacked();"
   ]
  },
  {
   "cell_type": "markdown",
   "id": "07119f23",
   "metadata": {},
   "source": [
    "[Back to contents](#contents)"
   ]
  }
 ],
 "metadata": {
  "kernelspec": {
   "display_name": "ROOT C++",
   "language": "c++",
   "name": "root"
  },
  "language_info": {
   "codemirror_mode": "text/x-c++src",
   "file_extension": ".C",
   "mimetype": " text/x-c++src",
   "name": "c++"
  }
 },
 "nbformat": 4,
 "nbformat_minor": 5
}
